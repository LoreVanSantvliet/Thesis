{
 "cells": [
  {
   "cell_type": "markdown",
   "id": "8d30a00c",
   "metadata": {
    "ExecuteTime": {
     "end_time": "2021-11-12T16:33:20.189782Z",
     "start_time": "2021-11-12T16:33:20.181899Z"
    }
   },
   "source": [
    "# MGE detection"
   ]
  },
  {
   "cell_type": "markdown",
   "id": "9f95b25a",
   "metadata": {},
   "source": [
    "Uses the phyletic distribution pattern based mobility score to detect MGEs in genomes."
   ]
  },
  {
   "cell_type": "markdown",
   "id": "96c32472",
   "metadata": {},
   "source": [
    "## Preparation"
   ]
  },
  {
   "cell_type": "code",
   "execution_count": 163,
   "id": "3e26e224",
   "metadata": {
    "ExecuteTime": {
     "end_time": "2022-04-16T12:54:28.245646Z",
     "start_time": "2022-04-16T12:54:28.239352Z"
    }
   },
   "outputs": [],
   "source": [
    "import pandas as pd\n",
    "from pathlib import Path\n",
    "import matplotlib.pyplot as plt\n",
    "import numpy as np\n",
    "import os"
   ]
  },
  {
   "cell_type": "code",
   "execution_count": 164,
   "id": "c6bad3f1",
   "metadata": {
    "ExecuteTime": {
     "end_time": "2022-04-16T12:54:28.655705Z",
     "start_time": "2022-04-16T12:54:28.651739Z"
    }
   },
   "outputs": [],
   "source": [
    "score_threshold = 0.3\n",
    "n_threshold=10\n",
    "fraction_threshold=0.1"
   ]
  },
  {
   "cell_type": "code",
   "execution_count": 165,
   "id": "07b05f9c",
   "metadata": {
    "ExecuteTime": {
     "end_time": "2022-04-16T12:54:29.023784Z",
     "start_time": "2022-04-16T12:54:29.004333Z"
    }
   },
   "outputs": [
    {
     "ename": "FileExistsError",
     "evalue": "[Errno 17] File exists: '/Users/lorevansantvliet/Dropbox/Mac/Desktop/Thesis/Project/results/MGE_files'",
     "output_type": "error",
     "traceback": [
      "\u001b[0;31m---------------------------------------------------------------------------\u001b[0m",
      "\u001b[0;31mFileExistsError\u001b[0m                           Traceback (most recent call last)",
      "\u001b[0;32m/var/folders/wm/45ntkynd66gd8wnsdr6vw7h40000gn/T/ipykernel_15252/608975829.py\u001b[0m in \u001b[0;36m<module>\u001b[0;34m\u001b[0m\n\u001b[1;32m      2\u001b[0m \u001b[0minput_path\u001b[0m \u001b[0;34m=\u001b[0m \u001b[0mproject_path\u001b[0m \u001b[0;34m/\u001b[0m \u001b[0;34m\"results\"\u001b[0m \u001b[0;34m/\u001b[0m \u001b[0;34m\"mobility_files\"\u001b[0m\u001b[0;34m\u001b[0m\u001b[0;34m\u001b[0m\u001b[0m\n\u001b[1;32m      3\u001b[0m \u001b[0moutput_path\u001b[0m \u001b[0;34m=\u001b[0m \u001b[0mproject_path\u001b[0m \u001b[0;34m/\u001b[0m \u001b[0;34m\"results\"\u001b[0m \u001b[0;34m/\u001b[0m \u001b[0;34m\"MGE_files\"\u001b[0m\u001b[0;34m\u001b[0m\u001b[0;34m\u001b[0m\u001b[0m\n\u001b[0;32m----> 4\u001b[0;31m \u001b[0mos\u001b[0m\u001b[0;34m.\u001b[0m\u001b[0mmkdir\u001b[0m\u001b[0;34m(\u001b[0m\u001b[0moutput_path\u001b[0m\u001b[0;34m)\u001b[0m\u001b[0;34m\u001b[0m\u001b[0;34m\u001b[0m\u001b[0m\n\u001b[0m",
      "\u001b[0;31mFileExistsError\u001b[0m: [Errno 17] File exists: '/Users/lorevansantvliet/Dropbox/Mac/Desktop/Thesis/Project/results/MGE_files'"
     ]
    }
   ],
   "source": [
    "project_path = Path().resolve().parent\n",
    "input_path = project_path / \"results\" / \"mobility_files\"\n",
    "output_path = project_path / \"results\" / \"MGE_files\"\n",
    "os.mkdir(output_path)"
   ]
  },
  {
   "cell_type": "code",
   "execution_count": 167,
   "id": "e0b810e6",
   "metadata": {
    "ExecuteTime": {
     "end_time": "2022-04-16T12:54:42.115456Z",
     "start_time": "2022-04-16T12:54:42.109000Z"
    }
   },
   "outputs": [],
   "source": [
    "genome_contig=\"GCA_000006865.1-AE005176.1\"\n",
    "genome_contig_file=str(genome+\".csv\")\n",
    "genome2=\"GCA_000006785.2-AE004092.2\"\n",
    "genome2_file=str(genome2+\".csv\")"
   ]
  },
  {
   "cell_type": "markdown",
   "id": "66bebc0b",
   "metadata": {
    "ExecuteTime": {
     "end_time": "2021-11-12T16:35:31.207420Z",
     "start_time": "2021-11-12T16:35:31.203766Z"
    }
   },
   "source": [
    "## Load mobility frame"
   ]
  },
  {
   "cell_type": "code",
   "execution_count": 168,
   "id": "b5fea060",
   "metadata": {
    "ExecuteTime": {
     "end_time": "2022-04-16T12:54:42.773240Z",
     "start_time": "2022-04-16T12:54:42.755570Z"
    }
   },
   "outputs": [],
   "source": [
    "frame=pd.read_csv(input_path / genome2_file, index_col=0)"
   ]
  },
  {
   "cell_type": "code",
   "execution_count": 169,
   "id": "1772f24d",
   "metadata": {
    "ExecuteTime": {
     "end_time": "2022-04-16T12:54:43.026005Z",
     "start_time": "2022-04-16T12:54:42.999123Z"
    }
   },
   "outputs": [
    {
     "data": {
      "text/html": [
       "<div>\n",
       "<style scoped>\n",
       "    .dataframe tbody tr th:only-of-type {\n",
       "        vertical-align: middle;\n",
       "    }\n",
       "\n",
       "    .dataframe tbody tr th {\n",
       "        vertical-align: top;\n",
       "    }\n",
       "\n",
       "    .dataframe thead th {\n",
       "        text-align: right;\n",
       "    }\n",
       "</style>\n",
       "<table border=\"1\" class=\"dataframe\">\n",
       "  <thead>\n",
       "    <tr style=\"text-align: right;\">\n",
       "      <th></th>\n",
       "      <th>order</th>\n",
       "      <th>orthogroup</th>\n",
       "      <th>gene</th>\n",
       "      <th>accessory_fraction</th>\n",
       "      <th>count</th>\n",
       "      <th>accessory</th>\n",
       "    </tr>\n",
       "  </thead>\n",
       "  <tbody>\n",
       "    <tr>\n",
       "      <th>0</th>\n",
       "      <td>1</td>\n",
       "      <td>F03021_5</td>\n",
       "      <td>AE004092.2_1</td>\n",
       "      <td>0.012195</td>\n",
       "      <td>1</td>\n",
       "      <td>False</td>\n",
       "    </tr>\n",
       "    <tr>\n",
       "      <th>1</th>\n",
       "      <td>2</td>\n",
       "      <td>F00122_09</td>\n",
       "      <td>AE004092.2_2</td>\n",
       "      <td>0.000000</td>\n",
       "      <td>1</td>\n",
       "      <td>False</td>\n",
       "    </tr>\n",
       "    <tr>\n",
       "      <th>2</th>\n",
       "      <td>3</td>\n",
       "      <td>F00242_3</td>\n",
       "      <td>AE004092.2_3</td>\n",
       "      <td>0.000000</td>\n",
       "      <td>1</td>\n",
       "      <td>False</td>\n",
       "    </tr>\n",
       "    <tr>\n",
       "      <th>3</th>\n",
       "      <td>4</td>\n",
       "      <td>F03229_3</td>\n",
       "      <td>AE004092.2_4</td>\n",
       "      <td>0.000000</td>\n",
       "      <td>1</td>\n",
       "      <td>False</td>\n",
       "    </tr>\n",
       "    <tr>\n",
       "      <th>4</th>\n",
       "      <td>5</td>\n",
       "      <td>F00708_4</td>\n",
       "      <td>AE004092.2_5</td>\n",
       "      <td>0.000000</td>\n",
       "      <td>1</td>\n",
       "      <td>False</td>\n",
       "    </tr>\n",
       "    <tr>\n",
       "      <th>...</th>\n",
       "      <td>...</td>\n",
       "      <td>...</td>\n",
       "      <td>...</td>\n",
       "      <td>...</td>\n",
       "      <td>...</td>\n",
       "      <td>...</td>\n",
       "    </tr>\n",
       "    <tr>\n",
       "      <th>1771</th>\n",
       "      <td>1772</td>\n",
       "      <td>F00852_5</td>\n",
       "      <td>AE004092.2_1772</td>\n",
       "      <td>0.012987</td>\n",
       "      <td>1</td>\n",
       "      <td>False</td>\n",
       "    </tr>\n",
       "    <tr>\n",
       "      <th>1772</th>\n",
       "      <td>1773</td>\n",
       "      <td>F28009_1</td>\n",
       "      <td>AE004092.2_1773</td>\n",
       "      <td>1.000000</td>\n",
       "      <td>1</td>\n",
       "      <td>True</td>\n",
       "    </tr>\n",
       "    <tr>\n",
       "      <th>1773</th>\n",
       "      <td>1774</td>\n",
       "      <td>F02161_2</td>\n",
       "      <td>AE004092.2_1774</td>\n",
       "      <td>0.000000</td>\n",
       "      <td>1</td>\n",
       "      <td>False</td>\n",
       "    </tr>\n",
       "    <tr>\n",
       "      <th>1774</th>\n",
       "      <td>1775</td>\n",
       "      <td>F02127_5</td>\n",
       "      <td>AE004092.2_1775</td>\n",
       "      <td>0.000000</td>\n",
       "      <td>1</td>\n",
       "      <td>False</td>\n",
       "    </tr>\n",
       "    <tr>\n",
       "      <th>1775</th>\n",
       "      <td>1776</td>\n",
       "      <td>F02841_09</td>\n",
       "      <td>AE004092.2_1776</td>\n",
       "      <td>0.000000</td>\n",
       "      <td>1</td>\n",
       "      <td>False</td>\n",
       "    </tr>\n",
       "  </tbody>\n",
       "</table>\n",
       "<p>1776 rows × 6 columns</p>\n",
       "</div>"
      ],
      "text/plain": [
       "      order orthogroup             gene  accessory_fraction  count  accessory\n",
       "0         1   F03021_5     AE004092.2_1            0.012195      1      False\n",
       "1         2  F00122_09     AE004092.2_2            0.000000      1      False\n",
       "2         3   F00242_3     AE004092.2_3            0.000000      1      False\n",
       "3         4   F03229_3     AE004092.2_4            0.000000      1      False\n",
       "4         5   F00708_4     AE004092.2_5            0.000000      1      False\n",
       "...     ...        ...              ...                 ...    ...        ...\n",
       "1771   1772   F00852_5  AE004092.2_1772            0.012987      1      False\n",
       "1772   1773   F28009_1  AE004092.2_1773            1.000000      1       True\n",
       "1773   1774   F02161_2  AE004092.2_1774            0.000000      1      False\n",
       "1774   1775   F02127_5  AE004092.2_1775            0.000000      1      False\n",
       "1775   1776  F02841_09  AE004092.2_1776            0.000000      1      False\n",
       "\n",
       "[1776 rows x 6 columns]"
      ]
     },
     "execution_count": 169,
     "metadata": {},
     "output_type": "execute_result"
    }
   ],
   "source": [
    "frame"
   ]
  },
  {
   "cell_type": "code",
   "execution_count": 170,
   "id": "b086ef85",
   "metadata": {
    "ExecuteTime": {
     "end_time": "2022-04-16T12:54:44.065017Z",
     "start_time": "2022-04-16T12:54:43.894239Z"
    }
   },
   "outputs": [
    {
     "name": "stdout",
     "output_type": "stream",
     "text": [
      "Possible MGE: 1696-1718\n",
      "Possible MGE: 1541-1555\n",
      "Possible MGE: 1146-1203\n",
      "Possible MGE: 946-964\n",
      "Possible MGE: 858-875\n",
      "Possible MGE: 841-852\n",
      "Possible MGE: 736-804\n",
      "Possible MGE: 500-554\n",
      "Possible MGE: 410-440\n",
      "Possible MGE: 102-119\n"
     ]
    }
   ],
   "source": [
    "###\n",
    "i=0\n",
    "exc=0\n",
    "start_genes=[]\n",
    "end_genes=[]\n",
    "indices=[]\n",
    "lengths=[]\n",
    "for index,row in frame[::-1].iterrows():\n",
    "    consecutive=(row.accessory_fraction>score_threshold)\n",
    "    if consecutive:\n",
    "        i=i+1\n",
    "        #print(i)\n",
    "        #print(index)\n",
    "    else:\n",
    "        exc=exc+1\n",
    "        if(row.accessory|(row['count']>1)|(exc<fraction_threshold*i)):\n",
    "            i=i+1\n",
    "            #print(index)\n",
    "        else:\n",
    "            if i>n_threshold:\n",
    "                indices.append(index)\n",
    "                lengths.append(i)\n",
    "                #print(index)\n",
    "                #start_genes.append(index+1-i)\n",
    "                #end_genes.append(index+1)\n",
    "                print(\"Possible MGE: \" + str(index+2) + \"-\" + str(index+2+i))\n",
    "            i=0\n",
    "            exc=0\n",
    "                \n",
    "# find consecutive genes with mobility score exceeding a threshold "
   ]
  },
  {
   "cell_type": "code",
   "execution_count": 171,
   "id": "d72c745e",
   "metadata": {
    "ExecuteTime": {
     "end_time": "2022-04-16T12:54:44.857381Z",
     "start_time": "2022-04-16T12:54:44.850635Z"
    }
   },
   "outputs": [],
   "source": [
    "def end_detection(mob_frame):\n",
    "    genes,lengths=get_indices_lengths(mob_frame[::-1])\n",
    "    end_genes=list(np.array(genes)+np.array(lengths))\n",
    "    return [gene+1 for gene in end_genes][::-1]"
   ]
  },
  {
   "cell_type": "code",
   "execution_count": 172,
   "id": "b076c717",
   "metadata": {
    "ExecuteTime": {
     "end_time": "2022-04-16T12:54:45.316056Z",
     "start_time": "2022-04-16T12:54:45.305791Z"
    }
   },
   "outputs": [],
   "source": [
    "def start_detection(mob_frame):\n",
    "    genes,lengths=get_indices_lengths(mob_frame)\n",
    "    start_genes=list(np.array(genes)-np.array(lengths))\n",
    "    return [gene+1 for gene in start_genes]"
   ]
  },
  {
   "cell_type": "code",
   "execution_count": 173,
   "id": "461dbf03",
   "metadata": {
    "ExecuteTime": {
     "end_time": "2022-04-16T12:54:45.868504Z",
     "start_time": "2022-04-16T12:54:45.857861Z"
    }
   },
   "outputs": [],
   "source": [
    "def get_indices_lengths(frame, score_threshold=score_threshold, fraction_threshold=fraction_threshold, n_threshold=n_threshold):\n",
    "    i=0\n",
    "    exc=0\n",
    "    indices=[]\n",
    "    lengths=[]\n",
    "    for index,row in frame.iterrows():\n",
    "        consecutive=(row.accessory_fraction>score_threshold)\n",
    "        if consecutive:\n",
    "            # look for consecutive genes with an elevated mobility score\n",
    "            i=i+1\n",
    "        else:\n",
    "            exc=exc+1\n",
    "            #exc are exceptions, so genes that do not have an elevated mobility score\n",
    "            if(row.accessory|(row['count']>1)|(exc<fraction_threshold*i)):\n",
    "                # in case these exceptions are multi-copy or accessory, or when they do not appear too close to the start of the potential MGE, they are tolerated\n",
    "                i=i+1\n",
    "            else:\n",
    "                # otherwise, they are not\n",
    "                if i>n_threshold:\n",
    "                    # if the number of consecutive genes that belong to a potential MGE is large enough, the potential MGE is predicted to be a true MGE\n",
    "                    # in this case, the index and length of the MGE are saved\n",
    "                    indices.append(index)\n",
    "                    lengths.append(i)\n",
    "                # parameters are set to zero again, to find a new (potential) MGE\n",
    "                i=0\n",
    "                exc=0\n",
    "    return indices,lengths\n",
    "                "
   ]
  },
  {
   "cell_type": "code",
   "execution_count": 174,
   "id": "0d9010fb",
   "metadata": {
    "ExecuteTime": {
     "end_time": "2022-04-16T12:54:46.358854Z",
     "start_time": "2022-04-16T12:54:46.338057Z"
    }
   },
   "outputs": [],
   "source": [
    "def generate_output(genome_contig_file):\n",
    "    contig_extension=genome_contig_file.split('-')[1]\n",
    "    contig=str(contig_extension.split('.')[0]+'.'+contig_extension.split('.')[1])\n",
    "    MGE_frame=pd.DataFrame(columns=['contig', 'MGE', 'gene_nr'])\n",
    "    mob_frame=pd.read_csv(input_path / genome_contig_file, index_col=0)\n",
    "    start_genes=start_detection(mob_frame)\n",
    "    end_genes=end_detection(mob_frame)\n",
    "    if len(start_genes)>0:\n",
    "        for i in range(0,len(start_genes)):\n",
    "            for gene in range(start_genes[i], end_genes[i]+1):\n",
    "\n",
    "                MGE_frame=MGE_frame.append({'contig':contig,'MGE':i+1,'gene_nr':gene}, ignore_index=True)\n",
    "    MGE_frame.to_csv(output_path / genome_contig_file)       \n",
    "    return MGE_frame"
   ]
  },
  {
   "cell_type": "code",
   "execution_count": 185,
   "id": "9aa27e02",
   "metadata": {
    "ExecuteTime": {
     "end_time": "2022-04-16T13:05:43.627261Z",
     "start_time": "2022-04-16T13:05:42.539202Z"
    }
   },
   "outputs": [
    {
     "data": {
      "text/html": [
       "<div>\n",
       "<style scoped>\n",
       "    .dataframe tbody tr th:only-of-type {\n",
       "        vertical-align: middle;\n",
       "    }\n",
       "\n",
       "    .dataframe tbody tr th {\n",
       "        vertical-align: top;\n",
       "    }\n",
       "\n",
       "    .dataframe thead th {\n",
       "        text-align: right;\n",
       "    }\n",
       "</style>\n",
       "<table border=\"1\" class=\"dataframe\">\n",
       "  <thead>\n",
       "    <tr style=\"text-align: right;\">\n",
       "      <th></th>\n",
       "      <th>contig</th>\n",
       "      <th>MGE</th>\n",
       "      <th>gene_nr</th>\n",
       "    </tr>\n",
       "  </thead>\n",
       "  <tbody>\n",
       "    <tr>\n",
       "      <th>0</th>\n",
       "      <td>AE005176.1</td>\n",
       "      <td>1</td>\n",
       "      <td>23</td>\n",
       "    </tr>\n",
       "    <tr>\n",
       "      <th>1</th>\n",
       "      <td>AE005176.1</td>\n",
       "      <td>1</td>\n",
       "      <td>24</td>\n",
       "    </tr>\n",
       "    <tr>\n",
       "      <th>2</th>\n",
       "      <td>AE005176.1</td>\n",
       "      <td>1</td>\n",
       "      <td>25</td>\n",
       "    </tr>\n",
       "    <tr>\n",
       "      <th>3</th>\n",
       "      <td>AE005176.1</td>\n",
       "      <td>1</td>\n",
       "      <td>26</td>\n",
       "    </tr>\n",
       "    <tr>\n",
       "      <th>4</th>\n",
       "      <td>AE005176.1</td>\n",
       "      <td>1</td>\n",
       "      <td>27</td>\n",
       "    </tr>\n",
       "    <tr>\n",
       "      <th>...</th>\n",
       "      <td>...</td>\n",
       "      <td>...</td>\n",
       "      <td>...</td>\n",
       "    </tr>\n",
       "    <tr>\n",
       "      <th>245</th>\n",
       "      <td>AE005176.1</td>\n",
       "      <td>9</td>\n",
       "      <td>1110</td>\n",
       "    </tr>\n",
       "    <tr>\n",
       "      <th>246</th>\n",
       "      <td>AE005176.1</td>\n",
       "      <td>9</td>\n",
       "      <td>1111</td>\n",
       "    </tr>\n",
       "    <tr>\n",
       "      <th>247</th>\n",
       "      <td>AE005176.1</td>\n",
       "      <td>9</td>\n",
       "      <td>1112</td>\n",
       "    </tr>\n",
       "    <tr>\n",
       "      <th>248</th>\n",
       "      <td>AE005176.1</td>\n",
       "      <td>9</td>\n",
       "      <td>1113</td>\n",
       "    </tr>\n",
       "    <tr>\n",
       "      <th>249</th>\n",
       "      <td>AE005176.1</td>\n",
       "      <td>9</td>\n",
       "      <td>1114</td>\n",
       "    </tr>\n",
       "  </tbody>\n",
       "</table>\n",
       "<p>250 rows × 3 columns</p>\n",
       "</div>"
      ],
      "text/plain": [
       "         contig MGE gene_nr\n",
       "0    AE005176.1   1      23\n",
       "1    AE005176.1   1      24\n",
       "2    AE005176.1   1      25\n",
       "3    AE005176.1   1      26\n",
       "4    AE005176.1   1      27\n",
       "..          ...  ..     ...\n",
       "245  AE005176.1   9    1110\n",
       "246  AE005176.1   9    1111\n",
       "247  AE005176.1   9    1112\n",
       "248  AE005176.1   9    1113\n",
       "249  AE005176.1   9    1114\n",
       "\n",
       "[250 rows x 3 columns]"
      ]
     },
     "execution_count": 185,
     "metadata": {},
     "output_type": "execute_result"
    }
   ],
   "source": [
    "generate_output(genome_contig_file)"
   ]
  },
  {
   "cell_type": "code",
   "execution_count": 186,
   "id": "15c4cea5",
   "metadata": {
    "ExecuteTime": {
     "end_time": "2022-04-16T13:05:57.009212Z",
     "start_time": "2022-04-16T13:05:55.965005Z"
    }
   },
   "outputs": [
    {
     "data": {
      "text/html": [
       "<div>\n",
       "<style scoped>\n",
       "    .dataframe tbody tr th:only-of-type {\n",
       "        vertical-align: middle;\n",
       "    }\n",
       "\n",
       "    .dataframe tbody tr th {\n",
       "        vertical-align: top;\n",
       "    }\n",
       "\n",
       "    .dataframe thead th {\n",
       "        text-align: right;\n",
       "    }\n",
       "</style>\n",
       "<table border=\"1\" class=\"dataframe\">\n",
       "  <thead>\n",
       "    <tr style=\"text-align: right;\">\n",
       "      <th></th>\n",
       "      <th>contig</th>\n",
       "      <th>MGE</th>\n",
       "      <th>gene_nr</th>\n",
       "    </tr>\n",
       "  </thead>\n",
       "  <tbody>\n",
       "    <tr>\n",
       "      <th>0</th>\n",
       "      <td>AE004092.2</td>\n",
       "      <td>1</td>\n",
       "      <td>102</td>\n",
       "    </tr>\n",
       "    <tr>\n",
       "      <th>1</th>\n",
       "      <td>AE004092.2</td>\n",
       "      <td>1</td>\n",
       "      <td>103</td>\n",
       "    </tr>\n",
       "    <tr>\n",
       "      <th>2</th>\n",
       "      <td>AE004092.2</td>\n",
       "      <td>1</td>\n",
       "      <td>104</td>\n",
       "    </tr>\n",
       "    <tr>\n",
       "      <th>3</th>\n",
       "      <td>AE004092.2</td>\n",
       "      <td>1</td>\n",
       "      <td>105</td>\n",
       "    </tr>\n",
       "    <tr>\n",
       "      <th>4</th>\n",
       "      <td>AE004092.2</td>\n",
       "      <td>1</td>\n",
       "      <td>106</td>\n",
       "    </tr>\n",
       "    <tr>\n",
       "      <th>...</th>\n",
       "      <td>...</td>\n",
       "      <td>...</td>\n",
       "      <td>...</td>\n",
       "    </tr>\n",
       "    <tr>\n",
       "      <th>285</th>\n",
       "      <td>AE004092.2</td>\n",
       "      <td>10</td>\n",
       "      <td>1713</td>\n",
       "    </tr>\n",
       "    <tr>\n",
       "      <th>286</th>\n",
       "      <td>AE004092.2</td>\n",
       "      <td>10</td>\n",
       "      <td>1714</td>\n",
       "    </tr>\n",
       "    <tr>\n",
       "      <th>287</th>\n",
       "      <td>AE004092.2</td>\n",
       "      <td>10</td>\n",
       "      <td>1715</td>\n",
       "    </tr>\n",
       "    <tr>\n",
       "      <th>288</th>\n",
       "      <td>AE004092.2</td>\n",
       "      <td>10</td>\n",
       "      <td>1716</td>\n",
       "    </tr>\n",
       "    <tr>\n",
       "      <th>289</th>\n",
       "      <td>AE004092.2</td>\n",
       "      <td>10</td>\n",
       "      <td>1717</td>\n",
       "    </tr>\n",
       "  </tbody>\n",
       "</table>\n",
       "<p>290 rows × 3 columns</p>\n",
       "</div>"
      ],
      "text/plain": [
       "         contig MGE gene_nr\n",
       "0    AE004092.2   1     102\n",
       "1    AE004092.2   1     103\n",
       "2    AE004092.2   1     104\n",
       "3    AE004092.2   1     105\n",
       "4    AE004092.2   1     106\n",
       "..          ...  ..     ...\n",
       "285  AE004092.2  10    1713\n",
       "286  AE004092.2  10    1714\n",
       "287  AE004092.2  10    1715\n",
       "288  AE004092.2  10    1716\n",
       "289  AE004092.2  10    1717\n",
       "\n",
       "[290 rows x 3 columns]"
      ]
     },
     "execution_count": 186,
     "metadata": {},
     "output_type": "execute_result"
    }
   ],
   "source": [
    "generate_output(genome2_file)"
   ]
  },
  {
   "cell_type": "code",
   "execution_count": null,
   "id": "2f2b71ae",
   "metadata": {},
   "outputs": [],
   "source": []
  }
 ],
 "metadata": {
  "kernelspec": {
   "display_name": "Python 3 (ipykernel)",
   "language": "python",
   "name": "python3"
  },
  "language_info": {
   "codemirror_mode": {
    "name": "ipython",
    "version": 3
   },
   "file_extension": ".py",
   "mimetype": "text/x-python",
   "name": "python",
   "nbconvert_exporter": "python",
   "pygments_lexer": "ipython3",
   "version": "3.9.0"
  },
  "toc": {
   "base_numbering": 1,
   "nav_menu": {},
   "number_sections": true,
   "sideBar": true,
   "skip_h1_title": false,
   "title_cell": "Table of Contents",
   "title_sidebar": "Contents",
   "toc_cell": false,
   "toc_position": {},
   "toc_section_display": true,
   "toc_window_display": false
  },
  "varInspector": {
   "cols": {
    "lenName": 16,
    "lenType": 16,
    "lenVar": 40
   },
   "kernels_config": {
    "python": {
     "delete_cmd_postfix": "",
     "delete_cmd_prefix": "del ",
     "library": "var_list.py",
     "varRefreshCmd": "print(var_dic_list())"
    },
    "r": {
     "delete_cmd_postfix": ") ",
     "delete_cmd_prefix": "rm(",
     "library": "var_list.r",
     "varRefreshCmd": "cat(var_dic_list()) "
    }
   },
   "types_to_exclude": [
    "module",
    "function",
    "builtin_function_or_method",
    "instance",
    "_Feature"
   ],
   "window_display": false
  }
 },
 "nbformat": 4,
 "nbformat_minor": 5
}
