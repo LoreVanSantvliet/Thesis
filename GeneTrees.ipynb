{
 "cells": [
  {
   "cell_type": "markdown",
   "id": "e1c79561",
   "metadata": {},
   "source": [
    "# Gene trees"
   ]
  },
  {
   "cell_type": "code",
   "execution_count": 3,
   "id": "6530953e",
   "metadata": {
    "ExecuteTime": {
     "end_time": "2022-03-24T13:20:38.941029Z",
     "start_time": "2022-03-24T13:20:37.071518Z"
    }
   },
   "outputs": [],
   "source": [
    "import pandas as pd\n",
    "from pathlib import Path\n",
    "import matplotlib.pyplot as plt\n",
    "import numpy as np\n",
    "from Bio import AlignIO\n",
    "from Bio import Phylo\n",
    "from Bio.Phylo.TreeConstruction import DistanceCalculator\n",
    "from Bio.Phylo.TreeConstruction import DistanceTreeConstructor"
   ]
  },
  {
   "cell_type": "code",
   "execution_count": 4,
   "id": "f636eadd",
   "metadata": {
    "ExecuteTime": {
     "end_time": "2022-03-24T13:20:38.979762Z",
     "start_time": "2022-03-24T13:20:38.973620Z"
    }
   },
   "outputs": [],
   "source": [
    "project_path=Path().resolve().parent\n",
    "msa_path=project_path / \"results\" / \"intermediate\" / \"msas\""
   ]
  },
  {
   "cell_type": "code",
   "execution_count": 5,
   "id": "db1b16a8",
   "metadata": {
    "ExecuteTime": {
     "end_time": "2022-03-24T13:20:39.019714Z",
     "start_time": "2022-03-24T13:20:39.014887Z"
    }
   },
   "outputs": [],
   "source": [
    "output_path=project_path / \"results\" / \"intermediate\" / \"gene_trees\""
   ]
  },
  {
   "cell_type": "code",
   "execution_count": 6,
   "id": "59a856f7",
   "metadata": {
    "ExecuteTime": {
     "end_time": "2022-03-24T13:20:48.872416Z",
     "start_time": "2022-03-24T13:20:39.057179Z"
    }
   },
   "outputs": [],
   "source": [
    "pangenome=pd.read_csv(project_path / \"results\" / \"intermediate\" / \"filtered_pangenome.csv\")"
   ]
  },
  {
   "cell_type": "markdown",
   "id": "378c035e",
   "metadata": {},
   "source": [
    "## Tree generator"
   ]
  },
  {
   "cell_type": "code",
   "execution_count": 12,
   "id": "8920104f",
   "metadata": {
    "ExecuteTime": {
     "end_time": "2022-03-16T13:20:08.586400Z",
     "start_time": "2022-03-16T13:20:08.579918Z"
    }
   },
   "outputs": [],
   "source": [
    "orthogroup_file=\"F00013_4.txt\""
   ]
  },
  {
   "cell_type": "code",
   "execution_count": 8,
   "id": "d9d08962",
   "metadata": {
    "ExecuteTime": {
     "end_time": "2022-03-24T13:21:32.590726Z",
     "start_time": "2022-03-24T13:21:32.583538Z"
    }
   },
   "outputs": [],
   "source": [
    "def generate_genetree(orthogroup, species):\n",
    "    orthogroup_file=str(orthogroup+\".txt\")\n",
    "    aln = AlignIO.read(open(msa_path / species / orthogroup_file), 'fasta')\n",
    "    calculator = DistanceCalculator('identity')\n",
    "    dm = calculator.get_distance(aln)\n",
    "    constructor = DistanceTreeConstructor()\n",
    "    njtree = constructor.nj(dm)\n",
    "    Phylo.write(njtree, output_path / species / str(orthogroup+\".nw\"), \"newick\")"
   ]
  },
  {
   "cell_type": "code",
   "execution_count": 35,
   "id": "7b3b5822",
   "metadata": {
    "ExecuteTime": {
     "end_time": "2022-03-16T14:54:10.571877Z",
     "start_time": "2022-03-16T14:54:10.538017Z"
    }
   },
   "outputs": [],
   "source": [
    "generate_genetree(orthogroup)"
   ]
  },
  {
   "cell_type": "code",
   "execution_count": 9,
   "id": "fd768917",
   "metadata": {
    "ExecuteTime": {
     "end_time": "2022-03-24T13:21:38.251331Z",
     "start_time": "2022-03-24T13:21:37.230189Z"
    }
   },
   "outputs": [
    {
     "name": "stdout",
     "output_type": "stream",
     "text": [
      "F00268_1\n"
     ]
    },
    {
     "ename": "FileNotFoundError",
     "evalue": "[Errno 2] No such file or directory: '/Users/lorevansantvliet/Desktop/Thesis/Project/results/intermediate/msas/Apilactobacillus kunkeei_A/F00268_1.txt'",
     "output_type": "error",
     "traceback": [
      "\u001b[0;31m---------------------------------------------------------------------------\u001b[0m",
      "\u001b[0;31mFileNotFoundError\u001b[0m                         Traceback (most recent call last)",
      "\u001b[0;32m/var/folders/wm/45ntkynd66gd8wnsdr6vw7h40000gn/T/ipykernel_13081/262967354.py\u001b[0m in \u001b[0;36m<module>\u001b[0;34m\u001b[0m\n\u001b[1;32m      2\u001b[0m     \u001b[0;32mfor\u001b[0m \u001b[0morthogroup\u001b[0m \u001b[0;32min\u001b[0m \u001b[0mpangenome\u001b[0m\u001b[0;34m.\u001b[0m\u001b[0morthogroup\u001b[0m\u001b[0;34m.\u001b[0m\u001b[0mdrop_duplicates\u001b[0m\u001b[0;34m(\u001b[0m\u001b[0;34m)\u001b[0m\u001b[0;34m:\u001b[0m\u001b[0;34m\u001b[0m\u001b[0;34m\u001b[0m\u001b[0m\n\u001b[1;32m      3\u001b[0m         \u001b[0mprint\u001b[0m\u001b[0;34m(\u001b[0m\u001b[0morthogroup\u001b[0m\u001b[0;34m)\u001b[0m\u001b[0;34m\u001b[0m\u001b[0;34m\u001b[0m\u001b[0m\n\u001b[0;32m----> 4\u001b[0;31m         \u001b[0mgenerate_genetree\u001b[0m\u001b[0;34m(\u001b[0m\u001b[0morthogroup\u001b[0m\u001b[0;34m,\u001b[0m \u001b[0mspecies\u001b[0m\u001b[0;34m)\u001b[0m\u001b[0;34m\u001b[0m\u001b[0;34m\u001b[0m\u001b[0m\n\u001b[0m\u001b[1;32m      5\u001b[0m     \u001b[0mprint\u001b[0m\u001b[0;34m(\u001b[0m\u001b[0mstr\u001b[0m\u001b[0;34m(\u001b[0m\u001b[0mspecies\u001b[0m \u001b[0;34m+\u001b[0m \u001b[0;34m\" done\"\u001b[0m\u001b[0;34m)\u001b[0m\u001b[0;34m)\u001b[0m\u001b[0;34m\u001b[0m\u001b[0;34m\u001b[0m\u001b[0m\n",
      "\u001b[0;32m/var/folders/wm/45ntkynd66gd8wnsdr6vw7h40000gn/T/ipykernel_13081/1144363255.py\u001b[0m in \u001b[0;36mgenerate_genetree\u001b[0;34m(orthogroup, species)\u001b[0m\n\u001b[1;32m      1\u001b[0m \u001b[0;32mdef\u001b[0m \u001b[0mgenerate_genetree\u001b[0m\u001b[0;34m(\u001b[0m\u001b[0morthogroup\u001b[0m\u001b[0;34m,\u001b[0m \u001b[0mspecies\u001b[0m\u001b[0;34m)\u001b[0m\u001b[0;34m:\u001b[0m\u001b[0;34m\u001b[0m\u001b[0;34m\u001b[0m\u001b[0m\n\u001b[1;32m      2\u001b[0m     \u001b[0morthogroup_file\u001b[0m\u001b[0;34m=\u001b[0m\u001b[0mstr\u001b[0m\u001b[0;34m(\u001b[0m\u001b[0morthogroup\u001b[0m\u001b[0;34m+\u001b[0m\u001b[0;34m\".txt\"\u001b[0m\u001b[0;34m)\u001b[0m\u001b[0;34m\u001b[0m\u001b[0;34m\u001b[0m\u001b[0m\n\u001b[0;32m----> 3\u001b[0;31m     \u001b[0maln\u001b[0m \u001b[0;34m=\u001b[0m \u001b[0mAlignIO\u001b[0m\u001b[0;34m.\u001b[0m\u001b[0mread\u001b[0m\u001b[0;34m(\u001b[0m\u001b[0mopen\u001b[0m\u001b[0;34m(\u001b[0m\u001b[0mmsa_path\u001b[0m \u001b[0;34m/\u001b[0m \u001b[0mspecies\u001b[0m \u001b[0;34m/\u001b[0m \u001b[0morthogroup_file\u001b[0m\u001b[0;34m)\u001b[0m\u001b[0;34m,\u001b[0m \u001b[0;34m'fasta'\u001b[0m\u001b[0;34m)\u001b[0m\u001b[0;34m\u001b[0m\u001b[0;34m\u001b[0m\u001b[0m\n\u001b[0m\u001b[1;32m      4\u001b[0m     \u001b[0mcalculator\u001b[0m \u001b[0;34m=\u001b[0m \u001b[0mDistanceCalculator\u001b[0m\u001b[0;34m(\u001b[0m\u001b[0;34m'identity'\u001b[0m\u001b[0;34m)\u001b[0m\u001b[0;34m\u001b[0m\u001b[0;34m\u001b[0m\u001b[0m\n\u001b[1;32m      5\u001b[0m     \u001b[0mdm\u001b[0m \u001b[0;34m=\u001b[0m \u001b[0mcalculator\u001b[0m\u001b[0;34m.\u001b[0m\u001b[0mget_distance\u001b[0m\u001b[0;34m(\u001b[0m\u001b[0maln\u001b[0m\u001b[0;34m)\u001b[0m\u001b[0;34m\u001b[0m\u001b[0;34m\u001b[0m\u001b[0m\n",
      "\u001b[0;31mFileNotFoundError\u001b[0m: [Errno 2] No such file or directory: '/Users/lorevansantvliet/Desktop/Thesis/Project/results/intermediate/msas/Apilactobacillus kunkeei_A/F00268_1.txt'"
     ]
    }
   ],
   "source": [
    "for species in pangenome.gtdb_species.drop_duplicates():\n",
    "    for orthogroup in pangenome.orthogroup.drop_duplicates():\n",
    "        print(orthogroup)\n",
    "        generate_genetree(orthogroup, species)\n",
    "    print(str(species + \" done\"))"
   ]
  },
  {
   "cell_type": "code",
   "execution_count": 7,
   "id": "809d4d26",
   "metadata": {
    "ExecuteTime": {
     "end_time": "2022-03-24T13:20:51.918587Z",
     "start_time": "2022-03-24T13:20:48.956695Z"
    }
   },
   "outputs": [
    {
     "data": {
      "text/plain": [
       "1"
      ]
     },
     "execution_count": 7,
     "metadata": {},
     "output_type": "execute_result"
    }
   ],
   "source": [
    "aln = AlignIO.read(open(msa_path / \"result.txt\"), 'fasta')\n",
    "calculator = DistanceCalculator('identity')\n",
    "dm = calculator.get_distance(aln)\n",
    "constructor = DistanceTreeConstructor()\n",
    "njtree = constructor.nj(dm)\n",
    "Phylo.write(njtree, msa_path / str(\"tree.nw\"), \"newick\")"
   ]
  },
  {
   "cell_type": "code",
   "execution_count": null,
   "id": "81791b85",
   "metadata": {},
   "outputs": [],
   "source": []
  }
 ],
 "metadata": {
  "kernelspec": {
   "display_name": "Python 3 (ipykernel)",
   "language": "python",
   "name": "python3"
  },
  "language_info": {
   "codemirror_mode": {
    "name": "ipython",
    "version": 3
   },
   "file_extension": ".py",
   "mimetype": "text/x-python",
   "name": "python",
   "nbconvert_exporter": "python",
   "pygments_lexer": "ipython3",
   "version": "3.9.0"
  },
  "toc": {
   "base_numbering": 1,
   "nav_menu": {},
   "number_sections": true,
   "sideBar": true,
   "skip_h1_title": false,
   "title_cell": "Table of Contents",
   "title_sidebar": "Contents",
   "toc_cell": false,
   "toc_position": {},
   "toc_section_display": true,
   "toc_window_display": false
  },
  "varInspector": {
   "cols": {
    "lenName": 16,
    "lenType": 16,
    "lenVar": 40
   },
   "kernels_config": {
    "python": {
     "delete_cmd_postfix": "",
     "delete_cmd_prefix": "del ",
     "library": "var_list.py",
     "varRefreshCmd": "print(var_dic_list())"
    },
    "r": {
     "delete_cmd_postfix": ") ",
     "delete_cmd_prefix": "rm(",
     "library": "var_list.r",
     "varRefreshCmd": "cat(var_dic_list()) "
    }
   },
   "types_to_exclude": [
    "module",
    "function",
    "builtin_function_or_method",
    "instance",
    "_Feature"
   ],
   "window_display": false
  }
 },
 "nbformat": 4,
 "nbformat_minor": 5
}
