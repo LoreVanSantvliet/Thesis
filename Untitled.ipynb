{
 "cells": [
  {
   "cell_type": "markdown",
   "id": "49fa2f32",
   "metadata": {},
   "source": [
    "# Lactobacillus gasseri trees"
   ]
  },
  {
   "cell_type": "markdown",
   "id": "00b1fad9",
   "metadata": {},
   "source": [
    "## Preparation"
   ]
  },
  {
   "cell_type": "code",
   "execution_count": 4,
   "id": "ebe231be",
   "metadata": {
    "ExecuteTime": {
     "end_time": "2022-05-11T13:49:24.893295Z",
     "start_time": "2022-05-11T13:49:24.888230Z"
    }
   },
   "outputs": [],
   "source": [
    "from ete3 import PhyloTree\n",
    "from pathlib import Path"
   ]
  },
  {
   "cell_type": "code",
   "execution_count": null,
   "id": "5a074ca4",
   "metadata": {},
   "outputs": [],
   "source": [
    "project_path=Path().resolve().parent\n",
    "msa_path=project_path / \"results\" / \"intermediate\" / \"supermatrix\""
   ]
  },
  {
   "cell_type": "code",
   "execution_count": null,
   "id": "63121d15",
   "metadata": {},
   "outputs": [],
   "source": []
  },
  {
   "cell_type": "code",
   "execution_count": null,
   "id": "ed16e52e",
   "metadata": {},
   "outputs": [],
   "source": [
    "with open(path_gene_trees / species / orthogroup_file, 'r') as f:\n",
    "    gene_tree=f.read()\n",
    "with open(path_species_trees / species_input_file, 'r') as f:\n",
    "    species_tree=f.read()\n",
    "#print(\"Newick: \" + str(path_gene_trees / species / orthogroup_file))\n",
    "#print(\"Newick: \" + str(\"'\" + str(path_gene_trees / species / orthogroup_file) + \"'\"))\n",
    "gene_tree=PhyloTree(gene_tree)\n",
    "gene_tree.set_species_naming_function(lambda node: node.name.split('-')[0])\n",
    "species_tree=PhyloTree(species_tree)\n",
    "species_tree.set_species_naming_function(lambda node: node.name)\n",
    "print(orthogroup_file)\n"
   ]
  }
 ],
 "metadata": {
  "kernelspec": {
   "display_name": "Python 3 (ipykernel)",
   "language": "python",
   "name": "python3"
  },
  "language_info": {
   "codemirror_mode": {
    "name": "ipython",
    "version": 3
   },
   "file_extension": ".py",
   "mimetype": "text/x-python",
   "name": "python",
   "nbconvert_exporter": "python",
   "pygments_lexer": "ipython3",
   "version": "3.9.0"
  },
  "toc": {
   "base_numbering": 1,
   "nav_menu": {},
   "number_sections": true,
   "sideBar": true,
   "skip_h1_title": false,
   "title_cell": "Table of Contents",
   "title_sidebar": "Contents",
   "toc_cell": false,
   "toc_position": {},
   "toc_section_display": true,
   "toc_window_display": false
  },
  "varInspector": {
   "cols": {
    "lenName": 16,
    "lenType": 16,
    "lenVar": 40
   },
   "kernels_config": {
    "python": {
     "delete_cmd_postfix": "",
     "delete_cmd_prefix": "del ",
     "library": "var_list.py",
     "varRefreshCmd": "print(var_dic_list())"
    },
    "r": {
     "delete_cmd_postfix": ") ",
     "delete_cmd_prefix": "rm(",
     "library": "var_list.r",
     "varRefreshCmd": "cat(var_dic_list()) "
    }
   },
   "types_to_exclude": [
    "module",
    "function",
    "builtin_function_or_method",
    "instance",
    "_Feature"
   ],
   "window_display": false
  }
 },
 "nbformat": 4,
 "nbformat_minor": 5
}
