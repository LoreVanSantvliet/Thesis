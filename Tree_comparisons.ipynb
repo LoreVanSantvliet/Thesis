{
 "cells": [
  {
   "cell_type": "markdown",
   "id": "8d30a00c",
   "metadata": {
    "ExecuteTime": {
     "end_time": "2021-11-12T16:33:20.189782Z",
     "start_time": "2021-11-12T16:33:20.181899Z"
    }
   },
   "source": [
    "# Tree comparison"
   ]
  },
  {
   "cell_type": "markdown",
   "id": "96c32472",
   "metadata": {},
   "source": [
    "## Preparation"
   ]
  },
  {
   "cell_type": "code",
   "execution_count": 1,
   "id": "3e26e224",
   "metadata": {
    "ExecuteTime": {
     "end_time": "2022-04-21T15:27:41.791139Z",
     "start_time": "2022-04-21T15:27:39.752635Z"
    }
   },
   "outputs": [],
   "source": [
    "import pandas as pd\n",
    "from pathlib import Path\n",
    "#import matplotlib.pyplot as plt\n",
    "#import numpy as np\n",
    "#from ete3 import Tree\n",
    "from ete3 import PhyloTree"
   ]
  },
  {
   "cell_type": "code",
   "execution_count": 2,
   "id": "07b05f9c",
   "metadata": {
    "ExecuteTime": {
     "end_time": "2022-04-21T15:27:41.833192Z",
     "start_time": "2022-04-21T15:27:41.823568Z"
    }
   },
   "outputs": [],
   "source": [
    "project_path = Path().resolve().parent"
   ]
  },
  {
   "cell_type": "markdown",
   "id": "66bebc0b",
   "metadata": {
    "ExecuteTime": {
     "end_time": "2021-11-12T16:35:31.207420Z",
     "start_time": "2021-11-12T16:35:31.203766Z"
    }
   },
   "source": [
    "## Load tree"
   ]
  },
  {
   "cell_type": "code",
   "execution_count": 3,
   "id": "bec7414b",
   "metadata": {
    "ExecuteTime": {
     "end_time": "2022-04-20T10:31:59.848902Z",
     "start_time": "2022-04-20T10:31:59.831014Z"
    }
   },
   "outputs": [],
   "source": [
    "tree1=Tree(\"tree1.nw\")\n",
    "tree2=Tree(\"tree2.nw\")"
   ]
  },
  {
   "cell_type": "code",
   "execution_count": 4,
   "id": "dc57f11f",
   "metadata": {
    "ExecuteTime": {
     "end_time": "2022-04-20T10:31:59.892003Z",
     "start_time": "2022-04-20T10:31:59.880821Z"
    }
   },
   "outputs": [
    {
     "name": "stdout",
     "output_type": "stream",
     "text": [
      "((GCA_000228585.2:0.00536,(GCA_000228665.2:0.00343,GCA_000228025.2:0.01515)1:1)1:1,((GCA_000228345.2:0.01696,GCA_000228005.2:0.03563)1:1,(GCA_000227905.2:0.01136,(GCA_000227925.2:0.0096,(GCA_000227845.2:0.02181,(((GCA_000347935.1:0.01889,(GCA_000228685.2:0.02391,GCA_000227945.2:0.01863)1:1)1:1,(GCA_000228525.2:0.01157,(GCA_000227825.2:0.01566,GCA_000228125.2:0.00502)1:1)1:1)1:1,(GCA_000228445.2:0.01736,(((GCA_000228405.2:0.0186,GCA_000228165.2:0.00531)1:1,(((GCA_002266475.1:0.01386,GCA_000228265.2:0.02985)1:1,GCA_000227785.2:0.03076)1:1,GCA_000228145.2:0.0167)1:1)1:1,((GCA_003176795.1:0.02167,GCA_000228245.2:0.0196)1:1,((GCA_000439045.1:0.0093,GCA_000467915.2:0.01135)1:1,(GCA_003172975.1:0.00883,((GCA_000228625.2:0.01267,GCA_000228465.2:0.01951)1:1,(GCA_000228545.2:0.00822,GCA_000228305.2:0.00742)1:1)1:1)1:1)1:1)1:1)1:1)1:1)1:1)1:1)1:1)1:1)1:1,(GCA_000228085.2:0.0075,((GCA_000227805.2:0.02586,GCA_000227885.2:0.01548)1:1,GCA_000228485.2:0.02069)1:1)1:1);\n"
     ]
    }
   ],
   "source": [
    "print(tree1.write())"
   ]
  },
  {
   "cell_type": "code",
   "execution_count": 5,
   "id": "35251978",
   "metadata": {
    "ExecuteTime": {
     "end_time": "2022-04-20T10:31:59.931377Z",
     "start_time": "2022-04-20T10:31:59.923536Z"
    }
   },
   "outputs": [
    {
     "name": "stdout",
     "output_type": "stream",
     "text": [
      "\n",
      "            /-GCA_000227905.2-AZBY01000021.1_18\n",
      "           |\n",
      "           |      /-GCA_000228405.2-AZBY01000021.1_18\n",
      "         /-|   /-|\n",
      "        |  |  |   \\-GCA_003176795.1-AZBY01000021.1_18\n",
      "        |  |  |\n",
      "        |   \\-|      /-GCA_000228005.2-AZBY01000021.1_18\n",
      "        |     |   /-|\n",
      "        |     |  |   \\-GCA_000227805.2-AZBY01000021.1_18\n",
      "        |      \\-|\n",
      "        |        |      /-GCA_000228165.2-AZBY01000021.1_18\n",
      "      /-|        |   /-|\n",
      "     |  |         \\-|   \\-GCA_000439045.1-AZBY01000021.1_18\n",
      "     |  |           |\n",
      "     |  |            \\-GCA_000347935.1-AZBY01000021.1_18\n",
      "     |  |\n",
      "     |  |      /-GCA_000227845.2-AZBY01000021.1_18\n",
      "     |  |   /-|\n",
      "     |  |  |  |   /-GCA_000228125.2-AZBY01000021.1_18\n",
      "     |  |  |   \\-|\n",
      "     |   \\-|      \\-GCA_000228545.2-AZBY01000021.1_18\n",
      "     |     |\n",
      "     |     |   /-GCA_000228585.2-AZBY01000021.1_18\n",
      "     |     |  |\n",
      "     |      \\-|   /-GCA_003172975.1-AZBY01000021.1_18\n",
      "     |        |  |\n",
      "     |         \\-|      /-GCA_000228145.2-AZBY01000021.1_18\n",
      "   /-|           |   /-|\n",
      "  |  |           |  |   \\-GCA_000228345.2-AZBY01000021.1_18\n",
      "  |  |            \\-|\n",
      "  |  |              |   /-GCA_000467915.2-AZBY01000021.1_18\n",
      "  |  |              |  |\n",
      "  |  |               \\-|      /-GCA_000227925.2-AZBY01000021.1_18\n",
      "  |  |                 |   /-|\n",
      "  |  |                 |  |   \\-GCA_002266475.1-AZBY01000021.1_18\n",
      "  |  |                  \\-|\n",
      "  |  |                    |   /-GCA_000228445.2-AZBY01000021.1_18\n",
      "  |  |                     \\-|\n",
      "  |  |                        \\-GCA_000228465.2-AZBY01000021.1_18\n",
      "  |  |\n",
      "  |  |      /-GCA_000227945.2-AZBY01000021.1_18\n",
      "  |  |   /-|\n",
      "  |  |  |   \\-GCA_000228265.2-AZBY01000021.1_18\n",
      "  |   \\-|\n",
      "  |     |   /-GCA_000228625.2-AZBY01000021.1_18\n",
      "  |      \\-|\n",
      "--|        |   /-GCA_000228525.2-AZBY01000021.1_18\n",
      "  |         \\-|\n",
      "  |           |   /-GCA_000228025.2-AZBY01000021.1_18\n",
      "  |            \\-|\n",
      "  |               \\-GCA_000228485.2-AZBY01000021.1_18\n",
      "  |\n",
      "  |      /-GCA_000227885.2-AZBY01000021.1_18\n",
      "  |   /-|\n",
      "  |  |   \\-GCA_000227785.2-AZBY01000021.1_18\n",
      "  |--|\n",
      "  |  |   /-GCA_000228085.2-AZBY01000021.1_18\n",
      "  |   \\-|\n",
      "  |     |   /-GCA_000228245.2-AZBY01000021.1_18\n",
      "  |      \\-|\n",
      "  |        |   /-GCA_000228305.2-AZBY01000021.1_18\n",
      "  |         \\-|\n",
      "  |            \\-GCA_000228685.2-AZBY01000021.1_18\n",
      "  |\n",
      "  |   /-GCA_000227825.2-AZBY01000021.1_18\n",
      "   \\-|\n",
      "      \\-GCA_000228665.2-AZBY01000021.1_18\n"
     ]
    }
   ],
   "source": [
    "print(tree2)"
   ]
  },
  {
   "cell_type": "code",
   "execution_count": 11,
   "id": "79f38952",
   "metadata": {
    "ExecuteTime": {
     "end_time": "2022-04-20T10:32:24.551873Z",
     "start_time": "2022-04-20T10:32:24.539682Z"
    }
   },
   "outputs": [],
   "source": [
    "phylotree2=PhyloTree(\"tree2.nw\")\n",
    "phylotree2.set_species_naming_function(lambda node: node.name.split(\"-\")[0])\n",
    "phylotree1=PhyloTree(\"tree1.nw\")\n",
    "              \n",
    "              \n",
    "              \n",
    "              "
   ]
  },
  {
   "cell_type": "code",
   "execution_count": 12,
   "id": "0e571c17",
   "metadata": {
    "ExecuteTime": {
     "end_time": "2022-04-20T10:32:28.841454Z",
     "start_time": "2022-04-20T10:32:28.816320Z"
    }
   },
   "outputs": [
    {
     "name": "stderr",
     "output_type": "stream",
     "text": [
      "/Library/Frameworks/Python.framework/Versions/3.9/lib/python3.9/site-packages/numpy/core/fromnumeric.py:3440: RuntimeWarning: Mean of empty slice.\n",
      "  return _methods._mean(a, axis=axis, dtype=dtype,\n",
      "/Library/Frameworks/Python.framework/Versions/3.9/lib/python3.9/site-packages/numpy/core/_methods.py:189: RuntimeWarning: invalid value encountered in double_scalars\n",
      "  ret = ret.dtype.type(ret / rcount)\n"
     ]
    },
    {
     "data": {
      "text/plain": [
       "{'treeko_dist': 0.0,\n",
       " 'rf': 0.0,\n",
       " 'max_rf': 0,\n",
       " 'effective_tree_size': 0.0,\n",
       " 'norm_rf': 0.0,\n",
       " 'ref_edges_in_source': nan,\n",
       " 'source_edges_in_ref': nan,\n",
       " 'source_subtrees': 1,\n",
       " 'common_edges': set(),\n",
       " 'source_edges': set(),\n",
       " 'ref_edges': set()}"
      ]
     },
     "execution_count": 12,
     "metadata": {},
     "output_type": "execute_result"
    }
   ],
   "source": [
    "phylotree2.compare(phylotree1, use_collateral=False, min_support_source=0.0,\n",
    "min_support_ref=0.0, has_duplications=True, expand_polytomies=False, unrooted=True, max_treeko_splits_to_be_artifact=1000)\n"
   ]
  },
  {
   "cell_type": "code",
   "execution_count": 13,
   "id": "3cbd4ab4",
   "metadata": {
    "ExecuteTime": {
     "end_time": "2022-04-20T10:32:31.313762Z",
     "start_time": "2022-04-20T10:32:31.307270Z"
    }
   },
   "outputs": [
    {
     "name": "stdout",
     "output_type": "stream",
     "text": [
      "\n",
      "            /-GCA_000227905.2-AZBY01000021.1_18\n",
      "           |\n",
      "           |      /-GCA_000228405.2-AZBY01000021.1_18\n",
      "         /-|   /-|\n",
      "        |  |  |   \\-GCA_003176795.1-AZBY01000021.1_18\n",
      "        |  |  |\n",
      "        |   \\-|      /-GCA_000228005.2-AZBY01000021.1_18\n",
      "        |     |   /-|\n",
      "        |     |  |   \\-GCA_000227805.2-AZBY01000021.1_18\n",
      "        |      \\-|\n",
      "        |        |      /-GCA_000228165.2-AZBY01000021.1_18\n",
      "      /-|        |   /-|\n",
      "     |  |         \\-|   \\-GCA_000439045.1-AZBY01000021.1_18\n",
      "     |  |           |\n",
      "     |  |            \\-GCA_000347935.1-AZBY01000021.1_18\n",
      "     |  |\n",
      "     |  |      /-GCA_000227845.2-AZBY01000021.1_18\n",
      "     |  |   /-|\n",
      "     |  |  |  |   /-GCA_000228125.2-AZBY01000021.1_18\n",
      "     |  |  |   \\-|\n",
      "     |   \\-|      \\-GCA_000228545.2-AZBY01000021.1_18\n",
      "     |     |\n",
      "     |     |   /-GCA_000228585.2-AZBY01000021.1_18\n",
      "     |     |  |\n",
      "     |      \\-|   /-GCA_003172975.1-AZBY01000021.1_18\n",
      "     |        |  |\n",
      "     |         \\-|      /-GCA_000228145.2-AZBY01000021.1_18\n",
      "   /-|           |   /-|\n",
      "  |  |           |  |   \\-GCA_000228345.2-AZBY01000021.1_18\n",
      "  |  |            \\-|\n",
      "  |  |              |   /-GCA_000467915.2-AZBY01000021.1_18\n",
      "  |  |              |  |\n",
      "  |  |               \\-|      /-GCA_000227925.2-AZBY01000021.1_18\n",
      "  |  |                 |   /-|\n",
      "  |  |                 |  |   \\-GCA_002266475.1-AZBY01000021.1_18\n",
      "  |  |                  \\-|\n",
      "  |  |                    |   /-GCA_000228445.2-AZBY01000021.1_18\n",
      "  |  |                     \\-|\n",
      "  |  |                        \\-GCA_000228465.2-AZBY01000021.1_18\n",
      "  |  |\n",
      "  |  |      /-GCA_000227945.2-AZBY01000021.1_18\n",
      "  |  |   /-|\n",
      "  |  |  |   \\-GCA_000228265.2-AZBY01000021.1_18\n",
      "  |   \\-|\n",
      "  |     |   /-GCA_000228625.2-AZBY01000021.1_18\n",
      "  |      \\-|\n",
      "--|        |   /-GCA_000228525.2-AZBY01000021.1_18\n",
      "  |         \\-|\n",
      "  |           |   /-GCA_000228025.2-AZBY01000021.1_18\n",
      "  |            \\-|\n",
      "  |               \\-GCA_000228485.2-AZBY01000021.1_18\n",
      "  |\n",
      "  |      /-GCA_000227885.2-AZBY01000021.1_18\n",
      "  |   /-|\n",
      "  |  |   \\-GCA_000227785.2-AZBY01000021.1_18\n",
      "  |--|\n",
      "  |  |   /-GCA_000228085.2-AZBY01000021.1_18\n",
      "  |   \\-|\n",
      "  |     |   /-GCA_000228245.2-AZBY01000021.1_18\n",
      "  |      \\-|\n",
      "  |        |   /-GCA_000228305.2-AZBY01000021.1_18\n",
      "  |         \\-|\n",
      "  |            \\-GCA_000228685.2-AZBY01000021.1_18\n",
      "  |\n",
      "  |   /-GCA_000227825.2-AZBY01000021.1_18\n",
      "   \\-|\n",
      "      \\-GCA_000228665.2-AZBY01000021.1_18\n"
     ]
    }
   ],
   "source": [
    "print(phylotree2)"
   ]
  },
  {
   "cell_type": "code",
   "execution_count": 14,
   "id": "d2324432",
   "metadata": {
    "ExecuteTime": {
     "end_time": "2022-04-20T10:32:33.098312Z",
     "start_time": "2022-04-20T10:32:33.089417Z"
    }
   },
   "outputs": [
    {
     "name": "stdout",
     "output_type": "stream",
     "text": [
      "Found 1 species trees and 0 duplication nodes\n",
      "\n",
      "            /-GCA_000227905.2-AZBY01000021.1_18\n",
      "           |\n",
      "           |      /-GCA_000228405.2-AZBY01000021.1_18\n",
      "         /-|   /-|\n",
      "        |  |  |   \\-GCA_003176795.1-AZBY01000021.1_18\n",
      "        |  |  |\n",
      "        |   \\-|      /-GCA_000228005.2-AZBY01000021.1_18\n",
      "        |     |   /-|\n",
      "        |     |  |   \\-GCA_000227805.2-AZBY01000021.1_18\n",
      "        |      \\-|\n",
      "        |        |      /-GCA_000228165.2-AZBY01000021.1_18\n",
      "      /-|        |   /-|\n",
      "     |  |         \\-|   \\-GCA_000439045.1-AZBY01000021.1_18\n",
      "     |  |           |\n",
      "     |  |            \\-GCA_000347935.1-AZBY01000021.1_18\n",
      "     |  |\n",
      "     |  |      /-GCA_000227845.2-AZBY01000021.1_18\n",
      "     |  |   /-|\n",
      "     |  |  |  |   /-GCA_000228125.2-AZBY01000021.1_18\n",
      "     |  |  |   \\-|\n",
      "     |   \\-|      \\-GCA_000228545.2-AZBY01000021.1_18\n",
      "     |     |\n",
      "     |     |   /-GCA_000228585.2-AZBY01000021.1_18\n",
      "     |     |  |\n",
      "     |      \\-|   /-GCA_003172975.1-AZBY01000021.1_18\n",
      "     |        |  |\n",
      "     |         \\-|      /-GCA_000228145.2-AZBY01000021.1_18\n",
      "   /-|           |   /-|\n",
      "  |  |           |  |   \\-GCA_000228345.2-AZBY01000021.1_18\n",
      "  |  |            \\-|\n",
      "  |  |              |   /-GCA_000467915.2-AZBY01000021.1_18\n",
      "  |  |              |  |\n",
      "  |  |               \\-|      /-GCA_000227925.2-AZBY01000021.1_18\n",
      "  |  |                 |   /-|\n",
      "  |  |                 |  |   \\-GCA_002266475.1-AZBY01000021.1_18\n",
      "  |  |                  \\-|\n",
      "  |  |                    |   /-GCA_000228445.2-AZBY01000021.1_18\n",
      "  |  |                     \\-|\n",
      "  |  |                        \\-GCA_000228465.2-AZBY01000021.1_18\n",
      "  |  |\n",
      "  |  |      /-GCA_000227945.2-AZBY01000021.1_18\n",
      "--|  |   /-|\n",
      "  |  |  |   \\-GCA_000228265.2-AZBY01000021.1_18\n",
      "  |   \\-|\n",
      "  |     |   /-GCA_000228625.2-AZBY01000021.1_18\n",
      "  |      \\-|\n",
      "  |        |   /-GCA_000228525.2-AZBY01000021.1_18\n",
      "  |         \\-|\n",
      "  |           |   /-GCA_000228025.2-AZBY01000021.1_18\n",
      "  |            \\-|\n",
      "  |               \\-GCA_000228485.2-AZBY01000021.1_18\n",
      "  |\n",
      "  |      /-GCA_000227885.2-AZBY01000021.1_18\n",
      "  |   /-|\n",
      "  |  |   \\-GCA_000227785.2-AZBY01000021.1_18\n",
      "   \\-|\n",
      "     |   /-GCA_000228085.2-AZBY01000021.1_18\n",
      "      \\-|\n",
      "        |   /-GCA_000228245.2-AZBY01000021.1_18\n",
      "         \\-|\n",
      "           |   /-GCA_000228305.2-AZBY01000021.1_18\n",
      "            \\-|\n",
      "               \\-GCA_000228685.2-AZBY01000021.1_18\n"
     ]
    }
   ],
   "source": [
    "ntrees, ndups, sptrees = phylotree2.get_speciation_trees()\n",
    "print(\"Found %d species trees and %d duplication nodes\" %(ntrees, ndups))\n",
    "for spt in sptrees:\n",
    "    print(spt)"
   ]
  },
  {
   "cell_type": "code",
   "execution_count": 133,
   "id": "26f2b306",
   "metadata": {
    "ExecuteTime": {
     "end_time": "2022-04-20T13:02:48.642655Z",
     "start_time": "2022-04-20T13:02:48.630803Z"
    }
   },
   "outputs": [],
   "source": [
    "phylotree5=PhyloTree(\"tree5.nw\")\n",
    "phylotree5.set_species_naming_function(lambda node: node.name.split(\"-\")[0])\n",
    "phylotree6=PhyloTree(\"tree6.nw\")\n",
    "phylotree6.set_species_naming_function(lambda node: node.name)\n"
   ]
  },
  {
   "cell_type": "code",
   "execution_count": 134,
   "id": "85a5e0a4",
   "metadata": {
    "ExecuteTime": {
     "end_time": "2022-04-20T13:02:49.160764Z",
     "start_time": "2022-04-20T13:02:49.143374Z"
    }
   },
   "outputs": [
    {
     "data": {
      "text/plain": [
       "{'treeko_dist': 0.0,\n",
       " 'rf': 0.0,\n",
       " 'max_rf': 0,\n",
       " 'effective_tree_size': 0.0,\n",
       " 'norm_rf': 0.0,\n",
       " 'ref_edges_in_source': nan,\n",
       " 'source_edges_in_ref': nan,\n",
       " 'source_subtrees': 1,\n",
       " 'common_edges': set(),\n",
       " 'source_edges': set(),\n",
       " 'ref_edges': set()}"
      ]
     },
     "execution_count": 134,
     "metadata": {},
     "output_type": "execute_result"
    }
   ],
   "source": [
    "phylotree6.compare(phylotree5, use_collateral=False, min_support_source=0.0,\n",
    "min_support_ref=0.0, has_duplications=True, expand_polytomies=False, unrooted=True, max_treeko_splits_to_be_artifact=1000)\n"
   ]
  },
  {
   "cell_type": "code",
   "execution_count": 135,
   "id": "e5e8227c",
   "metadata": {
    "ExecuteTime": {
     "end_time": "2022-04-20T13:02:52.046912Z",
     "start_time": "2022-04-20T13:02:52.039498Z"
    }
   },
   "outputs": [
    {
     "name": "stdout",
     "output_type": "stream",
     "text": [
      "\n",
      "            /-TCU_001281225.1\n",
      "         /-|\n",
      "      /-|   \\-TCU_000687335.1\n",
      "     |  |\n",
      "   /-|   \\-TCU_006493415.1\n",
      "  |  |\n",
      "  |  |   /-TCU_000830375.1\n",
      "  |   \\-|\n",
      "  |     |   /-TCU_001281285.1\n",
      "  |      \\-|\n",
      "  |         \\-TCU_001421135.1\n",
      "--|\n",
      "  |   /-TCU_001281215.1\n",
      "  |--|\n",
      "  |  |   /-TCU_001281205.1\n",
      "  |   \\-|\n",
      "  |      \\-TCU_001421115.1\n",
      "  |\n",
      "   \\-TCU_001949975.1\n"
     ]
    }
   ],
   "source": [
    "print(phylotree5)"
   ]
  },
  {
   "cell_type": "code",
   "execution_count": 136,
   "id": "66fadb3c",
   "metadata": {
    "ExecuteTime": {
     "end_time": "2022-04-20T13:02:54.326115Z",
     "start_time": "2022-04-20T13:02:54.318709Z"
    }
   },
   "outputs": [
    {
     "name": "stdout",
     "output_type": "stream",
     "text": [
      "\n",
      "         /-GCA_000687335.1\n",
      "      /-|\n",
      "     |   \\-GCA_006493415.1\n",
      "   /-|\n",
      "  |  |   /-GCA_001281205.1\n",
      "  |  |  |\n",
      "  |   \\-|   /-GCA_001281215.1\n",
      "  |     |  |\n",
      "  |      \\-|      /-GCA_001421135.1\n",
      "  |        |   /-|\n",
      "--|         \\-|   \\-GCA_000830375.1\n",
      "  |           |\n",
      "  |            \\-GCA_001949975.1\n",
      "  |\n",
      "  |--GCA_001281285.1\n",
      "  |\n",
      "  |   /-GCA_001421115.1\n",
      "   \\-|\n",
      "      \\-GCA_001281225.1\n"
     ]
    }
   ],
   "source": [
    "print(phylotree6)"
   ]
  },
  {
   "cell_type": "code",
   "execution_count": 33,
   "id": "7547a71c",
   "metadata": {
    "ExecuteTime": {
     "end_time": "2022-04-20T10:53:00.089965Z",
     "start_time": "2022-04-20T10:53:00.077935Z"
    }
   },
   "outputs": [
    {
     "data": {
      "text/plain": [
       "{'GCA_000687335.1',\n",
       " 'GCA_000830375.1',\n",
       " 'GCA_001281205.1',\n",
       " 'GCA_001281215.1',\n",
       " 'GCA_001281225.1',\n",
       " 'GCA_001281285.1',\n",
       " 'GCA_001421115.1',\n",
       " 'GCA_001421135.1',\n",
       " 'GCA_001949975.1',\n",
       " 'GCA_006493415.1'}"
      ]
     },
     "execution_count": 33,
     "metadata": {},
     "output_type": "execute_result"
    }
   ],
   "source": [
    "phylotree5.get_species()"
   ]
  },
  {
   "cell_type": "code",
   "execution_count": 34,
   "id": "61ea8c96",
   "metadata": {
    "ExecuteTime": {
     "end_time": "2022-04-20T10:53:00.714046Z",
     "start_time": "2022-04-20T10:53:00.707521Z"
    },
    "scrolled": true
   },
   "outputs": [
    {
     "data": {
      "text/plain": [
       "{'GCA_000687335.1',\n",
       " 'GCA_000830375.1',\n",
       " 'GCA_001281205.1',\n",
       " 'GCA_001281215.1',\n",
       " 'GCA_001281225.1',\n",
       " 'GCA_001281285.1',\n",
       " 'GCA_001421115.1',\n",
       " 'GCA_001421135.1',\n",
       " 'GCA_001949975.1',\n",
       " 'GCA_006493415.1'}"
      ]
     },
     "execution_count": 34,
     "metadata": {},
     "output_type": "execute_result"
    }
   ],
   "source": [
    "phylotree6.get_species()"
   ]
  },
  {
   "cell_type": "code",
   "execution_count": 35,
   "id": "72ec9921",
   "metadata": {
    "ExecuteTime": {
     "end_time": "2022-04-20T10:53:09.736080Z",
     "start_time": "2022-04-20T10:53:09.728764Z"
    }
   },
   "outputs": [
    {
     "name": "stdout",
     "output_type": "stream",
     "text": [
      "(((GCA_001281225.1-AZBY01000033.1_8:0.19849,GCA_001281205.1-AZBY01000033.1_8:0.24763)1:0.01933,(GCA_001949975.1-AZBY01000033.1_8:0.22799,(GCA_001281215.1-AZBY01000033.1_8:0.47141,GCA_000687335.1-AZBY01000033.1_8:0.26404)1:0.02066)1:0.03549)1:0.00941,(GCA_001421115.1-AZBY01000033.1_8:0.1964,((GCA_000830375.1-AZBY01000033.1_8:0.12386,GCA_001421135.1-AZBY01000033.1_8:0.14068)1:0.02361,GCA_006493415.1-AZBY01000033.1_8:0.14153)1:0.02208)1:0.0156,GCA_001281285.1-AZBY01000033.1_8:0.23244);\n"
     ]
    }
   ],
   "source": [
    "print(phylotree5.write())"
   ]
  },
  {
   "cell_type": "code",
   "execution_count": 36,
   "id": "c9859896",
   "metadata": {
    "ExecuteTime": {
     "end_time": "2022-04-20T10:54:38.948212Z",
     "start_time": "2022-04-20T10:53:39.595402Z"
    }
   },
   "outputs": [
    {
     "name": "stdout",
     "output_type": "stream",
     "text": [
      "(((GCA_001281225.1-AZBY01000033.1_8:0.19849,GCA_001281205.1-AZBY01000033.1_8:0.24763):0.01933,(GCA_001949975.1-AZBY01000033.1_8:0.22799,(GCA_001281215.1-AZBY01000033.1_8:0.47141,GCA_000687335.1-AZBY01000033.1_8:0.26404):0.02066):0.03549):0.00941,(GCA_001421115.1-AZBY01000033.1_8:0.19640,((GCA_000830375.1-AZBY01000033.1_8:0.12386,GCA_001421135.1-AZBY01000033.1_8:0.14068):0.02361,GCA_006493415.1-AZBY01000033.1_8:0.14153):0.02208):0.01560,GCA_001281285.1-AZBY01000033.1_8:0.23244):0.00000;\n",
      "\u001b[K\u001b[7m(END)\u001b[m\u001b[K\u001b[m\u001b[K\u0007"
     ]
    }
   ],
   "source": [
    "!less tree5.nw"
   ]
  },
  {
   "cell_type": "code",
   "execution_count": 26,
   "id": "7d831682",
   "metadata": {
    "ExecuteTime": {
     "end_time": "2022-04-21T16:25:56.549823Z",
     "start_time": "2022-04-21T16:25:56.544650Z"
    }
   },
   "outputs": [],
   "source": [
    "ex1=PhyloTree(\"((((Human, Fly), Mouse), Chimp), (((Human, Fly), Mouse), Chimp));\")\n",
    "ex2=PhyloTree(\"(((Human, Chimp), Mouse), Fly);\")\n",
    "\n",
    "              "
   ]
  },
  {
   "cell_type": "code",
   "execution_count": 27,
   "id": "81483768",
   "metadata": {
    "ExecuteTime": {
     "end_time": "2022-04-21T16:25:57.873788Z",
     "start_time": "2022-04-21T16:25:57.865336Z"
    }
   },
   "outputs": [
    {
     "data": {
      "text/plain": [
       "{'Chimp', 'Fly', 'Human', 'Mouse'}"
      ]
     },
     "execution_count": 27,
     "metadata": {},
     "output_type": "execute_result"
    }
   ],
   "source": [
    "ex1.set_species_naming_function(lambda node: node.name)\n",
    "ex1.get_species()"
   ]
  },
  {
   "cell_type": "code",
   "execution_count": 28,
   "id": "52e69177",
   "metadata": {
    "ExecuteTime": {
     "end_time": "2022-04-21T16:25:58.897985Z",
     "start_time": "2022-04-21T16:25:58.889061Z"
    }
   },
   "outputs": [
    {
     "data": {
      "text/plain": [
       "{'Chimp', 'Fly', 'Human', 'Mouse'}"
      ]
     },
     "execution_count": 28,
     "metadata": {},
     "output_type": "execute_result"
    }
   ],
   "source": [
    "ex2.set_species_naming_function(lambda node: node.name.split(\"_\")[0])\n",
    "ex2.get_species()"
   ]
  },
  {
   "cell_type": "code",
   "execution_count": 31,
   "id": "a7c455cd",
   "metadata": {
    "ExecuteTime": {
     "end_time": "2022-04-21T16:26:22.051199Z",
     "start_time": "2022-04-21T16:26:22.038236Z"
    }
   },
   "outputs": [
    {
     "data": {
      "text/plain": [
       "{'treeko_dist': 1.0,\n",
       " 'rf': 4.0,\n",
       " 'max_rf': 4,\n",
       " 'effective_tree_size': 4.0,\n",
       " 'norm_rf': 1.0,\n",
       " 'ref_edges_in_source': 0.0,\n",
       " 'source_edges_in_ref': 0.0,\n",
       " 'source_subtrees': 2,\n",
       " 'common_edges': set(),\n",
       " 'source_edges': set(),\n",
       " 'ref_edges': set()}"
      ]
     },
     "execution_count": 31,
     "metadata": {},
     "output_type": "execute_result"
    }
   ],
   "source": [
    "ex1.compare(ex2, has_duplications=True)\n"
   ]
  },
  {
   "cell_type": "code",
   "execution_count": 79,
   "id": "6f22ce27",
   "metadata": {
    "ExecuteTime": {
     "end_time": "2022-04-20T11:38:00.335461Z",
     "start_time": "2022-04-20T11:38:00.036552Z"
    }
   },
   "outputs": [],
   "source": [
    "man PhyloTree.compare"
   ]
  },
  {
   "cell_type": "code",
   "execution_count": 23,
   "id": "f1f25c4b",
   "metadata": {
    "ExecuteTime": {
     "end_time": "2022-04-21T16:14:53.607480Z",
     "start_time": "2022-04-21T16:14:53.601072Z"
    }
   },
   "outputs": [],
   "source": [
    "tree1=PhyloTree(\"(((A,B), C), D);\")"
   ]
  },
  {
   "cell_type": "code",
   "execution_count": 24,
   "id": "a6837f11",
   "metadata": {
    "ExecuteTime": {
     "end_time": "2022-04-21T16:14:53.829439Z",
     "start_time": "2022-04-21T16:14:53.824175Z"
    }
   },
   "outputs": [],
   "source": [
    "tree3=PhyloTree(\"(((A,D), C), B);\")"
   ]
  },
  {
   "cell_type": "code",
   "execution_count": 25,
   "id": "8fdb7f79",
   "metadata": {
    "ExecuteTime": {
     "end_time": "2022-04-21T16:14:54.141053Z",
     "start_time": "2022-04-21T16:14:54.133100Z"
    }
   },
   "outputs": [],
   "source": [
    "comp=tree1.compare(tree3, has_duplications=True, un)"
   ]
  },
  {
   "cell_type": "code",
   "execution_count": 140,
   "id": "90f2f938",
   "metadata": {
    "ExecuteTime": {
     "end_time": "2022-04-20T13:03:13.884863Z",
     "start_time": "2022-04-20T13:03:13.876307Z"
    }
   },
   "outputs": [
    {
     "data": {
      "text/plain": [
       "{'treeko_dist': 1.0,\n",
       " 'rf': 4.0,\n",
       " 'max_rf': 4,\n",
       " 'effective_tree_size': 4.0,\n",
       " 'norm_rf': 1.0,\n",
       " 'ref_edges_in_source': 0.0,\n",
       " 'source_edges_in_ref': 0.0,\n",
       " 'source_subtrees': 1,\n",
       " 'common_edges': set(),\n",
       " 'source_edges': set(),\n",
       " 'ref_edges': set()}"
      ]
     },
     "execution_count": 140,
     "metadata": {},
     "output_type": "execute_result"
    }
   ],
   "source": [
    "comp"
   ]
  },
  {
   "cell_type": "code",
   "execution_count": 129,
   "id": "cc891ce0",
   "metadata": {
    "ExecuteTime": {
     "end_time": "2022-04-20T13:01:42.241465Z",
     "start_time": "2022-04-20T13:01:42.232663Z"
    }
   },
   "outputs": [
    {
     "data": {
      "text/plain": [
       "1.0"
      ]
     },
     "execution_count": 129,
     "metadata": {},
     "output_type": "execute_result"
    }
   ],
   "source": [
    "comp.get('treeko_dist')"
   ]
  },
  {
   "cell_type": "code",
   "execution_count": 125,
   "id": "23e428e1",
   "metadata": {
    "ExecuteTime": {
     "end_time": "2022-04-20T12:35:56.542481Z",
     "start_time": "2022-04-20T12:35:56.533953Z"
    }
   },
   "outputs": [],
   "source": [
    "import os\n",
    "\n",
    "output_path=(project_path / \"results\" / \"treescores\")\n",
    "\n",
    "os.mkdir(output_path)"
   ]
  },
  {
   "cell_type": "code",
   "execution_count": 7,
   "id": "4dcda927",
   "metadata": {
    "ExecuteTime": {
     "end_time": "2022-04-21T10:18:51.410375Z",
     "start_time": "2022-04-21T10:18:51.405281Z"
    }
   },
   "outputs": [],
   "source": [
    "tree=PhyloTree(\"((GCA_001281285.1:0.09668,((((GCA_001281225.1:0.27617,GCA_000830375.1:0.54746):0.05493,GCA_001421115.1:0.12283):0.02508,(GCA_001949975.1:0.10245,(GCA_001281215.1:0.00478,GCA_001421135.1:0.00575):0.08418):0.01215):0.02304,GCA_000687335.1:0.10442):0.01359):0.00260,GCA_006493415.1:0.14764,GCA_001281205.1:0.10860):0.00000;\")\n",
    "\n"
   ]
  },
  {
   "cell_type": "code",
   "execution_count": 8,
   "id": "aac483f6",
   "metadata": {
    "ExecuteTime": {
     "end_time": "2022-04-21T10:18:52.124396Z",
     "start_time": "2022-04-21T10:18:52.118224Z"
    }
   },
   "outputs": [
    {
     "data": {
      "text/plain": [
       "PhyloTree node '' (0x12259e22)"
      ]
     },
     "execution_count": 8,
     "metadata": {},
     "output_type": "execute_result"
    }
   ],
   "source": [
    "tree"
   ]
  },
  {
   "cell_type": "code",
   "execution_count": 9,
   "id": "42a1adf2",
   "metadata": {
    "ExecuteTime": {
     "end_time": "2022-04-21T10:18:53.310018Z",
     "start_time": "2022-04-21T10:18:53.303759Z"
    }
   },
   "outputs": [
    {
     "name": "stdout",
     "output_type": "stream",
     "text": [
      "\n",
      "      /-GCA_001281285.1\n",
      "     |\n",
      "     |            /-GCA_001281225.1\n",
      "     |         /-|\n",
      "     |      /-|   \\-GCA_000830375.1\n",
      "   /-|     |  |\n",
      "  |  |   /-|   \\-GCA_001421115.1\n",
      "  |  |  |  |\n",
      "  |  |  |  |   /-GCA_001949975.1\n",
      "  |  |  |   \\-|\n",
      "  |   \\-|     |   /-GCA_001281215.1\n",
      "--|     |      \\-|\n",
      "  |     |         \\-GCA_001421135.1\n",
      "  |     |\n",
      "  |      \\-GCA_000687335.1\n",
      "  |\n",
      "  |--GCA_006493415.1\n",
      "  |\n",
      "   \\-GCA_001281205.1\n"
     ]
    }
   ],
   "source": [
    "print(tree)"
   ]
  },
  {
   "cell_type": "code",
   "execution_count": 3,
   "id": "2e7b4cfc",
   "metadata": {
    "ExecuteTime": {
     "end_time": "2022-04-21T15:27:53.721851Z",
     "start_time": "2022-04-21T15:27:53.711726Z"
    }
   },
   "outputs": [],
   "source": [
    "tree=PhyloTree(\"(((GCA_001281225.1:0.07414,GCA_001949975.1:0.09211):0.03315,(((GCA_000830375.1:0.12939,(GCA_001421135.1:0.25954,GCA_000687335.1:0.18381):0.03686):0.02502,(GCA_006493415.1:0.18725,(GCA_001421115.1:0.20609,GCA_000687335.1:0.18969):0.02946):0.02353):0.03178,(GCA_001281215.1:0.15675,GCA_006493415.1:0.14598):0.00562):0.01771):0.02114,(((GCA_001281205.1:0.14069,((GCA_001281205.1:0.00931,GCA_001281215.1:0.00848):0.14162,(GCA_001281225.1:0.35594,GCA_001281285.1:0.21271):0.03353):0.02009):0.01654,GCA_001281285.1:0.16874):0.02219,(GCA_001949975.1:0.09760,(GCA_000830375.1:0.16314,GCA_001421135.1:0.12718):0.01592):0.03795):0.00329,GCA_001421115.1:0.14004):0.00000;\")\n",
    "\n",
    "\n",
    "\n",
    "\n"
   ]
  },
  {
   "cell_type": "code",
   "execution_count": 4,
   "id": "cace56be",
   "metadata": {
    "ExecuteTime": {
     "end_time": "2022-04-21T15:27:57.912550Z",
     "start_time": "2022-04-21T15:27:57.902348Z"
    }
   },
   "outputs": [
    {
     "name": "stdout",
     "output_type": "stream",
     "text": [
      "\n",
      "         /-GCA_001281225.1\n",
      "      /-|\n",
      "     |   \\-GCA_001949975.1\n",
      "     |\n",
      "     |         /-GCA_000830375.1\n",
      "     |      /-|\n",
      "   /-|     |  |   /-GCA_001421135.1\n",
      "  |  |     |   \\-|\n",
      "  |  |   /-|      \\-GCA_000687335.1\n",
      "  |  |  |  |\n",
      "  |  |  |  |   /-GCA_006493415.1\n",
      "  |  |  |   \\-|\n",
      "  |   \\-|     |   /-GCA_001421115.1\n",
      "  |     |      \\-|\n",
      "  |     |         \\-GCA_000687335.1\n",
      "  |     |\n",
      "  |     |   /-GCA_001281215.1\n",
      "  |      \\-|\n",
      "  |         \\-GCA_006493415.1\n",
      "  |\n",
      "  |         /-GCA_001281205.1\n",
      "  |        |\n",
      "--|      /-|      /-GCA_001281205.1\n",
      "  |     |  |   /-|\n",
      "  |     |  |  |   \\-GCA_001281215.1\n",
      "  |     |   \\-|\n",
      "  |   /-|     |   /-GCA_001281225.1\n",
      "  |  |  |      \\-|\n",
      "  |  |  |         \\-GCA_001281285.1\n",
      "  |--|  |\n",
      "  |  |   \\-GCA_001281285.1\n",
      "  |  |\n",
      "  |  |   /-GCA_001949975.1\n",
      "  |   \\-|\n",
      "  |     |   /-GCA_000830375.1\n",
      "  |      \\-|\n",
      "  |         \\-GCA_001421135.1\n",
      "  |\n",
      "   \\-GCA_001421115.1\n"
     ]
    }
   ],
   "source": [
    "print(tree)"
   ]
  },
  {
   "cell_type": "code",
   "execution_count": 20,
   "id": "a58d7e5e",
   "metadata": {
    "ExecuteTime": {
     "end_time": "2022-04-21T15:44:57.002609Z",
     "start_time": "2022-04-21T15:44:56.994153Z"
    }
   },
   "outputs": [],
   "source": [
    "trees=PhyloTree('tree test/tree.nw')"
   ]
  },
  {
   "cell_type": "code",
   "execution_count": 21,
   "id": "60d16106",
   "metadata": {
    "ExecuteTime": {
     "end_time": "2022-04-21T15:44:57.400848Z",
     "start_time": "2022-04-21T15:44:57.395280Z"
    }
   },
   "outputs": [
    {
     "name": "stdout",
     "output_type": "stream",
     "text": [
      "\n",
      "         /-GCA_000830375.1\n",
      "      /-|\n",
      "     |   \\-GCA_001281285.1\n",
      "   /-|\n",
      "  |  |   /-GCA_001281205.1\n",
      "  |   \\-|\n",
      "  |     |   /-GCA_001421115.1\n",
      "  |      \\-|\n",
      "  |         \\-GCA_000687335.1\n",
      "  |\n",
      "--|   /-GCA_001421135.1\n",
      "  |--|\n",
      "  |  |   /-GCA_001281215.1\n",
      "  |   \\-|\n",
      "  |     |   /-GCA_001281225.1\n",
      "  |      \\-|\n",
      "  |         \\-GCA_006493415.1\n",
      "  |\n",
      "   \\-GCA_001949975.1\n"
     ]
    }
   ],
   "source": [
    "print(trees)"
   ]
  },
  {
   "cell_type": "code",
   "execution_count": null,
   "id": "53e35da6",
   "metadata": {},
   "outputs": [],
   "source": []
  }
 ],
 "metadata": {
  "kernelspec": {
   "display_name": "Python 3 (ipykernel)",
   "language": "python",
   "name": "python3"
  },
  "language_info": {
   "codemirror_mode": {
    "name": "ipython",
    "version": 3
   },
   "file_extension": ".py",
   "mimetype": "text/x-python",
   "name": "python",
   "nbconvert_exporter": "python",
   "pygments_lexer": "ipython3",
   "version": "3.9.0"
  },
  "toc": {
   "base_numbering": 1,
   "nav_menu": {},
   "number_sections": true,
   "sideBar": true,
   "skip_h1_title": false,
   "title_cell": "Table of Contents",
   "title_sidebar": "Contents",
   "toc_cell": false,
   "toc_position": {},
   "toc_section_display": true,
   "toc_window_display": false
  },
  "varInspector": {
   "cols": {
    "lenName": 16,
    "lenType": 16,
    "lenVar": 40
   },
   "kernels_config": {
    "python": {
     "delete_cmd_postfix": "",
     "delete_cmd_prefix": "del ",
     "library": "var_list.py",
     "varRefreshCmd": "print(var_dic_list())"
    },
    "r": {
     "delete_cmd_postfix": ") ",
     "delete_cmd_prefix": "rm(",
     "library": "var_list.r",
     "varRefreshCmd": "cat(var_dic_list()) "
    }
   },
   "types_to_exclude": [
    "module",
    "function",
    "builtin_function_or_method",
    "instance",
    "_Feature"
   ],
   "window_display": false
  }
 },
 "nbformat": 4,
 "nbformat_minor": 5
}
