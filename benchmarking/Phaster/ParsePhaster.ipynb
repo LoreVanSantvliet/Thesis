{
 "cells": [
  {
   "cell_type": "markdown",
   "id": "5713d450",
   "metadata": {},
   "source": [
    "# Phaster parser"
   ]
  },
  {
   "cell_type": "markdown",
   "id": "658e48dc",
   "metadata": {},
   "source": [
    "## Preparation"
   ]
  },
  {
   "cell_type": "code",
   "execution_count": 5,
   "id": "b9a2d22c",
   "metadata": {
    "ExecuteTime": {
     "end_time": "2022-04-07T07:27:30.671229Z",
     "start_time": "2022-04-07T07:27:29.618004Z"
    }
   },
   "outputs": [],
   "source": [
    "import pandas as pd\n",
    "from pathlib import Path\n",
    "import csv\n",
    "import gffutils"
   ]
  },
  {
   "cell_type": "code",
   "execution_count": 13,
   "id": "f6fc7fc6",
   "metadata": {
    "ExecuteTime": {
     "end_time": "2022-04-07T07:28:47.275343Z",
     "start_time": "2022-04-07T07:28:47.266072Z"
    }
   },
   "outputs": [],
   "source": [
    "project_path=Path().resolve().parent.resolve().parent\n",
    "input_path=project_path / \"results\" / \"intermediate\" / \"benchmarking\" / \"phaster\"\n",
    "result_path=project_path / \"results\" / \"intermediate\" / \"benchmarking\" / \"phaster_parsed\"\n",
    "gff_path=project_path / \"data\" / \"legen_v4_dereplicated_gffs\""
   ]
  },
  {
   "cell_type": "code",
   "execution_count": 14,
   "id": "3e262168",
   "metadata": {
    "ExecuteTime": {
     "end_time": "2022-04-07T07:28:47.779412Z",
     "start_time": "2022-04-07T07:28:47.774205Z"
    }
   },
   "outputs": [],
   "source": [
    "genome=\"GCA_000147455.1\""
   ]
  },
  {
   "cell_type": "code",
   "execution_count": 8,
   "id": "a554fcbf",
   "metadata": {
    "ExecuteTime": {
     "end_time": "2022-04-07T07:27:30.770524Z",
     "start_time": "2022-04-07T07:27:30.765023Z"
    }
   },
   "outputs": [],
   "source": [
    "genome_file=str(genome+\".txt\")"
   ]
  },
  {
   "cell_type": "markdown",
   "id": "3403e0b0",
   "metadata": {},
   "source": [
    "## Parse Phaster output file"
   ]
  },
  {
   "cell_type": "code",
   "execution_count": 25,
   "id": "2d7ae657",
   "metadata": {
    "ExecuteTime": {
     "end_time": "2022-04-07T07:36:11.802841Z",
     "start_time": "2022-04-07T07:36:11.785335Z"
    }
   },
   "outputs": [],
   "source": [
    "def read_phaster(file, multi_contig=True):\n",
    "    \"\"\"Reads ffn files and generates a dataframe with columns 'gene' and 'sequence', containing all genes and sequences that are present in the ffn file of a genome of choice.\"\"\"\n",
    "    df = pd.read_table(\n",
    "    file,\n",
    "    engine = 'c',\n",
    "    skiprows =1,\n",
    "    names = ['raw'],\n",
    "    quoting=csv.QUOTE_NONE\n",
    "    )\n",
    "    #print(df)\n",
    "\n",
    "    # Select relevant rows only\n",
    "    for index,row in df.iterrows():\n",
    "        if (\"REGION\" in str(row.item())):\n",
    "            start=index \n",
    "    table_values=df.iloc[start:len(df)-1,:].reset_index(drop=True)\n",
    "    #print(table_values)\n",
    "    \n",
    "    # Separate into different columns (indicated by whitespaces)\n",
    "    separated_table_values = pd.DataFrame.from_records(table_values.raw.apply(lambda s: s.split()))\n",
    "    #print(separated_table_values)\n",
    "\n",
    "    # First row contains the header\n",
    "    separated_table_values.columns = separated_table_values.iloc[0,:]\n",
    "    separated_table_values=separated_table_values.iloc[1:len(separated_table_values),:].reset_index(drop=True)\n",
    "    #separated_table_values=separated_table_values.iloc[1:len(separated_table_values),:]\n",
    "    #print(separated_table_values.columns)\n",
    "    #separated_table_values\n",
    "    #print(separated_table_values.REGION_POSITION[1])\n",
    "    \n",
    "    if(multi_contig):\n",
    "        location=pd.DataFrame.from_records(separated_table_values.REGION_POSITION.apply(lambda s: s.split(sep=',')))\n",
    "        separated_table_values['CONTIG']=location.iloc[:,0]#.apply(lambda s: s.split(sep=':'))\n",
    "        separated_table_values['LOCATION_SEQUENCE']=location.iloc[:,-1]\n",
    "        location2=pd.DataFrame.from_records(separated_table_values['LOCATION_SEQUENCE'].apply(lambda s: s.split(sep=':')))\n",
    "        separated_table_values['REGION_POSITION']=location2.iloc[:,1]\n",
    "        #print(separated_table_values['LOCATION'])\n",
    "        #print(location)\n",
    "    else:\n",
    "        separated_table_values['CONTIG']= [1] * len(separated_table_values)\n",
    "    \n",
    "    \n",
    "    # Add columns 'START' and 'END' (information extracted from 'REGION_POSITION')\n",
    "    separated_table_values[['START', 'END']]=pd.DataFrame.from_records(separated_table_values.REGION_POSITION.apply(lambda s: s.split(sep='-')))\n",
    "        \n",
    "    \n",
    "    \n",
    "    \n",
    "    return separated_table_values"
   ]
  },
  {
   "cell_type": "code",
   "execution_count": 27,
   "id": "467157af",
   "metadata": {
    "ExecuteTime": {
     "end_time": "2022-04-07T07:38:24.271928Z",
     "start_time": "2022-04-07T07:38:24.255213Z"
    },
    "scrolled": true
   },
   "outputs": [],
   "source": [
    "phaster=read_phaster(input_path / genome_file)"
   ]
  },
  {
   "cell_type": "code",
   "execution_count": 28,
   "id": "55c0b7bf",
   "metadata": {
    "ExecuteTime": {
     "end_time": "2022-04-07T07:38:28.039039Z",
     "start_time": "2022-04-07T07:38:27.998844Z"
    }
   },
   "outputs": [
    {
     "data": {
      "text/html": [
       "<div>\n",
       "<style scoped>\n",
       "    .dataframe tbody tr th:only-of-type {\n",
       "        vertical-align: middle;\n",
       "    }\n",
       "\n",
       "    .dataframe tbody tr th {\n",
       "        vertical-align: top;\n",
       "    }\n",
       "\n",
       "    .dataframe thead th {\n",
       "        text-align: right;\n",
       "    }\n",
       "</style>\n",
       "<table border=\"1\" class=\"dataframe\">\n",
       "  <thead>\n",
       "    <tr style=\"text-align: right;\">\n",
       "      <th></th>\n",
       "      <th>REGION</th>\n",
       "      <th>REGION_LENGTH</th>\n",
       "      <th>COMPLETENESS(score)</th>\n",
       "      <th>SPECIFIC_KEYWORD</th>\n",
       "      <th>REGION_POSITION</th>\n",
       "      <th>TRNA_NUM</th>\n",
       "      <th>TOTAL_PROTEIN_NUM</th>\n",
       "      <th>PHAGE_HIT_PROTEIN_NUM</th>\n",
       "      <th>HYPOTHETICAL_PROTEIN_NUM</th>\n",
       "      <th>PHAGE+HYPO_PROTEIN_PERCENTAGE</th>\n",
       "      <th>BACTERIAL_PROTEIN_NUM</th>\n",
       "      <th>ATT_SITE_SHOWUP</th>\n",
       "      <th>PHAGE_SPECIES_NUM</th>\n",
       "      <th>MOST_COMMON_PHAGE_NAME(hit_genes_count)</th>\n",
       "      <th>FIRST_MOST_COMMON_PHAGE_NUM</th>\n",
       "      <th>FIRST_MOST_COMMON_PHAGE_PERCENTAGE</th>\n",
       "      <th>GC_PERCENTAGE</th>\n",
       "      <th>CONTIG</th>\n",
       "      <th>START</th>\n",
       "      <th>END</th>\n",
       "    </tr>\n",
       "  </thead>\n",
       "  <tbody>\n",
       "    <tr>\n",
       "      <th>0</th>\n",
       "      <td>1</td>\n",
       "      <td>13.6Kb</td>\n",
       "      <td>questionable(70)</td>\n",
       "      <td>tail,capsid,head,portal</td>\n",
       "      <td>1195714-1209341</td>\n",
       "      <td>0</td>\n",
       "      <td>17</td>\n",
       "      <td>9</td>\n",
       "      <td>8</td>\n",
       "      <td>100%</td>\n",
       "      <td>0</td>\n",
       "      <td>no</td>\n",
       "      <td>1</td>\n",
       "      <td>PHAGE_Entero_EFC_1_NC_025453(9),PHAGE_Entero_p...</td>\n",
       "      <td>9</td>\n",
       "      <td>52.94%</td>\n",
       "      <td>35.26%</td>\n",
       "      <td>1</td>\n",
       "      <td>1195714</td>\n",
       "      <td>1209341</td>\n",
       "    </tr>\n",
       "  </tbody>\n",
       "</table>\n",
       "</div>"
      ],
      "text/plain": [
       "0 REGION REGION_LENGTH COMPLETENESS(score)         SPECIFIC_KEYWORD  \\\n",
       "0      1        13.6Kb    questionable(70)  tail,capsid,head,portal   \n",
       "\n",
       "0  REGION_POSITION TRNA_NUM TOTAL_PROTEIN_NUM PHAGE_HIT_PROTEIN_NUM  \\\n",
       "0  1195714-1209341        0                17                     9   \n",
       "\n",
       "0 HYPOTHETICAL_PROTEIN_NUM PHAGE+HYPO_PROTEIN_PERCENTAGE  \\\n",
       "0                        8                          100%   \n",
       "\n",
       "0 BACTERIAL_PROTEIN_NUM ATT_SITE_SHOWUP PHAGE_SPECIES_NUM  \\\n",
       "0                     0              no                 1   \n",
       "\n",
       "0            MOST_COMMON_PHAGE_NAME(hit_genes_count)  \\\n",
       "0  PHAGE_Entero_EFC_1_NC_025453(9),PHAGE_Entero_p...   \n",
       "\n",
       "0 FIRST_MOST_COMMON_PHAGE_NUM FIRST_MOST_COMMON_PHAGE_PERCENTAGE  \\\n",
       "0                           9                             52.94%   \n",
       "\n",
       "0 GC_PERCENTAGE  CONTIG    START      END  \n",
       "0        35.26%       1  1195714  1209341  "
      ]
     },
     "execution_count": 28,
     "metadata": {},
     "output_type": "execute_result"
    }
   ],
   "source": [
    "phaster"
   ]
  },
  {
   "cell_type": "markdown",
   "id": "633da81d",
   "metadata": {},
   "source": [
    "## Location to gene nr"
   ]
  },
  {
   "cell_type": "code",
   "execution_count": 29,
   "id": "9e1d2b01",
   "metadata": {
    "ExecuteTime": {
     "end_time": "2022-04-07T07:38:35.887023Z",
     "start_time": "2022-04-07T07:38:35.879731Z"
    },
    "scrolled": false
   },
   "outputs": [],
   "source": [
    "def get_genes_multi_contig(df, start, stop, contig):\n",
    "    return df[(df.start>=start) & (df.end<=stop) & (df.contig==contig)]"
   ]
  },
  {
   "cell_type": "code",
   "execution_count": 30,
   "id": "4b3abc8a",
   "metadata": {
    "ExecuteTime": {
     "end_time": "2022-04-07T07:38:36.341683Z",
     "start_time": "2022-04-07T07:38:36.331816Z"
    }
   },
   "outputs": [],
   "source": [
    "def get_genes(df, start, stop):\n",
    "    return df[(df.start>=start) & (df.end<=stop)]"
   ]
  },
  {
   "cell_type": "code",
   "execution_count": 31,
   "id": "582c77e9",
   "metadata": {
    "ExecuteTime": {
     "end_time": "2022-04-07T07:38:39.847390Z",
     "start_time": "2022-04-07T07:38:39.829573Z"
    }
   },
   "outputs": [],
   "source": [
    "def add_start_end_gene(genome, phaster, multi_contig=True):\n",
    "    gff= str(str(gff_path) + \"/\" + genome + \".gff\")\n",
    "    # generate a database\n",
    "    gffutils.create_db(gff, str(genome + \"_db\"))\n",
    "    db = gffutils.FeatureDB(dbfn=str(genome + \"_db\"))\n",
    "    # generate a dataframe\n",
    "    df=pd.DataFrame(columns = ['contig', 'ID', 'start', 'end', 'strand'])\n",
    "    # fill up the dataframe, using the database\n",
    "    query = db.execute(\"select seqid,start,end,strand,attributes from features where featuretype = 'CDS'\")\n",
    "    result = query.fetchall()\n",
    "\n",
    "    for each in result:\n",
    "        df=df.append({'ID':json.loads(each['attributes'])['ID'][0], 'contig':each['seqid'], 'end':each['end'], 'start':each['start'], 'strand':each['strand']}, ignore_index=True)\n",
    "    \n",
    "    # add start genes\n",
    "    start_genes=[]\n",
    "    for index, row in phaster.iterrows():\n",
    "        #print(get_genes(df, int(row.START), int(row.END)))\n",
    "        if (multi_contig):\n",
    "            start_genes.append(get_genes_multi_contig(df, int(row.START), int(row.END), row.CONTIG).index[0])\n",
    "        else:\n",
    "            start_genes.append(get_genes(df, int(row.START), int(row.END)).index[0])\n",
    "    phaster['START_GENE']=start_genes\n",
    "    \n",
    "    # add end genes\n",
    "    end_genes=[]\n",
    "    for index, row in phaster.iterrows():\n",
    "        if (multi_contig):\n",
    "            end_genes.append(get_genes_multi_contig(df, int(row.START), int(row.END), row.CONTIG).index[-1])\n",
    "        else:\n",
    "            end_genes.append(get_genes(df, int(row.START), int(row.END)).index[-1])\n",
    "    phaster['END_GENE']=end_genes\n",
    "    db=str(genome + \"_db\")\n",
    "    !rm $db\n",
    "    return phaster\n",
    "    \n",
    "    "
   ]
  },
  {
   "cell_type": "code",
   "execution_count": 32,
   "id": "8dfa2da9",
   "metadata": {
    "ExecuteTime": {
     "end_time": "2022-04-07T07:39:00.578603Z",
     "start_time": "2022-04-07T07:38:49.841277Z"
    }
   },
   "outputs": [
    {
     "ename": "IndexError",
     "evalue": "index 0 is out of bounds for axis 0 with size 0",
     "output_type": "error",
     "traceback": [
      "\u001b[0;31m---------------------------------------------------------------------------\u001b[0m",
      "\u001b[0;31mIndexError\u001b[0m                                Traceback (most recent call last)",
      "\u001b[0;32m/var/folders/wm/45ntkynd66gd8wnsdr6vw7h40000gn/T/ipykernel_50641/1857526308.py\u001b[0m in \u001b[0;36m<module>\u001b[0;34m\u001b[0m\n\u001b[0;32m----> 1\u001b[0;31m \u001b[0madd_start_end_gene\u001b[0m\u001b[0;34m(\u001b[0m\u001b[0mgenome\u001b[0m\u001b[0;34m,\u001b[0m \u001b[0mphaster\u001b[0m\u001b[0;34m,\u001b[0m \u001b[0mmulti_contig\u001b[0m\u001b[0;34m=\u001b[0m\u001b[0;32mFalse\u001b[0m\u001b[0;34m)\u001b[0m\u001b[0;34m\u001b[0m\u001b[0;34m\u001b[0m\u001b[0m\n\u001b[0m",
      "\u001b[0;32m/var/folders/wm/45ntkynd66gd8wnsdr6vw7h40000gn/T/ipykernel_50641/1832460862.py\u001b[0m in \u001b[0;36madd_start_end_gene\u001b[0;34m(genome, phaster, multi_contig)\u001b[0m\n\u001b[1;32m     20\u001b[0m             \u001b[0mstart_genes\u001b[0m\u001b[0;34m.\u001b[0m\u001b[0mappend\u001b[0m\u001b[0;34m(\u001b[0m\u001b[0mget_genes_multi_contig\u001b[0m\u001b[0;34m(\u001b[0m\u001b[0mdf\u001b[0m\u001b[0;34m,\u001b[0m \u001b[0mint\u001b[0m\u001b[0;34m(\u001b[0m\u001b[0mrow\u001b[0m\u001b[0;34m.\u001b[0m\u001b[0mSTART\u001b[0m\u001b[0;34m)\u001b[0m\u001b[0;34m,\u001b[0m \u001b[0mint\u001b[0m\u001b[0;34m(\u001b[0m\u001b[0mrow\u001b[0m\u001b[0;34m.\u001b[0m\u001b[0mEND\u001b[0m\u001b[0;34m)\u001b[0m\u001b[0;34m,\u001b[0m \u001b[0mrow\u001b[0m\u001b[0;34m.\u001b[0m\u001b[0mCONTIG\u001b[0m\u001b[0;34m)\u001b[0m\u001b[0;34m.\u001b[0m\u001b[0mindex\u001b[0m\u001b[0;34m[\u001b[0m\u001b[0;36m0\u001b[0m\u001b[0;34m]\u001b[0m\u001b[0;34m)\u001b[0m\u001b[0;34m\u001b[0m\u001b[0;34m\u001b[0m\u001b[0m\n\u001b[1;32m     21\u001b[0m         \u001b[0;32melse\u001b[0m\u001b[0;34m:\u001b[0m\u001b[0;34m\u001b[0m\u001b[0;34m\u001b[0m\u001b[0m\n\u001b[0;32m---> 22\u001b[0;31m             \u001b[0mstart_genes\u001b[0m\u001b[0;34m.\u001b[0m\u001b[0mappend\u001b[0m\u001b[0;34m(\u001b[0m\u001b[0mget_genes\u001b[0m\u001b[0;34m(\u001b[0m\u001b[0mdf\u001b[0m\u001b[0;34m,\u001b[0m \u001b[0mint\u001b[0m\u001b[0;34m(\u001b[0m\u001b[0mrow\u001b[0m\u001b[0;34m.\u001b[0m\u001b[0mSTART\u001b[0m\u001b[0;34m)\u001b[0m\u001b[0;34m,\u001b[0m \u001b[0mint\u001b[0m\u001b[0;34m(\u001b[0m\u001b[0mrow\u001b[0m\u001b[0;34m.\u001b[0m\u001b[0mEND\u001b[0m\u001b[0;34m)\u001b[0m\u001b[0;34m)\u001b[0m\u001b[0;34m.\u001b[0m\u001b[0mindex\u001b[0m\u001b[0;34m[\u001b[0m\u001b[0;36m0\u001b[0m\u001b[0;34m]\u001b[0m\u001b[0;34m)\u001b[0m\u001b[0;34m\u001b[0m\u001b[0;34m\u001b[0m\u001b[0m\n\u001b[0m\u001b[1;32m     23\u001b[0m     \u001b[0mphaster\u001b[0m\u001b[0;34m[\u001b[0m\u001b[0;34m'START_GENE'\u001b[0m\u001b[0;34m]\u001b[0m\u001b[0;34m=\u001b[0m\u001b[0mstart_genes\u001b[0m\u001b[0;34m\u001b[0m\u001b[0;34m\u001b[0m\u001b[0m\n\u001b[1;32m     24\u001b[0m \u001b[0;34m\u001b[0m\u001b[0m\n",
      "\u001b[0;32m/Library/Frameworks/Python.framework/Versions/3.9/lib/python3.9/site-packages/pandas/core/indexes/base.py\u001b[0m in \u001b[0;36m__getitem__\u001b[0;34m(self, key)\u001b[0m\n\u001b[1;32m   4602\u001b[0m         \u001b[0;32mif\u001b[0m \u001b[0mis_scalar\u001b[0m\u001b[0;34m(\u001b[0m\u001b[0mkey\u001b[0m\u001b[0;34m)\u001b[0m\u001b[0;34m:\u001b[0m\u001b[0;34m\u001b[0m\u001b[0;34m\u001b[0m\u001b[0m\n\u001b[1;32m   4603\u001b[0m             \u001b[0mkey\u001b[0m \u001b[0;34m=\u001b[0m \u001b[0mcom\u001b[0m\u001b[0;34m.\u001b[0m\u001b[0mcast_scalar_indexer\u001b[0m\u001b[0;34m(\u001b[0m\u001b[0mkey\u001b[0m\u001b[0;34m,\u001b[0m \u001b[0mwarn_float\u001b[0m\u001b[0;34m=\u001b[0m\u001b[0;32mTrue\u001b[0m\u001b[0;34m)\u001b[0m\u001b[0;34m\u001b[0m\u001b[0;34m\u001b[0m\u001b[0m\n\u001b[0;32m-> 4604\u001b[0;31m             \u001b[0;32mreturn\u001b[0m \u001b[0mgetitem\u001b[0m\u001b[0;34m(\u001b[0m\u001b[0mkey\u001b[0m\u001b[0;34m)\u001b[0m\u001b[0;34m\u001b[0m\u001b[0;34m\u001b[0m\u001b[0m\n\u001b[0m\u001b[1;32m   4605\u001b[0m \u001b[0;34m\u001b[0m\u001b[0m\n\u001b[1;32m   4606\u001b[0m         \u001b[0;32mif\u001b[0m \u001b[0misinstance\u001b[0m\u001b[0;34m(\u001b[0m\u001b[0mkey\u001b[0m\u001b[0;34m,\u001b[0m \u001b[0mslice\u001b[0m\u001b[0;34m)\u001b[0m\u001b[0;34m:\u001b[0m\u001b[0;34m\u001b[0m\u001b[0;34m\u001b[0m\u001b[0m\n",
      "\u001b[0;31mIndexError\u001b[0m: index 0 is out of bounds for axis 0 with size 0"
     ]
    }
   ],
   "source": [
    "add_start_end_gene(genome, phaster)"
   ]
  },
  {
   "cell_type": "code",
   "execution_count": 92,
   "id": "c6fe476f",
   "metadata": {
    "ExecuteTime": {
     "end_time": "2022-04-02T12:14:09.832486Z",
     "start_time": "2022-04-02T12:14:09.772095Z"
    }
   },
   "outputs": [
    {
     "data": {
      "text/html": [
       "<div>\n",
       "<style scoped>\n",
       "    .dataframe tbody tr th:only-of-type {\n",
       "        vertical-align: middle;\n",
       "    }\n",
       "\n",
       "    .dataframe tbody tr th {\n",
       "        vertical-align: top;\n",
       "    }\n",
       "\n",
       "    .dataframe thead th {\n",
       "        text-align: right;\n",
       "    }\n",
       "</style>\n",
       "<table border=\"1\" class=\"dataframe\">\n",
       "  <thead>\n",
       "    <tr style=\"text-align: right;\">\n",
       "      <th></th>\n",
       "      <th>REGION</th>\n",
       "      <th>REGION_LENGTH</th>\n",
       "      <th>COMPLETENESS(score)</th>\n",
       "      <th>SPECIFIC_KEYWORD</th>\n",
       "      <th>REGION_POSITION</th>\n",
       "      <th>TRNA_NUM</th>\n",
       "      <th>TOTAL_PROTEIN_NUM</th>\n",
       "      <th>PHAGE_HIT_PROTEIN_NUM</th>\n",
       "      <th>HYPOTHETICAL_PROTEIN_NUM</th>\n",
       "      <th>PHAGE+HYPO_PROTEIN_PERCENTAGE</th>\n",
       "      <th>...</th>\n",
       "      <th>MOST_COMMON_PHAGE_NAME(hit_genes_count)</th>\n",
       "      <th>FIRST_MOST_COMMON_PHAGE_NUM</th>\n",
       "      <th>FIRST_MOST_COMMON_PHAGE_PERCENTAGE</th>\n",
       "      <th>GC_PERCENTAGE</th>\n",
       "      <th>CONTIG</th>\n",
       "      <th>LOCATION_SEQUENCE</th>\n",
       "      <th>START</th>\n",
       "      <th>END</th>\n",
       "      <th>START_GENE</th>\n",
       "      <th>END_GENE</th>\n",
       "    </tr>\n",
       "  </thead>\n",
       "  <tbody>\n",
       "    <tr>\n",
       "      <th>0</th>\n",
       "      <td>1</td>\n",
       "      <td>6.5Kb</td>\n",
       "      <td>incomplete(30)</td>\n",
       "      <td>integrase,tail</td>\n",
       "      <td>115-6704</td>\n",
       "      <td>0</td>\n",
       "      <td>10</td>\n",
       "      <td>7</td>\n",
       "      <td>3</td>\n",
       "      <td>100%</td>\n",
       "      <td>...</td>\n",
       "      <td>PHAGE_Staphy_187_NC_007047(1),PHAGE_Staphy_Sta...</td>\n",
       "      <td>1</td>\n",
       "      <td>10%</td>\n",
       "      <td>31.38%</td>\n",
       "      <td>AYYT01000018.1</td>\n",
       "      <td>sequence:115-6704</td>\n",
       "      <td>115</td>\n",
       "      <td>6704</td>\n",
       "      <td>0</td>\n",
       "      <td>1896</td>\n",
       "    </tr>\n",
       "    <tr>\n",
       "      <th>1</th>\n",
       "      <td>2</td>\n",
       "      <td>12.2Kb</td>\n",
       "      <td>incomplete(20)</td>\n",
       "      <td>transposase</td>\n",
       "      <td>12355-24554</td>\n",
       "      <td>0</td>\n",
       "      <td>16</td>\n",
       "      <td>10</td>\n",
       "      <td>6</td>\n",
       "      <td>100%</td>\n",
       "      <td>...</td>\n",
       "      <td>PHAGE_Halovi_HRTV_5_NC_021320(1),PHAGE_Halovi_...</td>\n",
       "      <td>1</td>\n",
       "      <td>6.25%</td>\n",
       "      <td>30.42%</td>\n",
       "      <td>AYYT01000024.1</td>\n",
       "      <td>sequence:12355-24554</td>\n",
       "      <td>12355</td>\n",
       "      <td>24554</td>\n",
       "      <td>11</td>\n",
       "      <td>1913</td>\n",
       "    </tr>\n",
       "  </tbody>\n",
       "</table>\n",
       "<p>2 rows × 23 columns</p>\n",
       "</div>"
      ],
      "text/plain": [
       "0 REGION REGION_LENGTH COMPLETENESS(score) SPECIFIC_KEYWORD REGION_POSITION  \\\n",
       "0      1         6.5Kb      incomplete(30)   integrase,tail        115-6704   \n",
       "1      2        12.2Kb      incomplete(20)      transposase     12355-24554   \n",
       "\n",
       "0 TRNA_NUM TOTAL_PROTEIN_NUM PHAGE_HIT_PROTEIN_NUM HYPOTHETICAL_PROTEIN_NUM  \\\n",
       "0        0                10                     7                        3   \n",
       "1        0                16                    10                        6   \n",
       "\n",
       "0 PHAGE+HYPO_PROTEIN_PERCENTAGE  ...  \\\n",
       "0                          100%  ...   \n",
       "1                          100%  ...   \n",
       "\n",
       "0            MOST_COMMON_PHAGE_NAME(hit_genes_count)  \\\n",
       "0  PHAGE_Staphy_187_NC_007047(1),PHAGE_Staphy_Sta...   \n",
       "1  PHAGE_Halovi_HRTV_5_NC_021320(1),PHAGE_Halovi_...   \n",
       "\n",
       "0 FIRST_MOST_COMMON_PHAGE_NUM FIRST_MOST_COMMON_PHAGE_PERCENTAGE  \\\n",
       "0                           1                                10%   \n",
       "1                           1                              6.25%   \n",
       "\n",
       "0 GC_PERCENTAGE          CONTIG     LOCATION_SEQUENCE  START    END  \\\n",
       "0        31.38%  AYYT01000018.1     sequence:115-6704    115   6704   \n",
       "1        30.42%  AYYT01000024.1  sequence:12355-24554  12355  24554   \n",
       "\n",
       "0 START_GENE END_GENE  \n",
       "0          0     1896  \n",
       "1         11     1913  \n",
       "\n",
       "[2 rows x 23 columns]"
      ]
     },
     "execution_count": 92,
     "metadata": {},
     "output_type": "execute_result"
    }
   ],
   "source": [
    "phaster"
   ]
  },
  {
   "cell_type": "code",
   "execution_count": 126,
   "id": "b839da91",
   "metadata": {
    "ExecuteTime": {
     "end_time": "2022-04-02T19:50:39.382393Z",
     "start_time": "2022-04-02T19:50:39.376892Z"
    }
   },
   "outputs": [],
   "source": [
    "db=str(genome + \"_db\")\n"
   ]
  },
  {
   "cell_type": "code",
   "execution_count": 127,
   "id": "3e207cdd",
   "metadata": {
    "ExecuteTime": {
     "end_time": "2022-04-02T19:50:39.663897Z",
     "start_time": "2022-04-02T19:50:39.532974Z"
    }
   },
   "outputs": [],
   "source": [
    "!rm $db"
   ]
  },
  {
   "cell_type": "code",
   "execution_count": null,
   "id": "d32fd053",
   "metadata": {},
   "outputs": [],
   "source": []
  }
 ],
 "metadata": {
  "kernelspec": {
   "display_name": "Python 3 (ipykernel)",
   "language": "python",
   "name": "python3"
  },
  "language_info": {
   "codemirror_mode": {
    "name": "ipython",
    "version": 3
   },
   "file_extension": ".py",
   "mimetype": "text/x-python",
   "name": "python",
   "nbconvert_exporter": "python",
   "pygments_lexer": "ipython3",
   "version": "3.9.0"
  },
  "toc": {
   "base_numbering": 1,
   "nav_menu": {},
   "number_sections": true,
   "sideBar": true,
   "skip_h1_title": false,
   "title_cell": "Table of Contents",
   "title_sidebar": "Contents",
   "toc_cell": false,
   "toc_position": {},
   "toc_section_display": true,
   "toc_window_display": false
  },
  "varInspector": {
   "cols": {
    "lenName": 16,
    "lenType": 16,
    "lenVar": 40
   },
   "kernels_config": {
    "python": {
     "delete_cmd_postfix": "",
     "delete_cmd_prefix": "del ",
     "library": "var_list.py",
     "varRefreshCmd": "print(var_dic_list())"
    },
    "r": {
     "delete_cmd_postfix": ") ",
     "delete_cmd_prefix": "rm(",
     "library": "var_list.r",
     "varRefreshCmd": "cat(var_dic_list()) "
    }
   },
   "types_to_exclude": [
    "module",
    "function",
    "builtin_function_or_method",
    "instance",
    "_Feature"
   ],
   "window_display": false
  }
 },
 "nbformat": 4,
 "nbformat_minor": 5
}
