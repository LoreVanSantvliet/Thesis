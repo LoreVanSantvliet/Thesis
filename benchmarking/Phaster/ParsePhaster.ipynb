{
 "cells": [
  {
   "cell_type": "markdown",
   "id": "5713d450",
   "metadata": {},
   "source": [
    "# Phaster parser"
   ]
  },
  {
   "cell_type": "markdown",
   "id": "658e48dc",
   "metadata": {},
   "source": [
    "## Preparation"
   ]
  },
  {
   "cell_type": "code",
   "execution_count": 1,
   "id": "b9a2d22c",
   "metadata": {
    "ExecuteTime": {
     "end_time": "2022-04-18T09:35:09.098987Z",
     "start_time": "2022-04-18T09:35:08.049583Z"
    }
   },
   "outputs": [],
   "source": [
    "import pandas as pd\n",
    "from pathlib import Path\n",
    "import csv\n",
    "import gffutils"
   ]
  },
  {
   "cell_type": "code",
   "execution_count": 71,
   "id": "f6fc7fc6",
   "metadata": {
    "ExecuteTime": {
     "end_time": "2022-04-18T11:32:17.698690Z",
     "start_time": "2022-04-18T11:32:17.690062Z"
    }
   },
   "outputs": [],
   "source": [
    "project_path=Path().resolve().parent.resolve().parent.resolve().parent\n",
    "input_path=project_path / \"results\" / \"intermediate\" / \"training\" / \"phaster_raw\"\n",
    "output_path=project_path / \"results\" / \"intermediate\" / \"training\" / \"phaster_parsed\"\n",
    "gff_path=project_path / \"data\" / \"legen_v4_dereplicated_gffs\""
   ]
  },
  {
   "cell_type": "code",
   "execution_count": 15,
   "id": "3e262168",
   "metadata": {
    "ExecuteTime": {
     "end_time": "2022-04-18T09:53:19.777945Z",
     "start_time": "2022-04-18T09:53:19.774212Z"
    }
   },
   "outputs": [],
   "source": [
    "genome=\"GCA_002760225.1\""
   ]
  },
  {
   "cell_type": "code",
   "execution_count": 86,
   "id": "a554fcbf",
   "metadata": {
    "ExecuteTime": {
     "end_time": "2022-04-18T11:55:42.960769Z",
     "start_time": "2022-04-18T11:55:42.953621Z"
    }
   },
   "outputs": [],
   "source": [
    "genome_file=str(genome+\".txt\")\n",
    "genome_file=\"GCA_000758365.1.txt\"\n",
    "genome=str(genome_file.split('.')[0]+'.'+genome_file.split('.')[1])"
   ]
  },
  {
   "cell_type": "markdown",
   "id": "3403e0b0",
   "metadata": {},
   "source": [
    "## Parse Phaster output file"
   ]
  },
  {
   "cell_type": "code",
   "execution_count": 142,
   "id": "2d7ae657",
   "metadata": {
    "ExecuteTime": {
     "end_time": "2022-04-18T12:35:54.909359Z",
     "start_time": "2022-04-18T12:35:54.883562Z"
    }
   },
   "outputs": [],
   "source": [
    "def read_phaster(file, multi_contig=True):\n",
    "    \"\"\"Reads a phaster output file and generates a dataframe with this information.\"\"\"\n",
    "    df = pd.read_table(\n",
    "    file,\n",
    "    engine = 'c',\n",
    "    skiprows =1,\n",
    "    names = ['raw'],\n",
    "    quoting=csv.QUOTE_NONE\n",
    "    )\n",
    "    \n",
    "    # Select relevant rows only\n",
    "    start=0\n",
    "    for index,row in df.iterrows():\n",
    "        if (\"REGION\" in str(row.item())):\n",
    "            start=index \n",
    "    table_values=df.iloc[start:len(df)-1,:].reset_index(drop=True)\n",
    "    \n",
    "    # Separate into different columns (indicated by whitespaces)\n",
    "    separated_table_values = pd.DataFrame.from_records(table_values.raw.apply(lambda s: s.split()))\n",
    "    \n",
    "    # First row contains the header\n",
    "    separated_table_values.columns = separated_table_values.iloc[0,:]\n",
    "    separated_table_values=separated_table_values.iloc[1:len(separated_table_values),:].reset_index(drop=True)\n",
    "    print(separated_table_values.REGION_POSITION[8])\n",
    "    \n",
    "    if(not separated_table_values.empty):\n",
    "        if(multi_contig):\n",
    "            location=pd.DataFrame.from_records(separated_table_values.REGION_POSITION.apply(lambda s: s.split(sep=',')))\n",
    "            separated_table_values['CONTIG']=location.iloc[:,0]\n",
    "            separated_table_values['LOCATION_SEQUENCE']=\" \"\n",
    "            for index,row in location.iterrows():\n",
    "                for i in range(0,len(location.columns)):\n",
    "                    if (not isinstance(location.iloc[index,i], type(None))):\n",
    "                        if (\":\" in location.iloc[index,i]):\n",
    "                            separated_table_values.LOCATION_SEQUENCE[index]=location.iloc[index,i]\n",
    "            #separated_table_values['LOCATION_SEQUENCE']=str(location.iloc[:,-1])\n",
    "            location2=pd.DataFrame.from_records(separated_table_values['LOCATION_SEQUENCE'].apply(lambda s: s.split(sep=':')))\n",
    "            separated_table_values['REGION_POSITION']=location2.iloc[:,1]\n",
    "        else:\n",
    "            separated_table_values['CONTIG']= [1] * len(separated_table_values)\n",
    "\n",
    "\n",
    "        # Add columns 'START' and 'END' (information extracted from 'REGION_POSITION')\n",
    "        separated_table_values[['START', 'END']]=pd.DataFrame.from_records(separated_table_values.REGION_POSITION.apply(lambda s: s.split(sep='-')))\n",
    "\n",
    "        return separated_table_values.loc[:, ['CONTIG','REGION', 'START', 'END']]\n",
    "    else:\n",
    "        return pd.DataFrame(columns=['CONTIG','REGION', 'START', 'END'])"
   ]
  },
  {
   "cell_type": "code",
   "execution_count": 143,
   "id": "d32fd053",
   "metadata": {
    "ExecuteTime": {
     "end_time": "2022-04-18T12:35:55.418295Z",
     "start_time": "2022-04-18T12:35:55.356180Z"
    }
   },
   "outputs": [
    {
     "name": "stdout",
     "output_type": "stream",
     "text": [
      "CP007648.1,Lactobacillus,salivarius,strain,JCM,1046,plasmid,pMP1046B,,complete,sequence:46996-69003\n"
     ]
    },
    {
     "data": {
      "text/html": [
       "<div>\n",
       "<style scoped>\n",
       "    .dataframe tbody tr th:only-of-type {\n",
       "        vertical-align: middle;\n",
       "    }\n",
       "\n",
       "    .dataframe tbody tr th {\n",
       "        vertical-align: top;\n",
       "    }\n",
       "\n",
       "    .dataframe thead th {\n",
       "        text-align: right;\n",
       "    }\n",
       "</style>\n",
       "<table border=\"1\" class=\"dataframe\">\n",
       "  <thead>\n",
       "    <tr style=\"text-align: right;\">\n",
       "      <th></th>\n",
       "      <th>CONTIG</th>\n",
       "      <th>REGION</th>\n",
       "      <th>START</th>\n",
       "      <th>END</th>\n",
       "    </tr>\n",
       "  </thead>\n",
       "  <tbody>\n",
       "    <tr>\n",
       "      <th>0</th>\n",
       "      <td>CP007646.1</td>\n",
       "      <td>1</td>\n",
       "      <td>79749</td>\n",
       "      <td>89753</td>\n",
       "    </tr>\n",
       "    <tr>\n",
       "      <th>1</th>\n",
       "      <td>CP007646.1</td>\n",
       "      <td>2</td>\n",
       "      <td>374182</td>\n",
       "      <td>381936</td>\n",
       "    </tr>\n",
       "    <tr>\n",
       "      <th>2</th>\n",
       "      <td>CP007646.1</td>\n",
       "      <td>3</td>\n",
       "      <td>813503</td>\n",
       "      <td>827117</td>\n",
       "    </tr>\n",
       "    <tr>\n",
       "      <th>3</th>\n",
       "      <td>CP007646.1</td>\n",
       "      <td>4</td>\n",
       "      <td>970218</td>\n",
       "      <td>986519</td>\n",
       "    </tr>\n",
       "    <tr>\n",
       "      <th>4</th>\n",
       "      <td>CP007646.1</td>\n",
       "      <td>5</td>\n",
       "      <td>1337562</td>\n",
       "      <td>1345165</td>\n",
       "    </tr>\n",
       "    <tr>\n",
       "      <th>5</th>\n",
       "      <td>CP007646.1</td>\n",
       "      <td>6</td>\n",
       "      <td>1390120</td>\n",
       "      <td>1400296</td>\n",
       "    </tr>\n",
       "    <tr>\n",
       "      <th>6</th>\n",
       "      <td>CP007646.1</td>\n",
       "      <td>7</td>\n",
       "      <td>1486638</td>\n",
       "      <td>1493004</td>\n",
       "    </tr>\n",
       "    <tr>\n",
       "      <th>7</th>\n",
       "      <td>CP007646.1</td>\n",
       "      <td>8</td>\n",
       "      <td>1547086</td>\n",
       "      <td>1552621</td>\n",
       "    </tr>\n",
       "    <tr>\n",
       "      <th>8</th>\n",
       "      <td>CP007648.1</td>\n",
       "      <td>9</td>\n",
       "      <td>46996</td>\n",
       "      <td>69003</td>\n",
       "    </tr>\n",
       "    <tr>\n",
       "      <th>9</th>\n",
       "      <td>CP007648.1</td>\n",
       "      <td>10</td>\n",
       "      <td>60833</td>\n",
       "      <td>80947</td>\n",
       "    </tr>\n",
       "  </tbody>\n",
       "</table>\n",
       "</div>"
      ],
      "text/plain": [
       "0      CONTIG REGION    START      END\n",
       "0  CP007646.1      1    79749    89753\n",
       "1  CP007646.1      2   374182   381936\n",
       "2  CP007646.1      3   813503   827117\n",
       "3  CP007646.1      4   970218   986519\n",
       "4  CP007646.1      5  1337562  1345165\n",
       "5  CP007646.1      6  1390120  1400296\n",
       "6  CP007646.1      7  1486638  1493004\n",
       "7  CP007646.1      8  1547086  1552621\n",
       "8  CP007648.1      9    46996    69003\n",
       "9  CP007648.1     10    60833    80947"
      ]
     },
     "execution_count": 143,
     "metadata": {},
     "output_type": "execute_result"
    }
   ],
   "source": [
    "phaster=read_phaster(input_path / genome_file)\n",
    "phaster\n",
    "#write_output(MGE_frame)"
   ]
  },
  {
   "cell_type": "markdown",
   "id": "633da81d",
   "metadata": {},
   "source": [
    "## Location to gene nr"
   ]
  },
  {
   "cell_type": "code",
   "execution_count": 65,
   "id": "9e1d2b01",
   "metadata": {
    "ExecuteTime": {
     "end_time": "2022-04-18T11:31:49.930146Z",
     "start_time": "2022-04-18T11:31:49.924058Z"
    },
    "scrolled": false
   },
   "outputs": [],
   "source": [
    "def get_genes_multi_contig(df, start, stop, contig):\n",
    "    return df[(df.start>=start) & (df.end<=stop) & (df.contig==contig)]"
   ]
  },
  {
   "cell_type": "code",
   "execution_count": 66,
   "id": "4b3abc8a",
   "metadata": {
    "ExecuteTime": {
     "end_time": "2022-04-18T11:31:50.540546Z",
     "start_time": "2022-04-18T11:31:50.533554Z"
    }
   },
   "outputs": [],
   "source": [
    "def get_genes(df, start, stop):\n",
    "    return df[(df.start>=start) & (df.end<=stop)]"
   ]
  },
  {
   "cell_type": "code",
   "execution_count": 79,
   "id": "582c77e9",
   "metadata": {
    "ExecuteTime": {
     "end_time": "2022-04-18T11:36:46.402428Z",
     "start_time": "2022-04-18T11:36:46.379287Z"
    }
   },
   "outputs": [],
   "source": [
    "def add_start_end_gene(genome, phaster, multi_contig=True):\n",
    "    if (not phaster.empty):\n",
    "        gff= str(str(gff_path) + \"/\" + genome + \".gff\")\n",
    "        # generate a database\n",
    "        gffutils.create_db(gff, str(genome + \"_db\"))\n",
    "        db = gffutils.FeatureDB(dbfn=str(genome + \"_db\"))\n",
    "        # generate a dataframe\n",
    "        df=pd.DataFrame(columns = ['contig', 'ID', 'start', 'end', 'strand'])\n",
    "        # fill up the dataframe, using the database\n",
    "        query = db.execute(\"select seqid,start,end,strand,attributes from features where featuretype = 'CDS'\")\n",
    "        result = query.fetchall()\n",
    "\n",
    "        for each in result:\n",
    "            df=df.append({'ID':json.loads(each['attributes'])['ID'][0], 'contig':each['seqid'], 'end':each['end'], 'start':each['start'], 'strand':each['strand']}, ignore_index=True)\n",
    "\n",
    "        # add start genes\n",
    "        start_genes=[]\n",
    "        for index, row in phaster.iterrows():\n",
    "            if (multi_contig):\n",
    "                start_genes.append(get_genes_multi_contig(df, int(row.START), int(row.END), row.CONTIG).index[0])\n",
    "            else:\n",
    "                start_genes.append(get_genes(df, int(row.START), int(row.END)).index[0])\n",
    "        phaster['START_GENE']=start_genes\n",
    "\n",
    "        # add end genes\n",
    "        end_genes=[]\n",
    "        for index, row in phaster.iterrows():\n",
    "            if (multi_contig):\n",
    "                end_genes.append(get_genes_multi_contig(df, int(row.START), int(row.END), row.CONTIG).index[-1])\n",
    "            else:\n",
    "                end_genes.append(get_genes(df, int(row.START), int(row.END)).index[-1])\n",
    "        phaster['END_GENE']=end_genes\n",
    "        db=str(genome + \"_db\")\n",
    "        !rm $db\n",
    "        return phaster.loc[:,['CONTIG', 'REGION', 'START_GENE', 'END_GENE']]\n",
    "    else:\n",
    "        return pd.DataFrame(columns=['CONTIG', 'REGION', 'START_GENE', 'END_GENE'])\n",
    "    \n",
    "    "
   ]
  },
  {
   "cell_type": "code",
   "execution_count": 81,
   "id": "34ca3c5b",
   "metadata": {
    "ExecuteTime": {
     "end_time": "2022-04-18T11:48:48.652578Z",
     "start_time": "2022-04-18T11:48:48.643846Z"
    }
   },
   "outputs": [],
   "source": [
    "def transform_frame(phaster):\n",
    "    if (not phaster.empty):\n",
    "        MGE_list=[]\n",
    "        for index,row in phaster.iterrows():\n",
    "            for gene in range(row.START_GENE, row.END_GENE+1):\n",
    "                MGE_list.append({'contig':row.CONTIG, 'MGE':row.REGION, 'gene_nr':gene})\n",
    "        MGE_frame=pd.DataFrame.from_records(MGE_list)\n",
    "        return MGE_frame\n",
    "    else:\n",
    "        return pd.DataFrame(columns=['contig', 'MGE', 'gene_nr'])"
   ]
  },
  {
   "cell_type": "code",
   "execution_count": 82,
   "id": "1e5796ab",
   "metadata": {
    "ExecuteTime": {
     "end_time": "2022-04-18T11:49:09.568159Z",
     "start_time": "2022-04-18T11:49:09.562462Z"
    }
   },
   "outputs": [],
   "source": [
    "def write_output(MGE_frame):\n",
    "    if (not MGE_frame.empty):\n",
    "        MGE_frame.to_csv(output_path / genome_file)"
   ]
  },
  {
   "cell_type": "code",
   "execution_count": 84,
   "id": "4b175b49",
   "metadata": {
    "ExecuteTime": {
     "end_time": "2022-04-18T11:49:10.948293Z",
     "start_time": "2022-04-18T11:49:10.935796Z"
    }
   },
   "outputs": [
    {
     "data": {
      "text/html": [
       "<div>\n",
       "<style scoped>\n",
       "    .dataframe tbody tr th:only-of-type {\n",
       "        vertical-align: middle;\n",
       "    }\n",
       "\n",
       "    .dataframe tbody tr th {\n",
       "        vertical-align: top;\n",
       "    }\n",
       "\n",
       "    .dataframe thead th {\n",
       "        text-align: right;\n",
       "    }\n",
       "</style>\n",
       "<table border=\"1\" class=\"dataframe\">\n",
       "  <thead>\n",
       "    <tr style=\"text-align: right;\">\n",
       "      <th></th>\n",
       "      <th>CONTIG</th>\n",
       "      <th>REGION</th>\n",
       "      <th>START_GENE</th>\n",
       "      <th>END_GENE</th>\n",
       "    </tr>\n",
       "  </thead>\n",
       "  <tbody>\n",
       "  </tbody>\n",
       "</table>\n",
       "</div>"
      ],
      "text/plain": [
       "Empty DataFrame\n",
       "Columns: [CONTIG, REGION, START_GENE, END_GENE]\n",
       "Index: []"
      ]
     },
     "execution_count": 84,
     "metadata": {},
     "output_type": "execute_result"
    }
   ],
   "source": [
    "phaster=add_start_end_gene(genome, phaster)\n",
    "phaster"
   ]
  },
  {
   "cell_type": "code",
   "execution_count": 85,
   "id": "961e6af4",
   "metadata": {
    "ExecuteTime": {
     "end_time": "2022-04-18T11:49:12.731199Z",
     "start_time": "2022-04-18T11:49:12.714697Z"
    }
   },
   "outputs": [
    {
     "data": {
      "text/html": [
       "<div>\n",
       "<style scoped>\n",
       "    .dataframe tbody tr th:only-of-type {\n",
       "        vertical-align: middle;\n",
       "    }\n",
       "\n",
       "    .dataframe tbody tr th {\n",
       "        vertical-align: top;\n",
       "    }\n",
       "\n",
       "    .dataframe thead th {\n",
       "        text-align: right;\n",
       "    }\n",
       "</style>\n",
       "<table border=\"1\" class=\"dataframe\">\n",
       "  <thead>\n",
       "    <tr style=\"text-align: right;\">\n",
       "      <th></th>\n",
       "      <th>contig</th>\n",
       "      <th>MGE</th>\n",
       "      <th>gene_nr</th>\n",
       "    </tr>\n",
       "  </thead>\n",
       "  <tbody>\n",
       "  </tbody>\n",
       "</table>\n",
       "</div>"
      ],
      "text/plain": [
       "Empty DataFrame\n",
       "Columns: [contig, MGE, gene_nr]\n",
       "Index: []"
      ]
     },
     "execution_count": 85,
     "metadata": {},
     "output_type": "execute_result"
    }
   ],
   "source": [
    "MGE_frame=transform_frame(phaster)\n",
    "MGE_frame"
   ]
  },
  {
   "cell_type": "code",
   "execution_count": null,
   "id": "573a5670",
   "metadata": {},
   "outputs": [],
   "source": []
  },
  {
   "cell_type": "code",
   "execution_count": null,
   "id": "6bcf7c3f",
   "metadata": {},
   "outputs": [],
   "source": []
  }
 ],
 "metadata": {
  "kernelspec": {
   "display_name": "Python 3 (ipykernel)",
   "language": "python",
   "name": "python3"
  },
  "language_info": {
   "codemirror_mode": {
    "name": "ipython",
    "version": 3
   },
   "file_extension": ".py",
   "mimetype": "text/x-python",
   "name": "python",
   "nbconvert_exporter": "python",
   "pygments_lexer": "ipython3",
   "version": "3.9.0"
  },
  "toc": {
   "base_numbering": 1,
   "nav_menu": {},
   "number_sections": true,
   "sideBar": true,
   "skip_h1_title": false,
   "title_cell": "Table of Contents",
   "title_sidebar": "Contents",
   "toc_cell": false,
   "toc_position": {},
   "toc_section_display": true,
   "toc_window_display": false
  },
  "varInspector": {
   "cols": {
    "lenName": 16,
    "lenType": 16,
    "lenVar": 40
   },
   "kernels_config": {
    "python": {
     "delete_cmd_postfix": "",
     "delete_cmd_prefix": "del ",
     "library": "var_list.py",
     "varRefreshCmd": "print(var_dic_list())"
    },
    "r": {
     "delete_cmd_postfix": ") ",
     "delete_cmd_prefix": "rm(",
     "library": "var_list.r",
     "varRefreshCmd": "cat(var_dic_list()) "
    }
   },
   "types_to_exclude": [
    "module",
    "function",
    "builtin_function_or_method",
    "instance",
    "_Feature"
   ],
   "window_display": false
  }
 },
 "nbformat": 4,
 "nbformat_minor": 5
}
