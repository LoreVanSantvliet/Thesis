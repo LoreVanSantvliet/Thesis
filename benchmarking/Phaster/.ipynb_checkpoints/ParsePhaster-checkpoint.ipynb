{
 "cells": [
  {
   "cell_type": "markdown",
   "id": "5713d450",
   "metadata": {},
   "source": [
    "# Phaster parser"
   ]
  },
  {
   "cell_type": "markdown",
   "id": "658e48dc",
   "metadata": {},
   "source": [
    "## Preparation"
   ]
  },
  {
   "cell_type": "code",
   "execution_count": 1,
   "id": "b9a2d22c",
   "metadata": {
    "ExecuteTime": {
     "end_time": "2022-04-18T09:35:09.098987Z",
     "start_time": "2022-04-18T09:35:08.049583Z"
    }
   },
   "outputs": [],
   "source": [
    "import pandas as pd\n",
    "from pathlib import Path\n",
    "import csv\n",
    "import gffutils"
   ]
  },
  {
   "cell_type": "code",
   "execution_count": 71,
   "id": "f6fc7fc6",
   "metadata": {
    "ExecuteTime": {
     "end_time": "2022-04-18T11:32:17.698690Z",
     "start_time": "2022-04-18T11:32:17.690062Z"
    }
   },
   "outputs": [],
   "source": [
    "project_path=Path().resolve().parent.resolve().parent.resolve().parent\n",
    "input_path=project_path / \"results\" / \"intermediate\" / \"benchmarking\" / \"phaster_raw\"\n",
    "output_path=project_path / \"results\" / \"intermediate\" / \"benchmarking\" / \"phaster_parsed\"\n",
    "gff_path=project_path / \"data\" / \"legen_v4_dereplicated_gffs\""
   ]
  },
  {
   "cell_type": "code",
   "execution_count": 15,
   "id": "3e262168",
   "metadata": {
    "ExecuteTime": {
     "end_time": "2022-04-18T09:53:19.777945Z",
     "start_time": "2022-04-18T09:53:19.774212Z"
    }
   },
   "outputs": [],
   "source": [
    "genome=\"GCA_002760225.1\""
   ]
  },
  {
   "cell_type": "code",
   "execution_count": 86,
   "id": "a554fcbf",
   "metadata": {
    "ExecuteTime": {
     "end_time": "2022-04-18T11:55:42.960769Z",
     "start_time": "2022-04-18T11:55:42.953621Z"
    }
   },
   "outputs": [],
   "source": [
    "genome_file=str(genome+\".txt\")\n",
    "genome_file=\"GCA_000758365.1.txt\"\n",
    "genome=str(genome_file.split('.')[0]+'.'+genome_file.split('.')[1])"
   ]
  },
  {
   "cell_type": "markdown",
   "id": "3403e0b0",
   "metadata": {},
   "source": [
    "## Parse Phaster output file"
   ]
  },
  {
   "cell_type": "code",
   "execution_count": 120,
   "id": "2d7ae657",
   "metadata": {
    "ExecuteTime": {
     "end_time": "2022-04-18T12:31:55.585856Z",
     "start_time": "2022-04-18T12:31:55.566912Z"
    }
   },
   "outputs": [],
   "source": [
    "def read_phaster(file, multi_contig=True):\n",
    "    \"\"\"Reads a phaster output file and generates a dataframe with this information.\"\"\"\n",
    "    df = pd.read_table(\n",
    "    file,\n",
    "    engine = 'c',\n",
    "    skiprows =1,\n",
    "    names = ['raw'],\n",
    "    quoting=csv.QUOTE_NONE\n",
    "    )\n",
    "    \n",
    "    # Select relevant rows only\n",
    "    start=0\n",
    "    for index,row in df.iterrows():\n",
    "        if (\"REGION\" in str(row.item())):\n",
    "            start=index \n",
    "    table_values=df.iloc[start:len(df)-1,:].reset_index(drop=True)\n",
    "    \n",
    "    # Separate into different columns (indicated by whitespaces)\n",
    "    separated_table_values = pd.DataFrame.from_records(table_values.raw.apply(lambda s: s.split()))\n",
    "    \n",
    "    # First row contains the header\n",
    "    separated_table_values.columns = separated_table_values.iloc[0,:]\n",
    "    separated_table_values=separated_table_values.iloc[1:len(separated_table_values),:].reset_index(drop=True)\n",
    "    print(separated_table_values.REGION_POSITION[8])\n",
    "    \n",
    "    if(not separated_table_values.empty):\n",
    "        if(multi_contig):\n",
    "            location=pd.DataFrame.from_records(separated_table_values.REGION_POSITION.apply(lambda s: s.split(sep=',')))\n",
    "            separated_table_values['CONTIG']=location.iloc[:,0]\n",
    "            separated_table_values['LOCATION_SEQUENCE']=\" \"\n",
    "            for index,row in location.iterrows():\n",
    "                for i in range(0,len(location.columns)+1):\n",
    "                    print(location.iloc[index,i])\n",
    "                    if (location.iloc[index,i].isinstance())&(\":\" in location.iloc[index,i]):\n",
    "                        separated_table_values.LOCATION_SEQUENCE[index]=location.iloc[index,i]\n",
    "            #separated_table_values['LOCATION_SEQUENCE']=str(location.iloc[:,-1])\n",
    "            location2=pd.DataFrame.from_records(separated_table_values['LOCATION_SEQUENCE'].apply(lambda s: s.split(sep=':')))\n",
    "            print(location)\n",
    "            print(\"loc: \" + separated_table_values.LOCATION_SEQUENCE)\n",
    "            separated_table_values['REGION_POSITION']=location2.iloc[:,1]\n",
    "        else:\n",
    "            separated_table_values['CONTIG']= [1] * len(separated_table_values)\n",
    "\n",
    "\n",
    "        # Add columns 'START' and 'END' (information extracted from 'REGION_POSITION')\n",
    "        separated_table_values[['START', 'END']]=pd.DataFrame.from_records(separated_table_values.REGION_POSITION.apply(lambda s: s.split(sep='-')))\n",
    "\n",
    "        return separated_table_values.loc[:, ['CONTIG','REGION', 'START', 'END']]\n",
    "    else:\n",
    "        return pd.DataFrame(columns=['CONTIG','REGION', 'START', 'END'])"
   ]
  },
  {
   "cell_type": "code",
   "execution_count": 121,
   "id": "d32fd053",
   "metadata": {
    "ExecuteTime": {
     "end_time": "2022-04-18T12:31:56.192703Z",
     "start_time": "2022-04-18T12:31:56.158410Z"
    }
   },
   "outputs": [
    {
     "name": "stdout",
     "output_type": "stream",
     "text": [
      "CP007648.1,Lactobacillus,salivarius,strain,JCM,1046,plasmid,pMP1046B,,complete,sequence:46996-69003\n",
      "CP007646.1\n",
      "Lactobacillus\n",
      "salivarius\n",
      "strain\n",
      "JCM1046\n",
      "\n",
      "complete\n",
      "genome:79749-89753\n",
      "None\n"
     ]
    },
    {
     "ename": "TypeError",
     "evalue": "argument of type 'NoneType' is not iterable",
     "output_type": "error",
     "traceback": [
      "\u001b[0;31m---------------------------------------------------------------------------\u001b[0m",
      "\u001b[0;31mTypeError\u001b[0m                                 Traceback (most recent call last)",
      "\u001b[0;32m/var/folders/wm/45ntkynd66gd8wnsdr6vw7h40000gn/T/ipykernel_28126/1926677568.py\u001b[0m in \u001b[0;36m<module>\u001b[0;34m\u001b[0m\n\u001b[0;32m----> 1\u001b[0;31m \u001b[0mphaster\u001b[0m\u001b[0;34m=\u001b[0m\u001b[0mread_phaster\u001b[0m\u001b[0;34m(\u001b[0m\u001b[0minput_path\u001b[0m \u001b[0;34m/\u001b[0m \u001b[0mgenome_file\u001b[0m\u001b[0;34m)\u001b[0m\u001b[0;34m\u001b[0m\u001b[0;34m\u001b[0m\u001b[0m\n\u001b[0m\u001b[1;32m      2\u001b[0m \u001b[0mphaster\u001b[0m\u001b[0;34m\u001b[0m\u001b[0;34m\u001b[0m\u001b[0m\n\u001b[1;32m      3\u001b[0m \u001b[0;31m#write_output(MGE_frame)\u001b[0m\u001b[0;34m\u001b[0m\u001b[0;34m\u001b[0m\u001b[0;34m\u001b[0m\u001b[0m\n",
      "\u001b[0;32m/var/folders/wm/45ntkynd66gd8wnsdr6vw7h40000gn/T/ipykernel_28126/500662841.py\u001b[0m in \u001b[0;36mread_phaster\u001b[0;34m(file, multi_contig)\u001b[0m\n\u001b[1;32m     32\u001b[0m                 \u001b[0;32mfor\u001b[0m \u001b[0mi\u001b[0m \u001b[0;32min\u001b[0m \u001b[0mrange\u001b[0m\u001b[0;34m(\u001b[0m\u001b[0;36m0\u001b[0m\u001b[0;34m,\u001b[0m\u001b[0mlen\u001b[0m\u001b[0;34m(\u001b[0m\u001b[0mlocation\u001b[0m\u001b[0;34m.\u001b[0m\u001b[0mcolumns\u001b[0m\u001b[0;34m)\u001b[0m\u001b[0;34m+\u001b[0m\u001b[0;36m1\u001b[0m\u001b[0;34m)\u001b[0m\u001b[0;34m:\u001b[0m\u001b[0;34m\u001b[0m\u001b[0;34m\u001b[0m\u001b[0m\n\u001b[1;32m     33\u001b[0m                     \u001b[0mprint\u001b[0m\u001b[0;34m(\u001b[0m\u001b[0mlocation\u001b[0m\u001b[0;34m.\u001b[0m\u001b[0miloc\u001b[0m\u001b[0;34m[\u001b[0m\u001b[0mindex\u001b[0m\u001b[0;34m,\u001b[0m\u001b[0mi\u001b[0m\u001b[0;34m]\u001b[0m\u001b[0;34m)\u001b[0m\u001b[0;34m\u001b[0m\u001b[0;34m\u001b[0m\u001b[0m\n\u001b[0;32m---> 34\u001b[0;31m                     \u001b[0;32mif\u001b[0m \u001b[0;34m\":\"\u001b[0m \u001b[0;32min\u001b[0m \u001b[0mlocation\u001b[0m\u001b[0;34m.\u001b[0m\u001b[0miloc\u001b[0m\u001b[0;34m[\u001b[0m\u001b[0mindex\u001b[0m\u001b[0;34m,\u001b[0m\u001b[0mi\u001b[0m\u001b[0;34m]\u001b[0m\u001b[0;34m:\u001b[0m\u001b[0;34m\u001b[0m\u001b[0;34m\u001b[0m\u001b[0m\n\u001b[0m\u001b[1;32m     35\u001b[0m                         \u001b[0mseparated_table_values\u001b[0m\u001b[0;34m.\u001b[0m\u001b[0mLOCATION_SEQUENCE\u001b[0m\u001b[0;34m[\u001b[0m\u001b[0mindex\u001b[0m\u001b[0;34m]\u001b[0m\u001b[0;34m=\u001b[0m\u001b[0mlocation\u001b[0m\u001b[0;34m.\u001b[0m\u001b[0miloc\u001b[0m\u001b[0;34m[\u001b[0m\u001b[0mindex\u001b[0m\u001b[0;34m,\u001b[0m\u001b[0mi\u001b[0m\u001b[0;34m]\u001b[0m\u001b[0;34m\u001b[0m\u001b[0;34m\u001b[0m\u001b[0m\n\u001b[1;32m     36\u001b[0m             \u001b[0;31m#separated_table_values['LOCATION_SEQUENCE']=str(location.iloc[:,-1])\u001b[0m\u001b[0;34m\u001b[0m\u001b[0;34m\u001b[0m\u001b[0;34m\u001b[0m\u001b[0m\n",
      "\u001b[0;31mTypeError\u001b[0m: argument of type 'NoneType' is not iterable"
     ]
    }
   ],
   "source": [
    "phaster=read_phaster(input_path / genome_file)\n",
    "phaster\n",
    "#write_output(MGE_frame)"
   ]
  },
  {
   "cell_type": "markdown",
   "id": "633da81d",
   "metadata": {},
   "source": [
    "## Location to gene nr"
   ]
  },
  {
   "cell_type": "code",
   "execution_count": 65,
   "id": "9e1d2b01",
   "metadata": {
    "ExecuteTime": {
     "end_time": "2022-04-18T11:31:49.930146Z",
     "start_time": "2022-04-18T11:31:49.924058Z"
    },
    "scrolled": false
   },
   "outputs": [],
   "source": [
    "def get_genes_multi_contig(df, start, stop, contig):\n",
    "    return df[(df.start>=start) & (df.end<=stop) & (df.contig==contig)]"
   ]
  },
  {
   "cell_type": "code",
   "execution_count": 66,
   "id": "4b3abc8a",
   "metadata": {
    "ExecuteTime": {
     "end_time": "2022-04-18T11:31:50.540546Z",
     "start_time": "2022-04-18T11:31:50.533554Z"
    }
   },
   "outputs": [],
   "source": [
    "def get_genes(df, start, stop):\n",
    "    return df[(df.start>=start) & (df.end<=stop)]"
   ]
  },
  {
   "cell_type": "code",
   "execution_count": 79,
   "id": "582c77e9",
   "metadata": {
    "ExecuteTime": {
     "end_time": "2022-04-18T11:36:46.402428Z",
     "start_time": "2022-04-18T11:36:46.379287Z"
    }
   },
   "outputs": [],
   "source": [
    "def add_start_end_gene(genome, phaster, multi_contig=True):\n",
    "    if (not phaster.empty):\n",
    "        gff= str(str(gff_path) + \"/\" + genome + \".gff\")\n",
    "        # generate a database\n",
    "        gffutils.create_db(gff, str(genome + \"_db\"))\n",
    "        db = gffutils.FeatureDB(dbfn=str(genome + \"_db\"))\n",
    "        # generate a dataframe\n",
    "        df=pd.DataFrame(columns = ['contig', 'ID', 'start', 'end', 'strand'])\n",
    "        # fill up the dataframe, using the database\n",
    "        query = db.execute(\"select seqid,start,end,strand,attributes from features where featuretype = 'CDS'\")\n",
    "        result = query.fetchall()\n",
    "\n",
    "        for each in result:\n",
    "            df=df.append({'ID':json.loads(each['attributes'])['ID'][0], 'contig':each['seqid'], 'end':each['end'], 'start':each['start'], 'strand':each['strand']}, ignore_index=True)\n",
    "\n",
    "        # add start genes\n",
    "        start_genes=[]\n",
    "        for index, row in phaster.iterrows():\n",
    "            if (multi_contig):\n",
    "                start_genes.append(get_genes_multi_contig(df, int(row.START), int(row.END), row.CONTIG).index[0])\n",
    "            else:\n",
    "                start_genes.append(get_genes(df, int(row.START), int(row.END)).index[0])\n",
    "        phaster['START_GENE']=start_genes\n",
    "\n",
    "        # add end genes\n",
    "        end_genes=[]\n",
    "        for index, row in phaster.iterrows():\n",
    "            if (multi_contig):\n",
    "                end_genes.append(get_genes_multi_contig(df, int(row.START), int(row.END), row.CONTIG).index[-1])\n",
    "            else:\n",
    "                end_genes.append(get_genes(df, int(row.START), int(row.END)).index[-1])\n",
    "        phaster['END_GENE']=end_genes\n",
    "        db=str(genome + \"_db\")\n",
    "        !rm $db\n",
    "        return phaster.loc[:,['CONTIG', 'REGION', 'START_GENE', 'END_GENE']]\n",
    "    else:\n",
    "        return pd.DataFrame(columns=['CONTIG', 'REGION', 'START_GENE', 'END_GENE'])\n",
    "    \n",
    "    "
   ]
  },
  {
   "cell_type": "code",
   "execution_count": 81,
   "id": "c26a66ea",
   "metadata": {
    "ExecuteTime": {
     "end_time": "2022-04-18T11:48:48.652578Z",
     "start_time": "2022-04-18T11:48:48.643846Z"
    }
   },
   "outputs": [],
   "source": [
    "def transform_frame(phaster):\n",
    "    if (not phaster.empty):\n",
    "        MGE_list=[]\n",
    "        for index,row in phaster.iterrows():\n",
    "            for gene in range(row.START_GENE, row.END_GENE+1):\n",
    "                MGE_list.append({'contig':row.CONTIG, 'MGE':row.REGION, 'gene_nr':gene})\n",
    "        MGE_frame=pd.DataFrame.from_records(MGE_list)\n",
    "        return MGE_frame\n",
    "    else:\n",
    "        return pd.DataFrame(columns=['contig', 'MGE', 'gene_nr'])"
   ]
  },
  {
   "cell_type": "code",
   "execution_count": 82,
   "id": "5a2f7e03",
   "metadata": {
    "ExecuteTime": {
     "end_time": "2022-04-18T11:49:09.568159Z",
     "start_time": "2022-04-18T11:49:09.562462Z"
    }
   },
   "outputs": [],
   "source": [
    "def write_output(MGE_frame):\n",
    "    if (not MGE_frame.empty):\n",
    "        MGE_frame.to_csv(output_path / genome_file)"
   ]
  },
  {
   "cell_type": "code",
   "execution_count": 84,
   "id": "082efa4b",
   "metadata": {
    "ExecuteTime": {
     "end_time": "2022-04-18T11:49:10.948293Z",
     "start_time": "2022-04-18T11:49:10.935796Z"
    }
   },
   "outputs": [
    {
     "data": {
      "text/html": [
       "<div>\n",
       "<style scoped>\n",
       "    .dataframe tbody tr th:only-of-type {\n",
       "        vertical-align: middle;\n",
       "    }\n",
       "\n",
       "    .dataframe tbody tr th {\n",
       "        vertical-align: top;\n",
       "    }\n",
       "\n",
       "    .dataframe thead th {\n",
       "        text-align: right;\n",
       "    }\n",
       "</style>\n",
       "<table border=\"1\" class=\"dataframe\">\n",
       "  <thead>\n",
       "    <tr style=\"text-align: right;\">\n",
       "      <th></th>\n",
       "      <th>CONTIG</th>\n",
       "      <th>REGION</th>\n",
       "      <th>START_GENE</th>\n",
       "      <th>END_GENE</th>\n",
       "    </tr>\n",
       "  </thead>\n",
       "  <tbody>\n",
       "  </tbody>\n",
       "</table>\n",
       "</div>"
      ],
      "text/plain": [
       "Empty DataFrame\n",
       "Columns: [CONTIG, REGION, START_GENE, END_GENE]\n",
       "Index: []"
      ]
     },
     "execution_count": 84,
     "metadata": {},
     "output_type": "execute_result"
    }
   ],
   "source": [
    "phaster=add_start_end_gene(genome, phaster)\n",
    "phaster"
   ]
  },
  {
   "cell_type": "code",
   "execution_count": 85,
   "id": "7d619d2c",
   "metadata": {
    "ExecuteTime": {
     "end_time": "2022-04-18T11:49:12.731199Z",
     "start_time": "2022-04-18T11:49:12.714697Z"
    }
   },
   "outputs": [
    {
     "data": {
      "text/html": [
       "<div>\n",
       "<style scoped>\n",
       "    .dataframe tbody tr th:only-of-type {\n",
       "        vertical-align: middle;\n",
       "    }\n",
       "\n",
       "    .dataframe tbody tr th {\n",
       "        vertical-align: top;\n",
       "    }\n",
       "\n",
       "    .dataframe thead th {\n",
       "        text-align: right;\n",
       "    }\n",
       "</style>\n",
       "<table border=\"1\" class=\"dataframe\">\n",
       "  <thead>\n",
       "    <tr style=\"text-align: right;\">\n",
       "      <th></th>\n",
       "      <th>contig</th>\n",
       "      <th>MGE</th>\n",
       "      <th>gene_nr</th>\n",
       "    </tr>\n",
       "  </thead>\n",
       "  <tbody>\n",
       "  </tbody>\n",
       "</table>\n",
       "</div>"
      ],
      "text/plain": [
       "Empty DataFrame\n",
       "Columns: [contig, MGE, gene_nr]\n",
       "Index: []"
      ]
     },
     "execution_count": 85,
     "metadata": {},
     "output_type": "execute_result"
    }
   ],
   "source": [
    "MGE_frame=transform_frame(phaster)\n",
    "MGE_frame"
   ]
  },
  {
   "cell_type": "code",
   "execution_count": null,
   "id": "541dcd36",
   "metadata": {},
   "outputs": [],
   "source": []
  },
  {
   "cell_type": "code",
   "execution_count": null,
   "id": "0f83a0ee",
   "metadata": {},
   "outputs": [],
   "source": []
  }
 ],
 "metadata": {
  "kernelspec": {
   "display_name": "Python 3 (ipykernel)",
   "language": "python",
   "name": "python3"
  },
  "language_info": {
   "codemirror_mode": {
    "name": "ipython",
    "version": 3
   },
   "file_extension": ".py",
   "mimetype": "text/x-python",
   "name": "python",
   "nbconvert_exporter": "python",
   "pygments_lexer": "ipython3",
   "version": "3.9.0"
  },
  "toc": {
   "base_numbering": 1,
   "nav_menu": {},
   "number_sections": true,
   "sideBar": true,
   "skip_h1_title": false,
   "title_cell": "Table of Contents",
   "title_sidebar": "Contents",
   "toc_cell": false,
   "toc_position": {},
   "toc_section_display": true,
   "toc_window_display": false
  },
  "varInspector": {
   "cols": {
    "lenName": 16,
    "lenType": 16,
    "lenVar": 40
   },
   "kernels_config": {
    "python": {
     "delete_cmd_postfix": "",
     "delete_cmd_prefix": "del ",
     "library": "var_list.py",
     "varRefreshCmd": "print(var_dic_list())"
    },
    "r": {
     "delete_cmd_postfix": ") ",
     "delete_cmd_prefix": "rm(",
     "library": "var_list.r",
     "varRefreshCmd": "cat(var_dic_list()) "
    }
   },
   "types_to_exclude": [
    "module",
    "function",
    "builtin_function_or_method",
    "instance",
    "_Feature"
   ],
   "window_display": false
  }
 },
 "nbformat": 4,
 "nbformat_minor": 5
}
