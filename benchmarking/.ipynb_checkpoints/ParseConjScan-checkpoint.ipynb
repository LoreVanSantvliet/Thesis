{
 "cells": [
  {
   "cell_type": "markdown",
   "id": "b04b1460",
   "metadata": {},
   "source": [
    "# ConjScan parser"
   ]
  },
  {
   "cell_type": "markdown",
   "id": "658e48dc",
   "metadata": {},
   "source": [
    "## Preparation"
   ]
  },
  {
   "cell_type": "code",
   "execution_count": 16,
   "id": "b9a2d22c",
   "metadata": {
    "ExecuteTime": {
     "end_time": "2022-04-13T12:09:47.562162Z",
     "start_time": "2022-04-13T12:09:47.553066Z"
    }
   },
   "outputs": [],
   "source": [
    "import pandas as pd\n",
    "from pathlib import Path\n",
    "import sys"
   ]
  },
  {
   "cell_type": "code",
   "execution_count": 17,
   "id": "f6fc7fc6",
   "metadata": {
    "ExecuteTime": {
     "end_time": "2022-04-13T12:09:47.973014Z",
     "start_time": "2022-04-13T12:09:47.961450Z"
    }
   },
   "outputs": [],
   "source": [
    "project_path=Path().resolve().parent.parent.parent\n",
    "input_path=project_path / \"results\" / \"intermediate\" / \"benchmarking\" / \"conjscan_raw\"\n",
    "result_path=project_path / \"results\" / \"intermediate\" / \"benchmarking\" / \"conjscan_parsed\""
   ]
  },
  {
   "cell_type": "code",
   "execution_count": 27,
   "id": "3e262168",
   "metadata": {
    "ExecuteTime": {
     "end_time": "2022-04-13T13:10:58.207208Z",
     "start_time": "2022-04-13T13:10:58.203445Z"
    }
   },
   "outputs": [],
   "source": [
    "genome_file=\"GCA_002796645.1.csv\""
   ]
  },
  {
   "cell_type": "markdown",
   "id": "3403e0b0",
   "metadata": {},
   "source": [
    "## Parse ConjScan output file"
   ]
  },
  {
   "cell_type": "code",
   "execution_count": 26,
   "id": "34b0ebb8",
   "metadata": {
    "ExecuteTime": {
     "end_time": "2022-04-13T12:15:05.122356Z",
     "start_time": "2022-04-13T12:15:04.855432Z"
    }
   },
   "outputs": [],
   "source": [
    "!sed -i'' -e '1,3d' $input_path/$genome_file\n",
    "!rm $input_path/*e"
   ]
  },
  {
   "cell_type": "code",
   "execution_count": 28,
   "id": "33483a38",
   "metadata": {
    "ExecuteTime": {
     "end_time": "2022-04-13T13:11:02.127347Z",
     "start_time": "2022-04-13T13:11:02.030545Z"
    }
   },
   "outputs": [],
   "source": [
    "file = pd.read_csv(input_path / genome_file, sep=\"\\t\")"
   ]
  },
  {
   "cell_type": "code",
   "execution_count": 29,
   "id": "6e4e5f32",
   "metadata": {
    "ExecuteTime": {
     "end_time": "2022-04-13T13:11:11.902448Z",
     "start_time": "2022-04-13T13:11:11.842986Z"
    }
   },
   "outputs": [
    {
     "data": {
      "text/html": [
       "<div>\n",
       "<style scoped>\n",
       "    .dataframe tbody tr th:only-of-type {\n",
       "        vertical-align: middle;\n",
       "    }\n",
       "\n",
       "    .dataframe tbody tr th {\n",
       "        vertical-align: top;\n",
       "    }\n",
       "\n",
       "    .dataframe thead th {\n",
       "        text-align: right;\n",
       "    }\n",
       "</style>\n",
       "<table border=\"1\" class=\"dataframe\">\n",
       "  <thead>\n",
       "    <tr style=\"text-align: right;\">\n",
       "      <th></th>\n",
       "      <th>replicon</th>\n",
       "      <th>hit_id</th>\n",
       "      <th>gene_name</th>\n",
       "      <th>hit_pos</th>\n",
       "      <th>model_fqn</th>\n",
       "      <th>sys_id</th>\n",
       "      <th>sys_loci</th>\n",
       "      <th>locus_num</th>\n",
       "      <th>sys_wholeness</th>\n",
       "      <th>sys_score</th>\n",
       "      <th>...</th>\n",
       "      <th>hit_status</th>\n",
       "      <th>hit_seq_len</th>\n",
       "      <th>hit_i_eval</th>\n",
       "      <th>hit_score</th>\n",
       "      <th>hit_profile_cov</th>\n",
       "      <th>hit_seq_cov</th>\n",
       "      <th>hit_begin_match</th>\n",
       "      <th>hit_end_match</th>\n",
       "      <th>counterpart</th>\n",
       "      <th>used_in</th>\n",
       "    </tr>\n",
       "  </thead>\n",
       "  <tbody>\n",
       "    <tr>\n",
       "      <th>0</th>\n",
       "      <td>UserReplicon</td>\n",
       "      <td>lcl|NZ_PHHG01000022.1_prot_779</td>\n",
       "      <td>T4SS_virb4</td>\n",
       "      <td>779</td>\n",
       "      <td>conj_chromosome/T4SS_typeFA</td>\n",
       "      <td>UserReplicon_T4SS_typeFA_1</td>\n",
       "      <td>1</td>\n",
       "      <td>1</td>\n",
       "      <td>0.5</td>\n",
       "      <td>3.8</td>\n",
       "      <td>...</td>\n",
       "      <td>mandatory</td>\n",
       "      <td>834</td>\n",
       "      <td>3.500000e-34</td>\n",
       "      <td>115.0</td>\n",
       "      <td>0.762</td>\n",
       "      <td>0.974</td>\n",
       "      <td>15</td>\n",
       "      <td>826</td>\n",
       "      <td>NaN</td>\n",
       "      <td>NaN</td>\n",
       "    </tr>\n",
       "    <tr>\n",
       "      <th>1</th>\n",
       "      <td>UserReplicon</td>\n",
       "      <td>lcl|NZ_PHHG01000022.1_prot_WP_100285058.1_780</td>\n",
       "      <td>FA_orf17b</td>\n",
       "      <td>780</td>\n",
       "      <td>conj_chromosome/T4SS_typeFA</td>\n",
       "      <td>UserReplicon_T4SS_typeFA_1</td>\n",
       "      <td>1</td>\n",
       "      <td>1</td>\n",
       "      <td>0.5</td>\n",
       "      <td>3.8</td>\n",
       "      <td>...</td>\n",
       "      <td>accessory</td>\n",
       "      <td>136</td>\n",
       "      <td>4.900000e-44</td>\n",
       "      <td>146.4</td>\n",
       "      <td>1.000</td>\n",
       "      <td>0.978</td>\n",
       "      <td>1</td>\n",
       "      <td>133</td>\n",
       "      <td>NaN</td>\n",
       "      <td>NaN</td>\n",
       "    </tr>\n",
       "    <tr>\n",
       "      <th>2</th>\n",
       "      <td>UserReplicon</td>\n",
       "      <td>lcl|NZ_PHHG01000022.1_prot_WP_100285059.1_782</td>\n",
       "      <td>FA_orf13</td>\n",
       "      <td>782</td>\n",
       "      <td>conj_chromosome/T4SS_typeFA</td>\n",
       "      <td>UserReplicon_T4SS_typeFA_1</td>\n",
       "      <td>1</td>\n",
       "      <td>1</td>\n",
       "      <td>0.5</td>\n",
       "      <td>3.8</td>\n",
       "      <td>...</td>\n",
       "      <td>accessory</td>\n",
       "      <td>331</td>\n",
       "      <td>2.000000e-43</td>\n",
       "      <td>145.6</td>\n",
       "      <td>0.985</td>\n",
       "      <td>0.949</td>\n",
       "      <td>8</td>\n",
       "      <td>321</td>\n",
       "      <td>NaN</td>\n",
       "      <td>NaN</td>\n",
       "    </tr>\n",
       "    <tr>\n",
       "      <th>3</th>\n",
       "      <td>UserReplicon</td>\n",
       "      <td>lcl|NZ_PHHG01000022.1_prot_WP_038675109.1_785</td>\n",
       "      <td>T4SS_MOBT</td>\n",
       "      <td>785</td>\n",
       "      <td>conj_chromosome/T4SS_typeFA</td>\n",
       "      <td>UserReplicon_T4SS_typeFA_1</td>\n",
       "      <td>1</td>\n",
       "      <td>1</td>\n",
       "      <td>0.5</td>\n",
       "      <td>3.8</td>\n",
       "      <td>...</td>\n",
       "      <td>mandatory</td>\n",
       "      <td>410</td>\n",
       "      <td>2.500000e-109</td>\n",
       "      <td>362.1</td>\n",
       "      <td>0.989</td>\n",
       "      <td>0.934</td>\n",
       "      <td>18</td>\n",
       "      <td>400</td>\n",
       "      <td>NaN</td>\n",
       "      <td>NaN</td>\n",
       "    </tr>\n",
       "    <tr>\n",
       "      <th>4</th>\n",
       "      <td>UserReplicon</td>\n",
       "      <td>lcl|NZ_PHHG01000022.1_prot_WP_100285061.1_786</td>\n",
       "      <td>T4SS_tcpA</td>\n",
       "      <td>786</td>\n",
       "      <td>conj_chromosome/T4SS_typeFA</td>\n",
       "      <td>UserReplicon_T4SS_typeFA_1</td>\n",
       "      <td>1</td>\n",
       "      <td>1</td>\n",
       "      <td>0.5</td>\n",
       "      <td>3.8</td>\n",
       "      <td>...</td>\n",
       "      <td>mandatory</td>\n",
       "      <td>562</td>\n",
       "      <td>1.000000e-73</td>\n",
       "      <td>245.8</td>\n",
       "      <td>0.838</td>\n",
       "      <td>0.701</td>\n",
       "      <td>39</td>\n",
       "      <td>432</td>\n",
       "      <td>NaN</td>\n",
       "      <td>NaN</td>\n",
       "    </tr>\n",
       "  </tbody>\n",
       "</table>\n",
       "<p>5 rows × 22 columns</p>\n",
       "</div>"
      ],
      "text/plain": [
       "       replicon                                         hit_id   gene_name  \\\n",
       "0  UserReplicon                 lcl|NZ_PHHG01000022.1_prot_779  T4SS_virb4   \n",
       "1  UserReplicon  lcl|NZ_PHHG01000022.1_prot_WP_100285058.1_780   FA_orf17b   \n",
       "2  UserReplicon  lcl|NZ_PHHG01000022.1_prot_WP_100285059.1_782    FA_orf13   \n",
       "3  UserReplicon  lcl|NZ_PHHG01000022.1_prot_WP_038675109.1_785   T4SS_MOBT   \n",
       "4  UserReplicon  lcl|NZ_PHHG01000022.1_prot_WP_100285061.1_786   T4SS_tcpA   \n",
       "\n",
       "   hit_pos                    model_fqn                      sys_id  sys_loci  \\\n",
       "0      779  conj_chromosome/T4SS_typeFA  UserReplicon_T4SS_typeFA_1         1   \n",
       "1      780  conj_chromosome/T4SS_typeFA  UserReplicon_T4SS_typeFA_1         1   \n",
       "2      782  conj_chromosome/T4SS_typeFA  UserReplicon_T4SS_typeFA_1         1   \n",
       "3      785  conj_chromosome/T4SS_typeFA  UserReplicon_T4SS_typeFA_1         1   \n",
       "4      786  conj_chromosome/T4SS_typeFA  UserReplicon_T4SS_typeFA_1         1   \n",
       "\n",
       "   locus_num  sys_wholeness  sys_score  ...  hit_status hit_seq_len  \\\n",
       "0          1            0.5        3.8  ...   mandatory         834   \n",
       "1          1            0.5        3.8  ...   accessory         136   \n",
       "2          1            0.5        3.8  ...   accessory         331   \n",
       "3          1            0.5        3.8  ...   mandatory         410   \n",
       "4          1            0.5        3.8  ...   mandatory         562   \n",
       "\n",
       "      hit_i_eval  hit_score  hit_profile_cov  hit_seq_cov  hit_begin_match  \\\n",
       "0   3.500000e-34      115.0            0.762        0.974               15   \n",
       "1   4.900000e-44      146.4            1.000        0.978                1   \n",
       "2   2.000000e-43      145.6            0.985        0.949                8   \n",
       "3  2.500000e-109      362.1            0.989        0.934               18   \n",
       "4   1.000000e-73      245.8            0.838        0.701               39   \n",
       "\n",
       "   hit_end_match  counterpart  used_in  \n",
       "0            826          NaN      NaN  \n",
       "1            133          NaN      NaN  \n",
       "2            321          NaN      NaN  \n",
       "3            400          NaN      NaN  \n",
       "4            432          NaN      NaN  \n",
       "\n",
       "[5 rows x 22 columns]"
      ]
     },
     "execution_count": 29,
     "metadata": {},
     "output_type": "execute_result"
    }
   ],
   "source": [
    "file"
   ]
  },
  {
   "cell_type": "code",
   "execution_count": 57,
   "id": "1fb74799",
   "metadata": {
    "ExecuteTime": {
     "end_time": "2022-04-13T13:18:06.368414Z",
     "start_time": "2022-04-13T13:18:06.362624Z"
    }
   },
   "outputs": [],
   "source": [
    "file[\"contig\"]=pd.DataFrame.from_records(file['hit_id'].apply(lambda s: s.split(sep='|')))[1]\n",
    "#file[\"contig\"]=str(pd.DataFrame.from_records(file['contig'].apply(lambda s: s.split(sep='_')))[0]+ \"_\" + pd.DataFrame.from_records(file['hit_id'].apply(lambda s: s.split(sep='_')))[1])"
   ]
  },
  {
   "cell_type": "code",
   "execution_count": 58,
   "id": "5e8a99f8",
   "metadata": {
    "ExecuteTime": {
     "end_time": "2022-04-13T13:18:06.789182Z",
     "start_time": "2022-04-13T13:18:06.779329Z"
    }
   },
   "outputs": [
    {
     "data": {
      "text/plain": [
       "0                   NZ_PHHG01000022.1_prot_779\n",
       "1    NZ_PHHG01000022.1_prot_WP_100285058.1_780\n",
       "2    NZ_PHHG01000022.1_prot_WP_100285059.1_782\n",
       "3    NZ_PHHG01000022.1_prot_WP_038675109.1_785\n",
       "4    NZ_PHHG01000022.1_prot_WP_100285061.1_786\n",
       "Name: contig, dtype: object"
      ]
     },
     "execution_count": 58,
     "metadata": {},
     "output_type": "execute_result"
    }
   ],
   "source": [
    "file.contig"
   ]
  },
  {
   "cell_type": "code",
   "execution_count": 59,
   "id": "34d1443a",
   "metadata": {
    "ExecuteTime": {
     "end_time": "2022-04-13T13:18:08.478127Z",
     "start_time": "2022-04-13T13:18:08.466776Z"
    }
   },
   "outputs": [],
   "source": [
    "file[\"contig\"]=pd.DataFrame.from_records(file['contig'].apply(lambda s: s.split(sep='_')))[0] + \"_\" +pd.DataFrame.from_records(file['contig'].apply(lambda s: s.split(sep='_')))[1]\n"
   ]
  },
  {
   "cell_type": "code",
   "execution_count": 60,
   "id": "d6db0ebf",
   "metadata": {
    "ExecuteTime": {
     "end_time": "2022-04-13T13:18:11.573082Z",
     "start_time": "2022-04-13T13:18:11.557633Z"
    }
   },
   "outputs": [
    {
     "data": {
      "text/plain": [
       "0    NZ_PHHG01000022.1\n",
       "1    NZ_PHHG01000022.1\n",
       "2    NZ_PHHG01000022.1\n",
       "3    NZ_PHHG01000022.1\n",
       "4    NZ_PHHG01000022.1\n",
       "Name: contig, dtype: object"
      ]
     },
     "execution_count": 60,
     "metadata": {},
     "output_type": "execute_result"
    }
   ],
   "source": [
    "file.contig"
   ]
  },
  {
   "cell_type": "code",
   "execution_count": 63,
   "id": "08079b38",
   "metadata": {
    "ExecuteTime": {
     "end_time": "2022-04-13T13:18:50.138388Z",
     "start_time": "2022-04-13T13:18:50.128624Z"
    }
   },
   "outputs": [],
   "source": [
    "file[\"gene\"]=file.hit_pos"
   ]
  },
  {
   "cell_type": "code",
   "execution_count": 64,
   "id": "a17b7787",
   "metadata": {
    "ExecuteTime": {
     "end_time": "2022-04-13T13:18:51.322530Z",
     "start_time": "2022-04-13T13:18:51.310001Z"
    }
   },
   "outputs": [],
   "source": [
    "file_final = file.loc[:,['contig', 'gene']]"
   ]
  },
  {
   "cell_type": "code",
   "execution_count": 14,
   "id": "5c39d078",
   "metadata": {
    "ExecuteTime": {
     "end_time": "2022-04-07T08:08:02.522553Z",
     "start_time": "2022-04-07T08:08:02.509285Z"
    }
   },
   "outputs": [],
   "source": [
    "file_final.to_csv(result_path / str(genome_file))"
   ]
  }
 ],
 "metadata": {
  "kernelspec": {
   "display_name": "Python 3 (ipykernel)",
   "language": "python",
   "name": "python3"
  },
  "language_info": {
   "codemirror_mode": {
    "name": "ipython",
    "version": 3
   },
   "file_extension": ".py",
   "mimetype": "text/x-python",
   "name": "python",
   "nbconvert_exporter": "python",
   "pygments_lexer": "ipython3",
   "version": "3.9.0"
  },
  "toc": {
   "base_numbering": 1,
   "nav_menu": {},
   "number_sections": true,
   "sideBar": true,
   "skip_h1_title": false,
   "title_cell": "Table of Contents",
   "title_sidebar": "Contents",
   "toc_cell": false,
   "toc_position": {},
   "toc_section_display": true,
   "toc_window_display": false
  },
  "varInspector": {
   "cols": {
    "lenName": 16,
    "lenType": 16,
    "lenVar": 40
   },
   "kernels_config": {
    "python": {
     "delete_cmd_postfix": "",
     "delete_cmd_prefix": "del ",
     "library": "var_list.py",
     "varRefreshCmd": "print(var_dic_list())"
    },
    "r": {
     "delete_cmd_postfix": ") ",
     "delete_cmd_prefix": "rm(",
     "library": "var_list.r",
     "varRefreshCmd": "cat(var_dic_list()) "
    }
   },
   "types_to_exclude": [
    "module",
    "function",
    "builtin_function_or_method",
    "instance",
    "_Feature"
   ],
   "window_display": false
  }
 },
 "nbformat": 4,
 "nbformat_minor": 5
}
