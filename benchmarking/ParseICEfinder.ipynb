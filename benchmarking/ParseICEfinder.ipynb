{
 "cells": [
  {
   "cell_type": "markdown",
   "id": "5713d450",
   "metadata": {},
   "source": [
    "# ICEfinder parser"
   ]
  },
  {
   "cell_type": "markdown",
   "id": "658e48dc",
   "metadata": {},
   "source": [
    "## Preparation"
   ]
  },
  {
   "cell_type": "code",
   "execution_count": 1,
   "id": "b9a2d22c",
   "metadata": {
    "ExecuteTime": {
     "end_time": "2022-04-05T07:00:32.842445Z",
     "start_time": "2022-04-05T07:00:31.844312Z"
    }
   },
   "outputs": [],
   "source": [
    "import pandas as pd\n",
    "from pathlib import Path\n",
    "import csv\n",
    "import gffutils"
   ]
  },
  {
   "cell_type": "code",
   "execution_count": 59,
   "id": "f6fc7fc6",
   "metadata": {
    "ExecuteTime": {
     "end_time": "2022-04-05T09:49:11.163100Z",
     "start_time": "2022-04-05T09:49:11.130613Z"
    }
   },
   "outputs": [],
   "source": [
    "project_path=Path().resolve().parent\n",
    "#input_path=project_path / \"results\" / \"intermediate\" / \"benchmarking\" / phaster_raw\"\n",
    "result_path=project_path / \"results\" / \"intermediate\" / \"benchmarking\" / \"icefinder_parsed\"\n",
    "gff_path=project_path / \"data\" / \"legen_v4_dereplicated_gffs\""
   ]
  },
  {
   "cell_type": "code",
   "execution_count": 3,
   "id": "3e262168",
   "metadata": {
    "ExecuteTime": {
     "end_time": "2022-04-05T07:00:32.918513Z",
     "start_time": "2022-04-05T07:00:32.912776Z"
    }
   },
   "outputs": [],
   "source": [
    "genome=\"GCA_902163985.1\""
   ]
  },
  {
   "cell_type": "markdown",
   "id": "3403e0b0",
   "metadata": {},
   "source": [
    "## Generate ICEfinder output file"
   ]
  },
  {
   "cell_type": "code",
   "execution_count": 40,
   "id": "2d7ae657",
   "metadata": {
    "ExecuteTime": {
     "end_time": "2022-04-05T07:29:37.360394Z",
     "start_time": "2022-04-05T07:29:37.351632Z"
    }
   },
   "outputs": [],
   "source": [
    "icefinder=pd.DataFrame(columns=['REGION', 'REGION_LENGTH', 'NAME', 'START', 'END', 'CONTIG'])"
   ]
  },
  {
   "cell_type": "code",
   "execution_count": 41,
   "id": "467157af",
   "metadata": {
    "ExecuteTime": {
     "end_time": "2022-04-05T07:29:37.697038Z",
     "start_time": "2022-04-05T07:29:37.685726Z"
    },
    "scrolled": true
   },
   "outputs": [
    {
     "data": {
      "text/html": [
       "<div>\n",
       "<style scoped>\n",
       "    .dataframe tbody tr th:only-of-type {\n",
       "        vertical-align: middle;\n",
       "    }\n",
       "\n",
       "    .dataframe tbody tr th {\n",
       "        vertical-align: top;\n",
       "    }\n",
       "\n",
       "    .dataframe thead th {\n",
       "        text-align: right;\n",
       "    }\n",
       "</style>\n",
       "<table border=\"1\" class=\"dataframe\">\n",
       "  <thead>\n",
       "    <tr style=\"text-align: right;\">\n",
       "      <th></th>\n",
       "      <th>REGION</th>\n",
       "      <th>REGION_LENGTH</th>\n",
       "      <th>NAME</th>\n",
       "      <th>START</th>\n",
       "      <th>END</th>\n",
       "      <th>CONTIG</th>\n",
       "    </tr>\n",
       "  </thead>\n",
       "  <tbody>\n",
       "  </tbody>\n",
       "</table>\n",
       "</div>"
      ],
      "text/plain": [
       "Empty DataFrame\n",
       "Columns: [REGION, REGION_LENGTH, NAME, START, END, CONTIG]\n",
       "Index: []"
      ]
     },
     "execution_count": 41,
     "metadata": {},
     "output_type": "execute_result"
    }
   ],
   "source": [
    "icefinder"
   ]
  },
  {
   "cell_type": "code",
   "execution_count": 43,
   "id": "f592f49e",
   "metadata": {
    "ExecuteTime": {
     "end_time": "2022-04-05T07:29:52.533306Z",
     "start_time": "2022-04-05T07:29:52.517797Z"
    }
   },
   "outputs": [],
   "source": [
    "icefinder=icefinder.append({'REGION':1, 'REGION_LENGTH':77921, 'NAME':\"Putative IME\", 'START':42387, 'END':120307, 'CONTIG':\"CABHBK010000001.1\"}, ignore_index=True)\n",
    "#icefinder=icefinder.append({'REGION':1, 'REGION_LENGTH':77921, 'NAME':\"Putative IME\", 'START':42387, 'END':120307}, ignore_index=True)\n",
    "\n",
    "\n"
   ]
  },
  {
   "cell_type": "code",
   "execution_count": 44,
   "id": "ce4b8e99",
   "metadata": {
    "ExecuteTime": {
     "end_time": "2022-04-05T07:29:53.217160Z",
     "start_time": "2022-04-05T07:29:53.202379Z"
    }
   },
   "outputs": [
    {
     "data": {
      "text/html": [
       "<div>\n",
       "<style scoped>\n",
       "    .dataframe tbody tr th:only-of-type {\n",
       "        vertical-align: middle;\n",
       "    }\n",
       "\n",
       "    .dataframe tbody tr th {\n",
       "        vertical-align: top;\n",
       "    }\n",
       "\n",
       "    .dataframe thead th {\n",
       "        text-align: right;\n",
       "    }\n",
       "</style>\n",
       "<table border=\"1\" class=\"dataframe\">\n",
       "  <thead>\n",
       "    <tr style=\"text-align: right;\">\n",
       "      <th></th>\n",
       "      <th>REGION</th>\n",
       "      <th>REGION_LENGTH</th>\n",
       "      <th>NAME</th>\n",
       "      <th>START</th>\n",
       "      <th>END</th>\n",
       "      <th>CONTIG</th>\n",
       "    </tr>\n",
       "  </thead>\n",
       "  <tbody>\n",
       "    <tr>\n",
       "      <th>0</th>\n",
       "      <td>1</td>\n",
       "      <td>77921</td>\n",
       "      <td>Putative IME</td>\n",
       "      <td>42387</td>\n",
       "      <td>120307</td>\n",
       "      <td>CABHBK010000001.1</td>\n",
       "    </tr>\n",
       "  </tbody>\n",
       "</table>\n",
       "</div>"
      ],
      "text/plain": [
       "  REGION REGION_LENGTH          NAME  START     END             CONTIG\n",
       "0      1         77921  Putative IME  42387  120307  CABHBK010000001.1"
      ]
     },
     "execution_count": 44,
     "metadata": {},
     "output_type": "execute_result"
    }
   ],
   "source": [
    "icefinder"
   ]
  },
  {
   "cell_type": "markdown",
   "id": "633da81d",
   "metadata": {},
   "source": [
    "## Location to gene nr"
   ]
  },
  {
   "cell_type": "code",
   "execution_count": 45,
   "id": "4b3abc8a",
   "metadata": {
    "ExecuteTime": {
     "end_time": "2022-04-05T07:29:56.361223Z",
     "start_time": "2022-04-05T07:29:56.353813Z"
    }
   },
   "outputs": [],
   "source": [
    "def get_genes_multi_contig(df, start, stop, contig):\n",
    "    return df[(df.start>=start) & (df.end<=stop) & (df.contig==contig)]"
   ]
  },
  {
   "cell_type": "code",
   "execution_count": 9,
   "id": "f033b725",
   "metadata": {
    "ExecuteTime": {
     "end_time": "2022-04-05T07:00:36.291817Z",
     "start_time": "2022-04-05T07:00:36.285141Z"
    }
   },
   "outputs": [],
   "source": [
    "def get_genes(df, start, stop):\n",
    "    return df[(df.start>=start) & (df.end<=stop)]"
   ]
  },
  {
   "cell_type": "code",
   "execution_count": 50,
   "id": "582c77e9",
   "metadata": {
    "ExecuteTime": {
     "end_time": "2022-04-05T07:41:32.317994Z",
     "start_time": "2022-04-05T07:41:32.295437Z"
    }
   },
   "outputs": [],
   "source": [
    "def add_start_end_gene(genome, icefinder):\n",
    "    gff= str(str(gff_path) + \"/\" + genome + \".gff\")\n",
    "    # generate a database\n",
    "    gffutils.create_db(gff, str(genome + \"_db\"))\n",
    "    db = gffutils.FeatureDB(dbfn=str(genome + \"_db\"))\n",
    "    # generate a dataframe\n",
    "    df=pd.DataFrame(columns = ['contig', 'ID', 'start', 'end', 'strand'])\n",
    "    # fill up the dataframe, using the database\n",
    "    query = db.execute(\"select seqid,start,end,strand,attributes from features where featuretype = 'CDS'\")\n",
    "    result = query.fetchall()\n",
    "\n",
    "    for each in result:\n",
    "        df=df.append({'ID':json.loads(each['attributes'])['ID'][0], 'contig':each['seqid'], 'end':each['end'], 'start':each['start'], 'strand':each['strand']}, ignore_index=True)\n",
    "    \n",
    "    # add start genes\n",
    "    start_genes=[]\n",
    "    for index, row in icefinder.iterrows():\n",
    "        genes=get_genes(df, int(row.START), int(row.END))\n",
    "        start_genes.append(get_genes_multi_contig(df, int(row.START), int(row.END), row.CONTIG).index[0])\n",
    "    icefinder['START_GENE']=start_genes\n",
    "    \n",
    "    # add end genes\n",
    "    end_genes=[]\n",
    "    for index, row in icefinder.iterrows():\n",
    "        end_genes.append(get_genes_multi_contig(df, int(row.START), int(row.END), row.CONTIG).index[-1])\n",
    "    icefinder['END_GENE']=end_genes\n",
    "    db=str(genome + \"_db\")\n",
    "    !rm $db\n",
    "    return icefinder\n",
    "    \n",
    "    "
   ]
  },
  {
   "cell_type": "code",
   "execution_count": 51,
   "id": "8dfa2da9",
   "metadata": {
    "ExecuteTime": {
     "end_time": "2022-04-05T07:42:01.286966Z",
     "start_time": "2022-04-05T07:41:32.625212Z"
    }
   },
   "outputs": [
    {
     "data": {
      "text/html": [
       "<div>\n",
       "<style scoped>\n",
       "    .dataframe tbody tr th:only-of-type {\n",
       "        vertical-align: middle;\n",
       "    }\n",
       "\n",
       "    .dataframe tbody tr th {\n",
       "        vertical-align: top;\n",
       "    }\n",
       "\n",
       "    .dataframe thead th {\n",
       "        text-align: right;\n",
       "    }\n",
       "</style>\n",
       "<table border=\"1\" class=\"dataframe\">\n",
       "  <thead>\n",
       "    <tr style=\"text-align: right;\">\n",
       "      <th></th>\n",
       "      <th>REGION</th>\n",
       "      <th>REGION_LENGTH</th>\n",
       "      <th>NAME</th>\n",
       "      <th>START</th>\n",
       "      <th>END</th>\n",
       "      <th>CONTIG</th>\n",
       "      <th>START_GENE</th>\n",
       "      <th>END_GENE</th>\n",
       "    </tr>\n",
       "  </thead>\n",
       "  <tbody>\n",
       "    <tr>\n",
       "      <th>0</th>\n",
       "      <td>1</td>\n",
       "      <td>77921</td>\n",
       "      <td>Putative IME</td>\n",
       "      <td>42387</td>\n",
       "      <td>120307</td>\n",
       "      <td>CABHBK010000001.1</td>\n",
       "      <td>39</td>\n",
       "      <td>113</td>\n",
       "    </tr>\n",
       "  </tbody>\n",
       "</table>\n",
       "</div>"
      ],
      "text/plain": [
       "  REGION REGION_LENGTH          NAME  START     END             CONTIG  \\\n",
       "0      1         77921  Putative IME  42387  120307  CABHBK010000001.1   \n",
       "\n",
       "   START_GENE  END_GENE  \n",
       "0          39       113  "
      ]
     },
     "execution_count": 51,
     "metadata": {},
     "output_type": "execute_result"
    }
   ],
   "source": [
    "add_start_end_gene(genome, icefinder)"
   ]
  },
  {
   "cell_type": "code",
   "execution_count": 12,
   "id": "1787b8fa",
   "metadata": {
    "ExecuteTime": {
     "end_time": "2022-04-05T07:01:16.532846Z",
     "start_time": "2022-04-05T07:01:16.398521Z"
    }
   },
   "outputs": [],
   "source": [
    "db=str(genome + \"_db\")\n",
    "!rm $db"
   ]
  },
  {
   "cell_type": "code",
   "execution_count": 63,
   "id": "43add3ce",
   "metadata": {
    "ExecuteTime": {
     "end_time": "2022-04-05T09:50:19.871658Z",
     "start_time": "2022-04-05T09:50:19.739988Z"
    }
   },
   "outputs": [],
   "source": [
    "! mkdir $result_path/$genome"
   ]
  },
  {
   "cell_type": "code",
   "execution_count": null,
   "id": "948cc335",
   "metadata": {},
   "outputs": [],
   "source": []
  }
 ],
 "metadata": {
  "kernelspec": {
   "display_name": "Python 3 (ipykernel)",
   "language": "python",
   "name": "python3"
  },
  "language_info": {
   "codemirror_mode": {
    "name": "ipython",
    "version": 3
   },
   "file_extension": ".py",
   "mimetype": "text/x-python",
   "name": "python",
   "nbconvert_exporter": "python",
   "pygments_lexer": "ipython3",
   "version": "3.9.0"
  },
  "toc": {
   "base_numbering": 1,
   "nav_menu": {},
   "number_sections": true,
   "sideBar": true,
   "skip_h1_title": false,
   "title_cell": "Table of Contents",
   "title_sidebar": "Contents",
   "toc_cell": false,
   "toc_position": {},
   "toc_section_display": true,
   "toc_window_display": false
  },
  "varInspector": {
   "cols": {
    "lenName": 16,
    "lenType": 16,
    "lenVar": 40
   },
   "kernels_config": {
    "python": {
     "delete_cmd_postfix": "",
     "delete_cmd_prefix": "del ",
     "library": "var_list.py",
     "varRefreshCmd": "print(var_dic_list())"
    },
    "r": {
     "delete_cmd_postfix": ") ",
     "delete_cmd_prefix": "rm(",
     "library": "var_list.r",
     "varRefreshCmd": "cat(var_dic_list()) "
    }
   },
   "types_to_exclude": [
    "module",
    "function",
    "builtin_function_or_method",
    "instance",
    "_Feature"
   ],
   "window_display": false
  }
 },
 "nbformat": 4,
 "nbformat_minor": 5
}
