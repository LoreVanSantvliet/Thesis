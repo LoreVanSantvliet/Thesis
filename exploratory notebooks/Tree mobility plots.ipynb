{
 "cells": [
  {
   "cell_type": "markdown",
   "id": "8ad00ba6",
   "metadata": {
    "ExecuteTime": {
     "end_time": "2022-04-26T11:43:41.263829Z",
     "start_time": "2022-04-26T11:43:41.259768Z"
    }
   },
   "source": [
    "# Tree mobility plots"
   ]
  },
  {
   "cell_type": "code",
   "execution_count": 2,
   "id": "e830e36c",
   "metadata": {
    "ExecuteTime": {
     "end_time": "2022-04-26T11:43:55.093207Z",
     "start_time": "2022-04-26T11:43:53.404039Z"
    }
   },
   "outputs": [],
   "source": [
    "# import statements\n",
    "import pandas as pd\n",
    "from pathlib import Path\n",
    "import matplotlib.pyplot as plt\n",
    "import sys\n",
    "from matplotlib.lines import Line2D"
   ]
  },
  {
   "cell_type": "code",
   "execution_count": 3,
   "id": "566f6556",
   "metadata": {
    "ExecuteTime": {
     "end_time": "2022-04-26T11:44:02.909239Z",
     "start_time": "2022-04-26T11:44:02.900931Z"
    }
   },
   "outputs": [],
   "source": [
    "# script parameters\n",
    "genomes_per_species = 10 # minimal number of genomes per species\n",
    "threshold_accessory = 0.9 # fraction of genomes per species an orthogroup can be present in at max. to be considered accessory\n",
    "min_contigsize = 20 # minimal contig size to be able to detect MGEs\n",
    "small_contig_threshold = 100 # contigs containing a number of genes >= 100 are considered small\n",
    "running_average_default = 20 # default number of consecutive genes to take into account to calculate running averages\n",
    "running_average_default_small_contigs = 5 # default number of consecutive genes to take into account to calculate running averages in small contigs\n",
    "project_path = Path().resolve().parent\n",
    "path_genomes = project_path / \"data\" / \"genomes_metadata.csv\"\n",
    "path_mobility = project_path / \"results\" / \"intermediate\" / \"mobility_frame.csv\"\n",
    "path_pangenome = project_path / \"data\" / \"pangenome.tsv\"\n",
    "output_path_plots = project_path / \"results\" / \"mobility_plots\"\n",
    "output_path_plots_2 = project_path / \"results\" / \"tree_mobility_plots\"\n",
    "output_path_files = project_path / \"results\" / \"mobility_files\"\n"
   ]
  },
  {
   "cell_type": "code",
   "execution_count": 4,
   "id": "8252c360",
   "metadata": {
    "ExecuteTime": {
     "end_time": "2022-04-26T11:44:21.921233Z",
     "start_time": "2022-04-26T11:44:10.991197Z"
    }
   },
   "outputs": [],
   "source": [
    "# import data\n",
    "genomes = pd.read_csv(path_genomes).loc[:,'genome':'gtdb_species']\n",
    "mobility_frame = pd.read_csv(path_mobility)\n",
    "pangenome = pd.read_csv(path_pangenome, delimiter=\"\\t\", header=None)\n",
    "pangenome.columns = [\"gene\", \"genome\", \"orthogroup\"]"
   ]
  },
  {
   "cell_type": "code",
   "execution_count": 5,
   "id": "dceb0f59",
   "metadata": {
    "ExecuteTime": {
     "end_time": "2022-04-26T11:44:22.014045Z",
     "start_time": "2022-04-26T11:44:22.007494Z"
    }
   },
   "outputs": [],
   "source": [
    "def get_species(genomes, genome):\n",
    "    \"\"\"Returns the bacterial species to which a genome belongs, based on a genomes metadata file.\"\"\"\n",
    "    return genomes[genomes.genome==genome].gtdb_species.item()"
   ]
  },
  {
   "cell_type": "code",
   "execution_count": 6,
   "id": "320b7a8a",
   "metadata": {
    "ExecuteTime": {
     "end_time": "2022-04-26T11:44:26.024924Z",
     "start_time": "2022-04-26T11:44:26.016542Z"
    }
   },
   "outputs": [],
   "source": [
    "def determine_order(pangenome):\n",
    "    \"\"\"Extracts contig and order information from the pangenome file.\"\"\"\n",
    "    order = pangenome[\"gene\"].str.split(\"_\", n=1, expand=True)\n",
    "    order[1] = pd.to_numeric(order[1])\n",
    "    order.columns = [\"contig\", \"order\"]\n",
    "    full_order = order.merge(pangenome, left_index=True, right_index=True)\n",
    "    return full_order\n"
   ]
  },
  {
   "cell_type": "code",
   "execution_count": 7,
   "id": "a4d70139",
   "metadata": {
    "ExecuteTime": {
     "end_time": "2022-04-26T11:44:33.105819Z",
     "start_time": "2022-04-26T11:44:33.098625Z"
    }
   },
   "outputs": [],
   "source": [
    "def get_nr_genes(full_order):\n",
    "    \"\"\"Counts the number of genes present per contig in a dataframe with columns 'contig' and 'gene'.\"\"\"\n",
    "    nr_genes = full_order.reindex(columns=[\"contig\", \"gene\"]).drop_duplicates().groupby(by = \"contig\", as_index = False).count()\n",
    "    nr_genes.columns = [\"contig\", \"nr_genes\"]\n",
    "    return nr_genes"
   ]
  },
  {
   "cell_type": "code",
   "execution_count": 8,
   "id": "b3daac7c",
   "metadata": {
    "ExecuteTime": {
     "end_time": "2022-04-26T11:44:42.499996Z",
     "start_time": "2022-04-26T11:44:42.493667Z"
    }
   },
   "outputs": [],
   "source": [
    "def get_size(full_order, contig):\n",
    "    \"\"\"Calculates the size of a contig of choice based on a dataframe with columns 'contig' and 'gene'.\"\"\"\n",
    "    nr_genes = get_nr_genes(full_order)\n",
    "    return nr_genes.nr_genes[nr_genes.contig==contig].item()"
   ]
  },
  {
   "cell_type": "code",
   "execution_count": 9,
   "id": "daa376b9",
   "metadata": {
    "ExecuteTime": {
     "end_time": "2022-04-26T11:44:51.344317Z",
     "start_time": "2022-04-26T11:44:51.336513Z"
    }
   },
   "outputs": [],
   "source": [
    "def get_contigs(full_order, genome, filter_size=min_contigsize):\n",
    "    \"\"\"Returns the contigs belonging to a genome of choice, in a dataframe with columns 'contig' and 'gene', filtered to contain a minimal number of genes per contig.\"\"\"\n",
    "    contigs = pd.DataFrame()\n",
    "    contigs['contig']=full_order.contig[full_order.genome==genome].drop_duplicates()\n",
    "    contigs_size=contigs.merge(get_nr_genes(full_order), on='contig')\n",
    "    contigs_final=contigs_size[(contigs_size.nr_genes)>=filter_size] # filter contigs: only contigs exceeding a size limit are retained\n",
    "    return contigs_final.contig"
   ]
  },
  {
   "cell_type": "code",
   "execution_count": 10,
   "id": "78cb798a",
   "metadata": {
    "ExecuteTime": {
     "end_time": "2022-04-26T11:44:58.954632Z",
     "start_time": "2022-04-26T11:44:58.947233Z"
    }
   },
   "outputs": [],
   "source": [
    "def count_genomes_per_species(genomes):\n",
    "    \"\"\"Counts the number of genomes present per species present in a genomes metadata file.\"\"\"\n",
    "    counts = genomes.groupby(by=\"gtdb_species\", as_index=False).count()\n",
    "    counts.columns = ['gtdb_species', 'counts']\n",
    "    return counts"
   ]
  },
  {
   "cell_type": "code",
   "execution_count": 11,
   "id": "38d44753",
   "metadata": {
    "ExecuteTime": {
     "end_time": "2022-04-26T11:45:07.104282Z",
     "start_time": "2022-04-26T11:45:07.098076Z"
    }
   },
   "outputs": [],
   "source": [
    "def filter_species(genomes, filter_threshold=genomes_per_species):\n",
    "    \"\"\"Filters the species to contain a minimal number of genomes per species.\"\"\"\n",
    "    counts = count_genomes_per_species(genomes)\n",
    "    genomes_filtered = pd.merge(genomes, counts[counts.counts >= filter_threshold], on='gtdb_species', how='right').sort_values('gtdb_species')\n",
    "    return genomes_filtered"
   ]
  },
  {
   "cell_type": "code",
   "execution_count": 12,
   "id": "35c51f65",
   "metadata": {
    "ExecuteTime": {
     "end_time": "2022-04-26T11:45:16.193013Z",
     "start_time": "2022-04-26T11:45:16.178885Z"
    }
   },
   "outputs": [],
   "source": [
    "def get_scc(genomes, genome, full):\n",
    "    \"\"\"Calculates flags for orthogroups present in a genome of choice:\n",
    "    whether or not this orthogroup is present as an accessory gene (represented by accessory==True), and whether or not this orthogroup is present as a single-copy gene (reprsented by 'count'==1). Returns a dataframe with columns 'orthogroup', 'count', 'accessory' and 'scc'. 'scc' is True when the orthogroup is accessory in this genome or when it is present in multiple copies.\n",
    "    \n",
    "    Args:\n",
    "        genomes: Genomes metadata file\n",
    "        genome: String representing the ID of the genome for which the mobility score needs to be plotted.\n",
    "        full: Datafame containing pangenome information, filtered for relevant species.\n",
    "    \"\"\"\n",
    "    \n",
    "    species = get_species(genomes, genome)\n",
    "    counts = count_genomes_per_species(genomes)\n",
    "    full_species = full[full.gtdb_species==species]\n",
    "    orthocounts_genomes_per_species = full_species.loc[:,[\"orthogroup\",\"gtdb_species\",\"genome\"]].drop_duplicates().groupby(by = [\"gtdb_species\", \"orthogroup\"], as_index = False).count()\n",
    "    orthocounts_genomes_per_species.columns = [\"gtdb_species\", \"orthogroup\", \"orthocounts\"]\n",
    "    res = pd.merge(orthocounts_genomes_per_species, counts, on = 'gtdb_species', how = 'left')\n",
    "    res.columns = [\"gtdb_species\", \"orthogroup\", \"orthocounts\", \"genome_counts\"]\n",
    "    res['accessory'] = (res.orthocounts <= threshold_accessory * res.genome_counts)\n",
    "    \n",
    "    full_species = full[full.gtdb_species==species]\n",
    "    orthocounts_genomes_per_species = full_species.loc[:,[\"orthogroup\",\"gtdb_species\",\"genome\"]].drop_duplicates().groupby(by = [\"gtdb_species\", \"orthogroup\"], as_index = False).count()\n",
    "    orthocounts_genomes_per_species.columns = [\"gtdb_species\", \"orthogroup\", \"orthocounts\"]\n",
    "    res = pd.merge(orthocounts_genomes_per_species, counts, on = 'gtdb_species', how = 'left')\n",
    "    res.columns = [\"gtdb_species\", \"orthogroup\", \"orthocounts\", \"genome_counts\"]\n",
    "    res['accessory'] = (res.orthocounts <= threshold_accessory * res.genome_counts)\n",
    "    \n",
    "    full_genome = full.loc[full.genome==genome]\n",
    "    genome_orthocounts = full_genome.loc[:,[\"orthogroup\",\"gtdb_species\"]].groupby(by = [\"orthogroup\"], as_index = False).count()\n",
    "    genome_orthocounts.columns = [\"orthogroup\", \"count\"]\n",
    "    \n",
    "    core_copy = pd.merge(genome_orthocounts.loc[:,[\"orthogroup\", \"count\"]], res.loc[:,[\"orthogroup\", \"accessory\"]], on=\"orthogroup\", how=\"left\")\n",
    "    d = {True: 'red', False: 'blue'}\n",
    "    core_copy['scc']=(core_copy.accessory)|(core_copy['count']>1)\n",
    "    core_copy.scc = core_copy.scc.map(d)\n",
    "    \n",
    "    return core_copy"
   ]
  },
  {
   "cell_type": "code",
   "execution_count": 25,
   "id": "4a4b15fd",
   "metadata": {
    "ExecuteTime": {
     "end_time": "2022-04-26T11:51:45.768383Z",
     "start_time": "2022-04-26T11:51:45.752074Z"
    }
   },
   "outputs": [],
   "source": [
    "def mobility_plots(genomes, genome, full, order, method=\"mobility_score\", n=running_average_default, indicate_accessory=True):\n",
    "    \"\"\"Plots the mobility score across a genome of choice, according to a method of choice.\n",
    "    \n",
    "    Args:\n",
    "        genomes: Genomes metadata file\n",
    "        genome: String representing the ID of the genome for which the mobility score needs to be plotted.\n",
    "        full: Datafame containing pangenome information, filtered for relevant species.\n",
    "        order: Datafame containing information on the contig, and order of genes, and pangenome information.\n",
    "        method: String representing the method used for calculating the mobility score. Options: \"species_count\", \"genomes_count\", \"accessory_fraction\".\n",
    "        n: integer indicating the number of consecutive genes to take into account for a moving average calulation.\n",
    "        indicate_accessory: Boolean indicating whether or not the plots need to be coloured based on accessory and copy number information of orthogroups.\n",
    "    \"\"\"\n",
    "    for contig in get_contigs(order, genome):\n",
    "        # a different number of consecutive genes is taken into account for small contigs\n",
    "        if get_size(full_order, contig) <= small_contig_threshold:\n",
    "            n=running_average_default_small_contigs\n",
    "        scc=get_scc(genomes, genome, full)\n",
    "        genome_order = order[(order.genome == genome)&(order.contig ==contig)].loc[:,[\"order\", \"orthogroup\"]]\n",
    "        mob_order = pd.merge(genome_order, mobility_frame, on=\"orthogroup\", how=\"left\").sort_values(by=\"order\")\n",
    "        mob_order_scc = pd.merge(mob_order, scc, on=\"orthogroup\", how = \"left\")\n",
    "        \n",
    "        # plot 2\n",
    "        print('Start plotting')\n",
    "        fig, ax = plt.subplots(figsize=(30, 10))\n",
    "        ax.plot(mob_order_scc.order, mob_order_scc['tree_score'].rolling(window=n, center=True).mean())\n",
    "        # color points based on acesory and copy number information of orthogroups\n",
    "        if indicate_accessory:\n",
    "            ax.scatter(mob_order_scc.order, mob_order_scc['tree_score'].rolling(window=n, center=True).mean(), c=mob_order_scc.scc, marker='o')\n",
    "        ax.set_xlabel(\"Gene position\", fontsize=20)\n",
    "        ax.set_ylabel(\"Mobility score\", fontsize=20)\n",
    "        ax.set_title(genome, fontsize=30)\n",
    "        ax.tick_params(labelsize=18)\n",
    "        legend_elements = [Line2D([0], [0], marker='o', color='blue', label='Single copy core'),\n",
    "                   Line2D([0], [0], marker='o', color='red', label='Accessory and/or multi copy')]\n",
    "        ax.legend(handles=legend_elements, fontsize=20)\n",
    "        plt.show()\n",
    "        return mob_order_scc\n",
    "        #plt.savefig(output_path_plots_2 / str(genome+'-'+contig+'.png'))"
   ]
  },
  {
   "cell_type": "code",
   "execution_count": null,
   "id": "69a448c4",
   "metadata": {},
   "outputs": [],
   "source": [
    "###\n",
    "def mobility_file(order, genome, genomes, full):\n",
    "    for contig in get_contigs(order, genome):\n",
    "        scc=get_scc(genomes, genome, full)\n",
    "        genome_order = order[(order.genome == genome)&(order.contig ==contig)].loc[:,[\"order\", \"orthogroup\", \"gene\"]]\n",
    "        mob_order = pd.merge(genome_order, mobility_frame.loc[:,[\"orthogroup\", \"accessory_fraction\", \"tree_score\"]], on=\"orthogroup\", how=\"left\").sort_values(by=\"order\")\n",
    "        mob_order_scc = pd.merge(mob_order, scc.loc[:, [\"orthogroup\", \"count\", \"accessory\"]], on=\"orthogroup\", how = \"left\")\n",
    "        mob_order_scc.to_csv(output_path_files / str(genome+'-'+contig+'.csv'))"
   ]
  },
  {
   "cell_type": "code",
   "execution_count": 22,
   "id": "e3fd0de6",
   "metadata": {
    "ExecuteTime": {
     "end_time": "2022-04-26T11:49:55.873435Z",
     "start_time": "2022-04-26T11:49:04.614949Z"
    }
   },
   "outputs": [],
   "source": [
    "genomes_filtered = filter_species(genomes=genomes)\n",
    "full = pd.merge(genomes_filtered, pangenome, on='genome', how='left')\n",
    "full_order = determine_order(pangenome)\n"
   ]
  },
  {
   "cell_type": "code",
   "execution_count": 23,
   "id": "24581371",
   "metadata": {
    "ExecuteTime": {
     "end_time": "2022-04-26T11:49:55.981094Z",
     "start_time": "2022-04-26T11:49:55.974635Z"
    }
   },
   "outputs": [],
   "source": [
    "genome=\"GCA_900985785.1\""
   ]
  },
  {
   "cell_type": "code",
   "execution_count": 26,
   "id": "726d2549",
   "metadata": {
    "ExecuteTime": {
     "end_time": "2022-04-26T11:52:40.528367Z",
     "start_time": "2022-04-26T11:51:52.307688Z"
    }
   },
   "outputs": [
    {
     "name": "stdout",
     "output_type": "stream",
     "text": [
      "Start plotting\n"
     ]
    },
    {
     "data": {
      "image/png": "[encoded data removed]",
      "text/plain": [
       "<Figure size 2160x720 with 1 Axes>"
      ]
     },
     "metadata": {
      "needs_background": "light"
     },
     "output_type": "display_data"
    }
   ],
   "source": [
    "l=mobility_plots(genomes=genomes, genome=genome, full=full, order=full_order, method=\"accessory_fraction\")\n",
    "#mobility_file(order=full_order, genome=sys.argv[1], genomes=genomes, full=full)"
   ]
  },
  {
   "cell_type": "code",
   "execution_count": 28,
   "id": "68f34276",
   "metadata": {
    "ExecuteTime": {
     "end_time": "2022-04-26T11:54:00.375390Z",
     "start_time": "2022-04-26T11:54:00.338789Z"
    }
   },
   "outputs": [
    {
     "data": {
      "text/html": [
       "<div>\n",
       "<style scoped>\n",
       "    .dataframe tbody tr th:only-of-type {\n",
       "        vertical-align: middle;\n",
       "    }\n",
       "\n",
       "    .dataframe tbody tr th {\n",
       "        vertical-align: top;\n",
       "    }\n",
       "\n",
       "    .dataframe thead th {\n",
       "        text-align: right;\n",
       "    }\n",
       "</style>\n",
       "<table border=\"1\" class=\"dataframe\">\n",
       "  <thead>\n",
       "    <tr style=\"text-align: right;\">\n",
       "      <th></th>\n",
       "      <th>order</th>\n",
       "      <th>orthogroup</th>\n",
       "      <th>Unnamed: 0</th>\n",
       "      <th>Unnamed: 0.1</th>\n",
       "      <th>species_count</th>\n",
       "      <th>genomes_count</th>\n",
       "      <th>accessory_count</th>\n",
       "      <th>core_count</th>\n",
       "      <th>accessory_fraction</th>\n",
       "      <th>counts_mob</th>\n",
       "      <th>tree_score</th>\n",
       "      <th>count</th>\n",
       "      <th>accessory</th>\n",
       "      <th>scc</th>\n",
       "    </tr>\n",
       "  </thead>\n",
       "  <tbody>\n",
       "    <tr>\n",
       "      <th>0</th>\n",
       "      <td>1</td>\n",
       "      <td>F04467_1</td>\n",
       "      <td>6737</td>\n",
       "      <td>6737</td>\n",
       "      <td>0.024390</td>\n",
       "      <td>0.000630</td>\n",
       "      <td>3.0</td>\n",
       "      <td>38.0</td>\n",
       "      <td>0.073171</td>\n",
       "      <td>0</td>\n",
       "      <td>NaN</td>\n",
       "      <td>2</td>\n",
       "      <td>False</td>\n",
       "      <td>red</td>\n",
       "    </tr>\n",
       "    <tr>\n",
       "      <th>1</th>\n",
       "      <td>2</td>\n",
       "      <td>F00558_4</td>\n",
       "      <td>1081</td>\n",
       "      <td>1081</td>\n",
       "      <td>0.012195</td>\n",
       "      <td>0.000328</td>\n",
       "      <td>1.0</td>\n",
       "      <td>81.0</td>\n",
       "      <td>0.012195</td>\n",
       "      <td>3056</td>\n",
       "      <td>0.919001</td>\n",
       "      <td>1</td>\n",
       "      <td>False</td>\n",
       "      <td>blue</td>\n",
       "    </tr>\n",
       "    <tr>\n",
       "      <th>2</th>\n",
       "      <td>3</td>\n",
       "      <td>F02074_7</td>\n",
       "      <td>3578</td>\n",
       "      <td>3578</td>\n",
       "      <td>0.012821</td>\n",
       "      <td>0.000336</td>\n",
       "      <td>0.0</td>\n",
       "      <td>78.0</td>\n",
       "      <td>0.000000</td>\n",
       "      <td>3056</td>\n",
       "      <td>0.833179</td>\n",
       "      <td>1</td>\n",
       "      <td>False</td>\n",
       "      <td>blue</td>\n",
       "    </tr>\n",
       "    <tr>\n",
       "      <th>3</th>\n",
       "      <td>4</td>\n",
       "      <td>F03928_5</td>\n",
       "      <td>6139</td>\n",
       "      <td>6139</td>\n",
       "      <td>0.018519</td>\n",
       "      <td>0.000498</td>\n",
       "      <td>2.0</td>\n",
       "      <td>52.0</td>\n",
       "      <td>0.037037</td>\n",
       "      <td>0</td>\n",
       "      <td>NaN</td>\n",
       "      <td>1</td>\n",
       "      <td>False</td>\n",
       "      <td>blue</td>\n",
       "    </tr>\n",
       "    <tr>\n",
       "      <th>4</th>\n",
       "      <td>5</td>\n",
       "      <td>F01345_1</td>\n",
       "      <td>2413</td>\n",
       "      <td>2413</td>\n",
       "      <td>0.016667</td>\n",
       "      <td>0.000470</td>\n",
       "      <td>5.0</td>\n",
       "      <td>55.0</td>\n",
       "      <td>0.083333</td>\n",
       "      <td>0</td>\n",
       "      <td>NaN</td>\n",
       "      <td>1</td>\n",
       "      <td>False</td>\n",
       "      <td>blue</td>\n",
       "    </tr>\n",
       "    <tr>\n",
       "      <th>...</th>\n",
       "      <td>...</td>\n",
       "      <td>...</td>\n",
       "      <td>...</td>\n",
       "      <td>...</td>\n",
       "      <td>...</td>\n",
       "      <td>...</td>\n",
       "      <td>...</td>\n",
       "      <td>...</td>\n",
       "      <td>...</td>\n",
       "      <td>...</td>\n",
       "      <td>...</td>\n",
       "      <td>...</td>\n",
       "      <td>...</td>\n",
       "      <td>...</td>\n",
       "    </tr>\n",
       "    <tr>\n",
       "      <th>228</th>\n",
       "      <td>229</td>\n",
       "      <td>F01514_4</td>\n",
       "      <td>2720</td>\n",
       "      <td>2720</td>\n",
       "      <td>0.015152</td>\n",
       "      <td>0.000391</td>\n",
       "      <td>5.0</td>\n",
       "      <td>61.0</td>\n",
       "      <td>0.075758</td>\n",
       "      <td>0</td>\n",
       "      <td>NaN</td>\n",
       "      <td>1</td>\n",
       "      <td>False</td>\n",
       "      <td>blue</td>\n",
       "    </tr>\n",
       "    <tr>\n",
       "      <th>229</th>\n",
       "      <td>230</td>\n",
       "      <td>F03493_5</td>\n",
       "      <td>5615</td>\n",
       "      <td>5615</td>\n",
       "      <td>0.012195</td>\n",
       "      <td>0.000328</td>\n",
       "      <td>0.0</td>\n",
       "      <td>82.0</td>\n",
       "      <td>0.000000</td>\n",
       "      <td>3056</td>\n",
       "      <td>0.929092</td>\n",
       "      <td>1</td>\n",
       "      <td>False</td>\n",
       "      <td>blue</td>\n",
       "    </tr>\n",
       "    <tr>\n",
       "      <th>230</th>\n",
       "      <td>231</td>\n",
       "      <td>F01105_4</td>\n",
       "      <td>2001</td>\n",
       "      <td>2001</td>\n",
       "      <td>0.012195</td>\n",
       "      <td>0.000329</td>\n",
       "      <td>0.0</td>\n",
       "      <td>82.0</td>\n",
       "      <td>0.000000</td>\n",
       "      <td>3056</td>\n",
       "      <td>0.935122</td>\n",
       "      <td>1</td>\n",
       "      <td>False</td>\n",
       "      <td>blue</td>\n",
       "    </tr>\n",
       "    <tr>\n",
       "      <th>231</th>\n",
       "      <td>232</td>\n",
       "      <td>F00962_2</td>\n",
       "      <td>1792</td>\n",
       "      <td>1792</td>\n",
       "      <td>0.012195</td>\n",
       "      <td>0.000329</td>\n",
       "      <td>1.0</td>\n",
       "      <td>81.0</td>\n",
       "      <td>0.012195</td>\n",
       "      <td>3056</td>\n",
       "      <td>0.940853</td>\n",
       "      <td>1</td>\n",
       "      <td>False</td>\n",
       "      <td>blue</td>\n",
       "    </tr>\n",
       "    <tr>\n",
       "      <th>232</th>\n",
       "      <td>233</td>\n",
       "      <td>F00244_2</td>\n",
       "      <td>526</td>\n",
       "      <td>526</td>\n",
       "      <td>0.012346</td>\n",
       "      <td>0.000329</td>\n",
       "      <td>0.0</td>\n",
       "      <td>81.0</td>\n",
       "      <td>0.000000</td>\n",
       "      <td>0</td>\n",
       "      <td>NaN</td>\n",
       "      <td>1</td>\n",
       "      <td>False</td>\n",
       "      <td>blue</td>\n",
       "    </tr>\n",
       "  </tbody>\n",
       "</table>\n",
       "<p>233 rows × 14 columns</p>\n",
       "</div>"
      ],
      "text/plain": [
       "     order orthogroup  Unnamed: 0  Unnamed: 0.1  species_count  genomes_count  \\\n",
       "0        1   F04467_1        6737          6737       0.024390       0.000630   \n",
       "1        2   F00558_4        1081          1081       0.012195       0.000328   \n",
       "2        3   F02074_7        3578          3578       0.012821       0.000336   \n",
       "3        4   F03928_5        6139          6139       0.018519       0.000498   \n",
       "4        5   F01345_1        2413          2413       0.016667       0.000470   \n",
       "..     ...        ...         ...           ...            ...            ...   \n",
       "228    229   F01514_4        2720          2720       0.015152       0.000391   \n",
       "229    230   F03493_5        5615          5615       0.012195       0.000328   \n",
       "230    231   F01105_4        2001          2001       0.012195       0.000329   \n",
       "231    232   F00962_2        1792          1792       0.012195       0.000329   \n",
       "232    233   F00244_2         526           526       0.012346       0.000329   \n",
       "\n",
       "     accessory_count  core_count  accessory_fraction  counts_mob  tree_score  \\\n",
       "0                3.0        38.0            0.073171           0         NaN   \n",
       "1                1.0        81.0            0.012195        3056    0.919001   \n",
       "2                0.0        78.0            0.000000        3056    0.833179   \n",
       "3                2.0        52.0            0.037037           0         NaN   \n",
       "4                5.0        55.0            0.083333           0         NaN   \n",
       "..               ...         ...                 ...         ...         ...   \n",
       "228              5.0        61.0            0.075758           0         NaN   \n",
       "229              0.0        82.0            0.000000        3056    0.929092   \n",
       "230              0.0        82.0            0.000000        3056    0.935122   \n",
       "231              1.0        81.0            0.012195        3056    0.940853   \n",
       "232              0.0        81.0            0.000000           0         NaN   \n",
       "\n",
       "     count  accessory   scc  \n",
       "0        2      False   red  \n",
       "1        1      False  blue  \n",
       "2        1      False  blue  \n",
       "3        1      False  blue  \n",
       "4        1      False  blue  \n",
       "..     ...        ...   ...  \n",
       "228      1      False  blue  \n",
       "229      1      False  blue  \n",
       "230      1      False  blue  \n",
       "231      1      False  blue  \n",
       "232      1      False  blue  \n",
       "\n",
       "[233 rows x 14 columns]"
      ]
     },
     "execution_count": 28,
     "metadata": {},
     "output_type": "execute_result"
    }
   ],
   "source": [
    "l"
   ]
  },
  {
   "cell_type": "code",
   "execution_count": 31,
   "id": "7f189821",
   "metadata": {
    "ExecuteTime": {
     "end_time": "2022-04-26T11:54:44.062585Z",
     "start_time": "2022-04-26T11:54:44.052739Z"
    }
   },
   "outputs": [
    {
     "data": {
      "text/plain": [
       "119"
      ]
     },
     "execution_count": 31,
     "metadata": {},
     "output_type": "execute_result"
    }
   ],
   "source": [
    "sum(np.isnan(l.tree_score))"
   ]
  },
  {
   "cell_type": "code",
   "execution_count": 32,
   "id": "ef094253",
   "metadata": {
    "ExecuteTime": {
     "end_time": "2022-04-26T11:55:45.584659Z",
     "start_time": "2022-04-26T11:55:45.209889Z"
    }
   },
   "outputs": [
    {
     "data": {
      "text/plain": [
       "<function matplotlib.pyplot.show(close=None, block=None)>"
      ]
     },
     "execution_count": 32,
     "metadata": {},
     "output_type": "execute_result"
    },
    {
     "data": {
      "image/png": "[encoded data removed]",
      "text/plain": [
       "<Figure size 2160x720 with 1 Axes>"
      ]
     },
     "metadata": {
      "needs_background": "light"
     },
     "output_type": "display_data"
    }
   ],
   "source": [
    "fig, ax = plt.subplots(figsize=(30, 10))\n",
    "ax.plot(l.order, l['tree_score'])\n",
    "plt.show"
   ]
  },
  {
   "cell_type": "code",
   "execution_count": null,
   "id": "a3947718",
   "metadata": {},
   "outputs": [],
   "source": []
  }
 ],
 "metadata": {
  "kernelspec": {
   "display_name": "Python 3 (ipykernel)",
   "language": "python",
   "name": "python3"
  },
  "language_info": {
   "codemirror_mode": {
    "name": "ipython",
    "version": 3
   },
   "file_extension": ".py",
   "mimetype": "text/x-python",
   "name": "python",
   "nbconvert_exporter": "python",
   "pygments_lexer": "ipython3",
   "version": "3.9.0"
  },
  "toc": {
   "base_numbering": 1,
   "nav_menu": {},
   "number_sections": true,
   "sideBar": true,
   "skip_h1_title": false,
   "title_cell": "Table of Contents",
   "title_sidebar": "Contents",
   "toc_cell": false,
   "toc_position": {},
   "toc_section_display": true,
   "toc_window_display": false
  },
  "varInspector": {
   "cols": {
    "lenName": 16,
    "lenType": 16,
    "lenVar": 40
   },
   "kernels_config": {
    "python": {
     "delete_cmd_postfix": "",
     "delete_cmd_prefix": "del ",
     "library": "var_list.py",
     "varRefreshCmd": "print(var_dic_list())"
    },
    "r": {
     "delete_cmd_postfix": ") ",
     "delete_cmd_prefix": "rm(",
     "library": "var_list.r",
     "varRefreshCmd": "cat(var_dic_list()) "
    }
   },
   "types_to_exclude": [
    "module",
    "function",
    "builtin_function_or_method",
    "instance",
    "_Feature"
   ],
   "window_display": false
  }
 },
 "nbformat": 4,
 "nbformat_minor": 5
}
