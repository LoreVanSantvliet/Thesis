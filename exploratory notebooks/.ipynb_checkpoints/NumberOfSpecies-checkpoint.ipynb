{
 "cells": [
  {
   "cell_type": "markdown",
   "id": "c4496ed5",
   "metadata": {
    "ExecuteTime": {
     "end_time": "2021-11-12T16:33:20.189782Z",
     "start_time": "2021-11-12T16:33:20.181899Z"
    }
   },
   "source": [
    "# Check if sufficient genomes are present per species"
   ]
  },
  {
   "cell_type": "markdown",
   "id": "dc9c8fcb",
   "metadata": {},
   "source": [
    "## Preparation"
   ]
  },
  {
   "cell_type": "code",
   "execution_count": 125,
   "id": "2625ca8f",
   "metadata": {
    "ExecuteTime": {
     "end_time": "2021-11-12T17:06:29.227023Z",
     "start_time": "2021-11-12T17:06:29.221805Z"
    }
   },
   "outputs": [],
   "source": [
    "import pandas as pd\n",
    "from pathlib import Path"
   ]
  },
  {
   "cell_type": "code",
   "execution_count": 126,
   "id": "3a7ffa20",
   "metadata": {
    "ExecuteTime": {
     "end_time": "2021-11-12T17:06:29.400575Z",
     "start_time": "2021-11-12T17:06:29.395715Z"
    }
   },
   "outputs": [],
   "source": [
    "# Parameters\n",
    "threshold = 10 # minimal number of genomes per species"
   ]
  },
  {
   "cell_type": "code",
   "execution_count": 127,
   "id": "99fd3a47",
   "metadata": {
    "ExecuteTime": {
     "end_time": "2021-11-12T17:06:29.567985Z",
     "start_time": "2021-11-12T17:06:29.561022Z"
    }
   },
   "outputs": [],
   "source": [
    "project_path = Path().resolve().parent"
   ]
  },
  {
   "cell_type": "markdown",
   "id": "3dde9650",
   "metadata": {
    "ExecuteTime": {
     "end_time": "2021-11-12T16:35:31.207420Z",
     "start_time": "2021-11-12T16:35:31.203766Z"
    }
   },
   "source": [
    "## Lactobacillus"
   ]
  },
  {
   "cell_type": "code",
   "execution_count": 138,
   "id": "3b9ffeb8",
   "metadata": {
    "ExecuteTime": {
     "end_time": "2021-11-12T17:32:51.428474Z",
     "start_time": "2021-11-12T17:32:51.422094Z"
    }
   },
   "outputs": [],
   "source": [
    "path_Lactobacillus = project_path / \"data\" / \"genomes_Lactobacillus.csv\""
   ]
  },
  {
   "cell_type": "code",
   "execution_count": 139,
   "id": "0c99f8f1",
   "metadata": {
    "ExecuteTime": {
     "end_time": "2021-11-12T17:32:51.593262Z",
     "start_time": "2021-11-12T17:32:51.581702Z"
    }
   },
   "outputs": [],
   "source": [
    "genomes_Lactobacillus = pd.read_csv(path_Lactobacillus)\n",
    "genomes_Lactobacillus.columns = [\"genome\", \"gtdb_species\"]"
   ]
  },
  {
   "cell_type": "code",
   "execution_count": 140,
   "id": "c0cf621b",
   "metadata": {
    "ExecuteTime": {
     "end_time": "2021-11-12T17:32:51.734934Z",
     "start_time": "2021-11-12T17:32:51.719302Z"
    }
   },
   "outputs": [
    {
     "data": {
      "text/html": [
       "<div>\n",
       "<style scoped>\n",
       "    .dataframe tbody tr th:only-of-type {\n",
       "        vertical-align: middle;\n",
       "    }\n",
       "\n",
       "    .dataframe tbody tr th {\n",
       "        vertical-align: top;\n",
       "    }\n",
       "\n",
       "    .dataframe thead th {\n",
       "        text-align: right;\n",
       "    }\n",
       "</style>\n",
       "<table border=\"1\" class=\"dataframe\">\n",
       "  <thead>\n",
       "    <tr style=\"text-align: right;\">\n",
       "      <th></th>\n",
       "      <th>genome</th>\n",
       "      <th>gtdb_species</th>\n",
       "    </tr>\n",
       "  </thead>\n",
       "  <tbody>\n",
       "    <tr>\n",
       "      <th>0</th>\n",
       "      <td>GCA_000219475.3</td>\n",
       "      <td>Lactobacillus johnsonii</td>\n",
       "    </tr>\n",
       "    <tr>\n",
       "      <th>1</th>\n",
       "      <td>GCA_000442765.1</td>\n",
       "      <td>Lactobacillus amylovorus</td>\n",
       "    </tr>\n",
       "    <tr>\n",
       "      <th>2</th>\n",
       "      <td>GCA_000980505.1</td>\n",
       "      <td>Lactobacillus amylovorus</td>\n",
       "    </tr>\n",
       "    <tr>\n",
       "      <th>3</th>\n",
       "      <td>GCA_001311275.1</td>\n",
       "      <td>Lactobacillus delbrueckii</td>\n",
       "    </tr>\n",
       "    <tr>\n",
       "      <th>4</th>\n",
       "      <td>GCA_001311335.1</td>\n",
       "      <td>Lactobacillus kefiranofaciens</td>\n",
       "    </tr>\n",
       "    <tr>\n",
       "      <th>...</th>\n",
       "      <td>...</td>\n",
       "      <td>...</td>\n",
       "    </tr>\n",
       "    <tr>\n",
       "      <th>273</th>\n",
       "      <td>GCA_006740305.1</td>\n",
       "      <td>Lactobacillus delbrueckii</td>\n",
       "    </tr>\n",
       "    <tr>\n",
       "      <th>274</th>\n",
       "      <td>GCA_006982025.1</td>\n",
       "      <td>Lactobacillus paragasseri</td>\n",
       "    </tr>\n",
       "    <tr>\n",
       "      <th>275</th>\n",
       "      <td>GCA_900112665.1</td>\n",
       "      <td>Lactobacillus bombicola</td>\n",
       "    </tr>\n",
       "    <tr>\n",
       "      <th>276</th>\n",
       "      <td>GCA_900196735.1</td>\n",
       "      <td>Lactobacillus delbrueckii</td>\n",
       "    </tr>\n",
       "    <tr>\n",
       "      <th>277</th>\n",
       "      <td>GCA_900322585.1</td>\n",
       "      <td>Lactobacillus delbrueckii</td>\n",
       "    </tr>\n",
       "  </tbody>\n",
       "</table>\n",
       "<p>278 rows × 2 columns</p>\n",
       "</div>"
      ],
      "text/plain": [
       "              genome                   gtdb_species\n",
       "0    GCA_000219475.3        Lactobacillus johnsonii\n",
       "1    GCA_000442765.1       Lactobacillus amylovorus\n",
       "2    GCA_000980505.1       Lactobacillus amylovorus\n",
       "3    GCA_001311275.1      Lactobacillus delbrueckii\n",
       "4    GCA_001311335.1  Lactobacillus kefiranofaciens\n",
       "..               ...                            ...\n",
       "273  GCA_006740305.1      Lactobacillus delbrueckii\n",
       "274  GCA_006982025.1      Lactobacillus paragasseri\n",
       "275  GCA_900112665.1        Lactobacillus bombicola\n",
       "276  GCA_900196735.1      Lactobacillus delbrueckii\n",
       "277  GCA_900322585.1      Lactobacillus delbrueckii\n",
       "\n",
       "[278 rows x 2 columns]"
      ]
     },
     "execution_count": 140,
     "metadata": {},
     "output_type": "execute_result"
    }
   ],
   "source": [
    "genomes_Lactobacillus"
   ]
  },
  {
   "cell_type": "code",
   "execution_count": 141,
   "id": "3a854400",
   "metadata": {
    "ExecuteTime": {
     "end_time": "2021-11-12T17:32:51.863083Z",
     "start_time": "2021-11-12T17:32:51.844830Z"
    }
   },
   "outputs": [
    {
     "data": {
      "text/html": [
       "<div>\n",
       "<style scoped>\n",
       "    .dataframe tbody tr th:only-of-type {\n",
       "        vertical-align: middle;\n",
       "    }\n",
       "\n",
       "    .dataframe tbody tr th {\n",
       "        vertical-align: top;\n",
       "    }\n",
       "\n",
       "    .dataframe thead th {\n",
       "        text-align: right;\n",
       "    }\n",
       "</style>\n",
       "<table border=\"1\" class=\"dataframe\">\n",
       "  <thead>\n",
       "    <tr style=\"text-align: right;\">\n",
       "      <th></th>\n",
       "      <th>gtdb_species</th>\n",
       "      <th>counts</th>\n",
       "    </tr>\n",
       "  </thead>\n",
       "  <tbody>\n",
       "    <tr>\n",
       "      <th>0</th>\n",
       "      <td>Lactobacillus acetotolerans</td>\n",
       "      <td>6</td>\n",
       "    </tr>\n",
       "    <tr>\n",
       "      <th>1</th>\n",
       "      <td>Lactobacillus acidophilus</td>\n",
       "      <td>2</td>\n",
       "    </tr>\n",
       "    <tr>\n",
       "      <th>2</th>\n",
       "      <td>Lactobacillus amylolyticus</td>\n",
       "      <td>4</td>\n",
       "    </tr>\n",
       "    <tr>\n",
       "      <th>3</th>\n",
       "      <td>Lactobacillus amylovorus</td>\n",
       "      <td>13</td>\n",
       "    </tr>\n",
       "    <tr>\n",
       "      <th>4</th>\n",
       "      <td>Lactobacillus apis</td>\n",
       "      <td>4</td>\n",
       "    </tr>\n",
       "    <tr>\n",
       "      <th>5</th>\n",
       "      <td>Lactobacillus bombicola</td>\n",
       "      <td>8</td>\n",
       "    </tr>\n",
       "    <tr>\n",
       "      <th>6</th>\n",
       "      <td>Lactobacillus crispatus</td>\n",
       "      <td>48</td>\n",
       "    </tr>\n",
       "    <tr>\n",
       "      <th>7</th>\n",
       "      <td>Lactobacillus delbrueckii</td>\n",
       "      <td>37</td>\n",
       "    </tr>\n",
       "    <tr>\n",
       "      <th>8</th>\n",
       "      <td>Lactobacillus delbrueckii_A</td>\n",
       "      <td>1</td>\n",
       "    </tr>\n",
       "    <tr>\n",
       "      <th>9</th>\n",
       "      <td>Lactobacillus equicursoris</td>\n",
       "      <td>2</td>\n",
       "    </tr>\n",
       "    <tr>\n",
       "      <th>10</th>\n",
       "      <td>Lactobacillus gallinarum</td>\n",
       "      <td>7</td>\n",
       "    </tr>\n",
       "    <tr>\n",
       "      <th>11</th>\n",
       "      <td>Lactobacillus gasseri</td>\n",
       "      <td>12</td>\n",
       "    </tr>\n",
       "    <tr>\n",
       "      <th>12</th>\n",
       "      <td>Lactobacillus gigeriorum</td>\n",
       "      <td>1</td>\n",
       "    </tr>\n",
       "    <tr>\n",
       "      <th>13</th>\n",
       "      <td>Lactobacillus hamsteri</td>\n",
       "      <td>1</td>\n",
       "    </tr>\n",
       "    <tr>\n",
       "      <th>14</th>\n",
       "      <td>Lactobacillus helsingborgensis</td>\n",
       "      <td>3</td>\n",
       "    </tr>\n",
       "    <tr>\n",
       "      <th>15</th>\n",
       "      <td>Lactobacillus helveticus</td>\n",
       "      <td>31</td>\n",
       "    </tr>\n",
       "    <tr>\n",
       "      <th>16</th>\n",
       "      <td>Lactobacillus hominis</td>\n",
       "      <td>1</td>\n",
       "    </tr>\n",
       "    <tr>\n",
       "      <th>17</th>\n",
       "      <td>Lactobacillus iners</td>\n",
       "      <td>19</td>\n",
       "    </tr>\n",
       "    <tr>\n",
       "      <th>18</th>\n",
       "      <td>Lactobacillus intestinalis</td>\n",
       "      <td>3</td>\n",
       "    </tr>\n",
       "    <tr>\n",
       "      <th>19</th>\n",
       "      <td>Lactobacillus jensenii</td>\n",
       "      <td>4</td>\n",
       "    </tr>\n",
       "    <tr>\n",
       "      <th>20</th>\n",
       "      <td>Lactobacillus jensenii_A</td>\n",
       "      <td>4</td>\n",
       "    </tr>\n",
       "    <tr>\n",
       "      <th>21</th>\n",
       "      <td>Lactobacillus johnsonii</td>\n",
       "      <td>26</td>\n",
       "    </tr>\n",
       "    <tr>\n",
       "      <th>22</th>\n",
       "      <td>Lactobacillus kalixensis</td>\n",
       "      <td>1</td>\n",
       "    </tr>\n",
       "    <tr>\n",
       "      <th>23</th>\n",
       "      <td>Lactobacillus kefiranofaciens</td>\n",
       "      <td>4</td>\n",
       "    </tr>\n",
       "    <tr>\n",
       "      <th>24</th>\n",
       "      <td>Lactobacillus kimbladii</td>\n",
       "      <td>1</td>\n",
       "    </tr>\n",
       "    <tr>\n",
       "      <th>25</th>\n",
       "      <td>Lactobacillus kitasatonis</td>\n",
       "      <td>1</td>\n",
       "    </tr>\n",
       "    <tr>\n",
       "      <th>26</th>\n",
       "      <td>Lactobacillus kullabergensis</td>\n",
       "      <td>3</td>\n",
       "    </tr>\n",
       "    <tr>\n",
       "      <th>27</th>\n",
       "      <td>Lactobacillus melliventris</td>\n",
       "      <td>4</td>\n",
       "    </tr>\n",
       "    <tr>\n",
       "      <th>28</th>\n",
       "      <td>Lactobacillus panisapium</td>\n",
       "      <td>1</td>\n",
       "    </tr>\n",
       "    <tr>\n",
       "      <th>29</th>\n",
       "      <td>Lactobacillus paragasseri</td>\n",
       "      <td>11</td>\n",
       "    </tr>\n",
       "    <tr>\n",
       "      <th>30</th>\n",
       "      <td>Lactobacillus pasteurii</td>\n",
       "      <td>1</td>\n",
       "    </tr>\n",
       "    <tr>\n",
       "      <th>31</th>\n",
       "      <td>Lactobacillus psittaci</td>\n",
       "      <td>1</td>\n",
       "    </tr>\n",
       "    <tr>\n",
       "      <th>32</th>\n",
       "      <td>Lactobacillus rodentium</td>\n",
       "      <td>1</td>\n",
       "    </tr>\n",
       "    <tr>\n",
       "      <th>33</th>\n",
       "      <td>Lactobacillus sp000760615</td>\n",
       "      <td>1</td>\n",
       "    </tr>\n",
       "    <tr>\n",
       "      <th>34</th>\n",
       "      <td>Lactobacillus sp002911475</td>\n",
       "      <td>1</td>\n",
       "    </tr>\n",
       "    <tr>\n",
       "      <th>35</th>\n",
       "      <td>Lactobacillus sp003692965</td>\n",
       "      <td>2</td>\n",
       "    </tr>\n",
       "    <tr>\n",
       "      <th>36</th>\n",
       "      <td>Lactobacillus taiwanensis</td>\n",
       "      <td>6</td>\n",
       "    </tr>\n",
       "    <tr>\n",
       "      <th>37</th>\n",
       "      <td>Lactobacillus ultunensis</td>\n",
       "      <td>1</td>\n",
       "    </tr>\n",
       "    <tr>\n",
       "      <th>38</th>\n",
       "      <td>Lactobacillus_G sp004359375</td>\n",
       "      <td>1</td>\n",
       "    </tr>\n",
       "  </tbody>\n",
       "</table>\n",
       "</div>"
      ],
      "text/plain": [
       "                      gtdb_species  counts\n",
       "0      Lactobacillus acetotolerans       6\n",
       "1        Lactobacillus acidophilus       2\n",
       "2       Lactobacillus amylolyticus       4\n",
       "3         Lactobacillus amylovorus      13\n",
       "4               Lactobacillus apis       4\n",
       "5          Lactobacillus bombicola       8\n",
       "6          Lactobacillus crispatus      48\n",
       "7        Lactobacillus delbrueckii      37\n",
       "8      Lactobacillus delbrueckii_A       1\n",
       "9       Lactobacillus equicursoris       2\n",
       "10        Lactobacillus gallinarum       7\n",
       "11           Lactobacillus gasseri      12\n",
       "12        Lactobacillus gigeriorum       1\n",
       "13          Lactobacillus hamsteri       1\n",
       "14  Lactobacillus helsingborgensis       3\n",
       "15        Lactobacillus helveticus      31\n",
       "16           Lactobacillus hominis       1\n",
       "17             Lactobacillus iners      19\n",
       "18      Lactobacillus intestinalis       3\n",
       "19          Lactobacillus jensenii       4\n",
       "20        Lactobacillus jensenii_A       4\n",
       "21         Lactobacillus johnsonii      26\n",
       "22        Lactobacillus kalixensis       1\n",
       "23   Lactobacillus kefiranofaciens       4\n",
       "24         Lactobacillus kimbladii       1\n",
       "25       Lactobacillus kitasatonis       1\n",
       "26    Lactobacillus kullabergensis       3\n",
       "27      Lactobacillus melliventris       4\n",
       "28        Lactobacillus panisapium       1\n",
       "29       Lactobacillus paragasseri      11\n",
       "30         Lactobacillus pasteurii       1\n",
       "31          Lactobacillus psittaci       1\n",
       "32         Lactobacillus rodentium       1\n",
       "33       Lactobacillus sp000760615       1\n",
       "34       Lactobacillus sp002911475       1\n",
       "35       Lactobacillus sp003692965       2\n",
       "36       Lactobacillus taiwanensis       6\n",
       "37        Lactobacillus ultunensis       1\n",
       "38     Lactobacillus_G sp004359375       1"
      ]
     },
     "execution_count": 141,
     "metadata": {},
     "output_type": "execute_result"
    }
   ],
   "source": [
    "counts = genomes_Lactobacillus.groupby(by = \"gtdb_species\", as_index = False).count()\n",
    "counts.columns = ['gtdb_species', 'counts']\n",
    "counts"
   ]
  },
  {
   "cell_type": "code",
   "execution_count": 142,
   "id": "8890602f",
   "metadata": {
    "ExecuteTime": {
     "end_time": "2021-11-12T17:32:54.696123Z",
     "start_time": "2021-11-12T17:32:54.687818Z"
    }
   },
   "outputs": [
    {
     "data": {
      "text/plain": [
       "8"
      ]
     },
     "execution_count": 142,
     "metadata": {},
     "output_type": "execute_result"
    }
   ],
   "source": [
    "counts.gtdb_species[counts.counts >= threshold].count()"
   ]
  },
  {
   "cell_type": "markdown",
   "id": "bc0d1ebf",
   "metadata": {
    "ExecuteTime": {
     "end_time": "2021-11-12T16:36:24.032291Z",
     "start_time": "2021-11-12T16:36:24.025235Z"
    }
   },
   "source": [
    "## Lactobacillales"
   ]
  },
  {
   "cell_type": "code",
   "execution_count": 143,
   "id": "78fe6aef",
   "metadata": {
    "ExecuteTime": {
     "end_time": "2021-11-12T17:32:55.834481Z",
     "start_time": "2021-11-12T17:32:55.830190Z"
    }
   },
   "outputs": [],
   "source": [
    "path_Lactobacillales = project_path / \"data\" / \"genomes_metadata.csv\""
   ]
  },
  {
   "cell_type": "code",
   "execution_count": 144,
   "id": "cfb288d3",
   "metadata": {
    "ExecuteTime": {
     "end_time": "2021-11-12T17:32:55.997143Z",
     "start_time": "2021-11-12T17:32:55.958989Z"
    }
   },
   "outputs": [
    {
     "data": {
      "text/html": [
       "<div>\n",
       "<style scoped>\n",
       "    .dataframe tbody tr th:only-of-type {\n",
       "        vertical-align: middle;\n",
       "    }\n",
       "\n",
       "    .dataframe tbody tr th {\n",
       "        vertical-align: top;\n",
       "    }\n",
       "\n",
       "    .dataframe thead th {\n",
       "        text-align: right;\n",
       "    }\n",
       "</style>\n",
       "<table border=\"1\" class=\"dataframe\">\n",
       "  <thead>\n",
       "    <tr style=\"text-align: right;\">\n",
       "      <th></th>\n",
       "      <th>genome</th>\n",
       "      <th>gtdb_species</th>\n",
       "    </tr>\n",
       "  </thead>\n",
       "  <tbody>\n",
       "    <tr>\n",
       "      <th>0</th>\n",
       "      <td>GCA_000143435.1</td>\n",
       "      <td>Ligilactobacillus salivarius</td>\n",
       "    </tr>\n",
       "    <tr>\n",
       "      <th>1</th>\n",
       "      <td>GCA_000167775.1</td>\n",
       "      <td>Streptococcus agalactiae</td>\n",
       "    </tr>\n",
       "    <tr>\n",
       "      <th>2</th>\n",
       "      <td>GCA_000167795.1</td>\n",
       "      <td>Streptococcus agalactiae</td>\n",
       "    </tr>\n",
       "    <tr>\n",
       "      <th>3</th>\n",
       "      <td>GCA_000179475.1</td>\n",
       "      <td>Ligilactobacillus salivarius</td>\n",
       "    </tr>\n",
       "    <tr>\n",
       "      <th>4</th>\n",
       "      <td>GCA_000195355.2</td>\n",
       "      <td>Lactobacillus helveticus</td>\n",
       "    </tr>\n",
       "    <tr>\n",
       "      <th>...</th>\n",
       "      <td>...</td>\n",
       "      <td>...</td>\n",
       "    </tr>\n",
       "    <tr>\n",
       "      <th>4366</th>\n",
       "      <td>GCA_902165155.1</td>\n",
       "      <td>Enterococcus_B faecium_B</td>\n",
       "    </tr>\n",
       "    <tr>\n",
       "      <th>4367</th>\n",
       "      <td>GCA_902165245.1</td>\n",
       "      <td>Enterococcus_B faecium</td>\n",
       "    </tr>\n",
       "    <tr>\n",
       "      <th>4368</th>\n",
       "      <td>GCA_902165765.1</td>\n",
       "      <td>Enterococcus_B faecium_B</td>\n",
       "    </tr>\n",
       "    <tr>\n",
       "      <th>4369</th>\n",
       "      <td>GCA_902165865.1</td>\n",
       "      <td>Enterococcus_B faecium</td>\n",
       "    </tr>\n",
       "    <tr>\n",
       "      <th>4370</th>\n",
       "      <td>GCA_902165965.1</td>\n",
       "      <td>Enterococcus_B faecium</td>\n",
       "    </tr>\n",
       "  </tbody>\n",
       "</table>\n",
       "<p>4371 rows × 2 columns</p>\n",
       "</div>"
      ],
      "text/plain": [
       "               genome                  gtdb_species\n",
       "0     GCA_000143435.1  Ligilactobacillus salivarius\n",
       "1     GCA_000167775.1      Streptococcus agalactiae\n",
       "2     GCA_000167795.1      Streptococcus agalactiae\n",
       "3     GCA_000179475.1  Ligilactobacillus salivarius\n",
       "4     GCA_000195355.2      Lactobacillus helveticus\n",
       "...               ...                           ...\n",
       "4366  GCA_902165155.1      Enterococcus_B faecium_B\n",
       "4367  GCA_902165245.1        Enterococcus_B faecium\n",
       "4368  GCA_902165765.1      Enterococcus_B faecium_B\n",
       "4369  GCA_902165865.1        Enterococcus_B faecium\n",
       "4370  GCA_902165965.1        Enterococcus_B faecium\n",
       "\n",
       "[4371 rows x 2 columns]"
      ]
     },
     "execution_count": 144,
     "metadata": {},
     "output_type": "execute_result"
    }
   ],
   "source": [
    "genomes_Lactobacillales = pd.read_csv(path_Lactobacillales).loc[:,'genome':'gtdb_species']\n",
    "genomes_Lactobacillales"
   ]
  },
  {
   "cell_type": "code",
   "execution_count": 145,
   "id": "b1d106e3",
   "metadata": {
    "ExecuteTime": {
     "end_time": "2021-11-12T17:32:56.126929Z",
     "start_time": "2021-11-12T17:32:56.101144Z"
    }
   },
   "outputs": [
    {
     "data": {
      "text/html": [
       "<div>\n",
       "<style scoped>\n",
       "    .dataframe tbody tr th:only-of-type {\n",
       "        vertical-align: middle;\n",
       "    }\n",
       "\n",
       "    .dataframe tbody tr th {\n",
       "        vertical-align: top;\n",
       "    }\n",
       "\n",
       "    .dataframe thead th {\n",
       "        text-align: right;\n",
       "    }\n",
       "</style>\n",
       "<table border=\"1\" class=\"dataframe\">\n",
       "  <thead>\n",
       "    <tr style=\"text-align: right;\">\n",
       "      <th></th>\n",
       "      <th>gtdb_species</th>\n",
       "      <th>counts</th>\n",
       "    </tr>\n",
       "  </thead>\n",
       "  <tbody>\n",
       "    <tr>\n",
       "      <th>0</th>\n",
       "      <td>26KH-42 sp004358325</td>\n",
       "      <td>1</td>\n",
       "    </tr>\n",
       "    <tr>\n",
       "      <th>1</th>\n",
       "      <td>Abiotrophia defectiva</td>\n",
       "      <td>1</td>\n",
       "    </tr>\n",
       "    <tr>\n",
       "      <th>2</th>\n",
       "      <td>Abiotrophia sp001815865</td>\n",
       "      <td>1</td>\n",
       "    </tr>\n",
       "    <tr>\n",
       "      <th>3</th>\n",
       "      <td>Abiotrophia sp900604935</td>\n",
       "      <td>1</td>\n",
       "    </tr>\n",
       "    <tr>\n",
       "      <th>4</th>\n",
       "      <td>Aerococcus christensenii</td>\n",
       "      <td>3</td>\n",
       "    </tr>\n",
       "    <tr>\n",
       "      <th>...</th>\n",
       "      <td>...</td>\n",
       "      <td>...</td>\n",
       "    </tr>\n",
       "    <tr>\n",
       "      <th>811</th>\n",
       "      <td>Weissella paramesenteroides</td>\n",
       "      <td>3</td>\n",
       "    </tr>\n",
       "    <tr>\n",
       "      <th>812</th>\n",
       "      <td>Weissella soli</td>\n",
       "      <td>1</td>\n",
       "    </tr>\n",
       "    <tr>\n",
       "      <th>813</th>\n",
       "      <td>Weissella thailandensis</td>\n",
       "      <td>2</td>\n",
       "    </tr>\n",
       "    <tr>\n",
       "      <th>814</th>\n",
       "      <td>Weissella viridescens</td>\n",
       "      <td>2</td>\n",
       "    </tr>\n",
       "    <tr>\n",
       "      <th>815</th>\n",
       "      <td>Weissella viridescens_A</td>\n",
       "      <td>1</td>\n",
       "    </tr>\n",
       "  </tbody>\n",
       "</table>\n",
       "<p>816 rows × 2 columns</p>\n",
       "</div>"
      ],
      "text/plain": [
       "                    gtdb_species  counts\n",
       "0            26KH-42 sp004358325       1\n",
       "1          Abiotrophia defectiva       1\n",
       "2        Abiotrophia sp001815865       1\n",
       "3        Abiotrophia sp900604935       1\n",
       "4       Aerococcus christensenii       3\n",
       "..                           ...     ...\n",
       "811  Weissella paramesenteroides       3\n",
       "812               Weissella soli       1\n",
       "813      Weissella thailandensis       2\n",
       "814        Weissella viridescens       2\n",
       "815      Weissella viridescens_A       1\n",
       "\n",
       "[816 rows x 2 columns]"
      ]
     },
     "execution_count": 145,
     "metadata": {},
     "output_type": "execute_result"
    }
   ],
   "source": [
    "counts = genomes_Lactobacillales.groupby(by = \"gtdb_species\", as_index = False).count()\n",
    "counts.columns = ['gtdb_species', 'counts']\n",
    "counts"
   ]
  },
  {
   "cell_type": "code",
   "execution_count": 146,
   "id": "214cb56d",
   "metadata": {
    "ExecuteTime": {
     "end_time": "2021-11-12T17:32:57.187247Z",
     "start_time": "2021-11-12T17:32:57.177286Z"
    }
   },
   "outputs": [
    {
     "data": {
      "text/plain": [
       "82"
      ]
     },
     "execution_count": 146,
     "metadata": {},
     "output_type": "execute_result"
    }
   ],
   "source": [
    "counts.gtdb_species[counts.counts >= threshold].count()"
   ]
  },
  {
   "cell_type": "markdown",
   "id": "9c3ff44e",
   "metadata": {},
   "source": [
    "Conclusion: there are only 8 species of Lactobacillus that have sufficient genomes present in the dataset to make the distinction between core/accessory genome. For the Lactobacillales order, there are 82 species available with a sufficient amount of genomes. Therefore, we continue with the Lactobacillales order."
   ]
  },
  {
   "cell_type": "code",
   "execution_count": null,
   "id": "065e6e0c",
   "metadata": {},
   "outputs": [],
   "source": []
  }
 ],
 "metadata": {
  "kernelspec": {
   "display_name": "Python 3 (ipykernel)",
   "language": "python",
   "name": "python3"
  },
  "language_info": {
   "codemirror_mode": {
    "name": "ipython",
    "version": 3
   },
   "file_extension": ".py",
   "mimetype": "text/x-python",
   "name": "python",
   "nbconvert_exporter": "python",
   "pygments_lexer": "ipython3",
   "version": "3.9.0"
  },
  "toc": {
   "base_numbering": 1,
   "nav_menu": {},
   "number_sections": true,
   "sideBar": true,
   "skip_h1_title": false,
   "title_cell": "Table of Contents",
   "title_sidebar": "Contents",
   "toc_cell": false,
   "toc_position": {},
   "toc_section_display": true,
   "toc_window_display": false
  },
  "varInspector": {
   "cols": {
    "lenName": 16,
    "lenType": 16,
    "lenVar": 40
   },
   "kernels_config": {
    "python": {
     "delete_cmd_postfix": "",
     "delete_cmd_prefix": "del ",
     "library": "var_list.py",
     "varRefreshCmd": "print(var_dic_list())"
    },
    "r": {
     "delete_cmd_postfix": ") ",
     "delete_cmd_prefix": "rm(",
     "library": "var_list.r",
     "varRefreshCmd": "cat(var_dic_list()) "
    }
   },
   "types_to_exclude": [
    "module",
    "function",
    "builtin_function_or_method",
    "instance",
    "_Feature"
   ],
   "window_display": false
  }
 },
 "nbformat": 4,
 "nbformat_minor": 5
}
