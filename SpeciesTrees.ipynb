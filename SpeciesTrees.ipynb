{
 "cells": [
  {
   "cell_type": "markdown",
   "id": "e1c79561",
   "metadata": {},
   "source": [
    "# Species trees"
   ]
  },
  {
   "cell_type": "code",
   "execution_count": 1,
   "id": "6530953e",
   "metadata": {
    "ExecuteTime": {
     "end_time": "2022-03-24T13:24:22.680594Z",
     "start_time": "2022-03-24T13:24:21.020654Z"
    }
   },
   "outputs": [],
   "source": [
    "import pandas as pd\n",
    "from pathlib import Path\n",
    "import matplotlib.pyplot as plt\n",
    "import numpy as np\n",
    "from Bio import AlignIO\n",
    "from Bio import Phylo\n",
    "from Bio.Phylo.TreeConstruction import DistanceCalculator\n",
    "from Bio.Phylo.TreeConstruction import DistanceTreeConstructor"
   ]
  },
  {
   "cell_type": "code",
   "execution_count": 5,
   "id": "f636eadd",
   "metadata": {
    "ExecuteTime": {
     "end_time": "2022-03-24T13:24:52.086445Z",
     "start_time": "2022-03-24T13:24:52.081433Z"
    }
   },
   "outputs": [],
   "source": [
    "project_path=Path().resolve().parent\n",
    "msa_path=project_path / \"results\" / \"intermediate\" / \"supermatrix\""
   ]
  },
  {
   "cell_type": "code",
   "execution_count": 6,
   "id": "db1b16a8",
   "metadata": {
    "ExecuteTime": {
     "end_time": "2022-03-24T13:25:06.224200Z",
     "start_time": "2022-03-24T13:25:06.218192Z"
    }
   },
   "outputs": [],
   "source": [
    "output_path=project_path / \"results\" / \"intermediate\" / \"species_trees\""
   ]
  },
  {
   "cell_type": "code",
   "execution_count": 7,
   "id": "59a856f7",
   "metadata": {
    "ExecuteTime": {
     "end_time": "2022-03-24T13:25:26.898709Z",
     "start_time": "2022-03-24T13:25:17.145666Z"
    }
   },
   "outputs": [],
   "source": [
    "pangenome=pd.read_csv(project_path / \"results\" / \"intermediate\" / \"filtered_pangenome.csv\")"
   ]
  },
  {
   "cell_type": "markdown",
   "id": "378c035e",
   "metadata": {},
   "source": [
    "## Tree generator"
   ]
  },
  {
   "cell_type": "code",
   "execution_count": 8,
   "id": "8920104f",
   "metadata": {
    "ExecuteTime": {
     "end_time": "2022-03-24T13:25:26.953881Z",
     "start_time": "2022-03-24T13:25:26.947538Z"
    }
   },
   "outputs": [],
   "source": [
    "species_file=\"Apilactobacillus kunkeei_A.fasta\"\n",
    "species=\"Apilactobacillus kunkeei_A\""
   ]
  },
  {
   "cell_type": "code",
   "execution_count": 9,
   "id": "d9d08962",
   "metadata": {
    "ExecuteTime": {
     "end_time": "2022-03-24T13:25:27.730805Z",
     "start_time": "2022-03-24T13:25:27.721572Z"
    }
   },
   "outputs": [],
   "source": [
    "def generate_speciestree(species):\n",
    "    species_file=str(species+\".fasta\")\n",
    "    aln = AlignIO.read(open(msa_path / species_file), 'fasta')\n",
    "    calculator = DistanceCalculator('identity')\n",
    "    dm = calculator.get_distance(aln)\n",
    "    constructor = DistanceTreeConstructor()\n",
    "    njtree = constructor.nj(dm)\n",
    "    Phylo.write(njtree, output_path / str(species+\".nw\"), \"newick\")"
   ]
  },
  {
   "cell_type": "code",
   "execution_count": 11,
   "id": "7b3b5822",
   "metadata": {
    "ExecuteTime": {
     "end_time": "2022-03-24T13:25:49.905176Z",
     "start_time": "2022-03-24T13:25:41.179415Z"
    }
   },
   "outputs": [],
   "source": [
    "generate_speciestree(species)"
   ]
  },
  {
   "cell_type": "code",
   "execution_count": 13,
   "id": "fd768917",
   "metadata": {
    "ExecuteTime": {
     "end_time": "2022-03-24T17:53:36.101363Z",
     "start_time": "2022-03-24T13:27:03.266673Z"
    }
   },
   "outputs": [
    {
     "name": "stdout",
     "output_type": "stream",
     "text": [
      "Apilactobacillus kunkeei_A\n",
      "Brochothrix thermosphacta\n",
      "Dolosigranulum pigrum\n",
      "Enterococcus faecalis\n",
      "Enterococcus_A avium\n",
      "Enterococcus_B durans\n",
      "Enterococcus_B faecium\n",
      "Enterococcus_B faecium_B\n",
      "Enterococcus_B hirae\n",
      "Enterococcus_B pernyi\n",
      "Enterococcus_D casseliflavus\n",
      "Enterococcus_D gallinarum\n",
      "Enterococcus_D sp002850555\n",
      "Enterococcus_E cecorum\n",
      "Fructilactobacillus sanfranciscensis\n",
      "Lacticaseibacillus paracasei\n",
      "Lacticaseibacillus rhamnosus\n",
      "Lactiplantibacillus pentosus\n",
      "Lactiplantibacillus plantarum\n",
      "Lactobacillus amylovorus\n",
      "Lactobacillus crispatus\n",
      "Lactobacillus delbrueckii\n",
      "Lactobacillus gasseri\n",
      "Lactobacillus helveticus\n",
      "Lactobacillus iners\n",
      "Lactobacillus johnsonii\n",
      "Lactobacillus paragasseri\n",
      "Lactococcus lactis\n",
      "Lactococcus lactis_E\n",
      "Latilactobacillus curvatus\n",
      "Latilactobacillus sakei\n",
      "Leuconostoc citreum\n",
      "Leuconostoc lactis\n",
      "Leuconostoc mesenteroides\n",
      "Levilactobacillus brevis\n",
      "Ligilactobacillus murinus\n",
      "Ligilactobacillus ruminis\n",
      "Ligilactobacillus salivarius\n",
      "Limosilactobacillus fermentum\n",
      "Limosilactobacillus mucosae\n",
      "Limosilactobacillus reuteri\n",
      "Listeria monocytogenes\n",
      "Listeria monocytogenes_B\n",
      "Listeria monocytogenes_C\n",
      "Oenococcus oeni\n",
      "Pediococcus acidilactici\n",
      "Pediococcus pentosaceus\n",
      "Streptococcus agalactiae\n",
      "Streptococcus anginosus\n",
      "Streptococcus anginosus_C\n",
      "Streptococcus constellatus\n",
      "Streptococcus dysgalactiae\n",
      "Streptococcus equi\n",
      "Streptococcus equinus\n",
      "Streptococcus gallolyticus\n",
      "Streptococcus gordonii\n",
      "Streptococcus intermedius\n",
      "Streptococcus lutetiensis\n",
      "Streptococcus mitis\n",
      "Streptococcus mutans\n",
      "Streptococcus oralis\n",
      "Streptococcus oralis_S\n",
      "Streptococcus parasanguinis\n",
      "Streptococcus parasanguinis_B\n",
      "Streptococcus parauberis\n",
      "Streptococcus pasteurianus\n",
      "Streptococcus pneumoniae\n",
      "Streptococcus pseudopneumoniae\n",
      "Streptococcus pseudopneumoniae_O\n",
      "Streptococcus pyogenes\n",
      "Streptococcus salivarius\n",
      "Streptococcus sanguinis\n",
      "Streptococcus sobrinus\n",
      "Streptococcus sp001556435\n",
      "Streptococcus suis\n",
      "Streptococcus suis_P\n",
      "Streptococcus suis_W\n",
      "Streptococcus thermophilus\n",
      "Streptococcus uberis\n",
      "Tetragenococcus halophilus\n",
      "Weissella cibaria\n",
      "Weissella confusa\n"
     ]
    }
   ],
   "source": [
    "for species in pangenome.gtdb_species.drop_duplicates():\n",
    "    print(species)\n",
    "    generate_speciestree(species)"
   ]
  },
  {
   "cell_type": "code",
   "execution_count": null,
   "id": "809d4d26",
   "metadata": {},
   "outputs": [],
   "source": []
  },
  {
   "cell_type": "code",
   "execution_count": null,
   "id": "685dee1d",
   "metadata": {},
   "outputs": [],
   "source": []
  }
 ],
 "metadata": {
  "kernelspec": {
   "display_name": "Python 3 (ipykernel)",
   "language": "python",
   "name": "python3"
  },
  "language_info": {
   "codemirror_mode": {
    "name": "ipython",
    "version": 3
   },
   "file_extension": ".py",
   "mimetype": "text/x-python",
   "name": "python",
   "nbconvert_exporter": "python",
   "pygments_lexer": "ipython3",
   "version": "3.9.0"
  },
  "toc": {
   "base_numbering": 1,
   "nav_menu": {},
   "number_sections": true,
   "sideBar": true,
   "skip_h1_title": false,
   "title_cell": "Table of Contents",
   "title_sidebar": "Contents",
   "toc_cell": false,
   "toc_position": {},
   "toc_section_display": true,
   "toc_window_display": false
  },
  "varInspector": {
   "cols": {
    "lenName": 16,
    "lenType": 16,
    "lenVar": 40
   },
   "kernels_config": {
    "python": {
     "delete_cmd_postfix": "",
     "delete_cmd_prefix": "del ",
     "library": "var_list.py",
     "varRefreshCmd": "print(var_dic_list())"
    },
    "r": {
     "delete_cmd_postfix": ") ",
     "delete_cmd_prefix": "rm(",
     "library": "var_list.r",
     "varRefreshCmd": "cat(var_dic_list()) "
    }
   },
   "types_to_exclude": [
    "module",
    "function",
    "builtin_function_or_method",
    "instance",
    "_Feature"
   ],
   "window_display": false
  }
 },
 "nbformat": 4,
 "nbformat_minor": 5
}
