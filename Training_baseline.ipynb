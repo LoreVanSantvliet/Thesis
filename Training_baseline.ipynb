{
 "cells": [
  {
   "cell_type": "markdown",
   "id": "5adf6cc0",
   "metadata": {},
   "source": [
    "# Training \"baseline\" approach"
   ]
  },
  {
   "cell_type": "markdown",
   "id": "96c32472",
   "metadata": {},
   "source": [
    "## Preparation"
   ]
  },
  {
   "cell_type": "code",
   "execution_count": 35,
   "id": "3e26e224",
   "metadata": {
    "ExecuteTime": {
     "end_time": "2022-05-16T15:44:10.951281Z",
     "start_time": "2022-05-16T15:44:10.945126Z"
    }
   },
   "outputs": [],
   "source": [
    "import pandas as pd\n",
    "from pathlib import Path\n",
    "import matplotlib.pyplot as plt\n",
    "import numpy as np\n",
    "import os"
   ]
  },
  {
   "cell_type": "code",
   "execution_count": 36,
   "id": "2d464000",
   "metadata": {
    "ExecuteTime": {
     "end_time": "2022-05-16T15:44:11.116457Z",
     "start_time": "2022-05-16T15:44:11.110061Z"
    }
   },
   "outputs": [],
   "source": [
    "project_path = Path().resolve().parent\n",
    "input_path = project_path / \"results\" / \"intermediate\" / \"training\" / \"baseline\"\n",
    "#output_path = project_path / \"results\" / \"MGE_files\""
   ]
  },
  {
   "cell_type": "markdown",
   "id": "7c69586c",
   "metadata": {},
   "source": [
    "## Joined performance"
   ]
  },
  {
   "cell_type": "code",
   "execution_count": 37,
   "id": "991531d7",
   "metadata": {
    "ExecuteTime": {
     "end_time": "2022-05-16T15:44:11.491173Z",
     "start_time": "2022-05-16T15:44:11.431006Z"
    }
   },
   "outputs": [
    {
     "data": {
      "text/html": [
       "<div>\n",
       "<style scoped>\n",
       "    .dataframe tbody tr th:only-of-type {\n",
       "        vertical-align: middle;\n",
       "    }\n",
       "\n",
       "    .dataframe tbody tr th {\n",
       "        vertical-align: top;\n",
       "    }\n",
       "\n",
       "    .dataframe thead th {\n",
       "        text-align: right;\n",
       "    }\n",
       "</style>\n",
       "<table border=\"1\" class=\"dataframe\">\n",
       "  <thead>\n",
       "    <tr style=\"text-align: right;\">\n",
       "      <th></th>\n",
       "      <th>genome</th>\n",
       "      <th>n_threshold</th>\n",
       "      <th>nr_tool</th>\n",
       "      <th>nr_toolscheme</th>\n",
       "      <th>nr_scheme</th>\n",
       "      <th>avge_dispersion</th>\n",
       "      <th>coverage_denominator</th>\n",
       "      <th>coverage_numerator</th>\n",
       "      <th>dispersion_weighted</th>\n",
       "    </tr>\n",
       "  </thead>\n",
       "  <tbody>\n",
       "    <tr>\n",
       "      <th>0</th>\n",
       "      <td>GCA_000820965.2</td>\n",
       "      <td>10</td>\n",
       "      <td>2</td>\n",
       "      <td>2</td>\n",
       "      <td>7</td>\n",
       "      <td>1.0</td>\n",
       "      <td>38</td>\n",
       "      <td>30</td>\n",
       "      <td>2.0</td>\n",
       "    </tr>\n",
       "    <tr>\n",
       "      <th>1</th>\n",
       "      <td>GCA_000963335.1</td>\n",
       "      <td>10</td>\n",
       "      <td>3</td>\n",
       "      <td>0</td>\n",
       "      <td>7</td>\n",
       "      <td>NaN</td>\n",
       "      <td>0</td>\n",
       "      <td>0</td>\n",
       "      <td>NaN</td>\n",
       "    </tr>\n",
       "    <tr>\n",
       "      <th>2</th>\n",
       "      <td>GCA_002860885.1</td>\n",
       "      <td>10</td>\n",
       "      <td>5</td>\n",
       "      <td>0</td>\n",
       "      <td>8</td>\n",
       "      <td>NaN</td>\n",
       "      <td>0</td>\n",
       "      <td>0</td>\n",
       "      <td>NaN</td>\n",
       "    </tr>\n",
       "    <tr>\n",
       "      <th>3</th>\n",
       "      <td>GCA_001682765.1</td>\n",
       "      <td>10</td>\n",
       "      <td>3</td>\n",
       "      <td>0</td>\n",
       "      <td>7</td>\n",
       "      <td>NaN</td>\n",
       "      <td>0</td>\n",
       "      <td>0</td>\n",
       "      <td>NaN</td>\n",
       "    </tr>\n",
       "    <tr>\n",
       "      <th>4</th>\n",
       "      <td>GCA_002289685.1</td>\n",
       "      <td>10</td>\n",
       "      <td>8</td>\n",
       "      <td>0</td>\n",
       "      <td>8</td>\n",
       "      <td>NaN</td>\n",
       "      <td>0</td>\n",
       "      <td>0</td>\n",
       "      <td>NaN</td>\n",
       "    </tr>\n",
       "    <tr>\n",
       "      <th>...</th>\n",
       "      <td>...</td>\n",
       "      <td>...</td>\n",
       "      <td>...</td>\n",
       "      <td>...</td>\n",
       "      <td>...</td>\n",
       "      <td>...</td>\n",
       "      <td>...</td>\n",
       "      <td>...</td>\n",
       "      <td>...</td>\n",
       "    </tr>\n",
       "    <tr>\n",
       "      <th>45</th>\n",
       "      <td>GCA_900092635.1</td>\n",
       "      <td>30</td>\n",
       "      <td>11</td>\n",
       "      <td>0</td>\n",
       "      <td>5</td>\n",
       "      <td>NaN</td>\n",
       "      <td>0</td>\n",
       "      <td>0</td>\n",
       "      <td>NaN</td>\n",
       "    </tr>\n",
       "    <tr>\n",
       "      <th>46</th>\n",
       "      <td>GCA_001754025.1</td>\n",
       "      <td>30</td>\n",
       "      <td>4</td>\n",
       "      <td>0</td>\n",
       "      <td>2</td>\n",
       "      <td>NaN</td>\n",
       "      <td>0</td>\n",
       "      <td>0</td>\n",
       "      <td>NaN</td>\n",
       "    </tr>\n",
       "    <tr>\n",
       "      <th>47</th>\n",
       "      <td>GCA_003186985.1</td>\n",
       "      <td>30</td>\n",
       "      <td>1</td>\n",
       "      <td>0</td>\n",
       "      <td>0</td>\n",
       "      <td>None</td>\n",
       "      <td>0</td>\n",
       "      <td>0</td>\n",
       "      <td>NaN</td>\n",
       "    </tr>\n",
       "    <tr>\n",
       "      <th>48</th>\n",
       "      <td>GCA_002138395.1</td>\n",
       "      <td>30</td>\n",
       "      <td>5</td>\n",
       "      <td>0</td>\n",
       "      <td>0</td>\n",
       "      <td>None</td>\n",
       "      <td>0</td>\n",
       "      <td>0</td>\n",
       "      <td>NaN</td>\n",
       "    </tr>\n",
       "    <tr>\n",
       "      <th>49</th>\n",
       "      <td>GCA_001433975.1</td>\n",
       "      <td>30</td>\n",
       "      <td>2</td>\n",
       "      <td>0</td>\n",
       "      <td>0</td>\n",
       "      <td>None</td>\n",
       "      <td>0</td>\n",
       "      <td>0</td>\n",
       "      <td>NaN</td>\n",
       "    </tr>\n",
       "  </tbody>\n",
       "</table>\n",
       "<p>150 rows × 9 columns</p>\n",
       "</div>"
      ],
      "text/plain": [
       "             genome n_threshold nr_tool nr_toolscheme nr_scheme  \\\n",
       "0   GCA_000820965.2          10       2             2         7   \n",
       "1   GCA_000963335.1          10       3             0         7   \n",
       "2   GCA_002860885.1          10       5             0         8   \n",
       "3   GCA_001682765.1          10       3             0         7   \n",
       "4   GCA_002289685.1          10       8             0         8   \n",
       "..              ...         ...     ...           ...       ...   \n",
       "45  GCA_900092635.1          30      11             0         5   \n",
       "46  GCA_001754025.1          30       4             0         2   \n",
       "47  GCA_003186985.1          30       1             0         0   \n",
       "48  GCA_002138395.1          30       5             0         0   \n",
       "49  GCA_001433975.1          30       2             0         0   \n",
       "\n",
       "   avge_dispersion coverage_denominator coverage_numerator dispersion_weighted  \n",
       "0              1.0                   38                 30                 2.0  \n",
       "1              NaN                    0                  0                 NaN  \n",
       "2              NaN                    0                  0                 NaN  \n",
       "3              NaN                    0                  0                 NaN  \n",
       "4              NaN                    0                  0                 NaN  \n",
       "..             ...                  ...                ...                 ...  \n",
       "45             NaN                    0                  0                 NaN  \n",
       "46             NaN                    0                  0                 NaN  \n",
       "47            None                    0                  0                 NaN  \n",
       "48            None                    0                  0                 NaN  \n",
       "49            None                    0                  0                 NaN  \n",
       "\n",
       "[150 rows x 9 columns]"
      ]
     },
     "execution_count": 37,
     "metadata": {},
     "output_type": "execute_result"
    }
   ],
   "source": [
    "performance=pd.DataFrame(columns=['genome', 'n_threshold', 'nr_tool', 'nr_toolscheme', 'nr_scheme', 'avge_dispersion', 'coverage_denominator', 'coverage_numerator'])\n",
    "#performance = pd.read_csv(input_path / str(i) / \"joined_performance.csv\", engine=\"python\")\n",
    "for i in [10, 20, 30]:\n",
    "    perf = pd.read_csv(input_path / str(i) / \"joined_performance.csv\", engine=\"python\", names=['genome', 'n_threshold', 'nr_tool', 'nr_toolscheme', 'nr_scheme', 'avge_dispersion', 'coverage_denominator', 'coverage_numerator'], header=None)\n",
    "    performance=pd.concat([performance, perf])\n",
    "performance['dispersion_weighted']=(performance.nr_toolscheme)*(pd.to_numeric(performance.avge_dispersion, errors='coerce'))\n",
    "performance"
   ]
  },
  {
   "cell_type": "code",
   "execution_count": 38,
   "id": "bedd01f7",
   "metadata": {
    "ExecuteTime": {
     "end_time": "2022-05-16T15:44:11.528679Z",
     "start_time": "2022-05-16T15:44:11.522540Z"
    }
   },
   "outputs": [],
   "source": [
    "#perf_wide=performance.pivot(index='genome', columns='n_threshold', values=['nr_tool', 'nr_toolscheme', 'nr_scheme', 'avge_dispersion', 'coverage_denominator', 'coverage_numerator'])\n",
    "#perf_wide\n",
    "\n",
    "\n"
   ]
  },
  {
   "cell_type": "code",
   "execution_count": 39,
   "id": "c53c3723",
   "metadata": {
    "ExecuteTime": {
     "end_time": "2022-05-16T15:44:11.711676Z",
     "start_time": "2022-05-16T15:44:11.690959Z"
    }
   },
   "outputs": [],
   "source": [
    "measures=performance.groupby(by='n_threshold', axis=0).sum()\n",
    "measures=measures.loc[:, ['nr_tool', 'nr_toolscheme', 'nr_scheme', 'coverage_denominator', 'dispersion_weighted', 'coverage_numerator']]"
   ]
  },
  {
   "cell_type": "code",
   "execution_count": 40,
   "id": "6b6d5f00",
   "metadata": {
    "ExecuteTime": {
     "end_time": "2022-05-16T15:44:11.984749Z",
     "start_time": "2022-05-16T15:44:11.955479Z"
    }
   },
   "outputs": [
    {
     "data": {
      "text/html": [
       "<div>\n",
       "<style scoped>\n",
       "    .dataframe tbody tr th:only-of-type {\n",
       "        vertical-align: middle;\n",
       "    }\n",
       "\n",
       "    .dataframe tbody tr th {\n",
       "        vertical-align: top;\n",
       "    }\n",
       "\n",
       "    .dataframe thead th {\n",
       "        text-align: right;\n",
       "    }\n",
       "</style>\n",
       "<table border=\"1\" class=\"dataframe\">\n",
       "  <thead>\n",
       "    <tr style=\"text-align: right;\">\n",
       "      <th></th>\n",
       "      <th>precision</th>\n",
       "      <th>recall</th>\n",
       "      <th>F-score</th>\n",
       "      <th>dispersion</th>\n",
       "      <th>coverage</th>\n",
       "    </tr>\n",
       "    <tr>\n",
       "      <th>n_threshold</th>\n",
       "      <th></th>\n",
       "      <th></th>\n",
       "      <th></th>\n",
       "      <th></th>\n",
       "      <th></th>\n",
       "    </tr>\n",
       "  </thead>\n",
       "  <tbody>\n",
       "    <tr>\n",
       "      <th>10</th>\n",
       "      <td>0.072210</td>\n",
       "      <td>0.159420</td>\n",
       "      <td>0.099398</td>\n",
       "      <td>1.060606</td>\n",
       "      <td>0.810651</td>\n",
       "    </tr>\n",
       "    <tr>\n",
       "      <th>20</th>\n",
       "      <td>0.173611</td>\n",
       "      <td>0.120773</td>\n",
       "      <td>0.142450</td>\n",
       "      <td>1.000000</td>\n",
       "      <td>0.815061</td>\n",
       "    </tr>\n",
       "    <tr>\n",
       "      <th>30</th>\n",
       "      <td>0.250000</td>\n",
       "      <td>0.086957</td>\n",
       "      <td>0.129032</td>\n",
       "      <td>1.000000</td>\n",
       "      <td>0.811856</td>\n",
       "    </tr>\n",
       "  </tbody>\n",
       "</table>\n",
       "</div>"
      ],
      "text/plain": [
       "             precision    recall   F-score  dispersion  coverage\n",
       "n_threshold                                                     \n",
       "10            0.072210  0.159420  0.099398    1.060606  0.810651\n",
       "20            0.173611  0.120773  0.142450    1.000000  0.815061\n",
       "30            0.250000  0.086957  0.129032    1.000000  0.811856"
      ]
     },
     "execution_count": 40,
     "metadata": {},
     "output_type": "execute_result"
    }
   ],
   "source": [
    "measures['precision']=measures.nr_toolscheme/measures.nr_scheme\n",
    "measures['recall']=measures.nr_toolscheme/measures.nr_tool\n",
    "measures['coverage']=measures.coverage_numerator/measures.coverage_denominator\n",
    "measures['dispersion']=measures.dispersion_weighted/measures.nr_toolscheme\n",
    "measures['F-score']=2*measures.precision*measures.recall/(measures.precision+measures.recall)\n",
    "measures.loc[:,['precision', 'recall', 'F-score', 'dispersion', 'coverage']]"
   ]
  },
  {
   "cell_type": "code",
   "execution_count": null,
   "id": "5bbaee40",
   "metadata": {},
   "outputs": [],
   "source": []
  },
  {
   "cell_type": "code",
   "execution_count": null,
   "id": "ad858eb0",
   "metadata": {},
   "outputs": [],
   "source": []
  }
 ],
 "metadata": {
  "kernelspec": {
   "display_name": "Python 3 (ipykernel)",
   "language": "python",
   "name": "python3"
  },
  "language_info": {
   "codemirror_mode": {
    "name": "ipython",
    "version": 3
   },
   "file_extension": ".py",
   "mimetype": "text/x-python",
   "name": "python",
   "nbconvert_exporter": "python",
   "pygments_lexer": "ipython3",
   "version": "3.9.0"
  },
  "toc": {
   "base_numbering": 1,
   "nav_menu": {},
   "number_sections": true,
   "sideBar": true,
   "skip_h1_title": false,
   "title_cell": "Table of Contents",
   "title_sidebar": "Contents",
   "toc_cell": false,
   "toc_position": {},
   "toc_section_display": true,
   "toc_window_display": false
  },
  "varInspector": {
   "cols": {
    "lenName": 16,
    "lenType": 16,
    "lenVar": 40
   },
   "kernels_config": {
    "python": {
     "delete_cmd_postfix": "",
     "delete_cmd_prefix": "del ",
     "library": "var_list.py",
     "varRefreshCmd": "print(var_dic_list())"
    },
    "r": {
     "delete_cmd_postfix": ") ",
     "delete_cmd_prefix": "rm(",
     "library": "var_list.r",
     "varRefreshCmd": "cat(var_dic_list()) "
    }
   },
   "types_to_exclude": [
    "module",
    "function",
    "builtin_function_or_method",
    "instance",
    "_Feature"
   ],
   "window_display": false
  }
 },
 "nbformat": 4,
 "nbformat_minor": 5
}
