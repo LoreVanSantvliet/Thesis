{
 "cells": [
  {
   "cell_type": "markdown",
   "id": "8d30a00c",
   "metadata": {
    "ExecuteTime": {
     "end_time": "2021-11-12T16:33:20.189782Z",
     "start_time": "2021-11-12T16:33:20.181899Z"
    }
   },
   "source": [
    "# Tree comparison"
   ]
  },
  {
   "cell_type": "markdown",
   "id": "96c32472",
   "metadata": {},
   "source": [
    "## Preparation"
   ]
  },
  {
   "cell_type": "code",
   "execution_count": 1,
   "id": "3e26e224",
   "metadata": {
    "ExecuteTime": {
     "end_time": "2022-04-25T11:41:10.961446Z",
     "start_time": "2022-04-25T11:41:08.601873Z"
    }
   },
   "outputs": [],
   "source": [
    "import pandas as pd\n",
    "from pathlib import Path\n",
    "#import matplotlib.pyplot as plt\n",
    "#import numpy as np\n",
    "#from ete3 import Tree\n",
    "from ete3 import PhyloTree"
   ]
  },
  {
   "cell_type": "code",
   "execution_count": 2,
   "id": "07b05f9c",
   "metadata": {
    "ExecuteTime": {
     "end_time": "2022-04-25T11:41:10.996304Z",
     "start_time": "2022-04-25T11:41:10.990897Z"
    }
   },
   "outputs": [],
   "source": [
    "project_path = Path().resolve().parent"
   ]
  },
  {
   "cell_type": "markdown",
   "id": "66bebc0b",
   "metadata": {
    "ExecuteTime": {
     "end_time": "2021-11-12T16:35:31.207420Z",
     "start_time": "2021-11-12T16:35:31.203766Z"
    }
   },
   "source": [
    "## Load tree"
   ]
  },
  {
   "cell_type": "code",
   "execution_count": 3,
   "id": "bec7414b",
   "metadata": {
    "ExecuteTime": {
     "end_time": "2022-04-20T10:31:59.848902Z",
     "start_time": "2022-04-20T10:31:59.831014Z"
    }
   },
   "outputs": [],
   "source": [
    "tree1=Tree(\"tree1.nw\")\n",
    "tree2=Tree(\"tree2.nw\")"
   ]
  },
  {
   "cell_type": "code",
   "execution_count": 4,
   "id": "dc57f11f",
   "metadata": {
    "ExecuteTime": {
     "end_time": "2022-04-20T10:31:59.892003Z",
     "start_time": "2022-04-20T10:31:59.880821Z"
    }
   },
   "outputs": [
    {
     "name": "stdout",
     "output_type": "stream",
     "text": [
      "((GCA_000228585.2:0.00536,(GCA_000228665.2:0.00343,GCA_000228025.2:0.01515)1:1)1:1,((GCA_000228345.2:0.01696,GCA_000228005.2:0.03563)1:1,(GCA_000227905.2:0.01136,(GCA_000227925.2:0.0096,(GCA_000227845.2:0.02181,(((GCA_000347935.1:0.01889,(GCA_000228685.2:0.02391,GCA_000227945.2:0.01863)1:1)1:1,(GCA_000228525.2:0.01157,(GCA_000227825.2:0.01566,GCA_000228125.2:0.00502)1:1)1:1)1:1,(GCA_000228445.2:0.01736,(((GCA_000228405.2:0.0186,GCA_000228165.2:0.00531)1:1,(((GCA_002266475.1:0.01386,GCA_000228265.2:0.02985)1:1,GCA_000227785.2:0.03076)1:1,GCA_000228145.2:0.0167)1:1)1:1,((GCA_003176795.1:0.02167,GCA_000228245.2:0.0196)1:1,((GCA_000439045.1:0.0093,GCA_000467915.2:0.01135)1:1,(GCA_003172975.1:0.00883,((GCA_000228625.2:0.01267,GCA_000228465.2:0.01951)1:1,(GCA_000228545.2:0.00822,GCA_000228305.2:0.00742)1:1)1:1)1:1)1:1)1:1)1:1)1:1)1:1)1:1)1:1)1:1)1:1,(GCA_000228085.2:0.0075,((GCA_000227805.2:0.02586,GCA_000227885.2:0.01548)1:1,GCA_000228485.2:0.02069)1:1)1:1);\n"
     ]
    }
   ],
   "source": [
    "print(tree1.write())"
   ]
  },
  {
   "cell_type": "code",
   "execution_count": 5,
   "id": "35251978",
   "metadata": {
    "ExecuteTime": {
     "end_time": "2022-04-20T10:31:59.931377Z",
     "start_time": "2022-04-20T10:31:59.923536Z"
    }
   },
   "outputs": [
    {
     "name": "stdout",
     "output_type": "stream",
     "text": [
      "\n",
      "            /-GCA_000227905.2-AZBY01000021.1_18\n",
      "           |\n",
      "           |      /-GCA_000228405.2-AZBY01000021.1_18\n",
      "         /-|   /-|\n",
      "        |  |  |   \\-GCA_003176795.1-AZBY01000021.1_18\n",
      "        |  |  |\n",
      "        |   \\-|      /-GCA_000228005.2-AZBY01000021.1_18\n",
      "        |     |   /-|\n",
      "        |     |  |   \\-GCA_000227805.2-AZBY01000021.1_18\n",
      "        |      \\-|\n",
      "        |        |      /-GCA_000228165.2-AZBY01000021.1_18\n",
      "      /-|        |   /-|\n",
      "     |  |         \\-|   \\-GCA_000439045.1-AZBY01000021.1_18\n",
      "     |  |           |\n",
      "     |  |            \\-GCA_000347935.1-AZBY01000021.1_18\n",
      "     |  |\n",
      "     |  |      /-GCA_000227845.2-AZBY01000021.1_18\n",
      "     |  |   /-|\n",
      "     |  |  |  |   /-GCA_000228125.2-AZBY01000021.1_18\n",
      "     |  |  |   \\-|\n",
      "     |   \\-|      \\-GCA_000228545.2-AZBY01000021.1_18\n",
      "     |     |\n",
      "     |     |   /-GCA_000228585.2-AZBY01000021.1_18\n",
      "     |     |  |\n",
      "     |      \\-|   /-GCA_003172975.1-AZBY01000021.1_18\n",
      "     |        |  |\n",
      "     |         \\-|      /-GCA_000228145.2-AZBY01000021.1_18\n",
      "   /-|           |   /-|\n",
      "  |  |           |  |   \\-GCA_000228345.2-AZBY01000021.1_18\n",
      "  |  |            \\-|\n",
      "  |  |              |   /-GCA_000467915.2-AZBY01000021.1_18\n",
      "  |  |              |  |\n",
      "  |  |               \\-|      /-GCA_000227925.2-AZBY01000021.1_18\n",
      "  |  |                 |   /-|\n",
      "  |  |                 |  |   \\-GCA_002266475.1-AZBY01000021.1_18\n",
      "  |  |                  \\-|\n",
      "  |  |                    |   /-GCA_000228445.2-AZBY01000021.1_18\n",
      "  |  |                     \\-|\n",
      "  |  |                        \\-GCA_000228465.2-AZBY01000021.1_18\n",
      "  |  |\n",
      "  |  |      /-GCA_000227945.2-AZBY01000021.1_18\n",
      "  |  |   /-|\n",
      "  |  |  |   \\-GCA_000228265.2-AZBY01000021.1_18\n",
      "  |   \\-|\n",
      "  |     |   /-GCA_000228625.2-AZBY01000021.1_18\n",
      "  |      \\-|\n",
      "--|        |   /-GCA_000228525.2-AZBY01000021.1_18\n",
      "  |         \\-|\n",
      "  |           |   /-GCA_000228025.2-AZBY01000021.1_18\n",
      "  |            \\-|\n",
      "  |               \\-GCA_000228485.2-AZBY01000021.1_18\n",
      "  |\n",
      "  |      /-GCA_000227885.2-AZBY01000021.1_18\n",
      "  |   /-|\n",
      "  |  |   \\-GCA_000227785.2-AZBY01000021.1_18\n",
      "  |--|\n",
      "  |  |   /-GCA_000228085.2-AZBY01000021.1_18\n",
      "  |   \\-|\n",
      "  |     |   /-GCA_000228245.2-AZBY01000021.1_18\n",
      "  |      \\-|\n",
      "  |        |   /-GCA_000228305.2-AZBY01000021.1_18\n",
      "  |         \\-|\n",
      "  |            \\-GCA_000228685.2-AZBY01000021.1_18\n",
      "  |\n",
      "  |   /-GCA_000227825.2-AZBY01000021.1_18\n",
      "   \\-|\n",
      "      \\-GCA_000228665.2-AZBY01000021.1_18\n"
     ]
    }
   ],
   "source": [
    "print(tree2)"
   ]
  },
  {
   "cell_type": "code",
   "execution_count": 11,
   "id": "79f38952",
   "metadata": {
    "ExecuteTime": {
     "end_time": "2022-04-20T10:32:24.551873Z",
     "start_time": "2022-04-20T10:32:24.539682Z"
    }
   },
   "outputs": [],
   "source": [
    "phylotree2=PhyloTree(\"tree2.nw\")\n",
    "phylotree2.set_species_naming_function(lambda node: node.name.split(\"-\")[0])\n",
    "phylotree1=PhyloTree(\"tree1.nw\")\n",
    "              \n",
    "              \n",
    "              \n",
    "              "
   ]
  },
  {
   "cell_type": "code",
   "execution_count": 12,
   "id": "0e571c17",
   "metadata": {
    "ExecuteTime": {
     "end_time": "2022-04-20T10:32:28.841454Z",
     "start_time": "2022-04-20T10:32:28.816320Z"
    }
   },
   "outputs": [
    {
     "name": "stderr",
     "output_type": "stream",
     "text": [
      "/Library/Frameworks/Python.framework/Versions/3.9/lib/python3.9/site-packages/numpy/core/fromnumeric.py:3440: RuntimeWarning: Mean of empty slice.\n",
      "  return _methods._mean(a, axis=axis, dtype=dtype,\n",
      "/Library/Frameworks/Python.framework/Versions/3.9/lib/python3.9/site-packages/numpy/core/_methods.py:189: RuntimeWarning: invalid value encountered in double_scalars\n",
      "  ret = ret.dtype.type(ret / rcount)\n"
     ]
    },
    {
     "data": {
      "text/plain": [
       "{'treeko_dist': 0.0,\n",
       " 'rf': 0.0,\n",
       " 'max_rf': 0,\n",
       " 'effective_tree_size': 0.0,\n",
       " 'norm_rf': 0.0,\n",
       " 'ref_edges_in_source': nan,\n",
       " 'source_edges_in_ref': nan,\n",
       " 'source_subtrees': 1,\n",
       " 'common_edges': set(),\n",
       " 'source_edges': set(),\n",
       " 'ref_edges': set()}"
      ]
     },
     "execution_count": 12,
     "metadata": {},
     "output_type": "execute_result"
    }
   ],
   "source": [
    "phylotree2.compare(phylotree1, use_collateral=False, min_support_source=0.0,\n",
    "min_support_ref=0.0, has_duplications=True, expand_polytomies=False, unrooted=True, max_treeko_splits_to_be_artifact=1000)\n"
   ]
  },
  {
   "cell_type": "code",
   "execution_count": 13,
   "id": "3cbd4ab4",
   "metadata": {
    "ExecuteTime": {
     "end_time": "2022-04-20T10:32:31.313762Z",
     "start_time": "2022-04-20T10:32:31.307270Z"
    }
   },
   "outputs": [
    {
     "name": "stdout",
     "output_type": "stream",
     "text": [
      "\n",
      "            /-GCA_000227905.2-AZBY01000021.1_18\n",
      "           |\n",
      "           |      /-GCA_000228405.2-AZBY01000021.1_18\n",
      "         /-|   /-|\n",
      "        |  |  |   \\-GCA_003176795.1-AZBY01000021.1_18\n",
      "        |  |  |\n",
      "        |   \\-|      /-GCA_000228005.2-AZBY01000021.1_18\n",
      "        |     |   /-|\n",
      "        |     |  |   \\-GCA_000227805.2-AZBY01000021.1_18\n",
      "        |      \\-|\n",
      "        |        |      /-GCA_000228165.2-AZBY01000021.1_18\n",
      "      /-|        |   /-|\n",
      "     |  |         \\-|   \\-GCA_000439045.1-AZBY01000021.1_18\n",
      "     |  |           |\n",
      "     |  |            \\-GCA_000347935.1-AZBY01000021.1_18\n",
      "     |  |\n",
      "     |  |      /-GCA_000227845.2-AZBY01000021.1_18\n",
      "     |  |   /-|\n",
      "     |  |  |  |   /-GCA_000228125.2-AZBY01000021.1_18\n",
      "     |  |  |   \\-|\n",
      "     |   \\-|      \\-GCA_000228545.2-AZBY01000021.1_18\n",
      "     |     |\n",
      "     |     |   /-GCA_000228585.2-AZBY01000021.1_18\n",
      "     |     |  |\n",
      "     |      \\-|   /-GCA_003172975.1-AZBY01000021.1_18\n",
      "     |        |  |\n",
      "     |         \\-|      /-GCA_000228145.2-AZBY01000021.1_18\n",
      "   /-|           |   /-|\n",
      "  |  |           |  |   \\-GCA_000228345.2-AZBY01000021.1_18\n",
      "  |  |            \\-|\n",
      "  |  |              |   /-GCA_000467915.2-AZBY01000021.1_18\n",
      "  |  |              |  |\n",
      "  |  |               \\-|      /-GCA_000227925.2-AZBY01000021.1_18\n",
      "  |  |                 |   /-|\n",
      "  |  |                 |  |   \\-GCA_002266475.1-AZBY01000021.1_18\n",
      "  |  |                  \\-|\n",
      "  |  |                    |   /-GCA_000228445.2-AZBY01000021.1_18\n",
      "  |  |                     \\-|\n",
      "  |  |                        \\-GCA_000228465.2-AZBY01000021.1_18\n",
      "  |  |\n",
      "  |  |      /-GCA_000227945.2-AZBY01000021.1_18\n",
      "  |  |   /-|\n",
      "  |  |  |   \\-GCA_000228265.2-AZBY01000021.1_18\n",
      "  |   \\-|\n",
      "  |     |   /-GCA_000228625.2-AZBY01000021.1_18\n",
      "  |      \\-|\n",
      "--|        |   /-GCA_000228525.2-AZBY01000021.1_18\n",
      "  |         \\-|\n",
      "  |           |   /-GCA_000228025.2-AZBY01000021.1_18\n",
      "  |            \\-|\n",
      "  |               \\-GCA_000228485.2-AZBY01000021.1_18\n",
      "  |\n",
      "  |      /-GCA_000227885.2-AZBY01000021.1_18\n",
      "  |   /-|\n",
      "  |  |   \\-GCA_000227785.2-AZBY01000021.1_18\n",
      "  |--|\n",
      "  |  |   /-GCA_000228085.2-AZBY01000021.1_18\n",
      "  |   \\-|\n",
      "  |     |   /-GCA_000228245.2-AZBY01000021.1_18\n",
      "  |      \\-|\n",
      "  |        |   /-GCA_000228305.2-AZBY01000021.1_18\n",
      "  |         \\-|\n",
      "  |            \\-GCA_000228685.2-AZBY01000021.1_18\n",
      "  |\n",
      "  |   /-GCA_000227825.2-AZBY01000021.1_18\n",
      "   \\-|\n",
      "      \\-GCA_000228665.2-AZBY01000021.1_18\n"
     ]
    }
   ],
   "source": [
    "print(phylotree2)"
   ]
  },
  {
   "cell_type": "code",
   "execution_count": 14,
   "id": "d2324432",
   "metadata": {
    "ExecuteTime": {
     "end_time": "2022-04-20T10:32:33.098312Z",
     "start_time": "2022-04-20T10:32:33.089417Z"
    }
   },
   "outputs": [
    {
     "name": "stdout",
     "output_type": "stream",
     "text": [
      "Found 1 species trees and 0 duplication nodes\n",
      "\n",
      "            /-GCA_000227905.2-AZBY01000021.1_18\n",
      "           |\n",
      "           |      /-GCA_000228405.2-AZBY01000021.1_18\n",
      "         /-|   /-|\n",
      "        |  |  |   \\-GCA_003176795.1-AZBY01000021.1_18\n",
      "        |  |  |\n",
      "        |   \\-|      /-GCA_000228005.2-AZBY01000021.1_18\n",
      "        |     |   /-|\n",
      "        |     |  |   \\-GCA_000227805.2-AZBY01000021.1_18\n",
      "        |      \\-|\n",
      "        |        |      /-GCA_000228165.2-AZBY01000021.1_18\n",
      "      /-|        |   /-|\n",
      "     |  |         \\-|   \\-GCA_000439045.1-AZBY01000021.1_18\n",
      "     |  |           |\n",
      "     |  |            \\-GCA_000347935.1-AZBY01000021.1_18\n",
      "     |  |\n",
      "     |  |      /-GCA_000227845.2-AZBY01000021.1_18\n",
      "     |  |   /-|\n",
      "     |  |  |  |   /-GCA_000228125.2-AZBY01000021.1_18\n",
      "     |  |  |   \\-|\n",
      "     |   \\-|      \\-GCA_000228545.2-AZBY01000021.1_18\n",
      "     |     |\n",
      "     |     |   /-GCA_000228585.2-AZBY01000021.1_18\n",
      "     |     |  |\n",
      "     |      \\-|   /-GCA_003172975.1-AZBY01000021.1_18\n",
      "     |        |  |\n",
      "     |         \\-|      /-GCA_000228145.2-AZBY01000021.1_18\n",
      "   /-|           |   /-|\n",
      "  |  |           |  |   \\-GCA_000228345.2-AZBY01000021.1_18\n",
      "  |  |            \\-|\n",
      "  |  |              |   /-GCA_000467915.2-AZBY01000021.1_18\n",
      "  |  |              |  |\n",
      "  |  |               \\-|      /-GCA_000227925.2-AZBY01000021.1_18\n",
      "  |  |                 |   /-|\n",
      "  |  |                 |  |   \\-GCA_002266475.1-AZBY01000021.1_18\n",
      "  |  |                  \\-|\n",
      "  |  |                    |   /-GCA_000228445.2-AZBY01000021.1_18\n",
      "  |  |                     \\-|\n",
      "  |  |                        \\-GCA_000228465.2-AZBY01000021.1_18\n",
      "  |  |\n",
      "  |  |      /-GCA_000227945.2-AZBY01000021.1_18\n",
      "--|  |   /-|\n",
      "  |  |  |   \\-GCA_000228265.2-AZBY01000021.1_18\n",
      "  |   \\-|\n",
      "  |     |   /-GCA_000228625.2-AZBY01000021.1_18\n",
      "  |      \\-|\n",
      "  |        |   /-GCA_000228525.2-AZBY01000021.1_18\n",
      "  |         \\-|\n",
      "  |           |   /-GCA_000228025.2-AZBY01000021.1_18\n",
      "  |            \\-|\n",
      "  |               \\-GCA_000228485.2-AZBY01000021.1_18\n",
      "  |\n",
      "  |      /-GCA_000227885.2-AZBY01000021.1_18\n",
      "  |   /-|\n",
      "  |  |   \\-GCA_000227785.2-AZBY01000021.1_18\n",
      "   \\-|\n",
      "     |   /-GCA_000228085.2-AZBY01000021.1_18\n",
      "      \\-|\n",
      "        |   /-GCA_000228245.2-AZBY01000021.1_18\n",
      "         \\-|\n",
      "           |   /-GCA_000228305.2-AZBY01000021.1_18\n",
      "            \\-|\n",
      "               \\-GCA_000228685.2-AZBY01000021.1_18\n"
     ]
    }
   ],
   "source": [
    "ntrees, ndups, sptrees = phylotree2.get_speciation_trees()\n",
    "print(\"Found %d species trees and %d duplication nodes\" %(ntrees, ndups))\n",
    "for spt in sptrees:\n",
    "    print(spt)"
   ]
  },
  {
   "cell_type": "code",
   "execution_count": 133,
   "id": "26f2b306",
   "metadata": {
    "ExecuteTime": {
     "end_time": "2022-04-20T13:02:48.642655Z",
     "start_time": "2022-04-20T13:02:48.630803Z"
    }
   },
   "outputs": [],
   "source": [
    "phylotree5=PhyloTree(\"tree5.nw\")\n",
    "phylotree5.set_species_naming_function(lambda node: node.name.split(\"-\")[0])\n",
    "phylotree6=PhyloTree(\"tree6.nw\")\n",
    "phylotree6.set_species_naming_function(lambda node: node.name)\n"
   ]
  },
  {
   "cell_type": "code",
   "execution_count": 134,
   "id": "85a5e0a4",
   "metadata": {
    "ExecuteTime": {
     "end_time": "2022-04-20T13:02:49.160764Z",
     "start_time": "2022-04-20T13:02:49.143374Z"
    }
   },
   "outputs": [
    {
     "data": {
      "text/plain": [
       "{'treeko_dist': 0.0,\n",
       " 'rf': 0.0,\n",
       " 'max_rf': 0,\n",
       " 'effective_tree_size': 0.0,\n",
       " 'norm_rf': 0.0,\n",
       " 'ref_edges_in_source': nan,\n",
       " 'source_edges_in_ref': nan,\n",
       " 'source_subtrees': 1,\n",
       " 'common_edges': set(),\n",
       " 'source_edges': set(),\n",
       " 'ref_edges': set()}"
      ]
     },
     "execution_count": 134,
     "metadata": {},
     "output_type": "execute_result"
    }
   ],
   "source": [
    "phylotree6.compare(phylotree5, use_collateral=False, min_support_source=0.0,\n",
    "min_support_ref=0.0, has_duplications=True, expand_polytomies=False, unrooted=True, max_treeko_splits_to_be_artifact=1000)\n"
   ]
  },
  {
   "cell_type": "code",
   "execution_count": 135,
   "id": "e5e8227c",
   "metadata": {
    "ExecuteTime": {
     "end_time": "2022-04-20T13:02:52.046912Z",
     "start_time": "2022-04-20T13:02:52.039498Z"
    }
   },
   "outputs": [
    {
     "name": "stdout",
     "output_type": "stream",
     "text": [
      "\n",
      "            /-TCU_001281225.1\n",
      "         /-|\n",
      "      /-|   \\-TCU_000687335.1\n",
      "     |  |\n",
      "   /-|   \\-TCU_006493415.1\n",
      "  |  |\n",
      "  |  |   /-TCU_000830375.1\n",
      "  |   \\-|\n",
      "  |     |   /-TCU_001281285.1\n",
      "  |      \\-|\n",
      "  |         \\-TCU_001421135.1\n",
      "--|\n",
      "  |   /-TCU_001281215.1\n",
      "  |--|\n",
      "  |  |   /-TCU_001281205.1\n",
      "  |   \\-|\n",
      "  |      \\-TCU_001421115.1\n",
      "  |\n",
      "   \\-TCU_001949975.1\n"
     ]
    }
   ],
   "source": [
    "print(phylotree5)"
   ]
  },
  {
   "cell_type": "code",
   "execution_count": 136,
   "id": "66fadb3c",
   "metadata": {
    "ExecuteTime": {
     "end_time": "2022-04-20T13:02:54.326115Z",
     "start_time": "2022-04-20T13:02:54.318709Z"
    }
   },
   "outputs": [
    {
     "name": "stdout",
     "output_type": "stream",
     "text": [
      "\n",
      "         /-GCA_000687335.1\n",
      "      /-|\n",
      "     |   \\-GCA_006493415.1\n",
      "   /-|\n",
      "  |  |   /-GCA_001281205.1\n",
      "  |  |  |\n",
      "  |   \\-|   /-GCA_001281215.1\n",
      "  |     |  |\n",
      "  |      \\-|      /-GCA_001421135.1\n",
      "  |        |   /-|\n",
      "--|         \\-|   \\-GCA_000830375.1\n",
      "  |           |\n",
      "  |            \\-GCA_001949975.1\n",
      "  |\n",
      "  |--GCA_001281285.1\n",
      "  |\n",
      "  |   /-GCA_001421115.1\n",
      "   \\-|\n",
      "      \\-GCA_001281225.1\n"
     ]
    }
   ],
   "source": [
    "print(phylotree6)"
   ]
  },
  {
   "cell_type": "code",
   "execution_count": 33,
   "id": "7547a71c",
   "metadata": {
    "ExecuteTime": {
     "end_time": "2022-04-20T10:53:00.089965Z",
     "start_time": "2022-04-20T10:53:00.077935Z"
    }
   },
   "outputs": [
    {
     "data": {
      "text/plain": [
       "{'GCA_000687335.1',\n",
       " 'GCA_000830375.1',\n",
       " 'GCA_001281205.1',\n",
       " 'GCA_001281215.1',\n",
       " 'GCA_001281225.1',\n",
       " 'GCA_001281285.1',\n",
       " 'GCA_001421115.1',\n",
       " 'GCA_001421135.1',\n",
       " 'GCA_001949975.1',\n",
       " 'GCA_006493415.1'}"
      ]
     },
     "execution_count": 33,
     "metadata": {},
     "output_type": "execute_result"
    }
   ],
   "source": [
    "phylotree5.get_species()"
   ]
  },
  {
   "cell_type": "code",
   "execution_count": 34,
   "id": "61ea8c96",
   "metadata": {
    "ExecuteTime": {
     "end_time": "2022-04-20T10:53:00.714046Z",
     "start_time": "2022-04-20T10:53:00.707521Z"
    },
    "scrolled": true
   },
   "outputs": [
    {
     "data": {
      "text/plain": [
       "{'GCA_000687335.1',\n",
       " 'GCA_000830375.1',\n",
       " 'GCA_001281205.1',\n",
       " 'GCA_001281215.1',\n",
       " 'GCA_001281225.1',\n",
       " 'GCA_001281285.1',\n",
       " 'GCA_001421115.1',\n",
       " 'GCA_001421135.1',\n",
       " 'GCA_001949975.1',\n",
       " 'GCA_006493415.1'}"
      ]
     },
     "execution_count": 34,
     "metadata": {},
     "output_type": "execute_result"
    }
   ],
   "source": [
    "phylotree6.get_species()"
   ]
  },
  {
   "cell_type": "code",
   "execution_count": 35,
   "id": "72ec9921",
   "metadata": {
    "ExecuteTime": {
     "end_time": "2022-04-20T10:53:09.736080Z",
     "start_time": "2022-04-20T10:53:09.728764Z"
    }
   },
   "outputs": [
    {
     "name": "stdout",
     "output_type": "stream",
     "text": [
      "(((GCA_001281225.1-AZBY01000033.1_8:0.19849,GCA_001281205.1-AZBY01000033.1_8:0.24763)1:0.01933,(GCA_001949975.1-AZBY01000033.1_8:0.22799,(GCA_001281215.1-AZBY01000033.1_8:0.47141,GCA_000687335.1-AZBY01000033.1_8:0.26404)1:0.02066)1:0.03549)1:0.00941,(GCA_001421115.1-AZBY01000033.1_8:0.1964,((GCA_000830375.1-AZBY01000033.1_8:0.12386,GCA_001421135.1-AZBY01000033.1_8:0.14068)1:0.02361,GCA_006493415.1-AZBY01000033.1_8:0.14153)1:0.02208)1:0.0156,GCA_001281285.1-AZBY01000033.1_8:0.23244);\n"
     ]
    }
   ],
   "source": [
    "print(phylotree5.write())"
   ]
  },
  {
   "cell_type": "code",
   "execution_count": 36,
   "id": "c9859896",
   "metadata": {
    "ExecuteTime": {
     "end_time": "2022-04-20T10:54:38.948212Z",
     "start_time": "2022-04-20T10:53:39.595402Z"
    }
   },
   "outputs": [
    {
     "name": "stdout",
     "output_type": "stream",
     "text": [
      "(((GCA_001281225.1-AZBY01000033.1_8:0.19849,GCA_001281205.1-AZBY01000033.1_8:0.24763):0.01933,(GCA_001949975.1-AZBY01000033.1_8:0.22799,(GCA_001281215.1-AZBY01000033.1_8:0.47141,GCA_000687335.1-AZBY01000033.1_8:0.26404):0.02066):0.03549):0.00941,(GCA_001421115.1-AZBY01000033.1_8:0.19640,((GCA_000830375.1-AZBY01000033.1_8:0.12386,GCA_001421135.1-AZBY01000033.1_8:0.14068):0.02361,GCA_006493415.1-AZBY01000033.1_8:0.14153):0.02208):0.01560,GCA_001281285.1-AZBY01000033.1_8:0.23244):0.00000;\n",
      "\u001b[K\u001b[7m(END)\u001b[m\u001b[K\u001b[m\u001b[K\u0007"
     ]
    }
   ],
   "source": [
    "!less tree5.nw"
   ]
  },
  {
   "cell_type": "code",
   "execution_count": 26,
   "id": "7d831682",
   "metadata": {
    "ExecuteTime": {
     "end_time": "2022-04-21T16:25:56.549823Z",
     "start_time": "2022-04-21T16:25:56.544650Z"
    }
   },
   "outputs": [],
   "source": [
    "ex1=PhyloTree(\"((((Human, Fly), Mouse), Chimp), (((Human, Fly), Mouse), Chimp));\")\n",
    "ex2=PhyloTree(\"(((Human, Chimp), Mouse), Fly);\")\n",
    "\n",
    "              "
   ]
  },
  {
   "cell_type": "code",
   "execution_count": 27,
   "id": "81483768",
   "metadata": {
    "ExecuteTime": {
     "end_time": "2022-04-21T16:25:57.873788Z",
     "start_time": "2022-04-21T16:25:57.865336Z"
    }
   },
   "outputs": [
    {
     "data": {
      "text/plain": [
       "{'Chimp', 'Fly', 'Human', 'Mouse'}"
      ]
     },
     "execution_count": 27,
     "metadata": {},
     "output_type": "execute_result"
    }
   ],
   "source": [
    "ex1.set_species_naming_function(lambda node: node.name)\n",
    "ex1.get_species()"
   ]
  },
  {
   "cell_type": "code",
   "execution_count": 28,
   "id": "52e69177",
   "metadata": {
    "ExecuteTime": {
     "end_time": "2022-04-21T16:25:58.897985Z",
     "start_time": "2022-04-21T16:25:58.889061Z"
    }
   },
   "outputs": [
    {
     "data": {
      "text/plain": [
       "{'Chimp', 'Fly', 'Human', 'Mouse'}"
      ]
     },
     "execution_count": 28,
     "metadata": {},
     "output_type": "execute_result"
    }
   ],
   "source": [
    "ex2.set_species_naming_function(lambda node: node.name.split(\"_\")[0])\n",
    "ex2.get_species()"
   ]
  },
  {
   "cell_type": "code",
   "execution_count": 31,
   "id": "a7c455cd",
   "metadata": {
    "ExecuteTime": {
     "end_time": "2022-04-21T16:26:22.051199Z",
     "start_time": "2022-04-21T16:26:22.038236Z"
    }
   },
   "outputs": [
    {
     "data": {
      "text/plain": [
       "{'treeko_dist': 1.0,\n",
       " 'rf': 4.0,\n",
       " 'max_rf': 4,\n",
       " 'effective_tree_size': 4.0,\n",
       " 'norm_rf': 1.0,\n",
       " 'ref_edges_in_source': 0.0,\n",
       " 'source_edges_in_ref': 0.0,\n",
       " 'source_subtrees': 2,\n",
       " 'common_edges': set(),\n",
       " 'source_edges': set(),\n",
       " 'ref_edges': set()}"
      ]
     },
     "execution_count": 31,
     "metadata": {},
     "output_type": "execute_result"
    }
   ],
   "source": [
    "ex1.compare(ex2, has_duplications=True)\n"
   ]
  },
  {
   "cell_type": "code",
   "execution_count": 79,
   "id": "6f22ce27",
   "metadata": {
    "ExecuteTime": {
     "end_time": "2022-04-20T11:38:00.335461Z",
     "start_time": "2022-04-20T11:38:00.036552Z"
    }
   },
   "outputs": [],
   "source": [
    "man PhyloTree.compare"
   ]
  },
  {
   "cell_type": "code",
   "execution_count": 56,
   "id": "f1f25c4b",
   "metadata": {
    "ExecuteTime": {
     "end_time": "2022-04-22T13:04:40.973173Z",
     "start_time": "2022-04-22T13:04:40.968523Z"
    }
   },
   "outputs": [],
   "source": [
    "tree1=PhyloTree(\"((((A,B), C), D),(((A,B), C), D));\")"
   ]
  },
  {
   "cell_type": "code",
   "execution_count": 57,
   "id": "a6837f11",
   "metadata": {
    "ExecuteTime": {
     "end_time": "2022-04-22T13:04:42.536885Z",
     "start_time": "2022-04-22T13:04:42.531296Z"
    }
   },
   "outputs": [],
   "source": [
    "tree3=PhyloTree(\"(((A,D), C), B);\")"
   ]
  },
  {
   "cell_type": "code",
   "execution_count": 58,
   "id": "8fdb7f79",
   "metadata": {
    "ExecuteTime": {
     "end_time": "2022-04-22T13:04:43.849137Z",
     "start_time": "2022-04-22T13:04:43.838689Z"
    }
   },
   "outputs": [],
   "source": [
    "comp=tree1.compare(tree3, has_duplications=True, unrooted=True)"
   ]
  },
  {
   "cell_type": "code",
   "execution_count": 59,
   "id": "90f2f938",
   "metadata": {
    "ExecuteTime": {
     "end_time": "2022-04-22T13:04:44.709226Z",
     "start_time": "2022-04-22T13:04:44.699145Z"
    }
   },
   "outputs": [
    {
     "data": {
      "text/plain": [
       "{'treeko_dist': 1.0,\n",
       " 'rf': 2.0,\n",
       " 'max_rf': 2,\n",
       " 'effective_tree_size': 4.0,\n",
       " 'norm_rf': 1.0,\n",
       " 'ref_edges_in_source': 0.75,\n",
       " 'source_edges_in_ref': 0.75,\n",
       " 'source_subtrees': 2,\n",
       " 'common_edges': set(),\n",
       " 'source_edges': set(),\n",
       " 'ref_edges': set()}"
      ]
     },
     "execution_count": 59,
     "metadata": {},
     "output_type": "execute_result"
    }
   ],
   "source": [
    "comp"
   ]
  },
  {
   "cell_type": "code",
   "execution_count": 129,
   "id": "cc891ce0",
   "metadata": {
    "ExecuteTime": {
     "end_time": "2022-04-20T13:01:42.241465Z",
     "start_time": "2022-04-20T13:01:42.232663Z"
    }
   },
   "outputs": [
    {
     "data": {
      "text/plain": [
       "1.0"
      ]
     },
     "execution_count": 129,
     "metadata": {},
     "output_type": "execute_result"
    }
   ],
   "source": [
    "comp.get('treeko_dist')"
   ]
  },
  {
   "cell_type": "code",
   "execution_count": 125,
   "id": "23e428e1",
   "metadata": {
    "ExecuteTime": {
     "end_time": "2022-04-20T12:35:56.542481Z",
     "start_time": "2022-04-20T12:35:56.533953Z"
    }
   },
   "outputs": [],
   "source": [
    "import os\n",
    "\n",
    "output_path=(project_path / \"results\" / \"treescores\")\n",
    "\n",
    "os.mkdir(output_path)"
   ]
  },
  {
   "cell_type": "code",
   "execution_count": 7,
   "id": "4dcda927",
   "metadata": {
    "ExecuteTime": {
     "end_time": "2022-04-21T10:18:51.410375Z",
     "start_time": "2022-04-21T10:18:51.405281Z"
    }
   },
   "outputs": [],
   "source": [
    "tree=PhyloTree(\"((GCA_001281285.1:0.09668,((((GCA_001281225.1:0.27617,GCA_000830375.1:0.54746):0.05493,GCA_001421115.1:0.12283):0.02508,(GCA_001949975.1:0.10245,(GCA_001281215.1:0.00478,GCA_001421135.1:0.00575):0.08418):0.01215):0.02304,GCA_000687335.1:0.10442):0.01359):0.00260,GCA_006493415.1:0.14764,GCA_001281205.1:0.10860):0.00000;\")\n",
    "\n"
   ]
  },
  {
   "cell_type": "code",
   "execution_count": 8,
   "id": "aac483f6",
   "metadata": {
    "ExecuteTime": {
     "end_time": "2022-04-21T10:18:52.124396Z",
     "start_time": "2022-04-21T10:18:52.118224Z"
    }
   },
   "outputs": [
    {
     "data": {
      "text/plain": [
       "PhyloTree node '' (0x12259e22)"
      ]
     },
     "execution_count": 8,
     "metadata": {},
     "output_type": "execute_result"
    }
   ],
   "source": [
    "tree"
   ]
  },
  {
   "cell_type": "code",
   "execution_count": 9,
   "id": "42a1adf2",
   "metadata": {
    "ExecuteTime": {
     "end_time": "2022-04-21T10:18:53.310018Z",
     "start_time": "2022-04-21T10:18:53.303759Z"
    }
   },
   "outputs": [
    {
     "name": "stdout",
     "output_type": "stream",
     "text": [
      "\n",
      "      /-GCA_001281285.1\n",
      "     |\n",
      "     |            /-GCA_001281225.1\n",
      "     |         /-|\n",
      "     |      /-|   \\-GCA_000830375.1\n",
      "   /-|     |  |\n",
      "  |  |   /-|   \\-GCA_001421115.1\n",
      "  |  |  |  |\n",
      "  |  |  |  |   /-GCA_001949975.1\n",
      "  |  |  |   \\-|\n",
      "  |   \\-|     |   /-GCA_001281215.1\n",
      "--|     |      \\-|\n",
      "  |     |         \\-GCA_001421135.1\n",
      "  |     |\n",
      "  |      \\-GCA_000687335.1\n",
      "  |\n",
      "  |--GCA_006493415.1\n",
      "  |\n",
      "   \\-GCA_001281205.1\n"
     ]
    }
   ],
   "source": [
    "print(tree)"
   ]
  },
  {
   "cell_type": "code",
   "execution_count": 5,
   "id": "2e7b4cfc",
   "metadata": {
    "ExecuteTime": {
     "end_time": "2022-04-22T12:34:47.108764Z",
     "start_time": "2022-04-22T12:34:47.102977Z"
    }
   },
   "outputs": [],
   "source": [
    "tree2=PhyloTree(\"(((GCA_001281225.1:0.07414,GCA_001949975.1:0.09211):0.03315,(((GCA_000830375.1:0.12939,(GCA_001421135.1:0.25954,GCA_000687335.1:0.18381):0.03686):0.02502,(GCA_006493415.1:0.18725,(GCA_001421115.1:0.20609,GCA_000687335.1:0.18969):0.02946):0.02353):0.03178,(GCA_001281215.1:0.15675,GCA_006493415.1:0.14598):0.00562):0.01771):0.02114,(((GCA_001281205.1:0.14069,((GCA_001281205.1:0.00931,GCA_001281215.1:0.00848):0.14162,(GCA_001281225.1:0.35594,GCA_001281285.1:0.21271):0.03353):0.02009):0.01654,GCA_001281285.1:0.16874):0.02219,(GCA_001949975.1:0.09760,(GCA_000830375.1:0.16314,GCA_001421135.1:0.12718):0.01592):0.03795):0.00329,GCA_001421115.1:0.14004):0.00000;\")\n",
    "\n",
    "\n",
    "\n",
    "\n"
   ]
  },
  {
   "cell_type": "markdown",
   "id": "e33a6e0d",
   "metadata": {},
   "source": [
    "## Error"
   ]
  },
  {
   "cell_type": "code",
   "execution_count": 2,
   "id": "53e35da6",
   "metadata": {
    "ExecuteTime": {
     "end_time": "2022-04-22T14:12:35.478995Z",
     "start_time": "2022-04-22T14:12:35.467581Z"
    }
   },
   "outputs": [],
   "source": [
    "gene_tree=PhyloTree(\"(((((GCA_001281205.1:0.00122,GCA_001281215.1:0.00120):0.02128,GCA_001949975.1:0.02255):0.00250,((GCA_001421115.1:0.03349,GCA_000687335.1:0.02316):0.00416,(GCA_006493415.1:0.01158,(GCA_001949975.1:0.00842,(GCA_001281285.1:0.00646,GCA_000687335.1:0.00803):0.00317):0.00312):0.00364):0.00195):0.00148,((GCA_001281285.1:0.03766,(GCA_001421115.1:0.04095,(GCA_001281225.1:0.06190,(GCA_001281225.1:0.05514,(GCA_000830375.1:0.08977,(GCA_001421135.1:0.15007,GCA_001421135.1:0.58383):0.17202):0.13002):0.00770):0.01824):0.00397):0.00147,GCA_006493415.1:0.02884):0.00275):0.00052,(GCA_001281205.1:0.00137,GCA_001281215.1:0.00134):0.03325,GCA_000830375.1:0.02607):0.00000;\")\n",
    "#gene_tree=PhyloTree(\"(((((GCA_001281205.1,GCA_001281215.1),GCA_001949975.1),((GCA_001421115.1,GCA_000687335.1),(GCA_006493415.1,(GCA_001949975.1,(GCA_001281285.1,GCA_000687335.1))))),((GCA_001281285.1,(GCA_001421115.1,(GCA_001281225.1,(GCA_001281225.1,(GCA_000830375.1,(GCA_001421135.1,GCA_001421135.1)))))),GCA_006493415.1)),(GCA_001281205.1,GCA_001281215.1),GCA_000830375.1);\")\n",
    "gene_tree.set_species_naming_function(lambda node: node.name)\n"
   ]
  },
  {
   "cell_type": "code",
   "execution_count": 3,
   "id": "28977fc7",
   "metadata": {
    "ExecuteTime": {
     "end_time": "2022-04-22T14:12:36.062479Z",
     "start_time": "2022-04-22T14:12:36.057848Z"
    }
   },
   "outputs": [
    {
     "name": "stdout",
     "output_type": "stream",
     "text": [
      "\n",
      "               /-GCA_001281205.1\n",
      "            /-|\n",
      "         /-|   \\-GCA_001281215.1\n",
      "        |  |\n",
      "        |   \\-GCA_001949975.1\n",
      "      /-|\n",
      "     |  |      /-GCA_001421115.1\n",
      "     |  |   /-|\n",
      "     |  |  |   \\-GCA_000687335.1\n",
      "     |   \\-|\n",
      "     |     |   /-GCA_006493415.1\n",
      "     |      \\-|\n",
      "     |        |   /-GCA_001949975.1\n",
      "     |         \\-|\n",
      "     |           |   /-GCA_001281285.1\n",
      "   /-|            \\-|\n",
      "  |  |               \\-GCA_000687335.1\n",
      "  |  |\n",
      "  |  |      /-GCA_001281285.1\n",
      "  |  |   /-|\n",
      "  |  |  |  |   /-GCA_001421115.1\n",
      "  |  |  |   \\-|\n",
      "  |  |  |     |   /-GCA_001281225.1\n",
      "  |  |  |      \\-|\n",
      "  |  |  |        |   /-GCA_001281225.1\n",
      "  |   \\-|         \\-|\n",
      "--|     |           |   /-GCA_000830375.1\n",
      "  |     |            \\-|\n",
      "  |     |              |   /-GCA_001421135.1\n",
      "  |     |               \\-|\n",
      "  |     |                  \\-GCA_001421135.1\n",
      "  |     |\n",
      "  |      \\-GCA_006493415.1\n",
      "  |\n",
      "  |   /-GCA_001281205.1\n",
      "  |--|\n",
      "  |   \\-GCA_001281215.1\n",
      "  |\n",
      "   \\-GCA_000830375.1\n"
     ]
    }
   ],
   "source": [
    "print(gene_tree)"
   ]
  },
  {
   "cell_type": "code",
   "execution_count": 4,
   "id": "24bf101e",
   "metadata": {
    "ExecuteTime": {
     "end_time": "2022-04-22T14:12:36.780986Z",
     "start_time": "2022-04-22T14:12:36.761942Z"
    }
   },
   "outputs": [
    {
     "data": {
      "text/plain": [
       "{'GCA_000687335.1',\n",
       " 'GCA_000830375.1',\n",
       " 'GCA_001281205.1',\n",
       " 'GCA_001281215.1',\n",
       " 'GCA_001281225.1',\n",
       " 'GCA_001281285.1',\n",
       " 'GCA_001421115.1',\n",
       " 'GCA_001421135.1',\n",
       " 'GCA_001949975.1',\n",
       " 'GCA_006493415.1'}"
      ]
     },
     "execution_count": 4,
     "metadata": {},
     "output_type": "execute_result"
    }
   ],
   "source": [
    "gene_tree.get_species()"
   ]
  },
  {
   "cell_type": "code",
   "execution_count": 5,
   "id": "371f99ea",
   "metadata": {
    "ExecuteTime": {
     "end_time": "2022-04-22T14:12:37.384626Z",
     "start_time": "2022-04-22T14:12:37.379827Z"
    }
   },
   "outputs": [],
   "source": [
    "species_tree=PhyloTree(\"((GCA_001949975.1:0.23413,(GCA_000830375.1:0.30175,(GCA_001421135.1:0.34326,GCA_000687335.1:0.20829):0.14746):0.02565):0.00891,(((GCA_001281225.1:0.00519,GCA_001281215.1:0.00384):0.10388,GCA_001281285.1:0.14292):0.01880,(GCA_001281205.1:0.14266,GCA_006493415.1:0.15456):0.01713):0.02377,GCA_001421115.1:0.18353):0.00000;\")\n",
    "#species_tree=PhyloTree(\"((GCA_001949975.1,(GCA_000830375.1,(GCA_001421135.1,GCA_000687335.1))),(((GCA_001281225.1,GCA_001281215.1),GCA_001281285.1),(GCA_001281205.1,GCA_006493415.1)),GCA_001421115.1);\")\n",
    "species_tree.set_species_naming_function(lambda node: node.name)\n"
   ]
  },
  {
   "cell_type": "code",
   "execution_count": 6,
   "id": "c37daa53",
   "metadata": {
    "ExecuteTime": {
     "end_time": "2022-04-22T14:12:38.131699Z",
     "start_time": "2022-04-22T14:12:38.123157Z"
    }
   },
   "outputs": [
    {
     "name": "stdout",
     "output_type": "stream",
     "text": [
      "\n",
      "      /-GCA_001949975.1\n",
      "   /-|\n",
      "  |  |   /-GCA_000830375.1\n",
      "  |   \\-|\n",
      "  |     |   /-GCA_001421135.1\n",
      "  |      \\-|\n",
      "  |         \\-GCA_000687335.1\n",
      "  |\n",
      "  |         /-GCA_001281225.1\n",
      "--|      /-|\n",
      "  |   /-|   \\-GCA_001281215.1\n",
      "  |  |  |\n",
      "  |--|   \\-GCA_001281285.1\n",
      "  |  |\n",
      "  |  |   /-GCA_001281205.1\n",
      "  |   \\-|\n",
      "  |      \\-GCA_006493415.1\n",
      "  |\n",
      "   \\-GCA_001421115.1\n"
     ]
    }
   ],
   "source": [
    "print(species_tree)"
   ]
  },
  {
   "cell_type": "code",
   "execution_count": 7,
   "id": "9616c175",
   "metadata": {
    "ExecuteTime": {
     "end_time": "2022-04-22T14:12:41.073249Z",
     "start_time": "2022-04-22T14:12:41.063273Z"
    }
   },
   "outputs": [
    {
     "data": {
      "text/plain": [
       "{'GCA_000687335.1',\n",
       " 'GCA_000830375.1',\n",
       " 'GCA_001281205.1',\n",
       " 'GCA_001281215.1',\n",
       " 'GCA_001281225.1',\n",
       " 'GCA_001281285.1',\n",
       " 'GCA_001421115.1',\n",
       " 'GCA_001421135.1',\n",
       " 'GCA_001949975.1',\n",
       " 'GCA_006493415.1'}"
      ]
     },
     "execution_count": 7,
     "metadata": {},
     "output_type": "execute_result"
    }
   ],
   "source": [
    "species_tree.get_species()"
   ]
  },
  {
   "cell_type": "code",
   "execution_count": 8,
   "id": "600d6353",
   "metadata": {
    "ExecuteTime": {
     "end_time": "2022-04-22T14:12:42.433884Z",
     "start_time": "2022-04-22T14:12:42.403496Z"
    }
   },
   "outputs": [
    {
     "ename": "TreeError",
     "evalue": "'Duplicated items found in reference tree'",
     "output_type": "error",
     "traceback": [
      "\u001b[0;31m---------------------------------------------------------------------------\u001b[0m",
      "\u001b[0;31mTreeError\u001b[0m                                 Traceback (most recent call last)",
      "\u001b[0;32m/var/folders/wm/45ntkynd66gd8wnsdr6vw7h40000gn/T/ipykernel_15555/1253127029.py\u001b[0m in \u001b[0;36m<module>\u001b[0;34m\u001b[0m\n\u001b[0;32m----> 1\u001b[0;31m \u001b[0mgene_tree\u001b[0m\u001b[0;34m.\u001b[0m\u001b[0mcompare\u001b[0m\u001b[0;34m(\u001b[0m\u001b[0mspecies_tree\u001b[0m\u001b[0;34m,\u001b[0m \u001b[0mhas_duplications\u001b[0m\u001b[0;34m=\u001b[0m\u001b[0;32mTrue\u001b[0m\u001b[0;34m,\u001b[0m \u001b[0munrooted\u001b[0m\u001b[0;34m=\u001b[0m\u001b[0;32mTrue\u001b[0m\u001b[0;34m)\u001b[0m\u001b[0;34m\u001b[0m\u001b[0;34m\u001b[0m\u001b[0m\n\u001b[0m",
      "\u001b[0;32m/Library/Frameworks/Python.framework/Versions/3.9/lib/python3.9/site-packages/ete3/coretype/tree.py\u001b[0m in \u001b[0;36mcompare\u001b[0;34m(self, ref_tree, use_collateral, min_support_source, min_support_ref, has_duplications, expand_polytomies, unrooted, max_treeko_splits_to_be_artifact, ref_tree_attr, source_tree_attr)\u001b[0m\n\u001b[1;32m   1897\u001b[0m                                 \u001b[0mn\u001b[0m\u001b[0;34m.\u001b[0m\u001b[0msupport\u001b[0m \u001b[0;34m=\u001b[0m \u001b[0msource_tree\u001b[0m\u001b[0;34m.\u001b[0m\u001b[0mget_common_ancestor\u001b[0m\u001b[0;34m(\u001b[0m\u001b[0msubtree_content\u001b[0m\u001b[0;34m[\u001b[0m\u001b[0mn\u001b[0m\u001b[0;34m]\u001b[0m\u001b[0;34m)\u001b[0m\u001b[0;34m.\u001b[0m\u001b[0msupport\u001b[0m\u001b[0;34m\u001b[0m\u001b[0;34m\u001b[0m\u001b[0m\n\u001b[1;32m   1898\u001b[0m \u001b[0;34m\u001b[0m\u001b[0m\n\u001b[0;32m-> 1899\u001b[0;31m                     \u001b[0mtotal_rf\u001b[0m\u001b[0;34m,\u001b[0m \u001b[0mmax_rf\u001b[0m\u001b[0;34m,\u001b[0m \u001b[0mncommon\u001b[0m\u001b[0;34m,\u001b[0m \u001b[0mvalid_ref_edges\u001b[0m\u001b[0;34m,\u001b[0m \u001b[0mvalid_src_edges\u001b[0m\u001b[0;34m,\u001b[0m \u001b[0mcommon_edges\u001b[0m \u001b[0;34m=\u001b[0m \u001b[0m_compare\u001b[0m\u001b[0;34m(\u001b[0m\u001b[0msubtree\u001b[0m\u001b[0;34m,\u001b[0m \u001b[0mref_tree\u001b[0m\u001b[0;34m)\u001b[0m\u001b[0;34m\u001b[0m\u001b[0;34m\u001b[0m\u001b[0m\n\u001b[0m\u001b[1;32m   1900\u001b[0m \u001b[0;34m\u001b[0m\u001b[0m\n\u001b[1;32m   1901\u001b[0m                     \u001b[0mall_rf\u001b[0m\u001b[0;34m.\u001b[0m\u001b[0mappend\u001b[0m\u001b[0;34m(\u001b[0m\u001b[0mtotal_rf\u001b[0m\u001b[0;34m)\u001b[0m\u001b[0;34m\u001b[0m\u001b[0;34m\u001b[0m\u001b[0m\n",
      "\u001b[0;32m/Library/Frameworks/Python.framework/Versions/3.9/lib/python3.9/site-packages/ete3/coretype/tree.py\u001b[0m in \u001b[0;36m_compare\u001b[0;34m(src_tree, ref_tree)\u001b[0m\n\u001b[1;32m   1826\u001b[0m         \u001b[0;32mdef\u001b[0m \u001b[0m_compare\u001b[0m\u001b[0;34m(\u001b[0m\u001b[0msrc_tree\u001b[0m\u001b[0;34m,\u001b[0m \u001b[0mref_tree\u001b[0m\u001b[0;34m)\u001b[0m\u001b[0;34m:\u001b[0m\u001b[0;34m\u001b[0m\u001b[0;34m\u001b[0m\u001b[0m\n\u001b[1;32m   1827\u001b[0m             \u001b[0;31m# calculate partitions and rf distances\u001b[0m\u001b[0;34m\u001b[0m\u001b[0;34m\u001b[0m\u001b[0;34m\u001b[0m\u001b[0m\n\u001b[0;32m-> 1828\u001b[0;31m             rf, maxrf, common, ref_p, src_p, ref_disc, src_disc  = ref_tree.robinson_foulds(src_tree,\n\u001b[0m\u001b[1;32m   1829\u001b[0m                                                                                             \u001b[0mexpand_polytomies\u001b[0m\u001b[0;34m=\u001b[0m\u001b[0mexpand_polytomies\u001b[0m\u001b[0;34m,\u001b[0m\u001b[0;34m\u001b[0m\u001b[0;34m\u001b[0m\u001b[0m\n\u001b[1;32m   1830\u001b[0m                                                                                             \u001b[0munrooted_trees\u001b[0m\u001b[0;34m=\u001b[0m\u001b[0munrooted\u001b[0m\u001b[0;34m,\u001b[0m\u001b[0;34m\u001b[0m\u001b[0;34m\u001b[0m\u001b[0m\n",
      "\u001b[0;32m/Library/Frameworks/Python.framework/Versions/3.9/lib/python3.9/site-packages/ete3/coretype/tree.py\u001b[0m in \u001b[0;36mrobinson_foulds\u001b[0;34m(self, t2, attr_t1, attr_t2, unrooted_trees, expand_polytomies, polytomy_size_limit, skip_large_polytomies, correct_by_polytomy_size, min_support_t1, min_support_t2)\u001b[0m\n\u001b[1;32m   1694\u001b[0m             \u001b[0;32mraise\u001b[0m \u001b[0mTreeError\u001b[0m\u001b[0;34m(\u001b[0m\u001b[0;34m'Duplicated items found in source tree'\u001b[0m\u001b[0;34m)\u001b[0m\u001b[0;34m\u001b[0m\u001b[0;34m\u001b[0m\u001b[0m\n\u001b[1;32m   1695\u001b[0m         \u001b[0;32mif\u001b[0m \u001b[0msize2\u001b[0m \u001b[0;34m>\u001b[0m \u001b[0mlen\u001b[0m\u001b[0;34m(\u001b[0m\u001b[0mcommon_attrs\u001b[0m\u001b[0;34m)\u001b[0m\u001b[0;34m:\u001b[0m\u001b[0;34m\u001b[0m\u001b[0;34m\u001b[0m\u001b[0m\n\u001b[0;32m-> 1696\u001b[0;31m             \u001b[0;32mraise\u001b[0m \u001b[0mTreeError\u001b[0m\u001b[0;34m(\u001b[0m\u001b[0;34m'Duplicated items found in reference tree'\u001b[0m\u001b[0;34m)\u001b[0m\u001b[0;34m\u001b[0m\u001b[0;34m\u001b[0m\u001b[0m\n\u001b[0m\u001b[1;32m   1697\u001b[0m \u001b[0;34m\u001b[0m\u001b[0m\n\u001b[1;32m   1698\u001b[0m         \u001b[0;32mif\u001b[0m \u001b[0mexpand_polytomies\u001b[0m\u001b[0;34m:\u001b[0m\u001b[0;34m\u001b[0m\u001b[0;34m\u001b[0m\u001b[0m\n",
      "\u001b[0;31mTreeError\u001b[0m: 'Duplicated items found in reference tree'"
     ]
    }
   ],
   "source": [
    "gene_tree.compare(species_tree, has_duplications=True, unrooted=True)"
   ]
  },
  {
   "cell_type": "code",
   "execution_count": 14,
   "id": "0a58abd8",
   "metadata": {
    "ExecuteTime": {
     "end_time": "2022-04-22T14:19:45.331066Z",
     "start_time": "2022-04-22T14:19:45.324890Z"
    }
   },
   "outputs": [],
   "source": [
    "gene_tree1=PhyloTree(\"((((A_1,A_3), C_1), D_1),(((A_2,B_2), C_2), D_2));\")\n",
    "gene_tree1=PhyloTree(\"((((A,B), A), D),(((A,B), C), D));\")\n",
    "gene_tree1.set_species_naming_function(lambda node: node.name.split('_')[0])"
   ]
  },
  {
   "cell_type": "code",
   "execution_count": 15,
   "id": "f84c5bdd",
   "metadata": {
    "ExecuteTime": {
     "end_time": "2022-04-22T14:19:45.714626Z",
     "start_time": "2022-04-22T14:19:45.710987Z"
    }
   },
   "outputs": [],
   "source": [
    "species_tree1=PhyloTree(\"(((A,D), C), B);\")"
   ]
  },
  {
   "cell_type": "code",
   "execution_count": 16,
   "id": "aa5ac005",
   "metadata": {
    "ExecuteTime": {
     "end_time": "2022-04-22T14:19:45.986227Z",
     "start_time": "2022-04-22T14:19:45.979049Z"
    }
   },
   "outputs": [
    {
     "data": {
      "text/plain": [
       "{'A', 'B', 'C', 'D'}"
      ]
     },
     "execution_count": 16,
     "metadata": {},
     "output_type": "execute_result"
    }
   ],
   "source": [
    "gene_tree1.get_species()"
   ]
  },
  {
   "cell_type": "code",
   "execution_count": 17,
   "id": "d4056c74",
   "metadata": {
    "ExecuteTime": {
     "end_time": "2022-04-22T14:19:46.384129Z",
     "start_time": "2022-04-22T14:19:46.377952Z"
    }
   },
   "outputs": [
    {
     "data": {
      "text/plain": [
       "{'A', 'B', 'C', 'D'}"
      ]
     },
     "execution_count": 17,
     "metadata": {},
     "output_type": "execute_result"
    }
   ],
   "source": [
    "species_tree1.get_species()"
   ]
  },
  {
   "cell_type": "code",
   "execution_count": 18,
   "id": "d6cec3fe",
   "metadata": {
    "ExecuteTime": {
     "end_time": "2022-04-22T14:19:47.037703Z",
     "start_time": "2022-04-22T14:19:47.028015Z"
    }
   },
   "outputs": [
    {
     "data": {
      "text/plain": [
       "{'treeko_dist': 0.4444444444444444,\n",
       " 'rf': 0.6666666666666666,\n",
       " 'max_rf': 2,\n",
       " 'effective_tree_size': 3.0,\n",
       " 'norm_rf': 0.3333333333333333,\n",
       " 'ref_edges_in_source': 0.875,\n",
       " 'source_edges_in_ref': 0.875,\n",
       " 'source_subtrees': 3,\n",
       " 'common_edges': set(),\n",
       " 'source_edges': set(),\n",
       " 'ref_edges': set()}"
      ]
     },
     "execution_count": 18,
     "metadata": {},
     "output_type": "execute_result"
    }
   ],
   "source": [
    "gene_tree1.compare(species_tree1, has_duplications=True, unrooted=True)"
   ]
  },
  {
   "cell_type": "markdown",
   "id": "ae0e0d49",
   "metadata": {},
   "source": [
    "## New error"
   ]
  },
  {
   "cell_type": "code",
   "execution_count": 19,
   "id": "f86535db",
   "metadata": {
    "ExecuteTime": {
     "end_time": "2022-04-22T14:37:24.038232Z",
     "start_time": "2022-04-22T14:37:24.029853Z"
    }
   },
   "outputs": [],
   "source": [
    "gene_tree2=PhyloTree(\"((GCA_001281215.1-AZBY01000001.1_97:0.21869,(GCA_001421115.1-AZBY01000001.1_97:0.2415,((GCA_001949975.1-AZBY01000001.1_97:0.10462,((GCA_001281225.1-AZBY01000001.1_97:0.09301,GCA_000830375.1-AZBY01000001.1_97:0.07717)1:0.01766,GCA_000687335.1-AZBY01000001.1_97:0.11858)1:0.01909)1:0.0555,GCA_006493415.1-AZBY01000001.1_97:0.18351)1:0.02024)1:0.03083)1:0.01192,(GCA_001281285.1-AZBY01000001.1_97:0.43898,GCA_001421135.1-AZBY01000001.1_97:0.18422)1:0.1049,GCA_001281205.1-AZBY01000001.1_97:0.18379);\")\n",
    "gene_tree2.set_species_naming_function(lambda node: node.name.split('-')[0])\n",
    "\n",
    "\n"
   ]
  },
  {
   "cell_type": "code",
   "execution_count": 20,
   "id": "9793265d",
   "metadata": {
    "ExecuteTime": {
     "end_time": "2022-04-22T14:37:24.330311Z",
     "start_time": "2022-04-22T14:37:24.322875Z"
    }
   },
   "outputs": [
    {
     "data": {
      "text/plain": [
       "{'GCA_000687335.1',\n",
       " 'GCA_000830375.1',\n",
       " 'GCA_001281205.1',\n",
       " 'GCA_001281215.1',\n",
       " 'GCA_001281225.1',\n",
       " 'GCA_001281285.1',\n",
       " 'GCA_001421115.1',\n",
       " 'GCA_001421135.1',\n",
       " 'GCA_001949975.1',\n",
       " 'GCA_006493415.1'}"
      ]
     },
     "execution_count": 20,
     "metadata": {},
     "output_type": "execute_result"
    }
   ],
   "source": [
    "gene_tree2.get_species()"
   ]
  },
  {
   "cell_type": "code",
   "execution_count": 21,
   "id": "c3d0260a",
   "metadata": {
    "ExecuteTime": {
     "end_time": "2022-04-22T14:37:24.566556Z",
     "start_time": "2022-04-22T14:37:24.561648Z"
    }
   },
   "outputs": [
    {
     "name": "stdout",
     "output_type": "stream",
     "text": [
      "\n",
      "      /-GCA_001281215.1-AZBY01000001.1_97\n",
      "     |\n",
      "   /-|   /-GCA_001421115.1-AZBY01000001.1_97\n",
      "  |  |  |\n",
      "  |  |  |      /-GCA_001949975.1-AZBY01000001.1_97\n",
      "  |   \\-|     |\n",
      "  |     |   /-|      /-GCA_001281225.1-AZBY01000001.1_97\n",
      "  |     |  |  |   /-|\n",
      "  |     |  |   \\-|   \\-GCA_000830375.1-AZBY01000001.1_97\n",
      "  |      \\-|     |\n",
      "--|        |      \\-GCA_000687335.1-AZBY01000001.1_97\n",
      "  |        |\n",
      "  |         \\-GCA_006493415.1-AZBY01000001.1_97\n",
      "  |\n",
      "  |   /-GCA_001281285.1-AZBY01000001.1_97\n",
      "  |--|\n",
      "  |   \\-GCA_001421135.1-AZBY01000001.1_97\n",
      "  |\n",
      "   \\-GCA_001281205.1-AZBY01000001.1_97\n"
     ]
    }
   ],
   "source": [
    "print(gene_tree2)"
   ]
  },
  {
   "cell_type": "code",
   "execution_count": 22,
   "id": "5aff8118",
   "metadata": {
    "ExecuteTime": {
     "end_time": "2022-04-22T14:37:24.874003Z",
     "start_time": "2022-04-22T14:37:24.868279Z"
    }
   },
   "outputs": [],
   "source": [
    "species_tree2=PhyloTree(\"(((GCA_000687335.1:0.00488,GCA_006493415.1:0.00772)1:0.00177,(GCA_001281205.1:0.00825,(GCA_001281215.1:0.01093,((GCA_001421135.1:0.00359,GCA_000830375.1:0.00395)1:0.00109,GCA_001949975.1:0.00561)1:0.0022)1:0.00233)1:0.00331)1:0.00277,GCA_001281285.1:0.00505,(GCA_001421115.1:0.00426,GCA_001281225.1:0.00425)1:0.00056);\")\n",
    "\n",
    "species_tree2.set_species_naming_function(lambda node: node.name)\n",
    "\n"
   ]
  },
  {
   "cell_type": "code",
   "execution_count": 23,
   "id": "7d65822c",
   "metadata": {
    "ExecuteTime": {
     "end_time": "2022-04-22T14:37:25.427959Z",
     "start_time": "2022-04-22T14:37:25.421055Z"
    }
   },
   "outputs": [
    {
     "data": {
      "text/plain": [
       "{'GCA_000687335.1',\n",
       " 'GCA_000830375.1',\n",
       " 'GCA_001281205.1',\n",
       " 'GCA_001281215.1',\n",
       " 'GCA_001281225.1',\n",
       " 'GCA_001281285.1',\n",
       " 'GCA_001421115.1',\n",
       " 'GCA_001421135.1',\n",
       " 'GCA_001949975.1',\n",
       " 'GCA_006493415.1'}"
      ]
     },
     "execution_count": 23,
     "metadata": {},
     "output_type": "execute_result"
    }
   ],
   "source": [
    "species_tree2.get_species()"
   ]
  },
  {
   "cell_type": "code",
   "execution_count": 28,
   "id": "9d108ecc",
   "metadata": {
    "ExecuteTime": {
     "end_time": "2022-04-22T14:41:54.224149Z",
     "start_time": "2022-04-22T14:41:54.218700Z"
    }
   },
   "outputs": [
    {
     "name": "stdout",
     "output_type": "stream",
     "text": [
      "\n",
      "         /-GCA_000687335.1\n",
      "      /-|\n",
      "     |   \\-GCA_006493415.1\n",
      "   /-|\n",
      "  |  |   /-GCA_001281205.1\n",
      "  |  |  |\n",
      "  |   \\-|   /-GCA_001281215.1\n",
      "  |     |  |\n",
      "  |      \\-|      /-GCA_001421135.1\n",
      "  |        |   /-|\n",
      "--|         \\-|   \\-GCA_000830375.1\n",
      "  |           |\n",
      "  |            \\-GCA_001949975.1\n",
      "  |\n",
      "  |--GCA_001281285.1\n",
      "  |\n",
      "  |   /-GCA_001421115.1\n",
      "   \\-|\n",
      "      \\-GCA_001281225.1\n"
     ]
    }
   ],
   "source": [
    "print(species_tree2)"
   ]
  },
  {
   "cell_type": "code",
   "execution_count": 27,
   "id": "3906b2a6",
   "metadata": {
    "ExecuteTime": {
     "end_time": "2022-04-22T14:40:21.028117Z",
     "start_time": "2022-04-22T14:40:21.015695Z"
    }
   },
   "outputs": [
    {
     "name": "stderr",
     "output_type": "stream",
     "text": [
      "/Library/Frameworks/Python.framework/Versions/3.9/lib/python3.9/site-packages/numpy/core/fromnumeric.py:3440: RuntimeWarning: Mean of empty slice.\n",
      "  return _methods._mean(a, axis=axis, dtype=dtype,\n",
      "/Library/Frameworks/Python.framework/Versions/3.9/lib/python3.9/site-packages/numpy/core/_methods.py:189: RuntimeWarning: invalid value encountered in double_scalars\n",
      "  ret = ret.dtype.type(ret / rcount)\n"
     ]
    },
    {
     "data": {
      "text/plain": [
       "{'treeko_dist': 0.0,\n",
       " 'rf': 0.0,\n",
       " 'max_rf': 0,\n",
       " 'effective_tree_size': 0.0,\n",
       " 'norm_rf': 0.0,\n",
       " 'ref_edges_in_source': nan,\n",
       " 'source_edges_in_ref': nan,\n",
       " 'source_subtrees': 1,\n",
       " 'common_edges': set(),\n",
       " 'source_edges': set(),\n",
       " 'ref_edges': set()}"
      ]
     },
     "execution_count": 27,
     "metadata": {},
     "output_type": "execute_result"
    }
   ],
   "source": [
    "gene_tree2.compare(species_tree2, has_duplications=True, unrooted=True)"
   ]
  },
  {
   "cell_type": "code",
   "execution_count": 20,
   "id": "f21aa237",
   "metadata": {
    "ExecuteTime": {
     "end_time": "2022-04-22T13:07:36.237885Z",
     "start_time": "2022-04-22T13:07:36.227618Z"
    }
   },
   "outputs": [
    {
     "data": {
      "text/plain": [
       "{'treeko_dist': 0.5,\n",
       " 'rf': 1.0,\n",
       " 'max_rf': 2,\n",
       " 'effective_tree_size': 4.0,\n",
       " 'norm_rf': 0.5,\n",
       " 'ref_edges_in_source': 0.875,\n",
       " 'source_edges_in_ref': 0.875,\n",
       " 'source_subtrees': 2,\n",
       " 'common_edges': set(),\n",
       " 'source_edges': set(),\n",
       " 'ref_edges': set()}"
      ]
     },
     "execution_count": 20,
     "metadata": {},
     "output_type": "execute_result"
    }
   ],
   "source": [
    "comp"
   ]
  },
  {
   "cell_type": "code",
   "execution_count": null,
   "id": "a2d6e28a",
   "metadata": {},
   "outputs": [],
   "source": []
  },
  {
   "cell_type": "code",
   "execution_count": 25,
   "id": "50b70173",
   "metadata": {
    "ExecuteTime": {
     "end_time": "2022-04-22T14:39:55.501139Z",
     "start_time": "2022-04-22T14:39:55.495926Z"
    }
   },
   "outputs": [],
   "source": [
    "gene_tree2B=PhyloTree(\"((GCA_001281215.1:0.21869,(GCA_001421115.1:0.2415,((GCA_001949975.1:0.10462,((GCA_001281225.1:0.09301,GCA_000830375.1:0.07717)1:0.01766,GCA_000687335.1:0.11858)1:0.01909)1:0.0555,GCA_006493415.1:0.18351)1:0.02024)1:0.03083)1:0.01192,(GCA_001281285.1:0.43898,GCA_001421135.1:0.18422)1:0.1049,GCA_001281205.1:0.18379);\")\n"
   ]
  },
  {
   "cell_type": "code",
   "execution_count": 26,
   "id": "3b05299d",
   "metadata": {
    "ExecuteTime": {
     "end_time": "2022-04-22T14:40:08.792890Z",
     "start_time": "2022-04-22T14:40:08.781694Z"
    }
   },
   "outputs": [
    {
     "data": {
      "text/plain": [
       "{'treeko_dist': 1.0,\n",
       " 'rf': 12.0,\n",
       " 'max_rf': 12,\n",
       " 'effective_tree_size': 9.0,\n",
       " 'norm_rf': 1.0,\n",
       " 'ref_edges_in_source': 0.5714285714285714,\n",
       " 'source_edges_in_ref': 0.5714285714285714,\n",
       " 'source_subtrees': 1,\n",
       " 'common_edges': set(),\n",
       " 'source_edges': set(),\n",
       " 'ref_edges': set()}"
      ]
     },
     "execution_count": 26,
     "metadata": {},
     "output_type": "execute_result"
    }
   ],
   "source": [
    "gene_tree2B.compare(species_tree2, has_duplications=True, unrooted=True)"
   ]
  },
  {
   "cell_type": "code",
   "execution_count": 29,
   "id": "a0f23d70",
   "metadata": {
    "ExecuteTime": {
     "end_time": "2022-04-22T14:42:25.565598Z",
     "start_time": "2022-04-22T14:42:25.544528Z"
    }
   },
   "outputs": [
    {
     "data": {
      "text/plain": [
       "{'rf': 14.0,\n",
       " 'max_rf': 14.0,\n",
       " 'ref_edges_in_source': 0.5625,\n",
       " 'source_edges_in_ref': 0.5625,\n",
       " 'effective_tree_size': 10,\n",
       " 'norm_rf': 1.0,\n",
       " 'treeko_dist': 'NA',\n",
       " 'source_subtrees': 1,\n",
       " 'common_edges': {(('GCA_000687335.1',\n",
       "    'GCA_000830375.1',\n",
       "    'GCA_001281205.1',\n",
       "    'GCA_001281215.1',\n",
       "    'GCA_001281225.1',\n",
       "    'GCA_001281285.1',\n",
       "    'GCA_001421115.1',\n",
       "    'GCA_001421135.1',\n",
       "    'GCA_001949975.1'),\n",
       "   ('GCA_006493415.1',)),\n",
       "  (('GCA_000687335.1',\n",
       "    'GCA_000830375.1',\n",
       "    'GCA_001281205.1',\n",
       "    'GCA_001281215.1',\n",
       "    'GCA_001281225.1',\n",
       "    'GCA_001281285.1',\n",
       "    'GCA_001421115.1',\n",
       "    'GCA_001421135.1',\n",
       "    'GCA_006493415.1'),\n",
       "   ('GCA_001949975.1',)),\n",
       "  (('GCA_000687335.1',\n",
       "    'GCA_000830375.1',\n",
       "    'GCA_001281205.1',\n",
       "    'GCA_001281215.1',\n",
       "    'GCA_001281225.1',\n",
       "    'GCA_001281285.1',\n",
       "    'GCA_001421115.1',\n",
       "    'GCA_001949975.1',\n",
       "    'GCA_006493415.1'),\n",
       "   ('GCA_001421135.1',)),\n",
       "  (('GCA_000687335.1',\n",
       "    'GCA_000830375.1',\n",
       "    'GCA_001281205.1',\n",
       "    'GCA_001281215.1',\n",
       "    'GCA_001281225.1',\n",
       "    'GCA_001281285.1',\n",
       "    'GCA_001421135.1',\n",
       "    'GCA_001949975.1',\n",
       "    'GCA_006493415.1'),\n",
       "   ('GCA_001421115.1',)),\n",
       "  (('GCA_000687335.1',\n",
       "    'GCA_000830375.1',\n",
       "    'GCA_001281205.1',\n",
       "    'GCA_001281215.1',\n",
       "    'GCA_001281225.1',\n",
       "    'GCA_001421115.1',\n",
       "    'GCA_001421135.1',\n",
       "    'GCA_001949975.1',\n",
       "    'GCA_006493415.1'),\n",
       "   ('GCA_001281285.1',)),\n",
       "  (('GCA_000687335.1',\n",
       "    'GCA_000830375.1',\n",
       "    'GCA_001281205.1',\n",
       "    'GCA_001281215.1',\n",
       "    'GCA_001281285.1',\n",
       "    'GCA_001421115.1',\n",
       "    'GCA_001421135.1',\n",
       "    'GCA_001949975.1',\n",
       "    'GCA_006493415.1'),\n",
       "   ('GCA_001281225.1',)),\n",
       "  (('GCA_000687335.1',\n",
       "    'GCA_000830375.1',\n",
       "    'GCA_001281205.1',\n",
       "    'GCA_001281225.1',\n",
       "    'GCA_001281285.1',\n",
       "    'GCA_001421115.1',\n",
       "    'GCA_001421135.1',\n",
       "    'GCA_001949975.1',\n",
       "    'GCA_006493415.1'),\n",
       "   ('GCA_001281215.1',)),\n",
       "  (('GCA_000687335.1',\n",
       "    'GCA_000830375.1',\n",
       "    'GCA_001281215.1',\n",
       "    'GCA_001281225.1',\n",
       "    'GCA_001281285.1',\n",
       "    'GCA_001421115.1',\n",
       "    'GCA_001421135.1',\n",
       "    'GCA_001949975.1',\n",
       "    'GCA_006493415.1'),\n",
       "   ('GCA_001281205.1',)),\n",
       "  (('GCA_000687335.1',\n",
       "    'GCA_001281205.1',\n",
       "    'GCA_001281215.1',\n",
       "    'GCA_001281225.1',\n",
       "    'GCA_001281285.1',\n",
       "    'GCA_001421115.1',\n",
       "    'GCA_001421135.1',\n",
       "    'GCA_001949975.1',\n",
       "    'GCA_006493415.1'),\n",
       "   ('GCA_000830375.1',))},\n",
       " 'source_edges': {(('GCA_000687335.1',\n",
       "    'GCA_000830375.1',\n",
       "    'GCA_001281205.1',\n",
       "    'GCA_001281215.1',\n",
       "    'GCA_001281225.1',\n",
       "    'GCA_001281285.1',\n",
       "    'GCA_001421115.1',\n",
       "    'GCA_001421135.1',\n",
       "    'GCA_001949975.1'),\n",
       "   ('GCA_006493415.1',)),\n",
       "  (('GCA_000687335.1',\n",
       "    'GCA_000830375.1',\n",
       "    'GCA_001281205.1',\n",
       "    'GCA_001281215.1',\n",
       "    'GCA_001281225.1',\n",
       "    'GCA_001281285.1',\n",
       "    'GCA_001421115.1',\n",
       "    'GCA_001421135.1',\n",
       "    'GCA_006493415.1'),\n",
       "   ('GCA_001949975.1',)),\n",
       "  (('GCA_000687335.1',\n",
       "    'GCA_000830375.1',\n",
       "    'GCA_001281205.1',\n",
       "    'GCA_001281215.1',\n",
       "    'GCA_001281225.1',\n",
       "    'GCA_001281285.1',\n",
       "    'GCA_001421115.1',\n",
       "    'GCA_001949975.1',\n",
       "    'GCA_006493415.1'),\n",
       "   ('GCA_001421135.1',)),\n",
       "  (('GCA_000687335.1',\n",
       "    'GCA_000830375.1',\n",
       "    'GCA_001281205.1',\n",
       "    'GCA_001281215.1',\n",
       "    'GCA_001281225.1',\n",
       "    'GCA_001281285.1',\n",
       "    'GCA_001421135.1',\n",
       "    'GCA_001949975.1',\n",
       "    'GCA_006493415.1'),\n",
       "   ('GCA_001421115.1',)),\n",
       "  (('GCA_000687335.1',\n",
       "    'GCA_000830375.1',\n",
       "    'GCA_001281205.1',\n",
       "    'GCA_001281215.1',\n",
       "    'GCA_001281225.1',\n",
       "    'GCA_001421115.1',\n",
       "    'GCA_001421135.1',\n",
       "    'GCA_001949975.1',\n",
       "    'GCA_006493415.1'),\n",
       "   ('GCA_001281285.1',)),\n",
       "  (('GCA_000687335.1',\n",
       "    'GCA_000830375.1',\n",
       "    'GCA_001281205.1',\n",
       "    'GCA_001281215.1',\n",
       "    'GCA_001281225.1',\n",
       "    'GCA_001421115.1',\n",
       "    'GCA_001949975.1',\n",
       "    'GCA_006493415.1'),\n",
       "   ('GCA_001281285.1', 'GCA_001421135.1')),\n",
       "  (('GCA_000687335.1',\n",
       "    'GCA_000830375.1',\n",
       "    'GCA_001281205.1',\n",
       "    'GCA_001281215.1',\n",
       "    'GCA_001281285.1',\n",
       "    'GCA_001421115.1',\n",
       "    'GCA_001421135.1',\n",
       "    'GCA_001949975.1',\n",
       "    'GCA_006493415.1'),\n",
       "   ('GCA_001281225.1',)),\n",
       "  (('GCA_000687335.1',\n",
       "    'GCA_000830375.1',\n",
       "    'GCA_001281205.1',\n",
       "    'GCA_001281225.1',\n",
       "    'GCA_001281285.1',\n",
       "    'GCA_001421115.1',\n",
       "    'GCA_001421135.1',\n",
       "    'GCA_001949975.1',\n",
       "    'GCA_006493415.1'),\n",
       "   ('GCA_001281215.1',)),\n",
       "  (('GCA_000687335.1',\n",
       "    'GCA_000830375.1',\n",
       "    'GCA_001281215.1',\n",
       "    'GCA_001281225.1',\n",
       "    'GCA_001281285.1',\n",
       "    'GCA_001421115.1',\n",
       "    'GCA_001421135.1',\n",
       "    'GCA_001949975.1',\n",
       "    'GCA_006493415.1'),\n",
       "   ('GCA_001281205.1',)),\n",
       "  (('GCA_000687335.1',\n",
       "    'GCA_000830375.1',\n",
       "    'GCA_001281215.1',\n",
       "    'GCA_001281225.1',\n",
       "    'GCA_001421115.1',\n",
       "    'GCA_001949975.1',\n",
       "    'GCA_006493415.1'),\n",
       "   ('GCA_001281205.1', 'GCA_001281285.1', 'GCA_001421135.1')),\n",
       "  (('GCA_000687335.1', 'GCA_000830375.1', 'GCA_001281225.1'),\n",
       "   ('GCA_001281205.1',\n",
       "    'GCA_001281215.1',\n",
       "    'GCA_001281285.1',\n",
       "    'GCA_001421115.1',\n",
       "    'GCA_001421135.1',\n",
       "    'GCA_001949975.1',\n",
       "    'GCA_006493415.1')),\n",
       "  (('GCA_000687335.1',\n",
       "    'GCA_000830375.1',\n",
       "    'GCA_001281225.1',\n",
       "    'GCA_001421115.1',\n",
       "    'GCA_001949975.1',\n",
       "    'GCA_006493415.1'),\n",
       "   ('GCA_001281205.1',\n",
       "    'GCA_001281215.1',\n",
       "    'GCA_001281285.1',\n",
       "    'GCA_001421135.1')),\n",
       "  (('GCA_000687335.1',\n",
       "    'GCA_000830375.1',\n",
       "    'GCA_001281225.1',\n",
       "    'GCA_001949975.1'),\n",
       "   ('GCA_001281205.1',\n",
       "    'GCA_001281215.1',\n",
       "    'GCA_001281285.1',\n",
       "    'GCA_001421115.1',\n",
       "    'GCA_001421135.1',\n",
       "    'GCA_006493415.1')),\n",
       "  (('GCA_000687335.1',\n",
       "    'GCA_000830375.1',\n",
       "    'GCA_001281225.1',\n",
       "    'GCA_001949975.1',\n",
       "    'GCA_006493415.1'),\n",
       "   ('GCA_001281205.1',\n",
       "    'GCA_001281215.1',\n",
       "    'GCA_001281285.1',\n",
       "    'GCA_001421115.1',\n",
       "    'GCA_001421135.1')),\n",
       "  (('GCA_000687335.1',\n",
       "    'GCA_001281205.1',\n",
       "    'GCA_001281215.1',\n",
       "    'GCA_001281225.1',\n",
       "    'GCA_001281285.1',\n",
       "    'GCA_001421115.1',\n",
       "    'GCA_001421135.1',\n",
       "    'GCA_001949975.1',\n",
       "    'GCA_006493415.1'),\n",
       "   ('GCA_000830375.1',)),\n",
       "  (('GCA_000687335.1',\n",
       "    'GCA_001281205.1',\n",
       "    'GCA_001281215.1',\n",
       "    'GCA_001281285.1',\n",
       "    'GCA_001421115.1',\n",
       "    'GCA_001421135.1',\n",
       "    'GCA_001949975.1',\n",
       "    'GCA_006493415.1'),\n",
       "   ('GCA_000830375.1', 'GCA_001281225.1'))},\n",
       " 'ref_edges': {(('GCA_000687335.1',\n",
       "    'GCA_000830375.1',\n",
       "    'GCA_001281205.1',\n",
       "    'GCA_001281215.1',\n",
       "    'GCA_001281225.1',\n",
       "    'GCA_001281285.1',\n",
       "    'GCA_001421115.1',\n",
       "    'GCA_001421135.1',\n",
       "    'GCA_001949975.1'),\n",
       "   ('GCA_006493415.1',)),\n",
       "  (('GCA_000687335.1',\n",
       "    'GCA_000830375.1',\n",
       "    'GCA_001281205.1',\n",
       "    'GCA_001281215.1',\n",
       "    'GCA_001281225.1',\n",
       "    'GCA_001281285.1',\n",
       "    'GCA_001421115.1',\n",
       "    'GCA_001421135.1',\n",
       "    'GCA_006493415.1'),\n",
       "   ('GCA_001949975.1',)),\n",
       "  (('GCA_000687335.1',\n",
       "    'GCA_000830375.1',\n",
       "    'GCA_001281205.1',\n",
       "    'GCA_001281215.1',\n",
       "    'GCA_001281225.1',\n",
       "    'GCA_001281285.1',\n",
       "    'GCA_001421115.1',\n",
       "    'GCA_001949975.1',\n",
       "    'GCA_006493415.1'),\n",
       "   ('GCA_001421135.1',)),\n",
       "  (('GCA_000687335.1',\n",
       "    'GCA_000830375.1',\n",
       "    'GCA_001281205.1',\n",
       "    'GCA_001281215.1',\n",
       "    'GCA_001281225.1',\n",
       "    'GCA_001281285.1',\n",
       "    'GCA_001421135.1',\n",
       "    'GCA_001949975.1',\n",
       "    'GCA_006493415.1'),\n",
       "   ('GCA_001421115.1',)),\n",
       "  (('GCA_000687335.1',\n",
       "    'GCA_000830375.1',\n",
       "    'GCA_001281205.1',\n",
       "    'GCA_001281215.1',\n",
       "    'GCA_001281225.1',\n",
       "    'GCA_001421115.1',\n",
       "    'GCA_001421135.1',\n",
       "    'GCA_001949975.1',\n",
       "    'GCA_006493415.1'),\n",
       "   ('GCA_001281285.1',)),\n",
       "  (('GCA_000687335.1',\n",
       "    'GCA_000830375.1',\n",
       "    'GCA_001281205.1',\n",
       "    'GCA_001281215.1',\n",
       "    'GCA_001281285.1',\n",
       "    'GCA_001421115.1',\n",
       "    'GCA_001421135.1',\n",
       "    'GCA_001949975.1',\n",
       "    'GCA_006493415.1'),\n",
       "   ('GCA_001281225.1',)),\n",
       "  (('GCA_000687335.1',\n",
       "    'GCA_000830375.1',\n",
       "    'GCA_001281205.1',\n",
       "    'GCA_001281215.1',\n",
       "    'GCA_001281285.1',\n",
       "    'GCA_001421135.1',\n",
       "    'GCA_001949975.1',\n",
       "    'GCA_006493415.1'),\n",
       "   ('GCA_001281225.1', 'GCA_001421115.1')),\n",
       "  (('GCA_000687335.1',\n",
       "    'GCA_000830375.1',\n",
       "    'GCA_001281205.1',\n",
       "    'GCA_001281215.1',\n",
       "    'GCA_001421135.1',\n",
       "    'GCA_001949975.1',\n",
       "    'GCA_006493415.1'),\n",
       "   ('GCA_001281225.1', 'GCA_001281285.1', 'GCA_001421115.1')),\n",
       "  (('GCA_000687335.1',\n",
       "    'GCA_000830375.1',\n",
       "    'GCA_001281205.1',\n",
       "    'GCA_001281225.1',\n",
       "    'GCA_001281285.1',\n",
       "    'GCA_001421115.1',\n",
       "    'GCA_001421135.1',\n",
       "    'GCA_001949975.1',\n",
       "    'GCA_006493415.1'),\n",
       "   ('GCA_001281215.1',)),\n",
       "  (('GCA_000687335.1',\n",
       "    'GCA_000830375.1',\n",
       "    'GCA_001281215.1',\n",
       "    'GCA_001281225.1',\n",
       "    'GCA_001281285.1',\n",
       "    'GCA_001421115.1',\n",
       "    'GCA_001421135.1',\n",
       "    'GCA_001949975.1',\n",
       "    'GCA_006493415.1'),\n",
       "   ('GCA_001281205.1',)),\n",
       "  (('GCA_000687335.1',\n",
       "    'GCA_001281205.1',\n",
       "    'GCA_001281215.1',\n",
       "    'GCA_001281225.1',\n",
       "    'GCA_001281285.1',\n",
       "    'GCA_001421115.1',\n",
       "    'GCA_001421135.1',\n",
       "    'GCA_001949975.1',\n",
       "    'GCA_006493415.1'),\n",
       "   ('GCA_000830375.1',)),\n",
       "  (('GCA_000687335.1',\n",
       "    'GCA_001281205.1',\n",
       "    'GCA_001281215.1',\n",
       "    'GCA_001281225.1',\n",
       "    'GCA_001281285.1',\n",
       "    'GCA_001421115.1',\n",
       "    'GCA_001949975.1',\n",
       "    'GCA_006493415.1'),\n",
       "   ('GCA_000830375.1', 'GCA_001421135.1')),\n",
       "  (('GCA_000687335.1',\n",
       "    'GCA_001281205.1',\n",
       "    'GCA_001281215.1',\n",
       "    'GCA_001281225.1',\n",
       "    'GCA_001281285.1',\n",
       "    'GCA_001421115.1',\n",
       "    'GCA_006493415.1'),\n",
       "   ('GCA_000830375.1', 'GCA_001421135.1', 'GCA_001949975.1')),\n",
       "  (('GCA_000687335.1',\n",
       "    'GCA_001281205.1',\n",
       "    'GCA_001281225.1',\n",
       "    'GCA_001281285.1',\n",
       "    'GCA_001421115.1',\n",
       "    'GCA_006493415.1'),\n",
       "   ('GCA_000830375.1',\n",
       "    'GCA_001281215.1',\n",
       "    'GCA_001421135.1',\n",
       "    'GCA_001949975.1')),\n",
       "  (('GCA_000687335.1',\n",
       "    'GCA_001281225.1',\n",
       "    'GCA_001281285.1',\n",
       "    'GCA_001421115.1',\n",
       "    'GCA_006493415.1'),\n",
       "   ('GCA_000830375.1',\n",
       "    'GCA_001281205.1',\n",
       "    'GCA_001281215.1',\n",
       "    'GCA_001421135.1',\n",
       "    'GCA_001949975.1')),\n",
       "  (('GCA_000687335.1', 'GCA_006493415.1'),\n",
       "   ('GCA_000830375.1',\n",
       "    'GCA_001281205.1',\n",
       "    'GCA_001281215.1',\n",
       "    'GCA_001281225.1',\n",
       "    'GCA_001281285.1',\n",
       "    'GCA_001421115.1',\n",
       "    'GCA_001421135.1',\n",
       "    'GCA_001949975.1'))}}"
      ]
     },
     "execution_count": 29,
     "metadata": {},
     "output_type": "execute_result"
    }
   ],
   "source": [
    "gene_tree2B.compare(species_tree2, has_duplications=False, unrooted=True)"
   ]
  },
  {
   "cell_type": "code",
   "execution_count": 34,
   "id": "ee0d214d",
   "metadata": {
    "ExecuteTime": {
     "end_time": "2022-04-22T15:03:15.166753Z",
     "start_time": "2022-04-22T15:03:15.159493Z"
    }
   },
   "outputs": [
    {
     "data": {
      "text/plain": [
       "False"
      ]
     },
     "execution_count": 34,
     "metadata": {},
     "output_type": "execute_result"
    }
   ],
   "source": [
    "len(gene_tree2.get_leaf_names())>len(gene_tree2.get_species())"
   ]
  },
  {
   "cell_type": "code",
   "execution_count": 32,
   "id": "92c3a771",
   "metadata": {
    "ExecuteTime": {
     "end_time": "2022-04-22T15:02:49.545843Z",
     "start_time": "2022-04-22T15:02:49.537872Z"
    }
   },
   "outputs": [
    {
     "data": {
      "text/plain": [
       "[PhyloTree node 'GCA_001281215.1-AZBY01000001.1_97' (0x11a4ccfa),\n",
       " PhyloTree node 'GCA_001421115.1-AZBY01000001.1_97' (0x11a4ccca),\n",
       " PhyloTree node 'GCA_001949975.1-AZBY01000001.1_97' (0x11a4ccc7),\n",
       " PhyloTree node 'GCA_001281225.1-AZBY01000001.1_97' (0x11a4cc58),\n",
       " PhyloTree node 'GCA_000830375.1-AZBY01000001.1_97' (0x11a4ccd9),\n",
       " PhyloTree node 'GCA_000687335.1-AZBY01000001.1_97' (0x11a4cc88),\n",
       " PhyloTree node 'GCA_006493415.1-AZBY01000001.1_97' (0x11a4ccf4),\n",
       " PhyloTree node 'GCA_001281285.1-AZBY01000001.1_97' (0x11a4ccdf),\n",
       " PhyloTree node 'GCA_001421135.1-AZBY01000001.1_97' (0x11a4ccaf),\n",
       " PhyloTree node 'GCA_001281205.1-AZBY01000001.1_97' (0x11a4cc52)]"
      ]
     },
     "execution_count": 32,
     "metadata": {},
     "output_type": "execute_result"
    }
   ],
   "source": [
    "gene_tree2."
   ]
  },
  {
   "cell_type": "code",
   "execution_count": 35,
   "id": "856e7fe9",
   "metadata": {
    "ExecuteTime": {
     "end_time": "2022-04-22T15:06:57.294434Z",
     "start_time": "2022-04-22T15:06:57.280948Z"
    }
   },
   "outputs": [
    {
     "ename": "AttributeError",
     "evalue": "'PhyloNode' object has no attribute 'set_leaf_names'",
     "output_type": "error",
     "traceback": [
      "\u001b[0;31m---------------------------------------------------------------------------\u001b[0m",
      "\u001b[0;31mAttributeError\u001b[0m                            Traceback (most recent call last)",
      "\u001b[0;32m/var/folders/wm/45ntkynd66gd8wnsdr6vw7h40000gn/T/ipykernel_26855/1046589459.py\u001b[0m in \u001b[0;36m<module>\u001b[0;34m\u001b[0m\n\u001b[0;32m----> 1\u001b[0;31m \u001b[0mgene_tree2\u001b[0m\u001b[0;34m.\u001b[0m\u001b[0mset_leaf_names\u001b[0m\u001b[0;34m(\u001b[0m\u001b[0;34m)\u001b[0m\u001b[0;34m\u001b[0m\u001b[0;34m\u001b[0m\u001b[0m\n\u001b[0m",
      "\u001b[0;31mAttributeError\u001b[0m: 'PhyloNode' object has no attribute 'set_leaf_names'"
     ]
    }
   ],
   "source": [
    "gene_tree2"
   ]
  },
  {
   "cell_type": "markdown",
   "id": "387ff6df",
   "metadata": {},
   "source": [
    "## Other error"
   ]
  },
  {
   "cell_type": "code",
   "execution_count": 3,
   "id": "7222bdff",
   "metadata": {
    "ExecuteTime": {
     "end_time": "2022-04-25T11:20:56.490195Z",
     "start_time": "2022-04-25T11:20:56.470200Z"
    }
   },
   "outputs": [
    {
     "data": {
      "text/plain": [
       "{'GCA_000687335.1',\n",
       " 'GCA_000830375.1',\n",
       " 'GCA_001281205.1',\n",
       " 'GCA_001281215.1',\n",
       " 'GCA_001281225.1',\n",
       " 'GCA_001281285.1',\n",
       " 'GCA_001421115.1',\n",
       " 'GCA_001421135.1',\n",
       " 'GCA_001949975.1',\n",
       " 'GCA_006493415.1'}"
      ]
     },
     "execution_count": 3,
     "metadata": {},
     "output_type": "execute_result"
    }
   ],
   "source": [
    "gene_tree3=PhyloTree(\"(((GCA_001281205.1-AZBY01000022.1_28:0.00139,GCA_001281215.1-AZBY01000017.1_28:0.00149):0.04873,(GCA_001949975.1-AZBY01000017.1_28:0.06676,GCA_000687335.1-AZBY01000017.1_28:0.07362):0.00601):0.00154,((GCA_000830375.1-AZBY01000022.1_28:0.10495,GCA_001281205.1-AZBY01000017.1_28:0.05482):0.00645,((((GCA_001281225.1-AZBY01000022.1_28:0.05426,GCA_000830375.1-AZBY01000017.1_28:0.04972):0.01150,GCA_001281285.1-AZBY01000022.1_28:0.06799):0.00433,GCA_001421135.1-AZBY01000022.1_28:0.05918):0.00732,(GCA_001949975.1-AZBY01000022.1_28:0.08816,(GCA_001421135.1-AZBY01000017.1_28:0.11099,(GCA_001421115.1-AZBY01000017.1_28:0.10823,((GCA_001281285.1-AZBY01000017.1_28:0.15283,GCA_006493415.1-AZBY01000022.1_28:0.08630):0.02817,(GCA_001421115.1-AZBY01000022.1_28:0.11920,((GCA_001281225.1-AZBY01000017.1_28:0.59997,GCA_001281215.1-AZBY01000022.1_28:0.16325):0.08105,GCA_000687335.1-AZBY01000022.1_28:0.16017):0.04220):0.00971):0.01364):0.00298):0.01694):0.00995):0.00678):0.00452,GCA_006493415.1-AZBY01000017.1_28:0.06289):0.00000;\")\n",
    "gene_tree3=PhyloTree(\"(((GCA_001281205.1-A:0.00139,GCA_001281215.1-B:0.00149):0.04873,(GCA_001949975.1-C:0.06676,GCA_000687335.1-D:0.07362):0.00601):0.00154,((GCA_000830375.1-E:0.10495,GCA_001281205.1-F:0.05482):0.00645,((((GCA_001281225.1-G:0.05426,GCA_000830375.1-H:0.04972):0.01150,GCA_001281285.1-I:0.06799):0.00433,GCA_001421135.1-J:0.05918):0.00732,(GCA_001949975.1-K:0.08816,(GCA_001421135.1-L:0.11099,(GCA_001421115.1-M:0.10823,((GCA_001281285.1-N:0.15283,GCA_006493415.1-0:0.08630):0.02817,(GCA_001421115.1-P:0.11920,((GCA_001281225.1-Q:0.59997,GCA_001281215.1-R:0.16325):0.08105,GCA_000687335.1-S:0.16017):0.04220):0.00971):0.01364):0.00298):0.01694):0.00995):0.00678):0.00452,GCA_006493415.1-T:0.06289):0.00000;\")\n",
    "\n",
    "gene_tree3.set_species_naming_function(lambda node: node.name.split('-')[0])\n",
    "\n",
    "gene_tree3.get_species()\n",
    "\n"
   ]
  },
  {
   "cell_type": "code",
   "execution_count": 4,
   "id": "92db27cb",
   "metadata": {
    "ExecuteTime": {
     "end_time": "2022-04-25T11:20:56.905305Z",
     "start_time": "2022-04-25T11:20:56.897050Z"
    }
   },
   "outputs": [
    {
     "data": {
      "text/plain": [
       "{'GCA_000687335.1',\n",
       " 'GCA_000830375.1',\n",
       " 'GCA_001281205.1',\n",
       " 'GCA_001281215.1',\n",
       " 'GCA_001281225.1',\n",
       " 'GCA_001281285.1',\n",
       " 'GCA_001421115.1',\n",
       " 'GCA_001421135.1',\n",
       " 'GCA_001949975.1',\n",
       " 'GCA_006493415.1'}"
      ]
     },
     "execution_count": 4,
     "metadata": {},
     "output_type": "execute_result"
    }
   ],
   "source": [
    "species_tree3=PhyloTree(\"(((GCA_000687335.1:0.00488,GCA_006493415.1:0.00772)1:0.00177,(GCA_001281205.1:0.00825,(GCA_001281215.1:0.01093,((GCA_001421135.1:0.00359,GCA_000830375.1:0.00395)1:0.00109,GCA_001949975.1:0.00561)1:0.0022)1:0.00233)1:0.00331)1:0.00277,GCA_001281285.1:0.00505,(GCA_001421115.1:0.00426,GCA_001281225.1:0.00425)1:0.00056);\")\n",
    "\n",
    "species_tree3.set_species_naming_function(lambda node: node.name)\n",
    "\n",
    "species_tree3.get_species()\n"
   ]
  },
  {
   "cell_type": "code",
   "execution_count": 5,
   "id": "df002fdd",
   "metadata": {
    "ExecuteTime": {
     "end_time": "2022-04-25T11:20:57.452029Z",
     "start_time": "2022-04-25T11:20:57.429031Z"
    }
   },
   "outputs": [
    {
     "name": "stderr",
     "output_type": "stream",
     "text": [
      "/Library/Frameworks/Python.framework/Versions/3.9/lib/python3.9/site-packages/numpy/core/fromnumeric.py:3440: RuntimeWarning: Mean of empty slice.\n",
      "  return _methods._mean(a, axis=axis, dtype=dtype,\n",
      "/Library/Frameworks/Python.framework/Versions/3.9/lib/python3.9/site-packages/numpy/core/_methods.py:189: RuntimeWarning: invalid value encountered in double_scalars\n",
      "  ret = ret.dtype.type(ret / rcount)\n"
     ]
    },
    {
     "data": {
      "text/plain": [
       "{'treeko_dist': 0.0,\n",
       " 'rf': 0.0,\n",
       " 'max_rf': 0,\n",
       " 'effective_tree_size': 0.0,\n",
       " 'norm_rf': 0.0,\n",
       " 'ref_edges_in_source': nan,\n",
       " 'source_edges_in_ref': nan,\n",
       " 'source_subtrees': 1,\n",
       " 'common_edges': set(),\n",
       " 'source_edges': set(),\n",
       " 'ref_edges': set()}"
      ]
     },
     "execution_count": 5,
     "metadata": {},
     "output_type": "execute_result"
    }
   ],
   "source": [
    "gene_tree3.compare(species_tree3, has_duplications=True, unrooted=True)"
   ]
  },
  {
   "cell_type": "code",
   "execution_count": 6,
   "id": "a9e98eb4",
   "metadata": {
    "ExecuteTime": {
     "end_time": "2022-04-25T11:21:01.366164Z",
     "start_time": "2022-04-25T11:21:01.351684Z"
    }
   },
   "outputs": [
    {
     "name": "stdout",
     "output_type": "stream",
     "text": [
      "GCA_001421115.1-M:0.10823;\n"
     ]
    },
    {
     "data": {
      "text/plain": [
       "7"
      ]
     },
     "execution_count": 6,
     "metadata": {},
     "output_type": "execute_result"
    }
   ],
   "source": [
    "res=gene_tree3.split_by_dups()\n",
    "\n",
    "print(res[4].write())\n",
    "res\n",
    "len(res)"
   ]
  },
  {
   "cell_type": "code",
   "execution_count": 19,
   "id": "f83368cc",
   "metadata": {
    "ExecuteTime": {
     "end_time": "2022-04-25T11:26:40.753110Z",
     "start_time": "2022-04-25T11:26:40.746048Z"
    }
   },
   "outputs": [
    {
     "name": "stdout",
     "output_type": "stream",
     "text": [
      "(((GCA_001281225.1-G:0.05426,GCA_000830375.1-H:0.04972)1:0.0115,GCA_001281285.1-I:0.06799)1:0.00433,GCA_001421135.1-J:0.05918);\n"
     ]
    }
   ],
   "source": [
    "print(res[2].write())"
   ]
  },
  {
   "cell_type": "code",
   "execution_count": 22,
   "id": "3aef6cf5",
   "metadata": {
    "ExecuteTime": {
     "end_time": "2022-04-25T11:27:17.395492Z",
     "start_time": "2022-04-25T11:27:17.391579Z"
    }
   },
   "outputs": [],
   "source": [
    "tree=PhyloTree(\"(((GCA_001281225.1:0.05426,GCA_000830375.1:0.04972)1:0.0115,GCA_001281285.1:0.06799)1:0.00433,GCA_001421135.1:0.05918);\")\n",
    "\n",
    "\n"
   ]
  },
  {
   "cell_type": "code",
   "execution_count": 12,
   "id": "497a09ea",
   "metadata": {
    "ExecuteTime": {
     "end_time": "2022-04-25T11:22:19.016241Z",
     "start_time": "2022-04-25T11:22:19.010684Z"
    }
   },
   "outputs": [
    {
     "name": "stdout",
     "output_type": "stream",
     "text": [
      "\n",
      "         /-GCA_000687335.1\n",
      "      /-|\n",
      "     |   \\-GCA_006493415.1\n",
      "   /-|\n",
      "  |  |   /-GCA_001281205.1\n",
      "  |  |  |\n",
      "  |   \\-|   /-GCA_001281215.1\n",
      "  |     |  |\n",
      "  |      \\-|      /-GCA_001421135.1\n",
      "  |        |   /-|\n",
      "--|         \\-|   \\-GCA_000830375.1\n",
      "  |           |\n",
      "  |            \\-GCA_001949975.1\n",
      "  |\n",
      "  |--GCA_001281285.1\n",
      "  |\n",
      "  |   /-GCA_001421115.1\n",
      "   \\-|\n",
      "      \\-GCA_001281225.1\n"
     ]
    }
   ],
   "source": [
    "print(species_tree3)"
   ]
  },
  {
   "cell_type": "code",
   "execution_count": 23,
   "id": "2ac2da41",
   "metadata": {
    "ExecuteTime": {
     "end_time": "2022-04-25T11:27:19.728230Z",
     "start_time": "2022-04-25T11:27:19.717600Z"
    }
   },
   "outputs": [
    {
     "data": {
      "text/plain": [
       "{'rf': 2.0,\n",
       " 'max_rf': 2.0,\n",
       " 'ref_edges_in_source': 0.75,\n",
       " 'source_edges_in_ref': 0.75,\n",
       " 'effective_tree_size': 4,\n",
       " 'norm_rf': 1.0,\n",
       " 'treeko_dist': 'NA',\n",
       " 'source_subtrees': 1,\n",
       " 'common_edges': {(('GCA_000830375.1', 'GCA_001281225.1', 'GCA_001281285.1'),\n",
       "   ('GCA_001421135.1',)),\n",
       "  (('GCA_000830375.1', 'GCA_001281225.1', 'GCA_001421135.1'),\n",
       "   ('GCA_001281285.1',)),\n",
       "  (('GCA_000830375.1', 'GCA_001281285.1', 'GCA_001421135.1'),\n",
       "   ('GCA_001281225.1',))},\n",
       " 'source_edges': {(('GCA_000830375.1', 'GCA_001281225.1'),\n",
       "   ('GCA_001281285.1', 'GCA_001421135.1')),\n",
       "  (('GCA_000830375.1', 'GCA_001281225.1', 'GCA_001281285.1'),\n",
       "   ('GCA_001421135.1',)),\n",
       "  (('GCA_000830375.1', 'GCA_001281225.1', 'GCA_001421135.1'),\n",
       "   ('GCA_001281285.1',)),\n",
       "  (('GCA_000830375.1', 'GCA_001281285.1', 'GCA_001421135.1'),\n",
       "   ('GCA_001281225.1',))},\n",
       " 'ref_edges': {(('GCA_000830375.1', 'GCA_001281225.1', 'GCA_001281285.1'),\n",
       "   ('GCA_001421135.1',)),\n",
       "  (('GCA_000830375.1', 'GCA_001281225.1', 'GCA_001421135.1'),\n",
       "   ('GCA_001281285.1',)),\n",
       "  (('GCA_000830375.1', 'GCA_001281285.1', 'GCA_001421135.1'),\n",
       "   ('GCA_001281225.1',)),\n",
       "  (('GCA_000830375.1', 'GCA_001421135.1'),\n",
       "   ('GCA_001281225.1', 'GCA_001281285.1'))}}"
      ]
     },
     "execution_count": 23,
     "metadata": {},
     "output_type": "execute_result"
    }
   ],
   "source": [
    "tree.compare(species_tree3, has_duplications=False, unrooted=True)"
   ]
  },
  {
   "cell_type": "code",
   "execution_count": 25,
   "id": "b2b65269",
   "metadata": {
    "ExecuteTime": {
     "end_time": "2022-04-25T11:29:35.120033Z",
     "start_time": "2022-04-25T11:29:35.110341Z"
    }
   },
   "outputs": [
    {
     "data": {
      "text/plain": [
       "{'treeko_dist': 1.0,\n",
       " 'rf': 2.0,\n",
       " 'max_rf': 2,\n",
       " 'effective_tree_size': 4.0,\n",
       " 'norm_rf': 1.0,\n",
       " 'ref_edges_in_source': 0.75,\n",
       " 'source_edges_in_ref': 0.75,\n",
       " 'source_subtrees': 1,\n",
       " 'common_edges': set(),\n",
       " 'source_edges': set(),\n",
       " 'ref_edges': set()}"
      ]
     },
     "execution_count": 25,
     "metadata": {},
     "output_type": "execute_result"
    }
   ],
   "source": [
    "tree.compare(species_tree3, has_duplications=True, unrooted=True)"
   ]
  },
  {
   "cell_type": "code",
   "execution_count": 8,
   "id": "caf3f09b",
   "metadata": {
    "ExecuteTime": {
     "end_time": "2022-04-25T11:21:04.536240Z",
     "start_time": "2022-04-25T11:21:04.528241Z"
    }
   },
   "outputs": [],
   "source": [
    "part_tree3=PhyloTree(\"((GCA_001281205.1-A:0.00139,GCA_001281215.1-B:0.00149)1:0.04873,(GCA_001949975.1-C:0.06676,GCA_000687335.1-D:0.07362)1:0.00601);\")\n",
    "part_tree3=PhyloTree(\"((GCA_001281205.1:0.00139,GCA_001281215.1:0.00149)1:0.04873,(GCA_001949975.1:0.06676,GCA_000687335.1:0.07362)1:0.00601);\")\n",
    "\n",
    "part_tree3.set_species_naming_function(lambda node: node.name.split('-')[0])\n",
    "\n"
   ]
  },
  {
   "cell_type": "code",
   "execution_count": 9,
   "id": "a24e9335",
   "metadata": {
    "ExecuteTime": {
     "end_time": "2022-04-25T11:21:05.301229Z",
     "start_time": "2022-04-25T11:21:05.291278Z"
    }
   },
   "outputs": [
    {
     "data": {
      "text/plain": [
       "{}"
      ]
     },
     "execution_count": 9,
     "metadata": {},
     "output_type": "execute_result"
    }
   ],
   "source": [
    "res[4].compare(species_tree3, has_duplications=True, unrooted=True)"
   ]
  },
  {
   "cell_type": "code",
   "execution_count": 10,
   "id": "776bfc4e",
   "metadata": {
    "ExecuteTime": {
     "end_time": "2022-04-25T11:21:06.275240Z",
     "start_time": "2022-04-25T11:21:06.267188Z"
    }
   },
   "outputs": [
    {
     "name": "stdout",
     "output_type": "stream",
     "text": [
      "\n",
      "         /-GCA_001281205.1-A\n",
      "      /-|\n",
      "     |   \\-GCA_001281215.1-B\n",
      "   /-|\n",
      "  |  |   /-GCA_001949975.1-C\n",
      "  |   \\-|\n",
      "  |      \\-GCA_000687335.1-D\n",
      "  |\n",
      "  |      /-GCA_000830375.1-E\n",
      "  |   /-|\n",
      "  |  |   \\-GCA_001281205.1-F\n",
      "  |  |\n",
      "  |  |            /-GCA_001281225.1-G\n",
      "  |  |         /-|\n",
      "  |--|      /-|   \\-GCA_000830375.1-H\n",
      "  |  |     |  |\n",
      "  |  |   /-|   \\-GCA_001281285.1-I\n",
      "  |  |  |  |\n",
      "  |  |  |   \\-GCA_001421135.1-J\n",
      "  |   \\-|\n",
      "--|     |   /-GCA_001949975.1-K\n",
      "  |     |  |\n",
      "  |      \\-|   /-GCA_001421135.1-L\n",
      "  |        |  |\n",
      "  |         \\-|   /-GCA_001421115.1-M\n",
      "  |           |  |\n",
      "  |            \\-|      /-GCA_001281285.1-N\n",
      "  |              |   /-|\n",
      "  |              |  |   \\-GCA_006493415.1-0\n",
      "  |               \\-|\n",
      "  |                 |   /-GCA_001421115.1-P\n",
      "  |                 |  |\n",
      "  |                  \\-|      /-GCA_001281225.1-Q\n",
      "  |                    |   /-|\n",
      "  |                     \\-|   \\-GCA_001281215.1-R\n",
      "  |                       |\n",
      "  |                        \\-GCA_000687335.1-S\n",
      "  |\n",
      "   \\-GCA_006493415.1-T\n"
     ]
    }
   ],
   "source": [
    "print(gene_tree3)"
   ]
  },
  {
   "cell_type": "code",
   "execution_count": 74,
   "id": "4e7e61a1",
   "metadata": {
    "ExecuteTime": {
     "end_time": "2022-04-23T16:54:47.178398Z",
     "start_time": "2022-04-23T16:54:47.171814Z"
    }
   },
   "outputs": [],
   "source": [
    "tree=PhyloTree(\"((GCA_001949975.1:0.16619,(GCA_001281285.1:0.13330,GCA_000687335.1:0.13302):0.01515):0.01986,(GCA_001281215.1:0.17473,(GCA_001421135.1:0.17166,((GCA_001281225.1:0.47728,GCA_001421115.1:0.17406):0.07702,(GCA_001281205.1:0.16689,GCA_006493415.1:0.25274):0.05811):0.02183):0.01171):0.00979,GCA_000830375.1:0.14450):0.00000;\")\n",
    "\n",
    "tree=PhyloTree(\"((((GCA_000830375.1:0.18568,GCA_001421115.1:0.16887):0.03691,(((GCA_001281225.1:0.32392,GCA_001281205.1:0.37385):0.06653,(GCA_001949975.1:0.18538,GCA_000687335.1:0.17305):0.04022):0.04364,GCA_006493415.1:0.22890):0.02621):0.02574,GCA_001421135.1:0.13827):0.01585,GCA_001281285.1:0.14445,GCA_001281215.1:0.16166):0.00000;\")\n",
    "\n",
    "\n",
    "tree=PhyloTree(\"(((GCA_001281225.1:0.00746,GCA_001281215.1:0.00716):0.10583,(GCA_001281205.1:0.21218,(GCA_001281285.1:0.16226,(GCA_000830375.1:0.49833,GCA_000687335.1:0.23475):0.05445):0.06006):0.04981):0.02059,((GCA_001949975.1:0.05082,GCA_001421135.1:0.07342):0.03035,GCA_006493415.1:0.13012):0.01611,GCA_001421115.1:0.09876):0.00000;\")\n"
   ]
  },
  {
   "cell_type": "code",
   "execution_count": 11,
   "id": "1d2f62a2",
   "metadata": {
    "ExecuteTime": {
     "end_time": "2022-04-25T11:21:30.521521Z",
     "start_time": "2022-04-25T11:21:30.511390Z"
    }
   },
   "outputs": [
    {
     "data": {
      "text/plain": [
       "{'treeko_dist': 0.0,\n",
       " 'rf': 0.0,\n",
       " 'max_rf': 0,\n",
       " 'effective_tree_size': 0.0,\n",
       " 'norm_rf': 0.0,\n",
       " 'ref_edges_in_source': nan,\n",
       " 'source_edges_in_ref': nan,\n",
       " 'source_subtrees': 1,\n",
       " 'common_edges': set(),\n",
       " 'source_edges': set(),\n",
       " 'ref_edges': set()}"
      ]
     },
     "execution_count": 11,
     "metadata": {},
     "output_type": "execute_result"
    }
   ],
   "source": [
    "gene_tree3.compare(species_tree3, has_duplications=True, unrooted=True)"
   ]
  },
  {
   "cell_type": "markdown",
   "id": "60b4a7e8",
   "metadata": {
    "ExecuteTime": {
     "end_time": "2022-04-25T11:32:22.454821Z",
     "start_time": "2022-04-25T11:32:22.451601Z"
    }
   },
   "source": [
    "## Fix errors"
   ]
  },
  {
   "cell_type": "code",
   "execution_count": 9,
   "id": "d156f977",
   "metadata": {
    "ExecuteTime": {
     "end_time": "2022-04-25T11:45:42.863315Z",
     "start_time": "2022-04-25T11:45:42.852314Z"
    }
   },
   "outputs": [
    {
     "data": {
      "text/plain": [
       "{'GCA'}"
      ]
     },
     "execution_count": 9,
     "metadata": {},
     "output_type": "execute_result"
    }
   ],
   "source": [
    "gene_tree3=PhyloTree(\"(((GCA_001281205.1-AZBY01000022.1_28:0.00139,GCA_001281215.1-AZBY01000017.1_28:0.00149):0.04873,(GCA_001949975.1-AZBY01000017.1_28:0.06676,GCA_000687335.1-AZBY01000017.1_28:0.07362):0.00601):0.00154,((GCA_000830375.1-AZBY01000022.1_28:0.10495,GCA_001281205.1-AZBY01000017.1_28:0.05482):0.00645,((((GCA_001281225.1-AZBY01000022.1_28:0.05426,GCA_000830375.1-AZBY01000017.1_28:0.04972):0.01150,GCA_001281285.1-AZBY01000022.1_28:0.06799):0.00433,GCA_001421135.1-AZBY01000022.1_28:0.05918):0.00732,(GCA_001949975.1-AZBY01000022.1_28:0.08816,(GCA_001421135.1-AZBY01000017.1_28:0.11099,(GCA_001421115.1-AZBY01000017.1_28:0.10823,((GCA_001281285.1-AZBY01000017.1_28:0.15283,GCA_006493415.1-AZBY01000022.1_28:0.08630):0.02817,(GCA_001421115.1-AZBY01000022.1_28:0.11920,((GCA_001281225.1-AZBY01000017.1_28:0.59997,GCA_001281215.1-AZBY01000022.1_28:0.16325):0.08105,GCA_000687335.1-AZBY01000022.1_28:0.16017):0.04220):0.00971):0.01364):0.00298):0.01694):0.00995):0.00678):0.00452,GCA_006493415.1-AZBY01000017.1_28:0.06289):0.00000;\")\n",
    "#gene_tree3=PhyloTree(\"(((GCA_001281205.1-A:0.00139,GCA_001281215.1-B:0.00149):0.04873,(GCA_001949975.1-C:0.06676,GCA_000687335.1-D:0.07362):0.00601):0.00154,((GCA_000830375.1-E:0.10495,GCA_001281205.1-F:0.05482):0.00645,((((GCA_001281225.1-G:0.05426,GCA_000830375.1-H:0.04972):0.01150,GCA_001281285.1-I:0.06799):0.00433,GCA_001421135.1-J:0.05918):0.00732,(GCA_001949975.1-K:0.08816,(GCA_001421135.1-L:0.11099,(GCA_001421115.1-M:0.10823,((GCA_001281285.1-N:0.15283,GCA_006493415.1-0:0.08630):0.02817,(GCA_001421115.1-P:0.11920,((GCA_001281225.1-Q:0.59997,GCA_001281215.1-R:0.16325):0.08105,GCA_000687335.1-S:0.16017):0.04220):0.00971):0.01364):0.00298):0.01694):0.00995):0.00678):0.00452,GCA_006493415.1-T:0.06289):0.00000;\")\n",
    "\n",
    "gene_tree3.set_species_naming_function(lambda node: node.name.split('-')[0])\n",
    "\n",
    "gene_tree3.get_species()\n",
    "\n",
    "gene_tree3_mod=PhyloTree(\"(((GCA_001281205.1:0.00139,GCA_001281215.1:0.00149):0.04873,(GCA_001949975.1:0.06676,GCA_000687335.1:0.07362):0.00601):0.00154,((GCA_000830375.1:0.10495,GCA_001281205.1:0.05482):0.00645,((((GCA_001281225.1:0.05426,GCA_000830375.1:0.04972):0.01150,GCA_001281285.1:0.06799):0.00433,GCA_001421135.1:0.05918):0.00732,(GCA_001949975.1:0.08816,(GCA_001421135.1:0.11099,(GCA_001421115.1:0.10823,((GCA_001281285.1:0.15283,GCA_006493415.1:0.08630):0.02817,(GCA_001421115.1:0.11920,((GCA_001281225.1:0.59997,GCA_001281215.1:0.16325):0.08105,GCA_000687335.1:0.16017):0.04220):0.00971):0.01364):0.00298):0.01694):0.00995):0.00678):0.00452,GCA_006493415.1:0.06289):0.00000;\")\n",
    "\n",
    "#gene_tree3_mod.set_species_naming_function(lambda node: node.name.split('-')[0])\n",
    "\n",
    "gene_tree3_mod.get_species()\n",
    "\n"
   ]
  },
  {
   "cell_type": "code",
   "execution_count": 4,
   "id": "92db27cb",
   "metadata": {
    "ExecuteTime": {
     "end_time": "2022-04-25T11:41:14.949783Z",
     "start_time": "2022-04-25T11:41:14.942361Z"
    }
   },
   "outputs": [
    {
     "data": {
      "text/plain": [
       "{'GCA_000687335.1',\n",
       " 'GCA_000830375.1',\n",
       " 'GCA_001281205.1',\n",
       " 'GCA_001281215.1',\n",
       " 'GCA_001281225.1',\n",
       " 'GCA_001281285.1',\n",
       " 'GCA_001421115.1',\n",
       " 'GCA_001421135.1',\n",
       " 'GCA_001949975.1',\n",
       " 'GCA_006493415.1'}"
      ]
     },
     "execution_count": 4,
     "metadata": {},
     "output_type": "execute_result"
    }
   ],
   "source": [
    "species_tree3=PhyloTree(\"(((GCA_000687335.1:0.00488,GCA_006493415.1:0.00772)1:0.00177,(GCA_001281205.1:0.00825,(GCA_001281215.1:0.01093,((GCA_001421135.1:0.00359,GCA_000830375.1:0.00395)1:0.00109,GCA_001949975.1:0.00561)1:0.0022)1:0.00233)1:0.00331)1:0.00277,GCA_001281285.1:0.00505,(GCA_001421115.1:0.00426,GCA_001281225.1:0.00425)1:0.00056);\")\n",
    "\n",
    "species_tree3.set_species_naming_function(lambda node: node.name)\n",
    "\n",
    "species_tree3.get_species()\n"
   ]
  },
  {
   "cell_type": "code",
   "execution_count": 10,
   "id": "84032287",
   "metadata": {
    "ExecuteTime": {
     "end_time": "2022-04-25T11:45:48.040222Z",
     "start_time": "2022-04-25T11:45:48.027014Z"
    }
   },
   "outputs": [
    {
     "data": {
      "text/plain": [
       "{'treeko_dist': 0.6857142857142857,\n",
       " 'rf': 2.4,\n",
       " 'max_rf': 10,\n",
       " 'effective_tree_size': 4.2,\n",
       " 'norm_rf': 0.5599999999999999,\n",
       " 'ref_edges_in_source': 0.7916666666666666,\n",
       " 'source_edges_in_ref': 0.7916666666666666,\n",
       " 'source_subtrees': 5,\n",
       " 'common_edges': set(),\n",
       " 'source_edges': set(),\n",
       " 'ref_edges': set()}"
      ]
     },
     "execution_count": 10,
     "metadata": {},
     "output_type": "execute_result"
    }
   ],
   "source": [
    "gene_tree3_mod.compare(species_tree3, has_duplications=True, unrooted=True)"
   ]
  },
  {
   "cell_type": "code",
   "execution_count": 11,
   "id": "f5460d00",
   "metadata": {
    "ExecuteTime": {
     "end_time": "2022-04-25T12:03:19.148254Z",
     "start_time": "2022-04-25T12:03:19.143667Z"
    }
   },
   "outputs": [
    {
     "name": "stdout",
     "output_type": "stream",
     "text": [
      "\n",
      "         /-GCA_001281205.1\n",
      "      /-|\n",
      "     |   \\-GCA_001281215.1\n",
      "   /-|\n",
      "  |  |   /-GCA_001949975.1\n",
      "  |   \\-|\n",
      "  |      \\-GCA_000687335.1\n",
      "  |\n",
      "  |      /-GCA_000830375.1\n",
      "  |   /-|\n",
      "  |  |   \\-GCA_001281205.1\n",
      "  |  |\n",
      "  |  |            /-GCA_001281225.1\n",
      "  |  |         /-|\n",
      "  |--|      /-|   \\-GCA_000830375.1\n",
      "  |  |     |  |\n",
      "  |  |   /-|   \\-GCA_001281285.1\n",
      "  |  |  |  |\n",
      "  |  |  |   \\-GCA_001421135.1\n",
      "  |   \\-|\n",
      "--|     |   /-GCA_001949975.1\n",
      "  |     |  |\n",
      "  |      \\-|   /-GCA_001421135.1\n",
      "  |        |  |\n",
      "  |         \\-|   /-GCA_001421115.1\n",
      "  |           |  |\n",
      "  |            \\-|      /-GCA_001281285.1\n",
      "  |              |   /-|\n",
      "  |              |  |   \\-GCA_006493415.1\n",
      "  |               \\-|\n",
      "  |                 |   /-GCA_001421115.1\n",
      "  |                 |  |\n",
      "  |                  \\-|      /-GCA_001281225.1\n",
      "  |                    |   /-|\n",
      "  |                     \\-|   \\-GCA_001281215.1\n",
      "  |                       |\n",
      "  |                        \\-GCA_000687335.1\n",
      "  |\n",
      "   \\-GCA_006493415.1\n"
     ]
    }
   ],
   "source": [
    "print(gene_tree3_mod)"
   ]
  },
  {
   "cell_type": "markdown",
   "id": "f54d811b",
   "metadata": {
    "ExecuteTime": {
     "end_time": "2022-04-25T13:05:30.492200Z",
     "start_time": "2022-04-25T13:05:30.488690Z"
    }
   },
   "source": [
    "## Fml"
   ]
  },
  {
   "cell_type": "code",
   "execution_count": 32,
   "id": "19de563e",
   "metadata": {
    "ExecuteTime": {
     "end_time": "2022-04-25T14:32:54.657318Z",
     "start_time": "2022-04-25T14:32:54.646504Z"
    }
   },
   "outputs": [],
   "source": [
    "gene_tree4=PhyloTree(\"(((((GCA_001281205.1-AZBY01000022.1_25:0.00122,GCA_001281215.1-AZBY01000022.1_25:0.0012)1:0.02128,GCA_001949975.1-AZBY01000017.1_25:0.02255)1:0.0025,((GCA_001421115.1-AZBY01000017.1_25:0.03349,GCA_000687335.1-AZBY01000017.1_25:0.02316)1:0.00416,(GCA_006493415.1-AZBY01000022.1_25:0.01158,(GCA_001949975.1-AZBY01000022.1_25:0.00842,(GCA_001281285.1-AZBY01000017.1_25:0.00646,GCA_000687335.1-AZBY01000022.1_25:0.00803)1:0.00317)1:0.00312)1:0.00364)1:0.00195)1:0.00148,((GCA_001281285.1-AZBY01000022.1_25:0.03766,(GCA_001421115.1-AZBY01000022.1_25:0.04095,(GCA_001281225.1-AZBY01000022.1_25:0.0619,(GCA_001281225.1-AZBY01000017.1_25:0.05514,(GCA_000830375.1-AZBY01000022.1_25:0.08977,(GCA_001421135.1-AZBY01000022.1_25:0.15007,GCA_001421135.1-AZBY01000017.1_25:0.58383)1:0.17202)1:0.13002)1:0.0077)1:0.01824)1:0.00397)1:0.00147,GCA_006493415.1-AZBY01000017.1_25:0.02884)1:0.00275)1:0.00052,(GCA_001281205.1-AZBY01000017.1_25:0.00137,GCA_001281215.1-AZBY01000017.1_25:0.00134)1:0.03325,GCA_000830375.1-AZBY01000017.1_25:0.02607);\")\n",
    "gene_tree4=PhyloTree(\"(((((GCA_001281205.1-A:0.00122,GCA_001281215.1-B:0.0012)1:0.02128,GCA_001949975.1-C:0.02255)1:0.0025,((GCA_001421115.1-D:0.03349,GCA_000687335.1-E:0.02316)1:0.00416,(GCA_006493415.1-F:0.01158,(GCA_001949975.1-G:0.00842,(GCA_001281285.1-H:0.00646,GCA_000687335.1-I:0.00803)1:0.00317)1:0.00312)1:0.00364)1:0.00195)1:0.00148,((GCA_001281285.1-J:0.03766,(GCA_001421115.1-K:0.04095,(GCA_001281225.1-L:0.0619,(GCA_001281225.1-M:0.05514,(GCA_000830375.1-N:0.08977,(GCA_001421135.1-O:0.15007,GCA_001421135.1-P:0.58383)1:0.17202)1:0.13002)1:0.0077)1:0.01824)1:0.00397)1:0.00147,GCA_006493415.1-Q:0.02884)1:0.00275)1:0.00052,(GCA_001281205.1-R:0.00137,GCA_001281215.1-S:0.00134)1:0.03325,GCA_000830375.1-T:0.02607);\")\n",
    "gene_tree4=PhyloTree(\"(((((GCA_001281205.1:0.00122,GCA_001281215.1:0.0012)1:0.02128,GCA_001949975.1:0.02255)1:0.0025,((GCA_001421115.1:0.03349,GCA_000687335.1:0.02316)1:0.00416,(GCA_006493415.1:0.01158,(GCA_001949975.1:0.00842,(GCA_001281285.1:0.00646,GCA_000687335.1:0.00803)1:0.00317)1:0.00312)1:0.00364)1:0.00195)1:0.00148,((GCA_001281285.1:0.03766,(GCA_001421115.1:0.04095,(GCA_001281225.1:0.0619,(GCA_001281225.1:0.05514,(GCA_000830375.1:0.08977,(GCA_001421135.1:0.15007,GCA_001421135.1:0.58383)1:0.17202)1:0.13002)1:0.0077)1:0.01824)1:0.00397)1:0.00147,GCA_006493415.1:0.02884)1:0.00275)1:0.00052,(GCA_001281205.1:0.00137,GCA_001281215.1:0.00134)1:0.03325,GCA_000830375.1:0.02607);\")\n",
    "gene_tree4=PhyloTree(\"(((((GCA_001281205.1:0.00122,GCA_001281215.1:0.0012)1:0.02128,GCA_001949975.1:0.02255)1:0.0025,((GCA_001421115.1:0.03349,GCA_000687335.1:0.02316)1:0.00416,(GCA_006493415.1:0.01158,(GCA_001949975.1:0.00842,(GCA_001281285.1:0.00646,GCA_000687335.1:0.00803)1:0.00317)1:0.00312)1:0.00364)1:0.00195)1:0.00148,((GCA_001281285.1:0.03766,(GCA_001421115.1:0.04095,(GCA_001281225.1:0.0619,(GCA_001281225.1:0.05514,(GCA_000830375.1:0.08977,(GCA_001421135.1:0.15007,GCA_001421135.1:0.58383)1:0.17202)1:0.13002)1:0.0077)1:0.01824)1:0.00397)1:0.00147,GCA_006493415.1:0.02884)1:0.00275)1:0.00052,(GCA_001281205.1:0.00137,GCA_001281215.1:0.00134)1:0.03325,GCA_000830375.1:0.02607);\")\n",
    "#gene_tree4=PhyloTree(\"(((((GCA_001281205.1-AZBY01000022.1_25:0.00122,GCA_001281215.1-AZBY01000022.1_25:0.0012)1:0.02128,GCA_001949975.1-AZBY01000017.1_25:0.02255)1:0.0025,((GCA_001421115.1-AZBY01000017.1_25:0.03349,GCA_000687335.1-AZBY01000017.1_25:0.02316)1:0.00416,(GCA_006493415.1-AZBY01000022.1_25:0.01158,(GCA_001949975.1-AZBY01000022.1_25:0.00842,(GCA_001281285.1-AZBY01000017.1_25:0.00646,GCA_000687335.1-AZBY01000022.1_25:0.00803)1:0.00317)1:0.00312)1:0.00364)1:0.00195)1:0.00148,((GCA_001281285.1-AZBY01000022.1_25:0.03766,(GCA_001421115.1-AZBY01000022.1_25:0.04095,(GCA_001281225.1-AZBY01000022.1_25:0.0619,(GCA_001281225.1-AZBY01000017.1_25:0.05514,(GCA_000830375.1-AZBY01000022.1_25:0.08977,(GCA_001421135.1-AZBY01000022.1_25:0.15007,GCA_001421135.1-AZBY01000017.1_25:0.58383)1:0.17202)1:0.13002)1:0.0077)1:0.01824)1:0.00397)1:0.00147,GCA_006493415.1-AZBY01000017.1_25:0.02884)1:0.00275)1:0.00052,(GCA_001281205.1-AZBY01000017.1_25:0.00137,GCA_001281215.1-AZBY01000017.1_25:0.00134)1:0.03325,GCA_000830375.1-AZBY01000017.1_25:0.02607);\")\n",
    "\n",
    "\n",
    "gene_tree4.set_species_naming_function(lambda node: node.name.split('-')[0])\n"
   ]
  },
  {
   "cell_type": "code",
   "execution_count": 33,
   "id": "4f65ef95",
   "metadata": {
    "ExecuteTime": {
     "end_time": "2022-04-25T14:32:54.990272Z",
     "start_time": "2022-04-25T14:32:54.966481Z"
    }
   },
   "outputs": [
    {
     "ename": "TreeError",
     "evalue": "'Duplicated items found in reference tree'",
     "output_type": "error",
     "traceback": [
      "\u001b[0;31m---------------------------------------------------------------------------\u001b[0m",
      "\u001b[0;31mTreeError\u001b[0m                                 Traceback (most recent call last)",
      "\u001b[0;32m/var/folders/wm/45ntkynd66gd8wnsdr6vw7h40000gn/T/ipykernel_1207/1590503615.py\u001b[0m in \u001b[0;36m<module>\u001b[0;34m\u001b[0m\n\u001b[0;32m----> 1\u001b[0;31m \u001b[0mgene_tree4\u001b[0m\u001b[0;34m.\u001b[0m\u001b[0mcompare\u001b[0m\u001b[0;34m(\u001b[0m\u001b[0mspecies_tree3\u001b[0m\u001b[0;34m,\u001b[0m \u001b[0mhas_duplications\u001b[0m\u001b[0;34m=\u001b[0m\u001b[0;32mTrue\u001b[0m\u001b[0;34m,\u001b[0m \u001b[0munrooted\u001b[0m\u001b[0;34m=\u001b[0m\u001b[0;32mTrue\u001b[0m\u001b[0;34m)\u001b[0m\u001b[0;34m\u001b[0m\u001b[0;34m\u001b[0m\u001b[0m\n\u001b[0m",
      "\u001b[0;32m/Library/Frameworks/Python.framework/Versions/3.9/lib/python3.9/site-packages/ete3/coretype/tree.py\u001b[0m in \u001b[0;36mcompare\u001b[0;34m(self, ref_tree, use_collateral, min_support_source, min_support_ref, has_duplications, expand_polytomies, unrooted, max_treeko_splits_to_be_artifact, ref_tree_attr, source_tree_attr)\u001b[0m\n\u001b[1;32m   1897\u001b[0m                                 \u001b[0mn\u001b[0m\u001b[0;34m.\u001b[0m\u001b[0msupport\u001b[0m \u001b[0;34m=\u001b[0m \u001b[0msource_tree\u001b[0m\u001b[0;34m.\u001b[0m\u001b[0mget_common_ancestor\u001b[0m\u001b[0;34m(\u001b[0m\u001b[0msubtree_content\u001b[0m\u001b[0;34m[\u001b[0m\u001b[0mn\u001b[0m\u001b[0;34m]\u001b[0m\u001b[0;34m)\u001b[0m\u001b[0;34m.\u001b[0m\u001b[0msupport\u001b[0m\u001b[0;34m\u001b[0m\u001b[0;34m\u001b[0m\u001b[0m\n\u001b[1;32m   1898\u001b[0m \u001b[0;34m\u001b[0m\u001b[0m\n\u001b[0;32m-> 1899\u001b[0;31m                     \u001b[0mtotal_rf\u001b[0m\u001b[0;34m,\u001b[0m \u001b[0mmax_rf\u001b[0m\u001b[0;34m,\u001b[0m \u001b[0mncommon\u001b[0m\u001b[0;34m,\u001b[0m \u001b[0mvalid_ref_edges\u001b[0m\u001b[0;34m,\u001b[0m \u001b[0mvalid_src_edges\u001b[0m\u001b[0;34m,\u001b[0m \u001b[0mcommon_edges\u001b[0m \u001b[0;34m=\u001b[0m \u001b[0m_compare\u001b[0m\u001b[0;34m(\u001b[0m\u001b[0msubtree\u001b[0m\u001b[0;34m,\u001b[0m \u001b[0mref_tree\u001b[0m\u001b[0;34m)\u001b[0m\u001b[0;34m\u001b[0m\u001b[0;34m\u001b[0m\u001b[0m\n\u001b[0m\u001b[1;32m   1900\u001b[0m \u001b[0;34m\u001b[0m\u001b[0m\n\u001b[1;32m   1901\u001b[0m                     \u001b[0mall_rf\u001b[0m\u001b[0;34m.\u001b[0m\u001b[0mappend\u001b[0m\u001b[0;34m(\u001b[0m\u001b[0mtotal_rf\u001b[0m\u001b[0;34m)\u001b[0m\u001b[0;34m\u001b[0m\u001b[0;34m\u001b[0m\u001b[0m\n",
      "\u001b[0;32m/Library/Frameworks/Python.framework/Versions/3.9/lib/python3.9/site-packages/ete3/coretype/tree.py\u001b[0m in \u001b[0;36m_compare\u001b[0;34m(src_tree, ref_tree)\u001b[0m\n\u001b[1;32m   1826\u001b[0m         \u001b[0;32mdef\u001b[0m \u001b[0m_compare\u001b[0m\u001b[0;34m(\u001b[0m\u001b[0msrc_tree\u001b[0m\u001b[0;34m,\u001b[0m \u001b[0mref_tree\u001b[0m\u001b[0;34m)\u001b[0m\u001b[0;34m:\u001b[0m\u001b[0;34m\u001b[0m\u001b[0;34m\u001b[0m\u001b[0m\n\u001b[1;32m   1827\u001b[0m             \u001b[0;31m# calculate partitions and rf distances\u001b[0m\u001b[0;34m\u001b[0m\u001b[0;34m\u001b[0m\u001b[0;34m\u001b[0m\u001b[0m\n\u001b[0;32m-> 1828\u001b[0;31m             rf, maxrf, common, ref_p, src_p, ref_disc, src_disc  = ref_tree.robinson_foulds(src_tree,\n\u001b[0m\u001b[1;32m   1829\u001b[0m                                                                                             \u001b[0mexpand_polytomies\u001b[0m\u001b[0;34m=\u001b[0m\u001b[0mexpand_polytomies\u001b[0m\u001b[0;34m,\u001b[0m\u001b[0;34m\u001b[0m\u001b[0;34m\u001b[0m\u001b[0m\n\u001b[1;32m   1830\u001b[0m                                                                                             \u001b[0munrooted_trees\u001b[0m\u001b[0;34m=\u001b[0m\u001b[0munrooted\u001b[0m\u001b[0;34m,\u001b[0m\u001b[0;34m\u001b[0m\u001b[0;34m\u001b[0m\u001b[0m\n",
      "\u001b[0;32m/Library/Frameworks/Python.framework/Versions/3.9/lib/python3.9/site-packages/ete3/coretype/tree.py\u001b[0m in \u001b[0;36mrobinson_foulds\u001b[0;34m(self, t2, attr_t1, attr_t2, unrooted_trees, expand_polytomies, polytomy_size_limit, skip_large_polytomies, correct_by_polytomy_size, min_support_t1, min_support_t2)\u001b[0m\n\u001b[1;32m   1694\u001b[0m             \u001b[0;32mraise\u001b[0m \u001b[0mTreeError\u001b[0m\u001b[0;34m(\u001b[0m\u001b[0;34m'Duplicated items found in source tree'\u001b[0m\u001b[0;34m)\u001b[0m\u001b[0;34m\u001b[0m\u001b[0;34m\u001b[0m\u001b[0m\n\u001b[1;32m   1695\u001b[0m         \u001b[0;32mif\u001b[0m \u001b[0msize2\u001b[0m \u001b[0;34m>\u001b[0m \u001b[0mlen\u001b[0m\u001b[0;34m(\u001b[0m\u001b[0mcommon_attrs\u001b[0m\u001b[0;34m)\u001b[0m\u001b[0;34m:\u001b[0m\u001b[0;34m\u001b[0m\u001b[0;34m\u001b[0m\u001b[0m\n\u001b[0;32m-> 1696\u001b[0;31m             \u001b[0;32mraise\u001b[0m \u001b[0mTreeError\u001b[0m\u001b[0;34m(\u001b[0m\u001b[0;34m'Duplicated items found in reference tree'\u001b[0m\u001b[0;34m)\u001b[0m\u001b[0;34m\u001b[0m\u001b[0;34m\u001b[0m\u001b[0m\n\u001b[0m\u001b[1;32m   1697\u001b[0m \u001b[0;34m\u001b[0m\u001b[0m\n\u001b[1;32m   1698\u001b[0m         \u001b[0;32mif\u001b[0m \u001b[0mexpand_polytomies\u001b[0m\u001b[0;34m:\u001b[0m\u001b[0;34m\u001b[0m\u001b[0;34m\u001b[0m\u001b[0m\n",
      "\u001b[0;31mTreeError\u001b[0m: 'Duplicated items found in reference tree'"
     ]
    }
   ],
   "source": [
    "gene_tree4.compare(species_tree3, has_duplications=True, unrooted=True)"
   ]
  },
  {
   "cell_type": "code",
   "execution_count": 34,
   "id": "4be40289",
   "metadata": {
    "ExecuteTime": {
     "end_time": "2022-04-25T14:32:55.412704Z",
     "start_time": "2022-04-25T14:32:55.406966Z"
    }
   },
   "outputs": [
    {
     "name": "stdout",
     "output_type": "stream",
     "text": [
      "\n",
      "               /-GCA_001281205.1\n",
      "            /-|\n",
      "         /-|   \\-GCA_001281215.1\n",
      "        |  |\n",
      "        |   \\-GCA_001949975.1\n",
      "      /-|\n",
      "     |  |      /-GCA_001421115.1\n",
      "     |  |   /-|\n",
      "     |  |  |   \\-GCA_000687335.1\n",
      "     |   \\-|\n",
      "     |     |   /-GCA_006493415.1\n",
      "     |      \\-|\n",
      "     |        |   /-GCA_001949975.1\n",
      "     |         \\-|\n",
      "     |           |   /-GCA_001281285.1\n",
      "   /-|            \\-|\n",
      "  |  |               \\-GCA_000687335.1\n",
      "  |  |\n",
      "  |  |      /-GCA_001281285.1\n",
      "  |  |   /-|\n",
      "  |  |  |  |   /-GCA_001421115.1\n",
      "  |  |  |   \\-|\n",
      "  |  |  |     |   /-GCA_001281225.1\n",
      "  |  |  |      \\-|\n",
      "  |  |  |        |   /-GCA_001281225.1\n",
      "  |   \\-|         \\-|\n",
      "--|     |           |   /-GCA_000830375.1\n",
      "  |     |            \\-|\n",
      "  |     |              |   /-GCA_001421135.1\n",
      "  |     |               \\-|\n",
      "  |     |                  \\-GCA_001421135.1\n",
      "  |     |\n",
      "  |      \\-GCA_006493415.1\n",
      "  |\n",
      "  |   /-GCA_001281205.1\n",
      "  |--|\n",
      "  |   \\-GCA_001281215.1\n",
      "  |\n",
      "   \\-GCA_000830375.1\n"
     ]
    }
   ],
   "source": [
    "print(gene_tree4)"
   ]
  },
  {
   "cell_type": "code",
   "execution_count": 45,
   "id": "d1317215",
   "metadata": {
    "ExecuteTime": {
     "end_time": "2022-04-25T14:46:30.815337Z",
     "start_time": "2022-04-25T14:46:30.811057Z"
    }
   },
   "outputs": [],
   "source": [
    "seen = set()\n",
    "duplicates = [name for name in gene_tree4.get_leaf_names() if name in seen or seen.add(name)]"
   ]
  },
  {
   "cell_type": "code",
   "execution_count": 46,
   "id": "54601088",
   "metadata": {
    "ExecuteTime": {
     "end_time": "2022-04-25T14:46:36.782856Z",
     "start_time": "2022-04-25T14:46:36.776071Z"
    }
   },
   "outputs": [
    {
     "data": {
      "text/plain": [
       "['GCA_001949975.1',\n",
       " 'GCA_000687335.1',\n",
       " 'GCA_001281285.1',\n",
       " 'GCA_001421115.1',\n",
       " 'GCA_001281225.1',\n",
       " 'GCA_001421135.1',\n",
       " 'GCA_006493415.1',\n",
       " 'GCA_001281205.1',\n",
       " 'GCA_001281215.1',\n",
       " 'GCA_000830375.1']"
      ]
     },
     "execution_count": 46,
     "metadata": {},
     "output_type": "execute_result"
    }
   ],
   "source": [
    "duplicates"
   ]
  },
  {
   "cell_type": "code",
   "execution_count": null,
   "id": "38a321ef",
   "metadata": {},
   "outputs": [],
   "source": [
    "def remove_duplications_in_endnodes(gene_tree):\n",
    "    seen = set()\n",
    "    duplicates = [name for name in gene_tree.get_leaf_names() if name in seen or seen.add(name)]\n",
    "    for name in duplicates:\n",
    "        node_collection=gene_tree.search_nodes(name=name)\n",
    "        num=len(node_collection)\n",
    "        check_until=num-2\n",
    "        for i in range(0, check_until):\n",
    "            for j in range(i+1, check_until):\n",
    "                if J[i].get_sisters()[0]==J[j]:\n",
    "                    J[i].delete()"
   ]
  },
  {
   "cell_type": "code",
   "execution_count": 48,
   "id": "40dabaf7",
   "metadata": {
    "ExecuteTime": {
     "end_time": "2022-04-25T14:52:18.568650Z",
     "start_time": "2022-04-25T14:52:18.559590Z"
    }
   },
   "outputs": [
    {
     "data": {
      "text/plain": [
       "[PhyloTree node 'GCA_001421135.1' (0x1242bdaf),\n",
       " PhyloTree node 'GCA_001421135.1' (0x1242bd28)]"
      ]
     },
     "execution_count": 48,
     "metadata": {},
     "output_type": "execute_result"
    }
   ],
   "source": [
    "J = gene_tree4.search_nodes(name=\"GCA_001421135.1\")\n",
    "J"
   ]
  },
  {
   "cell_type": "code",
   "execution_count": 57,
   "id": "dea407de",
   "metadata": {
    "ExecuteTime": {
     "end_time": "2022-04-25T14:53:22.004086Z",
     "start_time": "2022-04-25T14:53:21.995938Z"
    }
   },
   "outputs": [
    {
     "data": {
      "text/plain": [
       "True"
      ]
     },
     "execution_count": 57,
     "metadata": {},
     "output_type": "execute_result"
    }
   ],
   "source": [
    "J[0].get_sisters()[0]==J[1]"
   ]
  },
  {
   "cell_type": "code",
   "execution_count": 55,
   "id": "019e9f9f",
   "metadata": {
    "ExecuteTime": {
     "end_time": "2022-04-25T14:53:03.534912Z",
     "start_time": "2022-04-25T14:53:03.526334Z"
    }
   },
   "outputs": [
    {
     "data": {
      "text/plain": [
       "PhyloTree node 'GCA_001421135.1' (0x1242bd28)"
      ]
     },
     "execution_count": 55,
     "metadata": {},
     "output_type": "execute_result"
    }
   ],
   "source": [
    "J[1]"
   ]
  },
  {
   "cell_type": "code",
   "execution_count": 59,
   "id": "de848eae",
   "metadata": {
    "ExecuteTime": {
     "end_time": "2022-04-25T14:54:16.599034Z",
     "start_time": "2022-04-25T14:54:16.592502Z"
    }
   },
   "outputs": [],
   "source": [
    "J[0].delete()"
   ]
  },
  {
   "cell_type": "code",
   "execution_count": 60,
   "id": "97a843fe",
   "metadata": {
    "ExecuteTime": {
     "end_time": "2022-04-25T14:54:17.429046Z",
     "start_time": "2022-04-25T14:54:17.424553Z"
    }
   },
   "outputs": [
    {
     "name": "stdout",
     "output_type": "stream",
     "text": [
      "\n",
      "               /-GCA_001281205.1\n",
      "            /-|\n",
      "         /-|   \\-GCA_001281215.1\n",
      "        |  |\n",
      "        |   \\-GCA_001949975.1\n",
      "      /-|\n",
      "     |  |      /-GCA_001421115.1\n",
      "     |  |   /-|\n",
      "     |  |  |   \\-GCA_000687335.1\n",
      "     |   \\-|\n",
      "     |     |   /-GCA_006493415.1\n",
      "     |      \\-|\n",
      "     |        |   /-GCA_001949975.1\n",
      "     |         \\-|\n",
      "   /-|           |   /-GCA_001281285.1\n",
      "  |  |            \\-|\n",
      "  |  |               \\-GCA_000687335.1\n",
      "  |  |\n",
      "  |  |      /-GCA_001281285.1\n",
      "  |  |   /-|\n",
      "  |  |  |  |   /-GCA_001421115.1\n",
      "  |  |  |   \\-|\n",
      "  |  |  |     |   /-GCA_001281225.1\n",
      "  |  |  |      \\-|\n",
      "  |   \\-|        |   /-GCA_001281225.1\n",
      "--|     |         \\-|\n",
      "  |     |           |   /-GCA_000830375.1\n",
      "  |     |            \\-|\n",
      "  |     |               \\-GCA_001421135.1\n",
      "  |     |\n",
      "  |      \\-GCA_006493415.1\n",
      "  |\n",
      "  |   /-GCA_001281205.1\n",
      "  |--|\n",
      "  |   \\-GCA_001281215.1\n",
      "  |\n",
      "   \\-GCA_000830375.1\n"
     ]
    }
   ],
   "source": [
    "print(gene_tree4)"
   ]
  },
  {
   "cell_type": "code",
   "execution_count": null,
   "id": "cb29d0f4",
   "metadata": {},
   "outputs": [],
   "source": []
  }
 ],
 "metadata": {
  "kernelspec": {
   "display_name": "Python 3 (ipykernel)",
   "language": "python",
   "name": "python3"
  },
  "language_info": {
   "codemirror_mode": {
    "name": "ipython",
    "version": 3
   },
   "file_extension": ".py",
   "mimetype": "text/x-python",
   "name": "python",
   "nbconvert_exporter": "python",
   "pygments_lexer": "ipython3",
   "version": "3.9.0"
  },
  "toc": {
   "base_numbering": 1,
   "nav_menu": {},
   "number_sections": true,
   "sideBar": true,
   "skip_h1_title": false,
   "title_cell": "Table of Contents",
   "title_sidebar": "Contents",
   "toc_cell": false,
   "toc_position": {},
   "toc_section_display": true,
   "toc_window_display": false
  },
  "varInspector": {
   "cols": {
    "lenName": 16,
    "lenType": 16,
    "lenVar": 40
   },
   "kernels_config": {
    "python": {
     "delete_cmd_postfix": "",
     "delete_cmd_prefix": "del ",
     "library": "var_list.py",
     "varRefreshCmd": "print(var_dic_list())"
    },
    "r": {
     "delete_cmd_postfix": ") ",
     "delete_cmd_prefix": "rm(",
     "library": "var_list.r",
     "varRefreshCmd": "cat(var_dic_list()) "
    }
   },
   "types_to_exclude": [
    "module",
    "function",
    "builtin_function_or_method",
    "instance",
    "_Feature"
   ],
   "window_display": false
  }
 },
 "nbformat": 4,
 "nbformat_minor": 5
}
