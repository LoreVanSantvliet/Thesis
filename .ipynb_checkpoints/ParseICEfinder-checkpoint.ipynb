{
 "cells": [
  {
   "cell_type": "markdown",
   "id": "5713d450",
   "metadata": {},
   "source": [
    "# ICEfinder parser"
   ]
  },
  {
   "cell_type": "markdown",
   "id": "658e48dc",
   "metadata": {},
   "source": [
    "## Preparation"
   ]
  },
  {
   "cell_type": "code",
   "execution_count": 1,
   "id": "b9a2d22c",
   "metadata": {
    "ExecuteTime": {
     "end_time": "2022-04-04T14:41:40.542403Z",
     "start_time": "2022-04-04T14:41:39.369625Z"
    }
   },
   "outputs": [],
   "source": [
    "import pandas as pd\n",
    "from pathlib import Path\n",
    "import csv\n",
    "import gffutils"
   ]
  },
  {
   "cell_type": "code",
   "execution_count": 2,
   "id": "f6fc7fc6",
   "metadata": {
    "ExecuteTime": {
     "end_time": "2022-04-04T14:41:40.585284Z",
     "start_time": "2022-04-04T14:41:40.571724Z"
    }
   },
   "outputs": [],
   "source": [
    "project_path=Path().resolve().parent\n",
    "#input_path=project_path / \"results\" / \"intermediate\" / \"phaster_raw\"\n",
    "result_path=project_path / \"results\" / \"intermediate\" / \"icefinder_parsed\"\n",
    "gff_path=project_path / \"data\" / \"legen_v4_dereplicated_gffs\""
   ]
  },
  {
   "cell_type": "code",
   "execution_count": 21,
   "id": "3e262168",
   "metadata": {
    "ExecuteTime": {
     "end_time": "2022-04-04T14:50:30.406064Z",
     "start_time": "2022-04-04T14:50:30.400607Z"
    }
   },
   "outputs": [],
   "source": [
    "genome=\"GCA_902163985.1\""
   ]
  },
  {
   "cell_type": "markdown",
   "id": "3403e0b0",
   "metadata": {},
   "source": [
    "## Generate ICEfinder output file"
   ]
  },
  {
   "cell_type": "code",
   "execution_count": 22,
   "id": "2d7ae657",
   "metadata": {
    "ExecuteTime": {
     "end_time": "2022-04-04T14:50:35.134125Z",
     "start_time": "2022-04-04T14:50:35.123693Z"
    }
   },
   "outputs": [],
   "source": [
    "icefinder=pd.DataFrame(columns=['REGION', 'REGION_LENGTH', 'NAME', 'START', 'END'])"
   ]
  },
  {
   "cell_type": "code",
   "execution_count": 23,
   "id": "467157af",
   "metadata": {
    "ExecuteTime": {
     "end_time": "2022-04-04T14:50:35.342552Z",
     "start_time": "2022-04-04T14:50:35.324897Z"
    },
    "scrolled": true
   },
   "outputs": [
    {
     "data": {
      "text/html": [
       "<div>\n",
       "<style scoped>\n",
       "    .dataframe tbody tr th:only-of-type {\n",
       "        vertical-align: middle;\n",
       "    }\n",
       "\n",
       "    .dataframe tbody tr th {\n",
       "        vertical-align: top;\n",
       "    }\n",
       "\n",
       "    .dataframe thead th {\n",
       "        text-align: right;\n",
       "    }\n",
       "</style>\n",
       "<table border=\"1\" class=\"dataframe\">\n",
       "  <thead>\n",
       "    <tr style=\"text-align: right;\">\n",
       "      <th></th>\n",
       "      <th>REGION</th>\n",
       "      <th>REGION_LENGTH</th>\n",
       "      <th>NAME</th>\n",
       "      <th>START</th>\n",
       "      <th>END</th>\n",
       "    </tr>\n",
       "  </thead>\n",
       "  <tbody>\n",
       "  </tbody>\n",
       "</table>\n",
       "</div>"
      ],
      "text/plain": [
       "Empty DataFrame\n",
       "Columns: [REGION, REGION_LENGTH, NAME, START, END]\n",
       "Index: []"
      ]
     },
     "execution_count": 23,
     "metadata": {},
     "output_type": "execute_result"
    }
   ],
   "source": [
    "icefinder"
   ]
  },
  {
   "cell_type": "code",
   "execution_count": 24,
   "id": "b4438d0c",
   "metadata": {
    "ExecuteTime": {
     "end_time": "2022-04-04T14:50:35.489781Z",
     "start_time": "2022-04-04T14:50:35.474241Z"
    }
   },
   "outputs": [],
   "source": [
    "icefinder=icefinder.append({'REGION':1, 'REGION_LENGTH':77921, 'NAME':\"Putative IME\", 'START':42387, 'END':120307}, ignore_index=True)"
   ]
  },
  {
   "cell_type": "code",
   "execution_count": 25,
   "id": "d3f7d848",
   "metadata": {
    "ExecuteTime": {
     "end_time": "2022-04-04T14:50:35.672006Z",
     "start_time": "2022-04-04T14:50:35.649698Z"
    }
   },
   "outputs": [
    {
     "data": {
      "text/html": [
       "<div>\n",
       "<style scoped>\n",
       "    .dataframe tbody tr th:only-of-type {\n",
       "        vertical-align: middle;\n",
       "    }\n",
       "\n",
       "    .dataframe tbody tr th {\n",
       "        vertical-align: top;\n",
       "    }\n",
       "\n",
       "    .dataframe thead th {\n",
       "        text-align: right;\n",
       "    }\n",
       "</style>\n",
       "<table border=\"1\" class=\"dataframe\">\n",
       "  <thead>\n",
       "    <tr style=\"text-align: right;\">\n",
       "      <th></th>\n",
       "      <th>REGION</th>\n",
       "      <th>REGION_LENGTH</th>\n",
       "      <th>NAME</th>\n",
       "      <th>START</th>\n",
       "      <th>END</th>\n",
       "    </tr>\n",
       "  </thead>\n",
       "  <tbody>\n",
       "    <tr>\n",
       "      <th>0</th>\n",
       "      <td>1</td>\n",
       "      <td>77921</td>\n",
       "      <td>Putative IME</td>\n",
       "      <td>42387</td>\n",
       "      <td>120307</td>\n",
       "    </tr>\n",
       "  </tbody>\n",
       "</table>\n",
       "</div>"
      ],
      "text/plain": [
       "  REGION REGION_LENGTH          NAME  START     END\n",
       "0      1         77921  Putative IME  42387  120307"
      ]
     },
     "execution_count": 25,
     "metadata": {},
     "output_type": "execute_result"
    }
   ],
   "source": [
    "icefinder"
   ]
  },
  {
   "cell_type": "markdown",
   "id": "633da81d",
   "metadata": {},
   "source": [
    "## Location to gene nr"
   ]
  },
  {
   "cell_type": "code",
   "execution_count": 26,
   "id": "4b3abc8a",
   "metadata": {
    "ExecuteTime": {
     "end_time": "2022-04-04T14:50:35.999331Z",
     "start_time": "2022-04-04T14:50:35.992381Z"
    }
   },
   "outputs": [],
   "source": [
    "def get_genes(df, start, stop):\n",
    "    return df[(df.start>=start) & (df.end<=stop)]"
   ]
  },
  {
   "cell_type": "code",
   "execution_count": 27,
   "id": "582c77e9",
   "metadata": {
    "ExecuteTime": {
     "end_time": "2022-04-04T14:50:36.228965Z",
     "start_time": "2022-04-04T14:50:36.199142Z"
    }
   },
   "outputs": [],
   "source": [
    "def add_start_end_gene(genome, icefinder):\n",
    "    gff= str(str(gff_path) + \"/\" + genome + \".gff\")\n",
    "    # generate a database\n",
    "    gffutils.create_db(gff, str(genome + \"_db\"))\n",
    "    db = gffutils.FeatureDB(dbfn=str(genome + \"_db\"))\n",
    "    # generate a dataframe\n",
    "    df=pd.DataFrame(columns = ['contig', 'ID', 'start', 'end', 'strand'])\n",
    "    # fill up the dataframe, using the database\n",
    "    query = db.execute(\"select seqid,start,end,strand,attributes from features where featuretype = 'CDS'\")\n",
    "    result = query.fetchall()\n",
    "\n",
    "    for each in result:\n",
    "        df=df.append({'ID':json.loads(each['attributes'])['ID'][0], 'contig':each['seqid'], 'end':each['end'], 'start':each['start'], 'strand':each['strand']}, ignore_index=True)\n",
    "    \n",
    "    # add start genes\n",
    "    start_genes=[]\n",
    "    for index, row in icefinder.iterrows():\n",
    "        #print(get_genes(df, int(row.START), int(row.END)))\n",
    "        start_genes.append(get_genes(df, int(row.START), int(row.END)).index[0])\n",
    "    icefinder['START_GENE']=start_genes\n",
    "    \n",
    "    # add end genes\n",
    "    end_genes=[]\n",
    "    for index, row in icefinder.iterrows():\n",
    "        end_genes.append(get_genes(df, int(row.START), int(row.END)).index[-1])\n",
    "    icefinder['END_GENE']=end_genes\n",
    "    db=str(genome + \"_db\")\n",
    "    !rm $db\n",
    "    return icefinder\n",
    "    \n",
    "    "
   ]
  },
  {
   "cell_type": "code",
   "execution_count": 28,
   "id": "8dfa2da9",
   "metadata": {
    "ExecuteTime": {
     "end_time": "2022-04-04T14:51:00.201629Z",
     "start_time": "2022-04-04T14:50:36.455970Z"
    }
   },
   "outputs": [
    {
     "ename": "NameError",
     "evalue": "name 'phaster' is not defined",
     "output_type": "error",
     "traceback": [
      "\u001b[0;31m---------------------------------------------------------------------------\u001b[0m",
      "\u001b[0;31mNameError\u001b[0m                                 Traceback (most recent call last)",
      "\u001b[0;32m/var/folders/wm/45ntkynd66gd8wnsdr6vw7h40000gn/T/ipykernel_49051/4269737265.py\u001b[0m in \u001b[0;36m<module>\u001b[0;34m\u001b[0m\n\u001b[0;32m----> 1\u001b[0;31m \u001b[0madd_start_end_gene\u001b[0m\u001b[0;34m(\u001b[0m\u001b[0mgenome\u001b[0m\u001b[0;34m,\u001b[0m \u001b[0micefinder\u001b[0m\u001b[0;34m)\u001b[0m\u001b[0;34m\u001b[0m\u001b[0;34m\u001b[0m\u001b[0m\n\u001b[0m",
      "\u001b[0;32m/var/folders/wm/45ntkynd66gd8wnsdr6vw7h40000gn/T/ipykernel_49051/1796052412.py\u001b[0m in \u001b[0;36madd_start_end_gene\u001b[0;34m(genome, icefinder)\u001b[0m\n\u001b[1;32m     22\u001b[0m     \u001b[0;31m# add end genes\u001b[0m\u001b[0;34m\u001b[0m\u001b[0;34m\u001b[0m\u001b[0;34m\u001b[0m\u001b[0m\n\u001b[1;32m     23\u001b[0m     \u001b[0mend_genes\u001b[0m\u001b[0;34m=\u001b[0m\u001b[0;34m[\u001b[0m\u001b[0;34m]\u001b[0m\u001b[0;34m\u001b[0m\u001b[0;34m\u001b[0m\u001b[0m\n\u001b[0;32m---> 24\u001b[0;31m     \u001b[0;32mfor\u001b[0m \u001b[0mindex\u001b[0m\u001b[0;34m,\u001b[0m \u001b[0mrow\u001b[0m \u001b[0;32min\u001b[0m \u001b[0mphaster\u001b[0m\u001b[0;34m.\u001b[0m\u001b[0miterrows\u001b[0m\u001b[0;34m(\u001b[0m\u001b[0;34m)\u001b[0m\u001b[0;34m:\u001b[0m\u001b[0;34m\u001b[0m\u001b[0;34m\u001b[0m\u001b[0m\n\u001b[0m\u001b[1;32m     25\u001b[0m         \u001b[0mend_genes\u001b[0m\u001b[0;34m.\u001b[0m\u001b[0mappend\u001b[0m\u001b[0;34m(\u001b[0m\u001b[0mget_genes\u001b[0m\u001b[0;34m(\u001b[0m\u001b[0mdf\u001b[0m\u001b[0;34m,\u001b[0m \u001b[0mint\u001b[0m\u001b[0;34m(\u001b[0m\u001b[0mrow\u001b[0m\u001b[0;34m.\u001b[0m\u001b[0mSTART\u001b[0m\u001b[0;34m)\u001b[0m\u001b[0;34m,\u001b[0m \u001b[0mint\u001b[0m\u001b[0;34m(\u001b[0m\u001b[0mrow\u001b[0m\u001b[0;34m.\u001b[0m\u001b[0mEND\u001b[0m\u001b[0;34m)\u001b[0m\u001b[0;34m)\u001b[0m\u001b[0;34m.\u001b[0m\u001b[0mindex\u001b[0m\u001b[0;34m[\u001b[0m\u001b[0;34m-\u001b[0m\u001b[0;36m1\u001b[0m\u001b[0;34m]\u001b[0m\u001b[0;34m)\u001b[0m\u001b[0;34m\u001b[0m\u001b[0;34m\u001b[0m\u001b[0m\n\u001b[1;32m     26\u001b[0m     \u001b[0micefinder\u001b[0m\u001b[0;34m[\u001b[0m\u001b[0;34m'END_GENE'\u001b[0m\u001b[0;34m]\u001b[0m\u001b[0;34m=\u001b[0m\u001b[0mend_genes\u001b[0m\u001b[0;34m\u001b[0m\u001b[0;34m\u001b[0m\u001b[0m\n",
      "\u001b[0;31mNameError\u001b[0m: name 'phaster' is not defined"
     ]
    }
   ],
   "source": [
    "add_start_end_gene(genome, icefinder)"
   ]
  },
  {
   "cell_type": "code",
   "execution_count": null,
   "id": "4403b4b6",
   "metadata": {},
   "outputs": [],
   "source": []
  }
 ],
 "metadata": {
  "kernelspec": {
   "display_name": "Python 3 (ipykernel)",
   "language": "python",
   "name": "python3"
  },
  "language_info": {
   "codemirror_mode": {
    "name": "ipython",
    "version": 3
   },
   "file_extension": ".py",
   "mimetype": "text/x-python",
   "name": "python",
   "nbconvert_exporter": "python",
   "pygments_lexer": "ipython3",
   "version": "3.9.0"
  },
  "toc": {
   "base_numbering": 1,
   "nav_menu": {},
   "number_sections": true,
   "sideBar": true,
   "skip_h1_title": false,
   "title_cell": "Table of Contents",
   "title_sidebar": "Contents",
   "toc_cell": false,
   "toc_position": {},
   "toc_section_display": true,
   "toc_window_display": false
  },
  "varInspector": {
   "cols": {
    "lenName": 16,
    "lenType": 16,
    "lenVar": 40
   },
   "kernels_config": {
    "python": {
     "delete_cmd_postfix": "",
     "delete_cmd_prefix": "del ",
     "library": "var_list.py",
     "varRefreshCmd": "print(var_dic_list())"
    },
    "r": {
     "delete_cmd_postfix": ") ",
     "delete_cmd_prefix": "rm(",
     "library": "var_list.r",
     "varRefreshCmd": "cat(var_dic_list()) "
    }
   },
   "types_to_exclude": [
    "module",
    "function",
    "builtin_function_or_method",
    "instance",
    "_Feature"
   ],
   "window_display": false
  }
 },
 "nbformat": 4,
 "nbformat_minor": 5
}
