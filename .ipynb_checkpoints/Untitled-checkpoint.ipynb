{
 "cells": [
  {
   "cell_type": "markdown",
   "id": "f0e18ccc",
   "metadata": {},
   "source": [
    "# Gene trees"
   ]
  },
  {
   "cell_type": "markdown",
   "id": "96c32472",
   "metadata": {},
   "source": [
    "## Preparation"
   ]
  },
  {
   "cell_type": "code",
   "execution_count": 1,
   "id": "3e26e224",
   "metadata": {
    "ExecuteTime": {
     "end_time": "2022-03-25T10:26:20.504761Z",
     "start_time": "2022-03-25T10:26:18.900965Z"
    }
   },
   "outputs": [],
   "source": [
    "import pandas as pd\n",
    "from pathlib import Path\n",
    "import matplotlib.pyplot as plt\n",
    "import numpy as np"
   ]
  },
  {
   "cell_type": "code",
   "execution_count": 2,
   "id": "07b05f9c",
   "metadata": {
    "ExecuteTime": {
     "end_time": "2022-03-25T10:26:20.534893Z",
     "start_time": "2022-03-25T10:26:20.526432Z"
    }
   },
   "outputs": [],
   "source": [
    "project_path=Path().resolve().parent\n",
    "genomes_path=project_path / \"results\" / \"intermediate\" / \"filtered_ffns\"\n",
    "orthogroup_seq_path=project_path / \"results\" / \"intermediate\" / \"gene_tree_sequences\""
   ]
  },
  {
   "cell_type": "code",
   "execution_count": 3,
   "id": "e8a4c5a2",
   "metadata": {
    "ExecuteTime": {
     "end_time": "2022-03-25T10:26:32.339964Z",
     "start_time": "2022-03-25T10:26:20.557118Z"
    }
   },
   "outputs": [],
   "source": [
    "pangenome=pd.read_csv(project_path / \"results\" / \"intermediate\" / \"filtered_pangenome.csv\")"
   ]
  },
  {
   "cell_type": "code",
   "execution_count": 95,
   "id": "9cfae8db",
   "metadata": {
    "ExecuteTime": {
     "end_time": "2022-03-15T14:02:26.360697Z",
     "start_time": "2022-03-15T14:02:26.326264Z"
    }
   },
   "outputs": [
    {
     "data": {
      "text/html": [
       "<div>\n",
       "<style scoped>\n",
       "    .dataframe tbody tr th:only-of-type {\n",
       "        vertical-align: middle;\n",
       "    }\n",
       "\n",
       "    .dataframe tbody tr th {\n",
       "        vertical-align: top;\n",
       "    }\n",
       "\n",
       "    .dataframe thead th {\n",
       "        text-align: right;\n",
       "    }\n",
       "</style>\n",
       "<table border=\"1\" class=\"dataframe\">\n",
       "  <thead>\n",
       "    <tr style=\"text-align: right;\">\n",
       "      <th></th>\n",
       "      <th>Unnamed: 0</th>\n",
       "      <th>genome</th>\n",
       "      <th>gtdb_species</th>\n",
       "      <th>counts</th>\n",
       "      <th>gene</th>\n",
       "      <th>orthogroup</th>\n",
       "    </tr>\n",
       "  </thead>\n",
       "  <tbody>\n",
       "    <tr>\n",
       "      <th>0</th>\n",
       "      <td>0</td>\n",
       "      <td>GCA_000687335.1</td>\n",
       "      <td>Apilactobacillus kunkeei_A</td>\n",
       "      <td>10</td>\n",
       "      <td>AZBY01000002.1_55</td>\n",
       "      <td>F00268_1</td>\n",
       "    </tr>\n",
       "    <tr>\n",
       "      <th>1</th>\n",
       "      <td>1</td>\n",
       "      <td>GCA_000687335.1</td>\n",
       "      <td>Apilactobacillus kunkeei_A</td>\n",
       "      <td>10</td>\n",
       "      <td>AZBY01000006.1_5</td>\n",
       "      <td>F00239_44</td>\n",
       "    </tr>\n",
       "    <tr>\n",
       "      <th>2</th>\n",
       "      <td>2</td>\n",
       "      <td>GCA_000687335.1</td>\n",
       "      <td>Apilactobacillus kunkeei_A</td>\n",
       "      <td>10</td>\n",
       "      <td>AZBY01000017.1_5</td>\n",
       "      <td>F00239_42</td>\n",
       "    </tr>\n",
       "    <tr>\n",
       "      <th>3</th>\n",
       "      <td>3</td>\n",
       "      <td>GCA_000687335.1</td>\n",
       "      <td>Apilactobacillus kunkeei_A</td>\n",
       "      <td>10</td>\n",
       "      <td>AZBY01000022.1_5</td>\n",
       "      <td>F00239_42</td>\n",
       "    </tr>\n",
       "    <tr>\n",
       "      <th>4</th>\n",
       "      <td>4</td>\n",
       "      <td>GCA_000687335.1</td>\n",
       "      <td>Apilactobacillus kunkeei_A</td>\n",
       "      <td>10</td>\n",
       "      <td>AZBY01000005.1_59</td>\n",
       "      <td>F00476_30</td>\n",
       "    </tr>\n",
       "    <tr>\n",
       "      <th>...</th>\n",
       "      <td>...</td>\n",
       "      <td>...</td>\n",
       "      <td>...</td>\n",
       "      <td>...</td>\n",
       "      <td>...</td>\n",
       "      <td>...</td>\n",
       "    </tr>\n",
       "    <tr>\n",
       "      <th>7173240</th>\n",
       "      <td>7173240</td>\n",
       "      <td>GCA_900166935.1</td>\n",
       "      <td>Weissella confusa</td>\n",
       "      <td>21</td>\n",
       "      <td>FUWE01000032.1_2</td>\n",
       "      <td>F20199_1</td>\n",
       "    </tr>\n",
       "    <tr>\n",
       "      <th>7173241</th>\n",
       "      <td>7173241</td>\n",
       "      <td>GCA_900166935.1</td>\n",
       "      <td>Weissella confusa</td>\n",
       "      <td>21</td>\n",
       "      <td>FUWE01000032.1_3</td>\n",
       "      <td>F09484_2</td>\n",
       "    </tr>\n",
       "    <tr>\n",
       "      <th>7173242</th>\n",
       "      <td>7173242</td>\n",
       "      <td>GCA_900166935.1</td>\n",
       "      <td>Weissella confusa</td>\n",
       "      <td>21</td>\n",
       "      <td>FUWE01000032.1_4</td>\n",
       "      <td>F24229_1</td>\n",
       "    </tr>\n",
       "    <tr>\n",
       "      <th>7173243</th>\n",
       "      <td>7173243</td>\n",
       "      <td>GCA_900166935.1</td>\n",
       "      <td>Weissella confusa</td>\n",
       "      <td>21</td>\n",
       "      <td>FUWE01000032.1_5</td>\n",
       "      <td>F21546_1</td>\n",
       "    </tr>\n",
       "    <tr>\n",
       "      <th>7173244</th>\n",
       "      <td>7173244</td>\n",
       "      <td>GCA_900166935.1</td>\n",
       "      <td>Weissella confusa</td>\n",
       "      <td>21</td>\n",
       "      <td>FUWE01000032.1_6</td>\n",
       "      <td>F01359_2</td>\n",
       "    </tr>\n",
       "  </tbody>\n",
       "</table>\n",
       "<p>7173245 rows × 6 columns</p>\n",
       "</div>"
      ],
      "text/plain": [
       "         Unnamed: 0           genome                gtdb_species  counts  \\\n",
       "0                 0  GCA_000687335.1  Apilactobacillus kunkeei_A      10   \n",
       "1                 1  GCA_000687335.1  Apilactobacillus kunkeei_A      10   \n",
       "2                 2  GCA_000687335.1  Apilactobacillus kunkeei_A      10   \n",
       "3                 3  GCA_000687335.1  Apilactobacillus kunkeei_A      10   \n",
       "4                 4  GCA_000687335.1  Apilactobacillus kunkeei_A      10   \n",
       "...             ...              ...                         ...     ...   \n",
       "7173240     7173240  GCA_900166935.1           Weissella confusa      21   \n",
       "7173241     7173241  GCA_900166935.1           Weissella confusa      21   \n",
       "7173242     7173242  GCA_900166935.1           Weissella confusa      21   \n",
       "7173243     7173243  GCA_900166935.1           Weissella confusa      21   \n",
       "7173244     7173244  GCA_900166935.1           Weissella confusa      21   \n",
       "\n",
       "                      gene orthogroup  \n",
       "0        AZBY01000002.1_55   F00268_1  \n",
       "1         AZBY01000006.1_5  F00239_44  \n",
       "2         AZBY01000017.1_5  F00239_42  \n",
       "3         AZBY01000022.1_5  F00239_42  \n",
       "4        AZBY01000005.1_59  F00476_30  \n",
       "...                    ...        ...  \n",
       "7173240   FUWE01000032.1_2   F20199_1  \n",
       "7173241   FUWE01000032.1_3   F09484_2  \n",
       "7173242   FUWE01000032.1_4   F24229_1  \n",
       "7173243   FUWE01000032.1_5   F21546_1  \n",
       "7173244   FUWE01000032.1_6   F01359_2  \n",
       "\n",
       "[7173245 rows x 6 columns]"
      ]
     },
     "execution_count": 95,
     "metadata": {},
     "output_type": "execute_result"
    }
   ],
   "source": [
    "pangenome"
   ]
  },
  {
   "cell_type": "markdown",
   "id": "53f391d0",
   "metadata": {},
   "source": [
    "## collect genomes"
   ]
  },
  {
   "cell_type": "markdown",
   "id": "eebb7317",
   "metadata": {
    "ExecuteTime": {
     "end_time": "2022-03-15T10:40:16.219777Z",
     "start_time": "2022-03-15T10:40:16.210485Z"
    }
   },
   "source": [
    "loop over orthogroups (in pangenome)\n",
    "\n",
    "loop over genes (in pangenome)\n",
    "\n",
    "write sequence file"
   ]
  },
  {
   "cell_type": "code",
   "execution_count": 4,
   "id": "aee70e21",
   "metadata": {
    "ExecuteTime": {
     "end_time": "2022-03-25T10:26:32.415315Z",
     "start_time": "2022-03-25T10:26:32.408057Z"
    }
   },
   "outputs": [],
   "source": [
    "orthogroup=\"F00691_06\"\n",
    "gene=\"AEBA01000134.1_40\"\n",
    "genome=\"GCA_000179475.1\""
   ]
  },
  {
   "cell_type": "code",
   "execution_count": 5,
   "id": "2336bfa9",
   "metadata": {
    "ExecuteTime": {
     "end_time": "2022-03-25T10:26:32.476443Z",
     "start_time": "2022-03-25T10:26:32.470616Z"
    }
   },
   "outputs": [],
   "source": [
    "genome_file=genome+\".ffn\""
   ]
  },
  {
   "cell_type": "code",
   "execution_count": 6,
   "id": "343ff9cd",
   "metadata": {
    "ExecuteTime": {
     "end_time": "2022-03-25T10:26:32.554135Z",
     "start_time": "2022-03-25T10:26:32.541257Z"
    }
   },
   "outputs": [],
   "source": [
    "def read_ffn(genome):\n",
    "    genome_file=genome+\".ffn\"\n",
    "    df = pd.read_table(\n",
    "    genomes_path / genome_file,\n",
    "    engine = 'c',\n",
    "    lineterminator = '>',\n",
    "    skiprows =1,\n",
    "    names = ['raw']\n",
    "    )\n",
    "\n",
    "    # The first line break ('\\n') separates Column 0 from Column 1\n",
    "    df[['header','sequence']] = pd.DataFrame.from_records(df.raw.apply(lambda s: s.split(maxsplit=1, sep=\"\\n\")))\n",
    "\n",
    "    # All subsequent line breaks (which got left in Column 1) should be ignored\n",
    "    df['sequence'] = df['sequence'].apply(lambda s: s.replace('\\n',''))\n",
    "    df['gene'] = pd.DataFrame.from_records(df.header.apply(lambda s: s.split(maxsplit=1)))[0]\n",
    "    return df[['gene', 'sequence']]"
   ]
  },
  {
   "cell_type": "code",
   "execution_count": 7,
   "id": "51293ebf",
   "metadata": {
    "ExecuteTime": {
     "end_time": "2022-03-25T10:26:32.712578Z",
     "start_time": "2022-03-25T10:26:32.615139Z"
    }
   },
   "outputs": [
    {
     "data": {
      "text/html": [
       "<div>\n",
       "<style scoped>\n",
       "    .dataframe tbody tr th:only-of-type {\n",
       "        vertical-align: middle;\n",
       "    }\n",
       "\n",
       "    .dataframe tbody tr th {\n",
       "        vertical-align: top;\n",
       "    }\n",
       "\n",
       "    .dataframe thead th {\n",
       "        text-align: right;\n",
       "    }\n",
       "</style>\n",
       "<table border=\"1\" class=\"dataframe\">\n",
       "  <thead>\n",
       "    <tr style=\"text-align: right;\">\n",
       "      <th></th>\n",
       "      <th>gene</th>\n",
       "      <th>sequence</th>\n",
       "    </tr>\n",
       "  </thead>\n",
       "  <tbody>\n",
       "    <tr>\n",
       "      <th>0</th>\n",
       "      <td>AEBA01000154.1_1</td>\n",
       "      <td>ATGGGATTTAGAAATGTGATTATAACACAGCATTCCAAATTATCGT...</td>\n",
       "    </tr>\n",
       "    <tr>\n",
       "      <th>1</th>\n",
       "      <td>AEBA01000153.1_1</td>\n",
       "      <td>TTGTCTCAGAAAATTAAAGATTATACTGAATCTACAGGACTTAGAC...</td>\n",
       "    </tr>\n",
       "    <tr>\n",
       "      <th>2</th>\n",
       "      <td>AEBA01000153.1_2</td>\n",
       "      <td>TTGGATAGAGATTTATTTGAAAGACTTAGTAATCAGTCAATTCAGA...</td>\n",
       "    </tr>\n",
       "    <tr>\n",
       "      <th>3</th>\n",
       "      <td>AEBA01000153.1_3</td>\n",
       "      <td>ATGGTTGATTATTTGATTTTAACAGAAAAACCTAGTGCTGCTGAAA...</td>\n",
       "    </tr>\n",
       "    <tr>\n",
       "      <th>4</th>\n",
       "      <td>AEBA01000153.1_4</td>\n",
       "      <td>ATGAAAATTCGAGGTAGATTAGTTGAAAAAATAAATTTAAGAGATT...</td>\n",
       "    </tr>\n",
       "    <tr>\n",
       "      <th>...</th>\n",
       "      <td>...</td>\n",
       "      <td>...</td>\n",
       "    </tr>\n",
       "    <tr>\n",
       "      <th>2134</th>\n",
       "      <td>AEBA01000001.1_2</td>\n",
       "      <td>ATGAATGATTGGAAAAAGAAAGGTGTAGTATATGAAATTTATGTTC...</td>\n",
       "    </tr>\n",
       "    <tr>\n",
       "      <th>2135</th>\n",
       "      <td>AEBA01000001.1_3</td>\n",
       "      <td>ATGAATAGACATATAATTATAGCAAGTCATTCTACACTGGCAGCTG...</td>\n",
       "    </tr>\n",
       "    <tr>\n",
       "      <th>2136</th>\n",
       "      <td>AEBA01000001.1_4</td>\n",
       "      <td>ATGAGTAATAATAAATTAACGGTAAAAGAAAGAAAAAATATGTTTA...</td>\n",
       "    </tr>\n",
       "    <tr>\n",
       "      <th>2137</th>\n",
       "      <td>AEBA01000001.1_5</td>\n",
       "      <td>ATGCCACATTTTTTACAAGATATTTTAGTAATATTAATCGCAGCAT...</td>\n",
       "    </tr>\n",
       "    <tr>\n",
       "      <th>2138</th>\n",
       "      <td>AEBA01000001.1_6</td>\n",
       "      <td>ATGACAGTAGTTTTAGCTAGGGTTGATGAAAGGTTAGTACACGGTG...</td>\n",
       "    </tr>\n",
       "  </tbody>\n",
       "</table>\n",
       "<p>2139 rows × 2 columns</p>\n",
       "</div>"
      ],
      "text/plain": [
       "                  gene                                           sequence\n",
       "0     AEBA01000154.1_1  ATGGGATTTAGAAATGTGATTATAACACAGCATTCCAAATTATCGT...\n",
       "1     AEBA01000153.1_1  TTGTCTCAGAAAATTAAAGATTATACTGAATCTACAGGACTTAGAC...\n",
       "2     AEBA01000153.1_2  TTGGATAGAGATTTATTTGAAAGACTTAGTAATCAGTCAATTCAGA...\n",
       "3     AEBA01000153.1_3  ATGGTTGATTATTTGATTTTAACAGAAAAACCTAGTGCTGCTGAAA...\n",
       "4     AEBA01000153.1_4  ATGAAAATTCGAGGTAGATTAGTTGAAAAAATAAATTTAAGAGATT...\n",
       "...                ...                                                ...\n",
       "2134  AEBA01000001.1_2  ATGAATGATTGGAAAAAGAAAGGTGTAGTATATGAAATTTATGTTC...\n",
       "2135  AEBA01000001.1_3  ATGAATAGACATATAATTATAGCAAGTCATTCTACACTGGCAGCTG...\n",
       "2136  AEBA01000001.1_4  ATGAGTAATAATAAATTAACGGTAAAAGAAAGAAAAAATATGTTTA...\n",
       "2137  AEBA01000001.1_5  ATGCCACATTTTTTACAAGATATTTTAGTAATATTAATCGCAGCAT...\n",
       "2138  AEBA01000001.1_6  ATGACAGTAGTTTTAGCTAGGGTTGATGAAAGGTTAGTACACGGTG...\n",
       "\n",
       "[2139 rows x 2 columns]"
      ]
     },
     "execution_count": 7,
     "metadata": {},
     "output_type": "execute_result"
    }
   ],
   "source": [
    "read_ffn(genome)"
   ]
  },
  {
   "cell_type": "code",
   "execution_count": 8,
   "id": "df0377f1",
   "metadata": {
    "ExecuteTime": {
     "end_time": "2022-03-25T10:26:32.764521Z",
     "start_time": "2022-03-25T10:26:32.755744Z"
    }
   },
   "outputs": [],
   "source": [
    "def get_sequence(genome, gene):\n",
    "    ffn=read_ffn(genome)\n",
    "    sequence=ffn.sequence[ffn.gene==gene].item()\n",
    "    return sequence"
   ]
  },
  {
   "cell_type": "code",
   "execution_count": 9,
   "id": "f1705939",
   "metadata": {
    "ExecuteTime": {
     "end_time": "2022-03-25T10:26:32.873950Z",
     "start_time": "2022-03-25T10:26:32.808854Z"
    }
   },
   "outputs": [
    {
     "data": {
      "text/plain": [
       "'ATGACAGGAATTAAGATCGATGGATTATCAAAGAAATTTCGTAAGAAAAACGTATTGGATAATATATCAGTAGAATTTAAACCTAATAAGATTTATGGACTTTTAGGTAGAAACGGTGCTGGAAAGAGTACATTATTAAATATTATCGCTAATCGATTATATGCAGATCAAGGAACTTTAACGCTGGATGATGAAAATTTAGTAGAAAATGACAGTGCATTAGGTAAATTATATTTAATGAATGATGTCGATATGTACAACAAAAGCATGAGATTGGACAAAATTTTCGAATATACTGAACAATTTTATGGAAGTTTTGACTATGAATATGCTGAAAAGTTAGCTGAAAGATTTAAAATTGATACTCATCAAAAATTTGGGAAGTTTTCAACAGGTTATCACACAATTGCTAAGTTAATCATTGCATTATGTGTACCGGCAGATTACATTTTCTTGGATGAACCAGTATTAGGTTTAGATGCTAATCATCGAACAATTTTCTATGAGGAATTAATGACGACTTACAGTGAACGTCCACGTACATTCGTTGTAGCAACTCATTTGATTGGGGAAATTACTAATATTTTAGAACATGTCATGATTGTATCTGAAAGTAAAATTACTCTTGATGAAGATGTTGAAGATATTTTGGCTAAATCACATTTGATTGTGGGACCACAAGCTGAAACTAAAGATTATGTCGAAGGTCTAAACATTGTTGGAAAAGAAAGTTTGGGTAATTTACAAGGTTACTATGTATATGGTGATTTGAATGACGATAAGATATTACCAGATACTGTACAAATCGAACGCGTTGACTTGCAAAAGATGTTCATATATTTAACAAATCAAGGTGGTGAAAACGGTGTTAACAAGTAA'"
      ]
     },
     "execution_count": 9,
     "metadata": {},
     "output_type": "execute_result"
    }
   ],
   "source": [
    "get_sequence(genome, gene)"
   ]
  },
  {
   "cell_type": "code",
   "execution_count": 10,
   "id": "364841fe",
   "metadata": {
    "ExecuteTime": {
     "end_time": "2022-03-25T10:26:32.934830Z",
     "start_time": "2022-03-25T10:26:32.927953Z"
    }
   },
   "outputs": [],
   "source": [
    "def add_to_file(gene, genome, sequence):\n",
    "    file_title = orthogroup_seq_path / str(gene+\".txt\")\n",
    "    file_object = open(file_title, 'a')\n",
    "    file_object.write(str(\">\"+genome+\"\\n\"))\n",
    "    file_object.write(str(sequence+\"\\n\"))\n",
    "    file_object.close()"
   ]
  },
  {
   "cell_type": "code",
   "execution_count": 11,
   "id": "59fdfe85",
   "metadata": {
    "ExecuteTime": {
     "end_time": "2022-03-25T10:26:33.062629Z",
     "start_time": "2022-03-25T10:26:32.978981Z"
    }
   },
   "outputs": [],
   "source": [
    "add_to_file(gene, genome, get_sequence(genome, gene))"
   ]
  },
  {
   "cell_type": "code",
   "execution_count": null,
   "id": "e9f1f2b6",
   "metadata": {},
   "outputs": [],
   "source": []
  }
 ],
 "metadata": {
  "kernelspec": {
   "display_name": "Python 3 (ipykernel)",
   "language": "python",
   "name": "python3"
  },
  "language_info": {
   "codemirror_mode": {
    "name": "ipython",
    "version": 3
   },
   "file_extension": ".py",
   "mimetype": "text/x-python",
   "name": "python",
   "nbconvert_exporter": "python",
   "pygments_lexer": "ipython3",
   "version": "3.9.0"
  },
  "toc": {
   "base_numbering": 1,
   "nav_menu": {},
   "number_sections": true,
   "sideBar": true,
   "skip_h1_title": false,
   "title_cell": "Table of Contents",
   "title_sidebar": "Contents",
   "toc_cell": false,
   "toc_position": {},
   "toc_section_display": true,
   "toc_window_display": false
  },
  "varInspector": {
   "cols": {
    "lenName": 16,
    "lenType": 16,
    "lenVar": 40
   },
   "kernels_config": {
    "python": {
     "delete_cmd_postfix": "",
     "delete_cmd_prefix": "del ",
     "library": "var_list.py",
     "varRefreshCmd": "print(var_dic_list())"
    },
    "r": {
     "delete_cmd_postfix": ") ",
     "delete_cmd_prefix": "rm(",
     "library": "var_list.r",
     "varRefreshCmd": "cat(var_dic_list()) "
    }
   },
   "types_to_exclude": [
    "module",
    "function",
    "builtin_function_or_method",
    "instance",
    "_Feature"
   ],
   "window_display": false
  }
 },
 "nbformat": 4,
 "nbformat_minor": 5
}
