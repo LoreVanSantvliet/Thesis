{
 "cells": [
  {
   "cell_type": "markdown",
   "id": "8d30a00c",
   "metadata": {
    "ExecuteTime": {
     "end_time": "2021-11-12T16:33:20.189782Z",
     "start_time": "2021-11-12T16:33:20.181899Z"
    }
   },
   "source": [
    "# MGE detection"
   ]
  },
  {
   "cell_type": "markdown",
   "id": "9f95b25a",
   "metadata": {},
   "source": [
    "Uses the phyletic distribution pattern based mobility score to detect MGEs in genomes."
   ]
  },
  {
   "cell_type": "markdown",
   "id": "96c32472",
   "metadata": {},
   "source": [
    "## Preparation"
   ]
  },
  {
   "cell_type": "code",
   "execution_count": 145,
   "id": "3e26e224",
   "metadata": {
    "ExecuteTime": {
     "end_time": "2022-04-16T11:00:59.915089Z",
     "start_time": "2022-04-16T11:00:59.907430Z"
    }
   },
   "outputs": [],
   "source": [
    "import pandas as pd\n",
    "from pathlib import Path\n",
    "import matplotlib.pyplot as plt\n",
    "import numpy as np\n",
    "import os"
   ]
  },
  {
   "cell_type": "code",
   "execution_count": 15,
   "id": "c6bad3f1",
   "metadata": {
    "ExecuteTime": {
     "end_time": "2022-04-16T08:44:28.482822Z",
     "start_time": "2022-04-16T08:44:28.479320Z"
    }
   },
   "outputs": [],
   "source": [
    "score_threshold = 0.3\n",
    "n_threshold=10\n",
    "fraction_threshold=0.1"
   ]
  },
  {
   "cell_type": "code",
   "execution_count": 146,
   "id": "07b05f9c",
   "metadata": {
    "ExecuteTime": {
     "end_time": "2022-04-16T11:01:08.575723Z",
     "start_time": "2022-04-16T11:01:08.570064Z"
    }
   },
   "outputs": [],
   "source": [
    "project_path = Path().resolve().parent\n",
    "input_path = project_path / \"results\" / \"mobility_files\"\n",
    "output_path = project_path / \"results\" / \"MGE_files\"\n",
    "os.mkdir(output_path)"
   ]
  },
  {
   "cell_type": "code",
   "execution_count": 147,
   "id": "e0b810e6",
   "metadata": {
    "ExecuteTime": {
     "end_time": "2022-04-16T11:01:44.360658Z",
     "start_time": "2022-04-16T11:01:44.352768Z"
    }
   },
   "outputs": [],
   "source": [
    "genome_contig=\"GCA_000006865.1-AE005176.1\"\n",
    "genome_contig_file=str(genome+\".csv\")\n",
    "genome2=\"GCA_000006785.2-AE004092.2\"\n",
    "genome2_file=str(genome2+\".csv\")"
   ]
  },
  {
   "cell_type": "markdown",
   "id": "66bebc0b",
   "metadata": {
    "ExecuteTime": {
     "end_time": "2021-11-12T16:35:31.207420Z",
     "start_time": "2021-11-12T16:35:31.203766Z"
    }
   },
   "source": [
    "## Load mobility frame"
   ]
  },
  {
   "cell_type": "code",
   "execution_count": 18,
   "id": "b5fea060",
   "metadata": {
    "ExecuteTime": {
     "end_time": "2022-04-16T08:44:29.283099Z",
     "start_time": "2022-04-16T08:44:29.267294Z"
    }
   },
   "outputs": [],
   "source": [
    "frame=pd.read_csv(input_path / genome2_file, index_col=0)"
   ]
  },
  {
   "cell_type": "code",
   "execution_count": 103,
   "id": "b086ef85",
   "metadata": {
    "ExecuteTime": {
     "end_time": "2022-04-16T10:27:06.808167Z",
     "start_time": "2022-04-16T10:27:06.632781Z"
    }
   },
   "outputs": [
    {
     "name": "stdout",
     "output_type": "stream",
     "text": [
      "Possible MGE: 1696-1718\n",
      "Possible MGE: 1541-1555\n",
      "Possible MGE: 1146-1203\n",
      "Possible MGE: 946-964\n",
      "Possible MGE: 858-875\n",
      "Possible MGE: 841-852\n",
      "Possible MGE: 736-804\n",
      "Possible MGE: 500-554\n",
      "Possible MGE: 410-440\n",
      "Possible MGE: 102-119\n"
     ]
    }
   ],
   "source": [
    "###\n",
    "i=0\n",
    "exc=0\n",
    "start_genes=[]\n",
    "end_genes=[]\n",
    "indices=[]\n",
    "lengths=[]\n",
    "for index,row in frame[::-1].iterrows():\n",
    "    consecutive=(row.accessory_fraction>score_threshold)\n",
    "    if consecutive:\n",
    "        i=i+1\n",
    "        #print(i)\n",
    "        #print(index)\n",
    "    else:\n",
    "        exc=exc+1\n",
    "        if(row.accessory|(row['count']>1)|(exc<fraction_threshold*i)):\n",
    "            i=i+1\n",
    "            #print(index)\n",
    "        else:\n",
    "            if i>n_threshold:\n",
    "                indices.append(index)\n",
    "                lengths.append(i)\n",
    "                #print(index)\n",
    "                #start_genes.append(index+1-i)\n",
    "                #end_genes.append(index+1)\n",
    "                print(\"Possible MGE: \" + str(index+2) + \"-\" + str(index+2+i))\n",
    "            i=0\n",
    "            exc=0\n",
    "                \n",
    "# find consecutive genes with mobility score exceeding a threshold "
   ]
  },
  {
   "cell_type": "code",
   "execution_count": 100,
   "id": "b7cdb6ef",
   "metadata": {
    "ExecuteTime": {
     "end_time": "2022-04-16T10:23:31.146220Z",
     "start_time": "2022-04-16T10:23:31.137931Z"
    }
   },
   "outputs": [],
   "source": [
    "def end_detection(mob_frame):\n",
    "    genes,lengths=get_indices_lengths(mob_frame[::-1])\n",
    "    end_genes=list(np.array(genes)+np.array(lengths))\n",
    "    return [gene+2 for gene in end_genes][::-1]"
   ]
  },
  {
   "cell_type": "code",
   "execution_count": 94,
   "id": "924caf99",
   "metadata": {
    "ExecuteTime": {
     "end_time": "2022-04-16T10:21:22.324886Z",
     "start_time": "2022-04-16T10:21:22.320242Z"
    }
   },
   "outputs": [],
   "source": [
    "def start_detection(mob_frame):\n",
    "    genes,lengths=get_indices_lengths(mob_frame)\n",
    "    start_genes=list(np.array(genes)-np.array(lengths))\n",
    "    return start_genes #[gene+1 for gene in end_genes]"
   ]
  },
  {
   "cell_type": "code",
   "execution_count": 95,
   "id": "20444b72",
   "metadata": {
    "ExecuteTime": {
     "end_time": "2022-04-16T10:21:22.709859Z",
     "start_time": "2022-04-16T10:21:22.701983Z"
    }
   },
   "outputs": [],
   "source": [
    "def get_indices_lengths(frame, score_threshold=score_threshold, fraction_threshold=fraction_threshold, n_threshold=n_threshold):\n",
    "    i=0\n",
    "    exc=0\n",
    "    indices=[]\n",
    "    lengths=[]\n",
    "    for index,row in frame.iterrows():\n",
    "        consecutive=(row.accessory_fraction>score_threshold)\n",
    "        if consecutive:\n",
    "            # look for consecutive genes with an elevated mobility score\n",
    "            i=i+1\n",
    "        else:\n",
    "            exc=exc+1\n",
    "            #exc are exceptions, so genes that do not have an elevated mobility score\n",
    "            if(row.accessory|(row['count']>1)|(exc<fraction_threshold*i)):\n",
    "                # in case these exceptions are multi-copy or accessory, or when they do not appear too close to the start of the potential MGE, they are tolerated\n",
    "                i=i+1\n",
    "            else:\n",
    "                # otherwise, they are not\n",
    "                if i>n_threshold:\n",
    "                    # if the number of consecutive genes that belong to a potential MGE is large enough, the potential MGE is predicted to be a true MGE\n",
    "                    # in this case, the index and length of the MGE are saved\n",
    "                    indices.append(index)\n",
    "                    lengths.append(i)\n",
    "                # parameters are set to zero again, to find a new (potential) MGE\n",
    "                i=0\n",
    "                exc=0\n",
    "    return indices,lengths\n",
    "                "
   ]
  },
  {
   "cell_type": "code",
   "execution_count": 148,
   "id": "c1f727b6",
   "metadata": {
    "ExecuteTime": {
     "end_time": "2022-04-16T11:01:50.238344Z",
     "start_time": "2022-04-16T11:01:50.229480Z"
    }
   },
   "outputs": [],
   "source": [
    "def generate_output(genome_contig_file):\n",
    "    contig_extension=genome_contig_file.split('-')[1]\n",
    "    contig=str(contig_extension.split('.')[0]+'.'+contig_extension.split('.')[1])\n",
    "    MGE_frame=pd.DataFrame(columns=['contig', 'MGE', 'gene_nr'])\n",
    "    mob_frame=pd.read_csv(input_path / genome_contig_file, index_col=0)\n",
    "    start_genes=start_detection(mob_frame)\n",
    "    end_genes=end_detection(mob_frame)\n",
    "    if len(start_genes)>0:\n",
    "        for i in range(0,len(start_genes)):\n",
    "            for gene in range(start_genes[i], end_genes[i]+1):\n",
    "\n",
    "                MGE_frame=MGE_frame.append({'contig':contig,'MGE':i+1,'gene_nr':gene}, ignore_index=True)\n",
    "    MGE_frame.to_csv(output_path / genome_contig_file)       \n",
    "    #return MGE_frame"
   ]
  },
  {
   "cell_type": "code",
   "execution_count": 150,
   "id": "106a6361",
   "metadata": {
    "ExecuteTime": {
     "end_time": "2022-04-16T11:09:34.599724Z",
     "start_time": "2022-04-16T11:09:33.334662Z"
    }
   },
   "outputs": [],
   "source": [
    "generate_output(genome_contig_file)"
   ]
  }
 ],
 "metadata": {
  "kernelspec": {
   "display_name": "Python 3 (ipykernel)",
   "language": "python",
   "name": "python3"
  },
  "language_info": {
   "codemirror_mode": {
    "name": "ipython",
    "version": 3
   },
   "file_extension": ".py",
   "mimetype": "text/x-python",
   "name": "python",
   "nbconvert_exporter": "python",
   "pygments_lexer": "ipython3",
   "version": "3.9.0"
  },
  "toc": {
   "base_numbering": 1,
   "nav_menu": {},
   "number_sections": true,
   "sideBar": true,
   "skip_h1_title": false,
   "title_cell": "Table of Contents",
   "title_sidebar": "Contents",
   "toc_cell": false,
   "toc_position": {},
   "toc_section_display": true,
   "toc_window_display": false
  },
  "varInspector": {
   "cols": {
    "lenName": 16,
    "lenType": 16,
    "lenVar": 40
   },
   "kernels_config": {
    "python": {
     "delete_cmd_postfix": "",
     "delete_cmd_prefix": "del ",
     "library": "var_list.py",
     "varRefreshCmd": "print(var_dic_list())"
    },
    "r": {
     "delete_cmd_postfix": ") ",
     "delete_cmd_prefix": "rm(",
     "library": "var_list.r",
     "varRefreshCmd": "cat(var_dic_list()) "
    }
   },
   "types_to_exclude": [
    "module",
    "function",
    "builtin_function_or_method",
    "instance",
    "_Feature"
   ],
   "window_display": false
  }
 },
 "nbformat": 4,
 "nbformat_minor": 5
}
