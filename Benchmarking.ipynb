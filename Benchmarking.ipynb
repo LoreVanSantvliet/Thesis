{
 "cells": [
  {
   "cell_type": "markdown",
   "id": "7552738e",
   "metadata": {
    "ExecuteTime": {
     "end_time": "2022-03-17T15:38:35.248725Z",
     "start_time": "2022-03-17T15:38:35.242161Z"
    }
   },
   "source": [
    "# Benchmarking"
   ]
  },
  {
   "cell_type": "markdown",
   "id": "4a588405",
   "metadata": {},
   "source": [
    "## Preparation"
   ]
  },
  {
   "cell_type": "code",
   "execution_count": 1,
   "id": "57624ca2",
   "metadata": {
    "ExecuteTime": {
     "end_time": "2022-03-25T10:13:49.341809Z",
     "start_time": "2022-03-25T10:13:47.668406Z"
    }
   },
   "outputs": [],
   "source": [
    "import pandas as pd\n",
    "from pathlib import Path\n",
    "import matplotlib.pyplot as plt\n",
    "import numpy as np\n",
    "from matplotlib.lines import Line2D\n",
    "import json\n",
    "import gffutils"
   ]
  },
  {
   "cell_type": "code",
   "execution_count": 2,
   "id": "f799efcb",
   "metadata": {
    "ExecuteTime": {
     "end_time": "2022-03-25T10:13:49.369731Z",
     "start_time": "2022-03-25T10:13:49.364367Z"
    }
   },
   "outputs": [],
   "source": [
    "threshold = 10 # minimal number of genomes per species\n",
    "threshold_accessory = 0.9 # fraction of genomes per species an orthogroup can be present in at max. to be cosidered accessory\n",
    "#test_nr_orthogroups = 100\n",
    "min_contigsize = 20 # minimal contig size to be able to detect MGEs\n",
    "small_contig_threshold = 100 # contigs containing a number of genes >= 100 are considered small\n",
    "running_average_default = 20\n",
    "running_average_default_small_contigs = 5"
   ]
  },
  {
   "cell_type": "code",
   "execution_count": 3,
   "id": "98489b00",
   "metadata": {
    "ExecuteTime": {
     "end_time": "2022-03-25T10:13:49.400962Z",
     "start_time": "2022-03-25T10:13:49.394964Z"
    }
   },
   "outputs": [],
   "source": [
    "project_path = Path().resolve().parent\n",
    "path_Lactobacillales = project_path / \"data\" / \"genomes_metadata.csv\""
   ]
  },
  {
   "cell_type": "code",
   "execution_count": 4,
   "id": "220958cc",
   "metadata": {
    "ExecuteTime": {
     "end_time": "2022-03-25T10:13:50.091048Z",
     "start_time": "2022-03-25T10:13:50.035681Z"
    }
   },
   "outputs": [
    {
     "data": {
      "text/html": [
       "<div>\n",
       "<style scoped>\n",
       "    .dataframe tbody tr th:only-of-type {\n",
       "        vertical-align: middle;\n",
       "    }\n",
       "\n",
       "    .dataframe tbody tr th {\n",
       "        vertical-align: top;\n",
       "    }\n",
       "\n",
       "    .dataframe thead th {\n",
       "        text-align: right;\n",
       "    }\n",
       "</style>\n",
       "<table border=\"1\" class=\"dataframe\">\n",
       "  <thead>\n",
       "    <tr style=\"text-align: right;\">\n",
       "      <th></th>\n",
       "      <th>genome</th>\n",
       "      <th>gtdb_species</th>\n",
       "    </tr>\n",
       "  </thead>\n",
       "  <tbody>\n",
       "    <tr>\n",
       "      <th>0</th>\n",
       "      <td>GCA_000143435.1</td>\n",
       "      <td>Ligilactobacillus salivarius</td>\n",
       "    </tr>\n",
       "    <tr>\n",
       "      <th>1</th>\n",
       "      <td>GCA_000167775.1</td>\n",
       "      <td>Streptococcus agalactiae</td>\n",
       "    </tr>\n",
       "    <tr>\n",
       "      <th>2</th>\n",
       "      <td>GCA_000167795.1</td>\n",
       "      <td>Streptococcus agalactiae</td>\n",
       "    </tr>\n",
       "    <tr>\n",
       "      <th>3</th>\n",
       "      <td>GCA_000179475.1</td>\n",
       "      <td>Ligilactobacillus salivarius</td>\n",
       "    </tr>\n",
       "    <tr>\n",
       "      <th>4</th>\n",
       "      <td>GCA_000195355.2</td>\n",
       "      <td>Lactobacillus helveticus</td>\n",
       "    </tr>\n",
       "    <tr>\n",
       "      <th>...</th>\n",
       "      <td>...</td>\n",
       "      <td>...</td>\n",
       "    </tr>\n",
       "    <tr>\n",
       "      <th>4366</th>\n",
       "      <td>GCA_902165155.1</td>\n",
       "      <td>Enterococcus_B faecium_B</td>\n",
       "    </tr>\n",
       "    <tr>\n",
       "      <th>4367</th>\n",
       "      <td>GCA_902165245.1</td>\n",
       "      <td>Enterococcus_B faecium</td>\n",
       "    </tr>\n",
       "    <tr>\n",
       "      <th>4368</th>\n",
       "      <td>GCA_902165765.1</td>\n",
       "      <td>Enterococcus_B faecium_B</td>\n",
       "    </tr>\n",
       "    <tr>\n",
       "      <th>4369</th>\n",
       "      <td>GCA_902165865.1</td>\n",
       "      <td>Enterococcus_B faecium</td>\n",
       "    </tr>\n",
       "    <tr>\n",
       "      <th>4370</th>\n",
       "      <td>GCA_902165965.1</td>\n",
       "      <td>Enterococcus_B faecium</td>\n",
       "    </tr>\n",
       "  </tbody>\n",
       "</table>\n",
       "<p>4371 rows × 2 columns</p>\n",
       "</div>"
      ],
      "text/plain": [
       "               genome                  gtdb_species\n",
       "0     GCA_000143435.1  Ligilactobacillus salivarius\n",
       "1     GCA_000167775.1      Streptococcus agalactiae\n",
       "2     GCA_000167795.1      Streptococcus agalactiae\n",
       "3     GCA_000179475.1  Ligilactobacillus salivarius\n",
       "4     GCA_000195355.2      Lactobacillus helveticus\n",
       "...               ...                           ...\n",
       "4366  GCA_902165155.1      Enterococcus_B faecium_B\n",
       "4367  GCA_902165245.1        Enterococcus_B faecium\n",
       "4368  GCA_902165765.1      Enterococcus_B faecium_B\n",
       "4369  GCA_902165865.1        Enterococcus_B faecium\n",
       "4370  GCA_902165965.1        Enterococcus_B faecium\n",
       "\n",
       "[4371 rows x 2 columns]"
      ]
     },
     "execution_count": 4,
     "metadata": {},
     "output_type": "execute_result"
    }
   ],
   "source": [
    "genome1 = \"GCA_000006785.2\"\n",
    "genomes_Lactobacillales = pd.read_csv(path_Lactobacillales).loc[:,'genome':'gtdb_species']\n",
    "genomes_Lactobacillales"
   ]
  },
  {
   "cell_type": "markdown",
   "id": "6c9e3a1b",
   "metadata": {
    "ExecuteTime": {
     "end_time": "2022-03-17T15:39:13.675124Z",
     "start_time": "2022-03-17T15:39:13.669731Z"
    }
   },
   "source": [
    "## Location --> gene"
   ]
  },
  {
   "cell_type": "code",
   "execution_count": 5,
   "id": "604b6f95",
   "metadata": {
    "ExecuteTime": {
     "end_time": "2022-03-25T10:13:52.126040Z",
     "start_time": "2022-03-25T10:13:52.119500Z"
    }
   },
   "outputs": [],
   "source": [
    "gff= \"/Users/lorevansantvliet/Desktop/Thesis/Project/data/legen_v4_dereplicated_gffs/GCA_000006785.2.gff\""
   ]
  },
  {
   "cell_type": "code",
   "execution_count": 11,
   "id": "02bfd9bb",
   "metadata": {
    "ExecuteTime": {
     "end_time": "2022-03-25T10:17:36.575443Z",
     "start_time": "2022-03-25T10:17:36.552026Z"
    }
   },
   "outputs": [
    {
     "ename": "OperationalError",
     "evalue": "table features already exists",
     "output_type": "error",
     "traceback": [
      "\u001b[0;31m---------------------------------------------------------------------------\u001b[0m",
      "\u001b[0;31mOperationalError\u001b[0m                          Traceback (most recent call last)",
      "\u001b[0;32m/var/folders/wm/45ntkynd66gd8wnsdr6vw7h40000gn/T/ipykernel_25225/362985010.py\u001b[0m in \u001b[0;36m<module>\u001b[0;34m\u001b[0m\n\u001b[0;32m----> 1\u001b[0;31m \u001b[0mgffutils\u001b[0m\u001b[0;34m.\u001b[0m\u001b[0mcreate_db\u001b[0m\u001b[0;34m(\u001b[0m\u001b[0mgff\u001b[0m\u001b[0;34m,\u001b[0m \u001b[0;34m\"GCA_000006785.2_db\"\u001b[0m\u001b[0;34m)\u001b[0m\u001b[0;34m\u001b[0m\u001b[0;34m\u001b[0m\u001b[0m\n\u001b[0m",
      "\u001b[0;32m/Library/Frameworks/Python.framework/Versions/3.9/lib/python3.9/site-packages/gffutils/create.py\u001b[0m in \u001b[0;36mcreate_db\u001b[0;34m(data, dbfn, id_spec, force, verbose, checklines, merge_strategy, transform, gtf_transcript_key, gtf_gene_key, gtf_subfeature, force_gff, force_dialect_check, from_string, keep_order, text_factory, force_merge_fields, pragmas, sort_attribute_values, dialect, _keep_tempfiles, infer_gene_extent, disable_infer_genes, disable_infer_transcripts, **kwargs)\u001b[0m\n\u001b[1;32m   1290\u001b[0m     \u001b[0mc\u001b[0m \u001b[0;34m=\u001b[0m \u001b[0mcls\u001b[0m\u001b[0;34m(\u001b[0m\u001b[0;34m**\u001b[0m\u001b[0mkwargs\u001b[0m\u001b[0;34m)\u001b[0m\u001b[0;34m\u001b[0m\u001b[0;34m\u001b[0m\u001b[0m\n\u001b[1;32m   1291\u001b[0m \u001b[0;34m\u001b[0m\u001b[0m\n\u001b[0;32m-> 1292\u001b[0;31m     \u001b[0mc\u001b[0m\u001b[0;34m.\u001b[0m\u001b[0mcreate\u001b[0m\u001b[0;34m(\u001b[0m\u001b[0;34m)\u001b[0m\u001b[0;34m\u001b[0m\u001b[0;34m\u001b[0m\u001b[0m\n\u001b[0m\u001b[1;32m   1293\u001b[0m     \u001b[0;32mif\u001b[0m \u001b[0mdbfn\u001b[0m \u001b[0;34m==\u001b[0m \u001b[0;34m':memory:'\u001b[0m\u001b[0;34m:\u001b[0m\u001b[0;34m\u001b[0m\u001b[0;34m\u001b[0m\u001b[0m\n\u001b[1;32m   1294\u001b[0m         db = interface.FeatureDB(c.conn,\n",
      "\u001b[0;32m/Library/Frameworks/Python.framework/Versions/3.9/lib/python3.9/site-packages/gffutils/create.py\u001b[0m in \u001b[0;36mcreate\u001b[0;34m(self)\u001b[0m\n\u001b[1;32m    504\u001b[0m         \u001b[0;31m# Calls each of these methods in order.  _populate_from_lines and\u001b[0m\u001b[0;34m\u001b[0m\u001b[0;34m\u001b[0m\u001b[0;34m\u001b[0m\u001b[0m\n\u001b[1;32m    505\u001b[0m         \u001b[0;31m# _update_relations must be implemented in subclasses.\u001b[0m\u001b[0;34m\u001b[0m\u001b[0;34m\u001b[0m\u001b[0;34m\u001b[0m\u001b[0m\n\u001b[0;32m--> 506\u001b[0;31m         \u001b[0mself\u001b[0m\u001b[0;34m.\u001b[0m\u001b[0m_init_tables\u001b[0m\u001b[0;34m(\u001b[0m\u001b[0;34m)\u001b[0m\u001b[0;34m\u001b[0m\u001b[0;34m\u001b[0m\u001b[0m\n\u001b[0m\u001b[1;32m    507\u001b[0m         \u001b[0mself\u001b[0m\u001b[0;34m.\u001b[0m\u001b[0m_populate_from_lines\u001b[0m\u001b[0;34m(\u001b[0m\u001b[0mself\u001b[0m\u001b[0;34m.\u001b[0m\u001b[0miterator\u001b[0m\u001b[0;34m)\u001b[0m\u001b[0;34m\u001b[0m\u001b[0;34m\u001b[0m\u001b[0m\n\u001b[1;32m    508\u001b[0m         \u001b[0mself\u001b[0m\u001b[0;34m.\u001b[0m\u001b[0m_update_relations\u001b[0m\u001b[0;34m(\u001b[0m\u001b[0;34m)\u001b[0m\u001b[0;34m\u001b[0m\u001b[0;34m\u001b[0m\u001b[0m\n",
      "\u001b[0;32m/Library/Frameworks/Python.framework/Versions/3.9/lib/python3.9/site-packages/gffutils/create.py\u001b[0m in \u001b[0;36m_init_tables\u001b[0;34m(self)\u001b[0m\n\u001b[1;32m    437\u001b[0m         \u001b[0mv\u001b[0m \u001b[0;34m=\u001b[0m \u001b[0msqlite3\u001b[0m\u001b[0;34m.\u001b[0m\u001b[0msqlite_version_info\u001b[0m\u001b[0;34m\u001b[0m\u001b[0;34m\u001b[0m\u001b[0m\n\u001b[1;32m    438\u001b[0m         \u001b[0mself\u001b[0m\u001b[0;34m.\u001b[0m\u001b[0mset_pragmas\u001b[0m\u001b[0;34m(\u001b[0m\u001b[0mself\u001b[0m\u001b[0;34m.\u001b[0m\u001b[0mpragmas\u001b[0m\u001b[0;34m)\u001b[0m\u001b[0;34m\u001b[0m\u001b[0;34m\u001b[0m\u001b[0m\n\u001b[0;32m--> 439\u001b[0;31m         \u001b[0mc\u001b[0m\u001b[0;34m.\u001b[0m\u001b[0mexecutescript\u001b[0m\u001b[0;34m(\u001b[0m\u001b[0mconstants\u001b[0m\u001b[0;34m.\u001b[0m\u001b[0mSCHEMA\u001b[0m\u001b[0;34m)\u001b[0m\u001b[0;34m\u001b[0m\u001b[0;34m\u001b[0m\u001b[0m\n\u001b[0m\u001b[1;32m    440\u001b[0m         \u001b[0mself\u001b[0m\u001b[0;34m.\u001b[0m\u001b[0mconn\u001b[0m\u001b[0;34m.\u001b[0m\u001b[0mcommit\u001b[0m\u001b[0;34m(\u001b[0m\u001b[0;34m)\u001b[0m\u001b[0;34m\u001b[0m\u001b[0;34m\u001b[0m\u001b[0m\n\u001b[1;32m    441\u001b[0m \u001b[0;34m\u001b[0m\u001b[0m\n",
      "\u001b[0;31mOperationalError\u001b[0m: table features already exists"
     ]
    }
   ],
   "source": [
    "gffutils.create_db(gff, \"GCA_000006785.2_db\")"
   ]
  },
  {
   "cell_type": "code",
   "execution_count": 7,
   "id": "3a8434fe",
   "metadata": {
    "ExecuteTime": {
     "end_time": "2022-03-25T10:14:08.668318Z",
     "start_time": "2022-03-25T10:14:08.647127Z"
    }
   },
   "outputs": [
    {
     "ename": "ValueError",
     "evalue": "Database file /Users/lorevansantvliet/Desktop/Thesis/Project/results/intermediate/databases/GCA_000006785.2_db does not exist",
     "output_type": "error",
     "traceback": [
      "\u001b[0;31m---------------------------------------------------------------------------\u001b[0m",
      "\u001b[0;31mValueError\u001b[0m                                Traceback (most recent call last)",
      "\u001b[0;32m/var/folders/wm/45ntkynd66gd8wnsdr6vw7h40000gn/T/ipykernel_25225/4046092035.py\u001b[0m in \u001b[0;36m<module>\u001b[0;34m\u001b[0m\n\u001b[0;32m----> 1\u001b[0;31m \u001b[0mdb\u001b[0m \u001b[0;34m=\u001b[0m \u001b[0mgffutils\u001b[0m\u001b[0;34m.\u001b[0m\u001b[0mFeatureDB\u001b[0m\u001b[0;34m(\u001b[0m\u001b[0mdbfn\u001b[0m\u001b[0;34m=\u001b[0m\u001b[0mproject_path\u001b[0m \u001b[0;34m/\u001b[0m \u001b[0;34m\"results\"\u001b[0m \u001b[0;34m/\u001b[0m \u001b[0;34m\"intermediate\"\u001b[0m \u001b[0;34m/\u001b[0m \u001b[0;34m\"databases\"\u001b[0m \u001b[0;34m/\u001b[0m \u001b[0;34m\"GCA_000006785.2_db\"\u001b[0m\u001b[0;34m)\u001b[0m\u001b[0;34m\u001b[0m\u001b[0;34m\u001b[0m\u001b[0m\n\u001b[0m",
      "\u001b[0;32m/Library/Frameworks/Python.framework/Versions/3.9/lib/python3.9/site-packages/gffutils/interface.py\u001b[0m in \u001b[0;36m__init__\u001b[0;34m(self, dbfn, default_encoding, keep_order, pragmas, sort_attribute_values, text_factory)\u001b[0m\n\u001b[1;32m    163\u001b[0m         \u001b[0;32melse\u001b[0m\u001b[0;34m:\u001b[0m\u001b[0;34m\u001b[0m\u001b[0;34m\u001b[0m\u001b[0m\n\u001b[1;32m    164\u001b[0m             \u001b[0;32mif\u001b[0m \u001b[0;32mnot\u001b[0m \u001b[0mos\u001b[0m\u001b[0;34m.\u001b[0m\u001b[0mpath\u001b[0m\u001b[0;34m.\u001b[0m\u001b[0mexists\u001b[0m\u001b[0;34m(\u001b[0m\u001b[0mdbfn\u001b[0m\u001b[0;34m)\u001b[0m\u001b[0;34m:\u001b[0m\u001b[0;34m\u001b[0m\u001b[0;34m\u001b[0m\u001b[0m\n\u001b[0;32m--> 165\u001b[0;31m                 \u001b[0;32mraise\u001b[0m \u001b[0mValueError\u001b[0m\u001b[0;34m(\u001b[0m\u001b[0;34m\"Database file %s does not exist\"\u001b[0m \u001b[0;34m%\u001b[0m \u001b[0mdbfn\u001b[0m\u001b[0;34m)\u001b[0m\u001b[0;34m\u001b[0m\u001b[0;34m\u001b[0m\u001b[0m\n\u001b[0m\u001b[1;32m    166\u001b[0m             \u001b[0mself\u001b[0m\u001b[0;34m.\u001b[0m\u001b[0mdbfn\u001b[0m \u001b[0;34m=\u001b[0m \u001b[0mdbfn\u001b[0m\u001b[0;34m\u001b[0m\u001b[0;34m\u001b[0m\u001b[0m\n\u001b[1;32m    167\u001b[0m             \u001b[0mself\u001b[0m\u001b[0;34m.\u001b[0m\u001b[0mconn\u001b[0m \u001b[0;34m=\u001b[0m \u001b[0msqlite3\u001b[0m\u001b[0;34m.\u001b[0m\u001b[0mconnect\u001b[0m\u001b[0;34m(\u001b[0m\u001b[0mself\u001b[0m\u001b[0;34m.\u001b[0m\u001b[0mdbfn\u001b[0m\u001b[0;34m)\u001b[0m\u001b[0;34m\u001b[0m\u001b[0;34m\u001b[0m\u001b[0m\n",
      "\u001b[0;31mValueError\u001b[0m: Database file /Users/lorevansantvliet/Desktop/Thesis/Project/results/intermediate/databases/GCA_000006785.2_db does not exist"
     ]
    }
   ],
   "source": [
    "db = gffutils.FeatureDB(dbfn=project_path / \"results\" / \"intermediate\" / \"databases\" / \"GCA_000006785.2_db\")"
   ]
  },
  {
   "cell_type": "code",
   "execution_count": 7,
   "id": "db7662ad",
   "metadata": {
    "ExecuteTime": {
     "end_time": "2022-03-22T16:40:14.378337Z",
     "start_time": "2022-03-22T16:40:14.346265Z"
    }
   },
   "outputs": [
    {
     "data": {
      "text/html": [
       "<div>\n",
       "<style scoped>\n",
       "    .dataframe tbody tr th:only-of-type {\n",
       "        vertical-align: middle;\n",
       "    }\n",
       "\n",
       "    .dataframe tbody tr th {\n",
       "        vertical-align: top;\n",
       "    }\n",
       "\n",
       "    .dataframe thead th {\n",
       "        text-align: right;\n",
       "    }\n",
       "</style>\n",
       "<table border=\"1\" class=\"dataframe\">\n",
       "  <thead>\n",
       "    <tr style=\"text-align: right;\">\n",
       "      <th></th>\n",
       "      <th>contig</th>\n",
       "      <th>ID</th>\n",
       "      <th>start</th>\n",
       "      <th>end</th>\n",
       "      <th>strand</th>\n",
       "    </tr>\n",
       "  </thead>\n",
       "  <tbody>\n",
       "  </tbody>\n",
       "</table>\n",
       "</div>"
      ],
      "text/plain": [
       "Empty DataFrame\n",
       "Columns: [contig, ID, start, end, strand]\n",
       "Index: []"
      ]
     },
     "execution_count": 7,
     "metadata": {},
     "output_type": "execute_result"
    }
   ],
   "source": [
    "df=pd.DataFrame(columns = ['contig', 'ID', 'start', 'end', 'strand'])\n",
    "df"
   ]
  },
  {
   "cell_type": "code",
   "execution_count": 8,
   "id": "efb0dfa5",
   "metadata": {
    "ExecuteTime": {
     "end_time": "2022-03-22T16:43:09.428603Z",
     "start_time": "2022-03-22T16:40:14.410237Z"
    }
   },
   "outputs": [],
   "source": [
    "query = db.execute(\"select seqid,start,end,strand,attributes from features where featuretype = 'CDS'\")\n",
    "result = query.fetchall()\n",
    "\n",
    "for each in result:\n",
    "    #print(each['end'])\n",
    "    #df=df.append({'ID':1, 'contig':2, 'end':3, 'start':4}, ignore_index=True)\n",
    "    df=df.append({'ID':json.loads(each['attributes'])['ID'][0], 'contig':each['seqid'], 'end':each['end'], 'start':each['start'], 'strand':each['strand']}, ignore_index=True)\n",
    "    #print(each['seqid'])\n",
    "    #print(each['start'])\n",
    "    #print(each['end'])\n",
    "    #print(json.loads(each['attributes'])['ID'][0])"
   ]
  },
  {
   "cell_type": "code",
   "execution_count": 9,
   "id": "9e1d2b01",
   "metadata": {
    "ExecuteTime": {
     "end_time": "2022-03-22T16:43:10.280339Z",
     "start_time": "2022-03-22T16:43:09.841550Z"
    },
    "scrolled": true
   },
   "outputs": [
    {
     "data": {
      "text/html": [
       "<div>\n",
       "<style scoped>\n",
       "    .dataframe tbody tr th:only-of-type {\n",
       "        vertical-align: middle;\n",
       "    }\n",
       "\n",
       "    .dataframe tbody tr th {\n",
       "        vertical-align: top;\n",
       "    }\n",
       "\n",
       "    .dataframe thead th {\n",
       "        text-align: right;\n",
       "    }\n",
       "</style>\n",
       "<table border=\"1\" class=\"dataframe\">\n",
       "  <thead>\n",
       "    <tr style=\"text-align: right;\">\n",
       "      <th></th>\n",
       "      <th>contig</th>\n",
       "      <th>ID</th>\n",
       "      <th>start</th>\n",
       "      <th>end</th>\n",
       "      <th>strand</th>\n",
       "    </tr>\n",
       "  </thead>\n",
       "  <tbody>\n",
       "    <tr>\n",
       "      <th>5</th>\n",
       "      <td>AE004092.2</td>\n",
       "      <td>1_6</td>\n",
       "      <td>5237</td>\n",
       "      <td>8740</td>\n",
       "      <td>+</td>\n",
       "    </tr>\n",
       "    <tr>\n",
       "      <th>6</th>\n",
       "      <td>AE004092.2</td>\n",
       "      <td>1_7</td>\n",
       "      <td>8902</td>\n",
       "      <td>9174</td>\n",
       "      <td>+</td>\n",
       "    </tr>\n",
       "    <tr>\n",
       "      <th>7</th>\n",
       "      <td>AE004092.2</td>\n",
       "      <td>1_8</td>\n",
       "      <td>9161</td>\n",
       "      <td>9532</td>\n",
       "      <td>+</td>\n",
       "    </tr>\n",
       "    <tr>\n",
       "      <th>8</th>\n",
       "      <td>AE004092.2</td>\n",
       "      <td>1_9</td>\n",
       "      <td>9529</td>\n",
       "      <td>9654</td>\n",
       "      <td>+</td>\n",
       "    </tr>\n",
       "    <tr>\n",
       "      <th>9</th>\n",
       "      <td>AE004092.2</td>\n",
       "      <td>1_10</td>\n",
       "      <td>9667</td>\n",
       "      <td>10953</td>\n",
       "      <td>+</td>\n",
       "    </tr>\n",
       "    <tr>\n",
       "      <th>...</th>\n",
       "      <td>...</td>\n",
       "      <td>...</td>\n",
       "      <td>...</td>\n",
       "      <td>...</td>\n",
       "      <td>...</td>\n",
       "    </tr>\n",
       "    <tr>\n",
       "      <th>201</th>\n",
       "      <td>AE004092.2</td>\n",
       "      <td>1_202</td>\n",
       "      <td>216987</td>\n",
       "      <td>217691</td>\n",
       "      <td>+</td>\n",
       "    </tr>\n",
       "    <tr>\n",
       "      <th>202</th>\n",
       "      <td>AE004092.2</td>\n",
       "      <td>1_203</td>\n",
       "      <td>217740</td>\n",
       "      <td>219059</td>\n",
       "      <td>+</td>\n",
       "    </tr>\n",
       "    <tr>\n",
       "      <th>203</th>\n",
       "      <td>AE004092.2</td>\n",
       "      <td>1_204</td>\n",
       "      <td>219087</td>\n",
       "      <td>220049</td>\n",
       "      <td>+</td>\n",
       "    </tr>\n",
       "    <tr>\n",
       "      <th>204</th>\n",
       "      <td>AE004092.2</td>\n",
       "      <td>1_205</td>\n",
       "      <td>220062</td>\n",
       "      <td>220892</td>\n",
       "      <td>+</td>\n",
       "    </tr>\n",
       "    <tr>\n",
       "      <th>205</th>\n",
       "      <td>AE004092.2</td>\n",
       "      <td>1_206</td>\n",
       "      <td>221049</td>\n",
       "      <td>221711</td>\n",
       "      <td>+</td>\n",
       "    </tr>\n",
       "  </tbody>\n",
       "</table>\n",
       "<p>201 rows × 5 columns</p>\n",
       "</div>"
      ],
      "text/plain": [
       "         contig     ID   start     end strand\n",
       "5    AE004092.2    1_6    5237    8740      +\n",
       "6    AE004092.2    1_7    8902    9174      +\n",
       "7    AE004092.2    1_8    9161    9532      +\n",
       "8    AE004092.2    1_9    9529    9654      +\n",
       "9    AE004092.2   1_10    9667   10953      +\n",
       "..          ...    ...     ...     ...    ...\n",
       "201  AE004092.2  1_202  216987  217691      +\n",
       "202  AE004092.2  1_203  217740  219059      +\n",
       "203  AE004092.2  1_204  219087  220049      +\n",
       "204  AE004092.2  1_205  220062  220892      +\n",
       "205  AE004092.2  1_206  221049  221711      +\n",
       "\n",
       "[201 rows x 5 columns]"
      ]
     },
     "execution_count": 9,
     "metadata": {},
     "output_type": "execute_result"
    }
   ],
   "source": [
    "df[(df.start>=5124) & (df.end<=221798)]\n"
   ]
  },
  {
   "cell_type": "markdown",
   "id": "064eef23",
   "metadata": {},
   "source": [
    "## Plot"
   ]
  },
  {
   "cell_type": "code",
   "execution_count": 10,
   "id": "bb097580",
   "metadata": {
    "ExecuteTime": {
     "end_time": "2022-03-22T16:44:25.997992Z",
     "start_time": "2022-03-22T16:44:11.867568Z"
    }
   },
   "outputs": [],
   "source": [
    "full=pd.read_csv(project_path / \"data\" / \"filtered_pangenome.csv\")"
   ]
  },
  {
   "cell_type": "code",
   "execution_count": 11,
   "id": "454a1b16",
   "metadata": {
    "ExecuteTime": {
     "end_time": "2022-03-22T16:45:01.150259Z",
     "start_time": "2022-03-22T16:44:26.156028Z"
    }
   },
   "outputs": [
    {
     "data": {
      "text/html": [
       "<div>\n",
       "<style scoped>\n",
       "    .dataframe tbody tr th:only-of-type {\n",
       "        vertical-align: middle;\n",
       "    }\n",
       "\n",
       "    .dataframe tbody tr th {\n",
       "        vertical-align: top;\n",
       "    }\n",
       "\n",
       "    .dataframe thead th {\n",
       "        text-align: right;\n",
       "    }\n",
       "</style>\n",
       "<table border=\"1\" class=\"dataframe\">\n",
       "  <thead>\n",
       "    <tr style=\"text-align: right;\">\n",
       "      <th></th>\n",
       "      <th>contig</th>\n",
       "      <th>order</th>\n",
       "    </tr>\n",
       "  </thead>\n",
       "  <tbody>\n",
       "    <tr>\n",
       "      <th>0</th>\n",
       "      <td>AZBY01000002.1</td>\n",
       "      <td>55</td>\n",
       "    </tr>\n",
       "    <tr>\n",
       "      <th>1</th>\n",
       "      <td>AZBY01000006.1</td>\n",
       "      <td>5</td>\n",
       "    </tr>\n",
       "    <tr>\n",
       "      <th>2</th>\n",
       "      <td>AZBY01000017.1</td>\n",
       "      <td>5</td>\n",
       "    </tr>\n",
       "    <tr>\n",
       "      <th>3</th>\n",
       "      <td>AZBY01000022.1</td>\n",
       "      <td>5</td>\n",
       "    </tr>\n",
       "    <tr>\n",
       "      <th>4</th>\n",
       "      <td>AZBY01000005.1</td>\n",
       "      <td>59</td>\n",
       "    </tr>\n",
       "    <tr>\n",
       "      <th>...</th>\n",
       "      <td>...</td>\n",
       "      <td>...</td>\n",
       "    </tr>\n",
       "    <tr>\n",
       "      <th>7173240</th>\n",
       "      <td>FUWE01000032.1</td>\n",
       "      <td>2</td>\n",
       "    </tr>\n",
       "    <tr>\n",
       "      <th>7173241</th>\n",
       "      <td>FUWE01000032.1</td>\n",
       "      <td>3</td>\n",
       "    </tr>\n",
       "    <tr>\n",
       "      <th>7173242</th>\n",
       "      <td>FUWE01000032.1</td>\n",
       "      <td>4</td>\n",
       "    </tr>\n",
       "    <tr>\n",
       "      <th>7173243</th>\n",
       "      <td>FUWE01000032.1</td>\n",
       "      <td>5</td>\n",
       "    </tr>\n",
       "    <tr>\n",
       "      <th>7173244</th>\n",
       "      <td>FUWE01000032.1</td>\n",
       "      <td>6</td>\n",
       "    </tr>\n",
       "  </tbody>\n",
       "</table>\n",
       "<p>7173245 rows × 2 columns</p>\n",
       "</div>"
      ],
      "text/plain": [
       "                 contig  order\n",
       "0        AZBY01000002.1     55\n",
       "1        AZBY01000006.1      5\n",
       "2        AZBY01000017.1      5\n",
       "3        AZBY01000022.1      5\n",
       "4        AZBY01000005.1     59\n",
       "...                 ...    ...\n",
       "7173240  FUWE01000032.1      2\n",
       "7173241  FUWE01000032.1      3\n",
       "7173242  FUWE01000032.1      4\n",
       "7173243  FUWE01000032.1      5\n",
       "7173244  FUWE01000032.1      6\n",
       "\n",
       "[7173245 rows x 2 columns]"
      ]
     },
     "execution_count": 11,
     "metadata": {},
     "output_type": "execute_result"
    }
   ],
   "source": [
    "order = full[\"gene\"].str.split(\"_\", n = 1, expand = True)\n",
    "order[1] = pd.to_numeric(order[1])\n",
    "order.columns = [\"contig\", \"order\"]\n",
    "order"
   ]
  },
  {
   "cell_type": "code",
   "execution_count": 12,
   "id": "13df9949",
   "metadata": {
    "ExecuteTime": {
     "end_time": "2022-03-22T16:45:04.841688Z",
     "start_time": "2022-03-22T16:45:01.218966Z"
    }
   },
   "outputs": [
    {
     "data": {
      "text/html": [
       "<div>\n",
       "<style scoped>\n",
       "    .dataframe tbody tr th:only-of-type {\n",
       "        vertical-align: middle;\n",
       "    }\n",
       "\n",
       "    .dataframe tbody tr th {\n",
       "        vertical-align: top;\n",
       "    }\n",
       "\n",
       "    .dataframe thead th {\n",
       "        text-align: right;\n",
       "    }\n",
       "</style>\n",
       "<table border=\"1\" class=\"dataframe\">\n",
       "  <thead>\n",
       "    <tr style=\"text-align: right;\">\n",
       "      <th></th>\n",
       "      <th>contig</th>\n",
       "      <th>order</th>\n",
       "      <th>Unnamed: 0</th>\n",
       "      <th>genome</th>\n",
       "      <th>gtdb_species</th>\n",
       "      <th>counts</th>\n",
       "      <th>gene</th>\n",
       "      <th>orthogroup</th>\n",
       "    </tr>\n",
       "  </thead>\n",
       "  <tbody>\n",
       "    <tr>\n",
       "      <th>0</th>\n",
       "      <td>AZBY01000002.1</td>\n",
       "      <td>55</td>\n",
       "      <td>0</td>\n",
       "      <td>GCA_000687335.1</td>\n",
       "      <td>Apilactobacillus kunkeei_A</td>\n",
       "      <td>10</td>\n",
       "      <td>AZBY01000002.1_55</td>\n",
       "      <td>F00268_1</td>\n",
       "    </tr>\n",
       "    <tr>\n",
       "      <th>1</th>\n",
       "      <td>AZBY01000006.1</td>\n",
       "      <td>5</td>\n",
       "      <td>1</td>\n",
       "      <td>GCA_000687335.1</td>\n",
       "      <td>Apilactobacillus kunkeei_A</td>\n",
       "      <td>10</td>\n",
       "      <td>AZBY01000006.1_5</td>\n",
       "      <td>F00239_44</td>\n",
       "    </tr>\n",
       "    <tr>\n",
       "      <th>2</th>\n",
       "      <td>AZBY01000017.1</td>\n",
       "      <td>5</td>\n",
       "      <td>2</td>\n",
       "      <td>GCA_000687335.1</td>\n",
       "      <td>Apilactobacillus kunkeei_A</td>\n",
       "      <td>10</td>\n",
       "      <td>AZBY01000017.1_5</td>\n",
       "      <td>F00239_42</td>\n",
       "    </tr>\n",
       "    <tr>\n",
       "      <th>3</th>\n",
       "      <td>AZBY01000022.1</td>\n",
       "      <td>5</td>\n",
       "      <td>3</td>\n",
       "      <td>GCA_000687335.1</td>\n",
       "      <td>Apilactobacillus kunkeei_A</td>\n",
       "      <td>10</td>\n",
       "      <td>AZBY01000022.1_5</td>\n",
       "      <td>F00239_42</td>\n",
       "    </tr>\n",
       "    <tr>\n",
       "      <th>4</th>\n",
       "      <td>AZBY01000005.1</td>\n",
       "      <td>59</td>\n",
       "      <td>4</td>\n",
       "      <td>GCA_000687335.1</td>\n",
       "      <td>Apilactobacillus kunkeei_A</td>\n",
       "      <td>10</td>\n",
       "      <td>AZBY01000005.1_59</td>\n",
       "      <td>F00476_30</td>\n",
       "    </tr>\n",
       "    <tr>\n",
       "      <th>...</th>\n",
       "      <td>...</td>\n",
       "      <td>...</td>\n",
       "      <td>...</td>\n",
       "      <td>...</td>\n",
       "      <td>...</td>\n",
       "      <td>...</td>\n",
       "      <td>...</td>\n",
       "      <td>...</td>\n",
       "    </tr>\n",
       "    <tr>\n",
       "      <th>7173240</th>\n",
       "      <td>FUWE01000032.1</td>\n",
       "      <td>2</td>\n",
       "      <td>7173240</td>\n",
       "      <td>GCA_900166935.1</td>\n",
       "      <td>Weissella confusa</td>\n",
       "      <td>21</td>\n",
       "      <td>FUWE01000032.1_2</td>\n",
       "      <td>F20199_1</td>\n",
       "    </tr>\n",
       "    <tr>\n",
       "      <th>7173241</th>\n",
       "      <td>FUWE01000032.1</td>\n",
       "      <td>3</td>\n",
       "      <td>7173241</td>\n",
       "      <td>GCA_900166935.1</td>\n",
       "      <td>Weissella confusa</td>\n",
       "      <td>21</td>\n",
       "      <td>FUWE01000032.1_3</td>\n",
       "      <td>F09484_2</td>\n",
       "    </tr>\n",
       "    <tr>\n",
       "      <th>7173242</th>\n",
       "      <td>FUWE01000032.1</td>\n",
       "      <td>4</td>\n",
       "      <td>7173242</td>\n",
       "      <td>GCA_900166935.1</td>\n",
       "      <td>Weissella confusa</td>\n",
       "      <td>21</td>\n",
       "      <td>FUWE01000032.1_4</td>\n",
       "      <td>F24229_1</td>\n",
       "    </tr>\n",
       "    <tr>\n",
       "      <th>7173243</th>\n",
       "      <td>FUWE01000032.1</td>\n",
       "      <td>5</td>\n",
       "      <td>7173243</td>\n",
       "      <td>GCA_900166935.1</td>\n",
       "      <td>Weissella confusa</td>\n",
       "      <td>21</td>\n",
       "      <td>FUWE01000032.1_5</td>\n",
       "      <td>F21546_1</td>\n",
       "    </tr>\n",
       "    <tr>\n",
       "      <th>7173244</th>\n",
       "      <td>FUWE01000032.1</td>\n",
       "      <td>6</td>\n",
       "      <td>7173244</td>\n",
       "      <td>GCA_900166935.1</td>\n",
       "      <td>Weissella confusa</td>\n",
       "      <td>21</td>\n",
       "      <td>FUWE01000032.1_6</td>\n",
       "      <td>F01359_2</td>\n",
       "    </tr>\n",
       "  </tbody>\n",
       "</table>\n",
       "<p>7173245 rows × 8 columns</p>\n",
       "</div>"
      ],
      "text/plain": [
       "                 contig  order  Unnamed: 0           genome  \\\n",
       "0        AZBY01000002.1     55           0  GCA_000687335.1   \n",
       "1        AZBY01000006.1      5           1  GCA_000687335.1   \n",
       "2        AZBY01000017.1      5           2  GCA_000687335.1   \n",
       "3        AZBY01000022.1      5           3  GCA_000687335.1   \n",
       "4        AZBY01000005.1     59           4  GCA_000687335.1   \n",
       "...                 ...    ...         ...              ...   \n",
       "7173240  FUWE01000032.1      2     7173240  GCA_900166935.1   \n",
       "7173241  FUWE01000032.1      3     7173241  GCA_900166935.1   \n",
       "7173242  FUWE01000032.1      4     7173242  GCA_900166935.1   \n",
       "7173243  FUWE01000032.1      5     7173243  GCA_900166935.1   \n",
       "7173244  FUWE01000032.1      6     7173244  GCA_900166935.1   \n",
       "\n",
       "                       gtdb_species  counts               gene orthogroup  \n",
       "0        Apilactobacillus kunkeei_A      10  AZBY01000002.1_55   F00268_1  \n",
       "1        Apilactobacillus kunkeei_A      10   AZBY01000006.1_5  F00239_44  \n",
       "2        Apilactobacillus kunkeei_A      10   AZBY01000017.1_5  F00239_42  \n",
       "3        Apilactobacillus kunkeei_A      10   AZBY01000022.1_5  F00239_42  \n",
       "4        Apilactobacillus kunkeei_A      10  AZBY01000005.1_59  F00476_30  \n",
       "...                             ...     ...                ...        ...  \n",
       "7173240           Weissella confusa      21   FUWE01000032.1_2   F20199_1  \n",
       "7173241           Weissella confusa      21   FUWE01000032.1_3   F09484_2  \n",
       "7173242           Weissella confusa      21   FUWE01000032.1_4   F24229_1  \n",
       "7173243           Weissella confusa      21   FUWE01000032.1_5   F21546_1  \n",
       "7173244           Weissella confusa      21   FUWE01000032.1_6   F01359_2  \n",
       "\n",
       "[7173245 rows x 8 columns]"
      ]
     },
     "execution_count": 12,
     "metadata": {},
     "output_type": "execute_result"
    }
   ],
   "source": [
    "full_order = order.merge(full, left_index= True, right_index= True)\n",
    "full_order"
   ]
  },
  {
   "cell_type": "code",
   "execution_count": 13,
   "id": "240d4b29",
   "metadata": {
    "ExecuteTime": {
     "end_time": "2022-03-22T16:45:11.162271Z",
     "start_time": "2022-03-22T16:45:04.930254Z"
    }
   },
   "outputs": [],
   "source": [
    "# check if there exists a genome with only 1 contig\n",
    "nr_contigs = full_order.loc[:,['contig', 'genome']].drop_duplicates().groupby(by = \"genome\", as_index = False).count()\n",
    "nr_contigs.columns = [\"genome\", \"contig_count\"]"
   ]
  },
  {
   "cell_type": "code",
   "execution_count": 14,
   "id": "937ddc3c",
   "metadata": {
    "ExecuteTime": {
     "end_time": "2022-03-22T16:45:28.473406Z",
     "start_time": "2022-03-22T16:45:11.253258Z"
    }
   },
   "outputs": [
    {
     "data": {
      "text/html": [
       "<div>\n",
       "<style scoped>\n",
       "    .dataframe tbody tr th:only-of-type {\n",
       "        vertical-align: middle;\n",
       "    }\n",
       "\n",
       "    .dataframe tbody tr th {\n",
       "        vertical-align: top;\n",
       "    }\n",
       "\n",
       "    .dataframe thead th {\n",
       "        text-align: right;\n",
       "    }\n",
       "</style>\n",
       "<table border=\"1\" class=\"dataframe\">\n",
       "  <thead>\n",
       "    <tr style=\"text-align: right;\">\n",
       "      <th></th>\n",
       "      <th>contig</th>\n",
       "      <th>nr_genes</th>\n",
       "    </tr>\n",
       "  </thead>\n",
       "  <tbody>\n",
       "    <tr>\n",
       "      <th>233234</th>\n",
       "      <td>VKOD01000160.1</td>\n",
       "      <td>1</td>\n",
       "    </tr>\n",
       "    <tr>\n",
       "      <th>140422</th>\n",
       "      <td>MIML01000045.1</td>\n",
       "      <td>1</td>\n",
       "    </tr>\n",
       "    <tr>\n",
       "      <th>49623</th>\n",
       "      <td>AZFL01000123.1</td>\n",
       "      <td>1</td>\n",
       "    </tr>\n",
       "    <tr>\n",
       "      <th>140420</th>\n",
       "      <td>MIML01000042.1</td>\n",
       "      <td>1</td>\n",
       "    </tr>\n",
       "    <tr>\n",
       "      <th>140418</th>\n",
       "      <td>MIML01000040.1</td>\n",
       "      <td>1</td>\n",
       "    </tr>\n",
       "    <tr>\n",
       "      <th>...</th>\n",
       "      <td>...</td>\n",
       "      <td>...</td>\n",
       "    </tr>\n",
       "    <tr>\n",
       "      <th>218712</th>\n",
       "      <td>RYZS01000001.1</td>\n",
       "      <td>3562</td>\n",
       "    </tr>\n",
       "    <tr>\n",
       "      <th>72599</th>\n",
       "      <td>CM002129.1</td>\n",
       "      <td>3843</td>\n",
       "    </tr>\n",
       "    <tr>\n",
       "      <th>155863</th>\n",
       "      <td>MVDZ01000001.1</td>\n",
       "      <td>4290</td>\n",
       "    </tr>\n",
       "    <tr>\n",
       "      <th>155853</th>\n",
       "      <td>MVDY01000001.1</td>\n",
       "      <td>4388</td>\n",
       "    </tr>\n",
       "    <tr>\n",
       "      <th>74829</th>\n",
       "      <td>CP034169.1</td>\n",
       "      <td>4722</td>\n",
       "    </tr>\n",
       "  </tbody>\n",
       "</table>\n",
       "<p>233235 rows × 2 columns</p>\n",
       "</div>"
      ],
      "text/plain": [
       "                contig  nr_genes\n",
       "233234  VKOD01000160.1         1\n",
       "140422  MIML01000045.1         1\n",
       "49623   AZFL01000123.1         1\n",
       "140420  MIML01000042.1         1\n",
       "140418  MIML01000040.1         1\n",
       "...                ...       ...\n",
       "218712  RYZS01000001.1      3562\n",
       "72599       CM002129.1      3843\n",
       "155863  MVDZ01000001.1      4290\n",
       "155853  MVDY01000001.1      4388\n",
       "74829       CP034169.1      4722\n",
       "\n",
       "[233235 rows x 2 columns]"
      ]
     },
     "execution_count": 14,
     "metadata": {},
     "output_type": "execute_result"
    }
   ],
   "source": [
    "#\n",
    "# size (number of genes) of contigs\n",
    "nr_genes = full_order.loc[:,['contig', 'gene']].drop_duplicates().groupby(by = \"contig\", as_index = False).count()\n",
    "nr_genes.columns = [\"contig\", \"nr_genes\"]\n",
    "nr_genes.sort_values(by='nr_genes')"
   ]
  },
  {
   "cell_type": "code",
   "execution_count": 15,
   "id": "9f17d717",
   "metadata": {
    "ExecuteTime": {
     "end_time": "2022-03-22T16:45:28.626619Z",
     "start_time": "2022-03-22T16:45:28.606559Z"
    }
   },
   "outputs": [],
   "source": [
    "def get_size(contig):\n",
    "    return nr_genes.nr_genes[nr_genes.contig==contig].item()"
   ]
  },
  {
   "cell_type": "code",
   "execution_count": 16,
   "id": "283eb4b1",
   "metadata": {
    "ExecuteTime": {
     "end_time": "2022-03-22T16:45:28.762264Z",
     "start_time": "2022-03-22T16:45:28.721627Z"
    }
   },
   "outputs": [
    {
     "data": {
      "text/html": [
       "<div>\n",
       "<style scoped>\n",
       "    .dataframe tbody tr th:only-of-type {\n",
       "        vertical-align: middle;\n",
       "    }\n",
       "\n",
       "    .dataframe tbody tr th {\n",
       "        vertical-align: top;\n",
       "    }\n",
       "\n",
       "    .dataframe thead th {\n",
       "        text-align: right;\n",
       "    }\n",
       "</style>\n",
       "<table border=\"1\" class=\"dataframe\">\n",
       "  <thead>\n",
       "    <tr style=\"text-align: right;\">\n",
       "      <th></th>\n",
       "      <th>gtdb_species</th>\n",
       "      <th>counts</th>\n",
       "    </tr>\n",
       "  </thead>\n",
       "  <tbody>\n",
       "    <tr>\n",
       "      <th>0</th>\n",
       "      <td>26KH-42 sp004358325</td>\n",
       "      <td>1</td>\n",
       "    </tr>\n",
       "    <tr>\n",
       "      <th>1</th>\n",
       "      <td>Abiotrophia defectiva</td>\n",
       "      <td>1</td>\n",
       "    </tr>\n",
       "    <tr>\n",
       "      <th>2</th>\n",
       "      <td>Abiotrophia sp001815865</td>\n",
       "      <td>1</td>\n",
       "    </tr>\n",
       "    <tr>\n",
       "      <th>3</th>\n",
       "      <td>Abiotrophia sp900604935</td>\n",
       "      <td>1</td>\n",
       "    </tr>\n",
       "    <tr>\n",
       "      <th>4</th>\n",
       "      <td>Aerococcus christensenii</td>\n",
       "      <td>3</td>\n",
       "    </tr>\n",
       "    <tr>\n",
       "      <th>...</th>\n",
       "      <td>...</td>\n",
       "      <td>...</td>\n",
       "    </tr>\n",
       "    <tr>\n",
       "      <th>811</th>\n",
       "      <td>Weissella paramesenteroides</td>\n",
       "      <td>3</td>\n",
       "    </tr>\n",
       "    <tr>\n",
       "      <th>812</th>\n",
       "      <td>Weissella soli</td>\n",
       "      <td>1</td>\n",
       "    </tr>\n",
       "    <tr>\n",
       "      <th>813</th>\n",
       "      <td>Weissella thailandensis</td>\n",
       "      <td>2</td>\n",
       "    </tr>\n",
       "    <tr>\n",
       "      <th>814</th>\n",
       "      <td>Weissella viridescens</td>\n",
       "      <td>2</td>\n",
       "    </tr>\n",
       "    <tr>\n",
       "      <th>815</th>\n",
       "      <td>Weissella viridescens_A</td>\n",
       "      <td>1</td>\n",
       "    </tr>\n",
       "  </tbody>\n",
       "</table>\n",
       "<p>816 rows × 2 columns</p>\n",
       "</div>"
      ],
      "text/plain": [
       "                    gtdb_species  counts\n",
       "0            26KH-42 sp004358325       1\n",
       "1          Abiotrophia defectiva       1\n",
       "2        Abiotrophia sp001815865       1\n",
       "3        Abiotrophia sp900604935       1\n",
       "4       Aerococcus christensenii       3\n",
       "..                           ...     ...\n",
       "811  Weissella paramesenteroides       3\n",
       "812               Weissella soli       1\n",
       "813      Weissella thailandensis       2\n",
       "814        Weissella viridescens       2\n",
       "815      Weissella viridescens_A       1\n",
       "\n",
       "[816 rows x 2 columns]"
      ]
     },
     "execution_count": 16,
     "metadata": {},
     "output_type": "execute_result"
    }
   ],
   "source": [
    "counts = genomes_Lactobacillales.groupby(by = \"gtdb_species\", as_index = False).count()\n",
    "counts.columns = ['gtdb_species', 'counts']\n",
    "counts"
   ]
  },
  {
   "cell_type": "code",
   "execution_count": 17,
   "id": "a680cb30",
   "metadata": {
    "ExecuteTime": {
     "end_time": "2022-03-22T16:45:28.909263Z",
     "start_time": "2022-03-22T16:45:28.891784Z"
    }
   },
   "outputs": [],
   "source": [
    "#\n",
    "### get accessory in a species\n",
    "def get_accessory(species):\n",
    "    full_species = full[full.gtdb_species==species]\n",
    "    orthocounts_genomes_per_species = full_species.loc[:,[\"orthogroup\",\"gtdb_species\",\"genome\"]].drop_duplicates().groupby(by = [\"gtdb_species\", \"orthogroup\"], as_index = False).count()\n",
    "    orthocounts_genomes_per_species.columns = [\"gtdb_species\", \"orthogroup\", \"orthocounts\"]\n",
    "    res = pd.merge(orthocounts_genomes_per_species, counts, on = 'gtdb_species', how = 'left')\n",
    "    res.columns = [\"gtdb_species\", \"orthogroup\", \"orthocounts\", \"genome_counts\"]\n",
    "    res['accessory'] = (res.orthocounts <= threshold_accessory * res.genome_counts)\n",
    "    d = {True: 'red', False: 'blue'}\n",
    "    res.accessory = res.accessory.map(d)\n",
    "    return res\n"
   ]
  },
  {
   "cell_type": "code",
   "execution_count": 18,
   "id": "5633c071",
   "metadata": {
    "ExecuteTime": {
     "end_time": "2022-03-22T16:45:29.035692Z",
     "start_time": "2022-03-22T16:45:29.026765Z"
    }
   },
   "outputs": [],
   "source": [
    "def get_contigs(genome):\n",
    "    contigs = pd.DataFrame()\n",
    "    contigs['contig']=full_order.contig[full_order.genome==genome].drop_duplicates()\n",
    "    contigs_size=contigs.merge(nr_genes, on='contig')\n",
    "    contigs_final=contigs_size[(contigs_size.nr_genes)>=min_contigsize]\n",
    "    #contigs['size']=contigs.contig.get_size()\n",
    "    #contigs=contigs[contigs.get_size()>=min_contigsize]\n",
    "    return contigs_final.contig"
   ]
  },
  {
   "cell_type": "code",
   "execution_count": 19,
   "id": "7d8d590b",
   "metadata": {
    "ExecuteTime": {
     "end_time": "2022-03-22T16:45:29.138394Z",
     "start_time": "2022-03-22T16:45:29.129842Z"
    }
   },
   "outputs": [],
   "source": [
    "#\n",
    "def get_species(genomes, genome):\n",
    "    return genomes[genomes.genome==genome].gtdb_species.item()"
   ]
  },
  {
   "cell_type": "code",
   "execution_count": 26,
   "id": "94a5a253",
   "metadata": {
    "ExecuteTime": {
     "end_time": "2022-03-17T16:56:14.641303Z",
     "start_time": "2022-03-17T16:56:14.627667Z"
    }
   },
   "outputs": [
    {
     "data": {
      "text/plain": [
       "[357,\n",
       " 358,\n",
       " 359,\n",
       " 360,\n",
       " 361,\n",
       " 362,\n",
       " 363,\n",
       " 364,\n",
       " 365,\n",
       " 366,\n",
       " 367,\n",
       " 368,\n",
       " 369,\n",
       " 370,\n",
       " 371,\n",
       " 372,\n",
       " 373,\n",
       " 374,\n",
       " 375,\n",
       " 376,\n",
       " 377,\n",
       " 378,\n",
       " 379,\n",
       " 505,\n",
       " 506,\n",
       " 507,\n",
       " 508,\n",
       " 509,\n",
       " 510,\n",
       " 511,\n",
       " 512,\n",
       " 513,\n",
       " 514,\n",
       " 515,\n",
       " 516,\n",
       " 517,\n",
       " 518,\n",
       " 519,\n",
       " 520,\n",
       " 521,\n",
       " 522,\n",
       " 523,\n",
       " 524,\n",
       " 525,\n",
       " 526,\n",
       " 527,\n",
       " 528,\n",
       " 529,\n",
       " 530,\n",
       " 531,\n",
       " 532,\n",
       " 533,\n",
       " 534,\n",
       " 535,\n",
       " 536,\n",
       " 537,\n",
       " 538,\n",
       " 539,\n",
       " 540,\n",
       " 541,\n",
       " 542,\n",
       " 543,\n",
       " 544,\n",
       " 545,\n",
       " 546,\n",
       " 547,\n",
       " 548,\n",
       " 549,\n",
       " 550,\n",
       " 551,\n",
       " 552,\n",
       " 553,\n",
       " 1145,\n",
       " 1146,\n",
       " 1147,\n",
       " 1148,\n",
       " 1149,\n",
       " 1150,\n",
       " 1151,\n",
       " 1152,\n",
       " 1153,\n",
       " 1154,\n",
       " 1155,\n",
       " 1156,\n",
       " 1157,\n",
       " 1158,\n",
       " 1159,\n",
       " 1160,\n",
       " 1161,\n",
       " 1162,\n",
       " 1163,\n",
       " 1164,\n",
       " 1165,\n",
       " 1166,\n",
       " 1167,\n",
       " 1168,\n",
       " 1169,\n",
       " 1170,\n",
       " 1171,\n",
       " 1172,\n",
       " 1173,\n",
       " 1174,\n",
       " 1175,\n",
       " 1176,\n",
       " 1177,\n",
       " 1178,\n",
       " 1179,\n",
       " 1180,\n",
       " 1181,\n",
       " 1182,\n",
       " 1183,\n",
       " 1184,\n",
       " 1185,\n",
       " 1186,\n",
       " 1187,\n",
       " 1188,\n",
       " 1189,\n",
       " 1190,\n",
       " 1191,\n",
       " 1192,\n",
       " 1193,\n",
       " 1194,\n",
       " 1195,\n",
       " 1196,\n",
       " 1197,\n",
       " 1198,\n",
       " 1199,\n",
       " 1200,\n",
       " 1201,\n",
       " 1202,\n",
       " 1203,\n",
       " 1204,\n",
       " 1205,\n",
       " 1206,\n",
       " 1207,\n",
       " 1208,\n",
       " 1209,\n",
       " 1210,\n",
       " 1211,\n",
       " 1212,\n",
       " 1213,\n",
       " 1214,\n",
       " 1698,\n",
       " 1699,\n",
       " 1700,\n",
       " 1701,\n",
       " 1702,\n",
       " 1703,\n",
       " 1704,\n",
       " 1705,\n",
       " 1706,\n",
       " 1707,\n",
       " 1708,\n",
       " 1709,\n",
       " 1710,\n",
       " 1711,\n",
       " 1712,\n",
       " 1713,\n",
       " 1714,\n",
       " 1715,\n",
       " 1716,\n",
       " 1717]"
      ]
     },
     "execution_count": 26,
     "metadata": {},
     "output_type": "execute_result"
    }
   ],
   "source": [
    "### results PhageHunter (correct)\n",
    "x=list(range(357,380))\n",
    "x.extend(list(range(505,554)))\n",
    "x.extend(list(range(1145,1215)))\n",
    "x.extend(list(range(1698,1718)))\n",
    "x\n"
   ]
  },
  {
   "cell_type": "code",
   "execution_count": 27,
   "id": "e8232f77",
   "metadata": {
    "ExecuteTime": {
     "end_time": "2022-03-17T16:56:15.799192Z",
     "start_time": "2022-03-17T16:56:15.784513Z"
    }
   },
   "outputs": [
    {
     "data": {
      "text/plain": [
       "[155,\n",
       " 156,\n",
       " 157,\n",
       " 158,\n",
       " 159,\n",
       " 160,\n",
       " 161,\n",
       " 162,\n",
       " 163,\n",
       " 164,\n",
       " 502,\n",
       " 503,\n",
       " 504,\n",
       " 505,\n",
       " 506,\n",
       " 507,\n",
       " 508,\n",
       " 509,\n",
       " 510,\n",
       " 511,\n",
       " 512,\n",
       " 513,\n",
       " 514,\n",
       " 515,\n",
       " 516,\n",
       " 517,\n",
       " 518,\n",
       " 519,\n",
       " 520,\n",
       " 521,\n",
       " 522,\n",
       " 523,\n",
       " 524,\n",
       " 525,\n",
       " 526,\n",
       " 527,\n",
       " 528,\n",
       " 529,\n",
       " 530,\n",
       " 531,\n",
       " 532,\n",
       " 533,\n",
       " 534,\n",
       " 535,\n",
       " 536,\n",
       " 537,\n",
       " 538,\n",
       " 539,\n",
       " 540,\n",
       " 541,\n",
       " 542,\n",
       " 543,\n",
       " 544,\n",
       " 545,\n",
       " 546,\n",
       " 547,\n",
       " 548,\n",
       " 549,\n",
       " 550,\n",
       " 551,\n",
       " 552,\n",
       " 553,\n",
       " 738,\n",
       " 739,\n",
       " 740,\n",
       " 741,\n",
       " 742,\n",
       " 743,\n",
       " 744,\n",
       " 745,\n",
       " 746,\n",
       " 747,\n",
       " 748,\n",
       " 749,\n",
       " 750,\n",
       " 751,\n",
       " 752,\n",
       " 753,\n",
       " 754,\n",
       " 755,\n",
       " 756,\n",
       " 757,\n",
       " 758,\n",
       " 759,\n",
       " 760,\n",
       " 761,\n",
       " 762,\n",
       " 763,\n",
       " 764,\n",
       " 765,\n",
       " 766,\n",
       " 767,\n",
       " 768,\n",
       " 769,\n",
       " 770,\n",
       " 771,\n",
       " 772,\n",
       " 773,\n",
       " 774,\n",
       " 775,\n",
       " 776,\n",
       " 777,\n",
       " 778,\n",
       " 779,\n",
       " 780,\n",
       " 781,\n",
       " 782,\n",
       " 783,\n",
       " 784,\n",
       " 785,\n",
       " 786,\n",
       " 787,\n",
       " 788,\n",
       " 789,\n",
       " 790,\n",
       " 791,\n",
       " 792,\n",
       " 793,\n",
       " 794,\n",
       " 795,\n",
       " 796,\n",
       " 797,\n",
       " 798,\n",
       " 799,\n",
       " 800,\n",
       " 801,\n",
       " 802,\n",
       " 803,\n",
       " 1147,\n",
       " 1148,\n",
       " 1149,\n",
       " 1150,\n",
       " 1151,\n",
       " 1152,\n",
       " 1153,\n",
       " 1154,\n",
       " 1155,\n",
       " 1156,\n",
       " 1157,\n",
       " 1158,\n",
       " 1159,\n",
       " 1160,\n",
       " 1161,\n",
       " 1162,\n",
       " 1163,\n",
       " 1164,\n",
       " 1165,\n",
       " 1166,\n",
       " 1167,\n",
       " 1168,\n",
       " 1169,\n",
       " 1170,\n",
       " 1171,\n",
       " 1172,\n",
       " 1173,\n",
       " 1174,\n",
       " 1175,\n",
       " 1176,\n",
       " 1177,\n",
       " 1178,\n",
       " 1179,\n",
       " 1180,\n",
       " 1181,\n",
       " 1182,\n",
       " 1183,\n",
       " 1184,\n",
       " 1185,\n",
       " 1186,\n",
       " 1187,\n",
       " 1188,\n",
       " 1189,\n",
       " 1190,\n",
       " 1191,\n",
       " 1192,\n",
       " 1193,\n",
       " 1194,\n",
       " 1195,\n",
       " 1196,\n",
       " 1197,\n",
       " 1198,\n",
       " 1199,\n",
       " 1200,\n",
       " 1201,\n",
       " 1202,\n",
       " 1203,\n",
       " 1204,\n",
       " 1205,\n",
       " 1206]"
      ]
     },
     "execution_count": 27,
     "metadata": {},
     "output_type": "execute_result"
    }
   ],
   "source": [
    "### results Phaster\n",
    "x2=list(range(155,165))\n",
    "x2.extend(list(range(502,554)))\n",
    "x2.extend(list(range(738,804)))\n",
    "x2.extend(list(range(1147,1207)))\n",
    "x2"
   ]
  },
  {
   "cell_type": "code",
   "execution_count": 20,
   "id": "bedcf4d7",
   "metadata": {
    "ExecuteTime": {
     "end_time": "2022-03-22T16:45:29.250486Z",
     "start_time": "2022-03-22T16:45:29.241672Z"
    }
   },
   "outputs": [],
   "source": [
    "#results ICEfinder\n",
    "x3=list(range(6, 207))"
   ]
  },
  {
   "cell_type": "code",
   "execution_count": 21,
   "id": "2931a54d",
   "metadata": {
    "ExecuteTime": {
     "end_time": "2022-03-22T16:45:29.565845Z",
     "start_time": "2022-03-22T16:45:29.366119Z"
    }
   },
   "outputs": [],
   "source": [
    "path_mobility = project_path / \"data\" / \"mobility_frame.csv\"\n",
    "mobility_frame=mobility_frame = pd.read_csv(path_mobility)"
   ]
  },
  {
   "cell_type": "code",
   "execution_count": 24,
   "id": "cfce35d7",
   "metadata": {
    "ExecuteTime": {
     "end_time": "2022-03-22T16:46:26.438300Z",
     "start_time": "2022-03-22T16:46:26.413090Z"
    }
   },
   "outputs": [],
   "source": [
    "def mobility_plot_contig(genome, contig, order, method=\"mobility_score\", n=20):\n",
    "    \"\"\"Plots the mobility score across a genome of choice, according to a method of choice.\n",
    "    \n",
    "    Args:\n",
    "        genome: String representing the ID of the genome for which the mobility score needs to be plotted.\n",
    "        order: Datafame containing information on the contig, and order of genes, and pangenome information.\n",
    "        method: String representing the method used for calculating the mobility score. Options: \"species_count\", \"genomes_count\", \"accessory_count\".\n",
    "        n: integer indicating the number of consecutive genes to take into account for a moving average calulation.\n",
    "    \"\"\"\n",
    "    \n",
    "    accessory_species=get_accessory(get_species(genomes_Lactobacillales, genome))\n",
    "    genome_order = order[(order.genome == genome)&(order.contig ==contig)].loc[:,[\"order\", \"orthogroup\"]]\n",
    "    mob_order = pd.merge(genome_order, mobility_frame, on=\"orthogroup\", how=\"left\").sort_values(by=\"order\")\n",
    "    mob_order_acc = pd.merge(mob_order, accessory_species, on=\"orthogroup\", how = \"left\")\n",
    "    \n",
    "    fig, ax = plt.subplots(figsize=(30, 10))\n",
    "    ax.plot(mob_order_acc.order, mob_order_acc[method].rolling(window=n,center=True).mean())\n",
    "    #ax.scatter(mob_order_acc.order, mob_order_acc[method].rolling(window=n, center=True).mean(), c=mob_order_acc.accessory, marker='o', label=mob_order_acc.accessory)\n",
    "    # ['accessory or multi copy', 'single copy core']\n",
    "    y=mob_order_acc[method].rolling(window=n,center=True).mean()\n",
    "    # Prophage Hunter\n",
    "    #y1=y.iloc[x]\n",
    "    #ax.scatter(x, y1, c='red', marker='o', label = \"Prophage Hunter phage prediction\")\n",
    "    # Phaster\n",
    "    #y2=y.iloc[x2]\n",
    "    #ax.scatter(x2, y2, c='red', marker='o', label = \"Phaster phage prediction\")\n",
    "    # ICEfinder\n",
    "    y3=y.iloc[x3]\n",
    "    ax.scatter(x3, y3, c='red', marker='o', label = \"ICEfinder ICE prediction\")\n",
    "    ax.legend(fontsize=20)\n",
    "    ax.set_xlabel(\"Gene position\", fontsize=20)\n",
    "    ax.set_ylabel(\"Mobility score\", fontsize=20)\n",
    "    ax.set_title(genome, fontsize=30)\n",
    "    ax.tick_params(labelsize=18)\n",
    "    plt.show()\n",
    "    \n",
    "def mobility_plots(genome, order, method=\"accessory_count\", n=running_average_default):\n",
    "    for contig in get_contigs(genome):\n",
    "        if get_size(contig) <= small_contig_threshold:\n",
    "            n=running_average_default_small_contigs\n",
    "        mobility_plot_contig(genome, contig, full_order, n=n, method=method)"
   ]
  },
  {
   "cell_type": "code",
   "execution_count": 25,
   "id": "6e3630d2",
   "metadata": {
    "ExecuteTime": {
     "end_time": "2022-03-22T16:46:31.993454Z",
     "start_time": "2022-03-22T16:46:26.993205Z"
    },
    "scrolled": true
   },
   "outputs": [
    {
     "data": {
      "image/png": "[encoded data removed]",
      "text/plain": [
       "<Figure size 2160x720 with 1 Axes>"
      ]
     },
     "metadata": {
      "needs_background": "light"
     },
     "output_type": "display_data"
    }
   ],
   "source": [
    "mobility_plots(genome1, full_order)"
   ]
  },
  {
   "cell_type": "code",
   "execution_count": null,
   "id": "6f5b6d45",
   "metadata": {},
   "outputs": [],
   "source": [
    "!"
   ]
  }
 ],
 "metadata": {
  "kernelspec": {
   "display_name": "Python 3 (ipykernel)",
   "language": "python",
   "name": "python3"
  },
  "language_info": {
   "codemirror_mode": {
    "name": "ipython",
    "version": 3
   },
   "file_extension": ".py",
   "mimetype": "text/x-python",
   "name": "python",
   "nbconvert_exporter": "python",
   "pygments_lexer": "ipython3",
   "version": "3.9.0"
  },
  "toc": {
   "base_numbering": 1,
   "nav_menu": {},
   "number_sections": true,
   "sideBar": true,
   "skip_h1_title": false,
   "title_cell": "Table of Contents",
   "title_sidebar": "Contents",
   "toc_cell": false,
   "toc_position": {},
   "toc_section_display": true,
   "toc_window_display": false
  },
  "varInspector": {
   "cols": {
    "lenName": 16,
    "lenType": 16,
    "lenVar": 40
   },
   "kernels_config": {
    "python": {
     "delete_cmd_postfix": "",
     "delete_cmd_prefix": "del ",
     "library": "var_list.py",
     "varRefreshCmd": "print(var_dic_list())"
    },
    "r": {
     "delete_cmd_postfix": ") ",
     "delete_cmd_prefix": "rm(",
     "library": "var_list.r",
     "varRefreshCmd": "cat(var_dic_list()) "
    }
   },
   "types_to_exclude": [
    "module",
    "function",
    "builtin_function_or_method",
    "instance",
    "_Feature"
   ],
   "window_display": false
  }
 },
 "nbformat": 4,
 "nbformat_minor": 5
}
