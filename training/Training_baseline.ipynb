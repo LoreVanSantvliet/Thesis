{
 "cells": [
  {
   "cell_type": "markdown",
   "metadata": {},
   "source": [
    "# Training \"baseline\" approach"
   ]
  },
  {
   "cell_type": "markdown",
   "metadata": {},
   "source": [
    "## Preparation"
   ]
  },
  {
   "cell_type": "code",
   "execution_count": 38,
   "metadata": {
    "ExecuteTime": {
     "end_time": "2022-05-21T00:04:34.520600Z",
     "start_time": "2022-05-21T00:04:34.513754Z"
    }
   },
   "outputs": [],
   "source": [
    "import pandas as pd\n",
    "from pathlib import Path\n",
    "import matplotlib.pyplot as plt\n",
    "import numpy as np\n",
    "import os"
   ]
  },
  {
   "cell_type": "code",
   "execution_count": 39,
   "metadata": {
    "ExecuteTime": {
     "end_time": "2022-05-21T00:04:34.791487Z",
     "start_time": "2022-05-21T00:04:34.783840Z"
    }
   },
   "outputs": [],
   "source": [
    "project_path = Path().resolve().parent\n",
    "input_path = project_path / \"results\" / \"intermediate\" / \"training\" / \"baseline\"\n",
    "#output_path = project_path / \"results\" / \"MGE_files\""
   ]
  },
  {
   "cell_type": "markdown",
   "metadata": {},
   "source": [
    "## Joined performance"
   ]
  },
  {
   "cell_type": "code",
   "execution_count": 48,
   "metadata": {
    "ExecuteTime": {
     "end_time": "2022-05-21T00:05:23.479968Z",
     "start_time": "2022-05-21T00:05:23.414958Z"
    }
   },
   "outputs": [
    {
     "data": {
      "text/html": [
       "<div>\n",
       "<style scoped>\n",
       "    .dataframe tbody tr th:only-of-type {\n",
       "        vertical-align: middle;\n",
       "    }\n",
       "\n",
       "    .dataframe tbody tr th {\n",
       "        vertical-align: top;\n",
       "    }\n",
       "\n",
       "    .dataframe thead th {\n",
       "        text-align: right;\n",
       "    }\n",
       "</style>\n",
       "<table border=\"1\" class=\"dataframe\">\n",
       "  <thead>\n",
       "    <tr style=\"text-align: right;\">\n",
       "      <th></th>\n",
       "      <th>genome</th>\n",
       "      <th>n_threshold</th>\n",
       "      <th>nr_tool</th>\n",
       "      <th>nr_toolscheme</th>\n",
       "      <th>nr_scheme</th>\n",
       "      <th>avge_dispersion</th>\n",
       "      <th>coverage_denominator</th>\n",
       "      <th>coverage_numerator</th>\n",
       "      <th>dispersion_weighted</th>\n",
       "    </tr>\n",
       "  </thead>\n",
       "  <tbody>\n",
       "    <tr>\n",
       "      <th>0</th>\n",
       "      <td>GCA_000820965.2</td>\n",
       "      <td>10</td>\n",
       "      <td>2</td>\n",
       "      <td>2</td>\n",
       "      <td>7</td>\n",
       "      <td>1.0</td>\n",
       "      <td>38</td>\n",
       "      <td>30</td>\n",
       "      <td>2.0</td>\n",
       "    </tr>\n",
       "    <tr>\n",
       "      <th>1</th>\n",
       "      <td>GCA_000963335.1</td>\n",
       "      <td>10</td>\n",
       "      <td>3</td>\n",
       "      <td>1</td>\n",
       "      <td>8</td>\n",
       "      <td>1.0</td>\n",
       "      <td>20</td>\n",
       "      <td>16</td>\n",
       "      <td>1.0</td>\n",
       "    </tr>\n",
       "    <tr>\n",
       "      <th>2</th>\n",
       "      <td>GCA_002860885.1</td>\n",
       "      <td>10</td>\n",
       "      <td>5</td>\n",
       "      <td>1</td>\n",
       "      <td>8</td>\n",
       "      <td>1.0</td>\n",
       "      <td>5</td>\n",
       "      <td>3</td>\n",
       "      <td>1.0</td>\n",
       "    </tr>\n",
       "    <tr>\n",
       "      <th>3</th>\n",
       "      <td>GCA_001682765.1</td>\n",
       "      <td>10</td>\n",
       "      <td>3</td>\n",
       "      <td>2</td>\n",
       "      <td>11</td>\n",
       "      <td>1.0</td>\n",
       "      <td>81</td>\n",
       "      <td>72</td>\n",
       "      <td>2.0</td>\n",
       "    </tr>\n",
       "    <tr>\n",
       "      <th>4</th>\n",
       "      <td>GCA_002289685.1</td>\n",
       "      <td>10</td>\n",
       "      <td>8</td>\n",
       "      <td>6</td>\n",
       "      <td>14</td>\n",
       "      <td>1.0</td>\n",
       "      <td>129</td>\n",
       "      <td>122</td>\n",
       "      <td>6.0</td>\n",
       "    </tr>\n",
       "    <tr>\n",
       "      <th>...</th>\n",
       "      <td>...</td>\n",
       "      <td>...</td>\n",
       "      <td>...</td>\n",
       "      <td>...</td>\n",
       "      <td>...</td>\n",
       "      <td>...</td>\n",
       "      <td>...</td>\n",
       "      <td>...</td>\n",
       "      <td>...</td>\n",
       "    </tr>\n",
       "    <tr>\n",
       "      <th>45</th>\n",
       "      <td>GCA_900092635.1</td>\n",
       "      <td>30</td>\n",
       "      <td>11</td>\n",
       "      <td>6</td>\n",
       "      <td>10</td>\n",
       "      <td>1.0</td>\n",
       "      <td>163</td>\n",
       "      <td>116</td>\n",
       "      <td>6.0</td>\n",
       "    </tr>\n",
       "    <tr>\n",
       "      <th>46</th>\n",
       "      <td>GCA_001754025.1</td>\n",
       "      <td>30</td>\n",
       "      <td>4</td>\n",
       "      <td>1</td>\n",
       "      <td>2</td>\n",
       "      <td>1.0</td>\n",
       "      <td>55</td>\n",
       "      <td>28</td>\n",
       "      <td>1.0</td>\n",
       "    </tr>\n",
       "    <tr>\n",
       "      <th>47</th>\n",
       "      <td>GCA_003186985.1</td>\n",
       "      <td>30</td>\n",
       "      <td>1</td>\n",
       "      <td>0</td>\n",
       "      <td>0</td>\n",
       "      <td>None</td>\n",
       "      <td>0</td>\n",
       "      <td>0</td>\n",
       "      <td>NaN</td>\n",
       "    </tr>\n",
       "    <tr>\n",
       "      <th>48</th>\n",
       "      <td>GCA_002138395.1</td>\n",
       "      <td>30</td>\n",
       "      <td>5</td>\n",
       "      <td>3</td>\n",
       "      <td>4</td>\n",
       "      <td>1.0</td>\n",
       "      <td>143</td>\n",
       "      <td>143</td>\n",
       "      <td>3.0</td>\n",
       "    </tr>\n",
       "    <tr>\n",
       "      <th>49</th>\n",
       "      <td>GCA_001433975.1</td>\n",
       "      <td>30</td>\n",
       "      <td>2</td>\n",
       "      <td>1</td>\n",
       "      <td>1</td>\n",
       "      <td>1.0</td>\n",
       "      <td>52</td>\n",
       "      <td>52</td>\n",
       "      <td>1.0</td>\n",
       "    </tr>\n",
       "  </tbody>\n",
       "</table>\n",
       "<p>150 rows × 9 columns</p>\n",
       "</div>"
      ],
      "text/plain": [
       "             genome n_threshold nr_tool nr_toolscheme nr_scheme  \\\n",
       "0   GCA_000820965.2          10       2             2         7   \n",
       "1   GCA_000963335.1          10       3             1         8   \n",
       "2   GCA_002860885.1          10       5             1         8   \n",
       "3   GCA_001682765.1          10       3             2        11   \n",
       "4   GCA_002289685.1          10       8             6        14   \n",
       "..              ...         ...     ...           ...       ...   \n",
       "45  GCA_900092635.1          30      11             6        10   \n",
       "46  GCA_001754025.1          30       4             1         2   \n",
       "47  GCA_003186985.1          30       1             0         0   \n",
       "48  GCA_002138395.1          30       5             3         4   \n",
       "49  GCA_001433975.1          30       2             1         1   \n",
       "\n",
       "   avge_dispersion coverage_denominator coverage_numerator dispersion_weighted  \n",
       "0              1.0                   38                 30                 2.0  \n",
       "1              1.0                   20                 16                 1.0  \n",
       "2              1.0                    5                  3                 1.0  \n",
       "3              1.0                   81                 72                 2.0  \n",
       "4              1.0                  129                122                 6.0  \n",
       "..             ...                  ...                ...                 ...  \n",
       "45             1.0                  163                116                 6.0  \n",
       "46             1.0                   55                 28                 1.0  \n",
       "47            None                    0                  0                 NaN  \n",
       "48             1.0                  143                143                 3.0  \n",
       "49             1.0                   52                 52                 1.0  \n",
       "\n",
       "[150 rows x 9 columns]"
      ]
     },
     "execution_count": 48,
     "metadata": {},
     "output_type": "execute_result"
    }
   ],
   "source": [
    "performance=pd.DataFrame(columns=['genome', 'n_threshold', 'nr_tool', 'nr_toolscheme', 'nr_scheme', 'avge_dispersion', 'coverage_denominator', 'coverage_numerator'])\n",
    "#performance = pd.read_csv(input_path / str(i) / \"joined_performance.csv\", engine=\"python\")\n",
    "for i in [10, 20, 30]:\n",
    "    perf = pd.read_csv(input_path / str(i) / \"joined_performance.csv\", engine=\"python\", names=['genome', 'n_threshold', 'nr_tool', 'nr_toolscheme', 'nr_scheme', 'avge_dispersion', 'coverage_denominator', 'coverage_numerator'], header=None)\n",
    "    performance=pd.concat([performance, perf])\n",
    "performance['dispersion_weighted']=(performance.nr_toolscheme)*(pd.to_numeric(performance.avge_dispersion, errors='coerce'))\n",
    "performance"
   ]
  },
  {
   "cell_type": "code",
   "execution_count": 49,
   "metadata": {
    "ExecuteTime": {
     "end_time": "2022-05-21T00:05:23.713713Z",
     "start_time": "2022-05-21T00:05:23.696028Z"
    }
   },
   "outputs": [],
   "source": [
    "measures=performance.groupby(by='n_threshold', axis=0).sum()\n",
    "measures=measures.loc[:, ['nr_tool', 'nr_toolscheme', 'nr_scheme', 'coverage_denominator', 'dispersion_weighted', 'coverage_numerator']]"
   ]
  },
  {
   "cell_type": "code",
   "execution_count": 50,
   "metadata": {
    "ExecuteTime": {
     "end_time": "2022-05-21T00:05:24.814180Z",
     "start_time": "2022-05-21T00:05:24.792867Z"
    }
   },
   "outputs": [],
   "source": [
    "measures['precision']=measures.nr_toolscheme/measures.nr_scheme\n",
    "measures['recall']=measures.nr_toolscheme/measures.nr_tool\n",
    "measures['coverage']=measures.coverage_numerator/measures.coverage_denominator\n",
    "measures['dispersion']=measures.dispersion_weighted/measures.nr_toolscheme\n",
    "measures['F-score']=2*measures.precision*measures.recall/(measures.precision+measures.recall)\n",
    "m=measures.loc[:,['precision', 'recall', 'F-score', 'dispersion', 'coverage']]"
   ]
  },
  {
   "cell_type": "code",
   "execution_count": 34,
   "metadata": {
    "ExecuteTime": {
     "end_time": "2022-05-20T23:58:20.643283Z",
     "start_time": "2022-05-20T23:58:20.624038Z"
    }
   },
   "outputs": [
    {
     "data": {
      "text/html": [
       "<div>\n",
       "<style scoped>\n",
       "    .dataframe tbody tr th:only-of-type {\n",
       "        vertical-align: middle;\n",
       "    }\n",
       "\n",
       "    .dataframe tbody tr th {\n",
       "        vertical-align: top;\n",
       "    }\n",
       "\n",
       "    .dataframe thead th {\n",
       "        text-align: right;\n",
       "    }\n",
       "</style>\n",
       "<table border=\"1\" class=\"dataframe\">\n",
       "  <thead>\n",
       "    <tr style=\"text-align: right;\">\n",
       "      <th></th>\n",
       "      <th>precision</th>\n",
       "      <th>recall</th>\n",
       "      <th>F-score</th>\n",
       "      <th>dispersion</th>\n",
       "      <th>coverage</th>\n",
       "    </tr>\n",
       "    <tr>\n",
       "      <th>n_threshold</th>\n",
       "      <th></th>\n",
       "      <th></th>\n",
       "      <th></th>\n",
       "      <th></th>\n",
       "      <th></th>\n",
       "    </tr>\n",
       "  </thead>\n",
       "  <tbody>\n",
       "    <tr>\n",
       "      <th>10</th>\n",
       "      <td>0.224913</td>\n",
       "      <td>0.628019</td>\n",
       "      <td>0.331210</td>\n",
       "      <td>1.069231</td>\n",
       "      <td>0.845990</td>\n",
       "    </tr>\n",
       "    <tr>\n",
       "      <th>20</th>\n",
       "      <td>0.453704</td>\n",
       "      <td>0.473430</td>\n",
       "      <td>0.463357</td>\n",
       "      <td>1.020408</td>\n",
       "      <td>0.865283</td>\n",
       "    </tr>\n",
       "    <tr>\n",
       "      <th>30</th>\n",
       "      <td>0.553719</td>\n",
       "      <td>0.323671</td>\n",
       "      <td>0.408537</td>\n",
       "      <td>1.000000</td>\n",
       "      <td>0.862339</td>\n",
       "    </tr>\n",
       "  </tbody>\n",
       "</table>\n",
       "</div>"
      ],
      "text/plain": [
       "             precision    recall   F-score  dispersion  coverage\n",
       "n_threshold                                                     \n",
       "10            0.224913  0.628019  0.331210    1.069231  0.845990\n",
       "20            0.453704  0.473430  0.463357    1.020408  0.865283\n",
       "30            0.553719  0.323671  0.408537    1.000000  0.862339"
      ]
     },
     "execution_count": 34,
     "metadata": {},
     "output_type": "execute_result"
    }
   ],
   "source": [
    "m"
   ]
  },
  {
   "cell_type": "code",
   "execution_count": 35,
   "metadata": {
    "ExecuteTime": {
     "end_time": "2022-05-21T00:00:51.460146Z",
     "start_time": "2022-05-21T00:00:50.911776Z"
    }
   },
   "outputs": [
    {
     "name": "stderr",
     "output_type": "stream",
     "text": [
      "findfont: Font family ['normal'] not found. Falling back to DejaVu Sans.\n"
     ]
    },
    {
     "data": {
      "image/png": "[encoded data removed]",
      "text/plain": [
       "<Figure size 576x432 with 1 Axes>"
      ]
     },
     "metadata": {
      "needs_background": "light"
     },
     "output_type": "display_data"
    }
   ],
   "source": [
    "font = {'family' : 'normal',\n",
    "        'size'   : 20}\n",
    "\n",
    "plt.rc('font', **font)\n",
    "\n",
    "fig, ax = plt.subplots(figsize=(8,6))\n",
    "for i in range(0, len(m), 3):\n",
    "    #print(i/3)\n",
    "    #print(m.iloc[i:i+3,-1])\n",
    "    ax.plot([10, 20, 30],m.iloc[i:i+3,0], \"-*\", linewidth=0.8, c='b')\n",
    "ax.set_xlabel(\"Size threshold\")\n",
    "ax.set_xticks([10, 20, 30])\n",
    "#ax.set_\n",
    "#ax.set_xticklabels([10, 20, 30], fontsize=12)\n",
    "ax.set_ylabel(\"Precision\")\n",
    "#ax.set_yticklabels(fontsize=20)\n",
    "#ax.legend()\n",
    "#plt.show()\n",
    "plt.savefig(project_path / \"results\" / \"statistics\" / \"training_baseline_precision_size.png\", bbox_inches='tight')\n"
   ]
  },
  {
   "cell_type": "code",
   "execution_count": 36,
   "metadata": {
    "ExecuteTime": {
     "end_time": "2022-05-21T00:00:58.798787Z",
     "start_time": "2022-05-21T00:00:58.395312Z"
    }
   },
   "outputs": [
    {
     "data": {
      "image/png": "[encoded data removed]",
      "text/plain": [
       "<Figure size 576x432 with 1 Axes>"
      ]
     },
     "metadata": {
      "needs_background": "light"
     },
     "output_type": "display_data"
    }
   ],
   "source": [
    "fig, ax = plt.subplots(figsize=(8,6))\n",
    "for i in range(0, len(m), 3):\n",
    "    #print(i/3)\n",
    "    #print(m.iloc[i:i+3,-1])\n",
    "    ax.plot([10, 20, 30],m.iloc[i:i+3,1], \"-*\", linewidth=0.8, c='b')\n",
    "ax.set_xlabel(\"Size threshold\")\n",
    "ax.set_xticks([10, 20, 30])\n",
    "#ax.set_\n",
    "#ax.set_xticklabels([10, 20, 30], fontsize=12)\n",
    "ax.set_ylabel(\"Recall\")\n",
    "#ax.set_yticklabels(fontsize=20)\n",
    "#ax.legend()\n",
    "#plt.show()\n",
    "plt.savefig(project_path / \"results\" / \"statistics\" / \"training_baseline_recall_size.png\", bbox_inches='tight')\n"
   ]
  },
  {
   "cell_type": "code",
   "execution_count": 37,
   "metadata": {
    "ExecuteTime": {
     "end_time": "2022-05-21T00:01:02.118560Z",
     "start_time": "2022-05-21T00:01:01.725487Z"
    }
   },
   "outputs": [
    {
     "data": {
      "image/png": "[encoded data removed]",
      "text/plain": [
       "<Figure size 576x432 with 1 Axes>"
      ]
     },
     "metadata": {
      "needs_background": "light"
     },
     "output_type": "display_data"
    }
   ],
   "source": [
    "fig, ax = plt.subplots(figsize=(8,6))\n",
    "for i in range(0, len(m), 3):\n",
    "    #print(i/3)\n",
    "    #print(m.iloc[i:i+3,-1])\n",
    "    ax.plot([10, 20, 30],m.iloc[i:i+3,2], \"-*\", linewidth=0.8, c='b')\n",
    "ax.set_xlabel(\"Size threshold\")\n",
    "ax.set_xticks([10, 20, 30])\n",
    "#ax.set_\n",
    "#ax.set_xticklabels([10, 20, 30], fontsize=12)\n",
    "ax.set_ylabel(\"F-score\")\n",
    "#ax.set_yticklabels(fontsize=20)\n",
    "#ax.legend()\n",
    "#plt.show()\n",
    "plt.savefig(project_path / \"results\" / \"statistics\" / \"training_baseline_F_size.png\", bbox_inches='tight')\n"
   ]
  },
  {
   "cell_type": "code",
   "execution_count": null,
   "metadata": {},
   "outputs": [],
   "source": []
  }
 ],
 "metadata": {
  "kernelspec": {
   "display_name": "Python 3",
   "language": "python",
   "name": "python3"
  },
  "language_info": {
   "codemirror_mode": {
    "name": "ipython",
    "version": 3
   },
   "file_extension": ".py",
   "mimetype": "text/x-python",
   "name": "python",
   "nbconvert_exporter": "python",
   "pygments_lexer": "ipython3",
   "version": "3.8.3"
  },
  "toc": {
   "base_numbering": 1,
   "nav_menu": {},
   "number_sections": true,
   "sideBar": true,
   "skip_h1_title": false,
   "title_cell": "Table of Contents",
   "title_sidebar": "Contents",
   "toc_cell": false,
   "toc_position": {},
   "toc_section_display": true,
   "toc_window_display": false
  },
  "varInspector": {
   "cols": {
    "lenName": 16,
    "lenType": 16,
    "lenVar": 40
   },
   "kernels_config": {
    "python": {
     "delete_cmd_postfix": "",
     "delete_cmd_prefix": "del ",
     "library": "var_list.py",
     "varRefreshCmd": "print(var_dic_list())"
    },
    "r": {
     "delete_cmd_postfix": ") ",
     "delete_cmd_prefix": "rm(",
     "library": "var_list.r",
     "varRefreshCmd": "cat(var_dic_list()) "
    }
   },
   "types_to_exclude": [
    "module",
    "function",
    "builtin_function_or_method",
    "instance",
    "_Feature"
   ],
   "window_display": false
  }
 },
 "nbformat": 4,
 "nbformat_minor": 5
}
